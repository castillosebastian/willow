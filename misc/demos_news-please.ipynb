{
 "cells": [
  {
   "cell_type": "code",
   "execution_count": 1,
   "metadata": {},
   "outputs": [
    {
     "name": "stdout",
     "output_type": "stream",
     "text": [
      "Stephen Bannon Reassures Conservatives Uneasy About Trump\n"
     ]
    }
   ],
   "source": [
    "from newsplease import NewsPlease\n",
    "article = NewsPlease.from_url('https://www.nytimes.com/2017/02/23/us/politics/cpac-stephen-bannon-reince-priebus.html?hp')\n",
    "print(article.title)"
   ]
  },
  {
   "cell_type": "code",
   "execution_count": 6,
   "metadata": {},
   "outputs": [
    {
     "data": {
      "text/plain": [
       "{'https://www.infobae.com/sociedad/policiales/2022/07/06/la-historia-de-carlos-atachahua-el-narco-que-simulaba-ser-albanil-y-construyo-un-imperio-global-desde-caballito/': <NewsArticle.NewsArticle at 0x7f439010daf0>,\n",
       " 'https://www.infobae.com/mexico/2023/07/19/cinco-presuntos-peones-de-la-union-tepito-fueron-detenidos-transportando-drogas-en-la-cdmx/': <NewsArticle.NewsArticle at 0x7f434f521730>}"
      ]
     },
     "execution_count": 6,
     "metadata": {},
     "output_type": "execute_result"
    }
   ],
   "source": [
    "NewsPlease.from_urls([\"https://www.infobae.com/sociedad/policiales/2022/07/06/la-historia-de-carlos-atachahua-el-narco-que-simulaba-ser-albanil-y-construyo-un-imperio-global-desde-caballito/\", 'https://www.infobae.com/mexico/2023/07/19/cinco-presuntos-peones-de-la-union-tepito-fueron-detenidos-transportando-drogas-en-la-cdmx/'], timeout=100)"
   ]
  },
  {
   "cell_type": "markdown",
   "metadata": {},
   "source": [
    "or if you have a file containing all URLs (each line containing a single URL)"
   ]
  },
  {
   "cell_type": "code",
   "execution_count": null,
   "metadata": {},
   "outputs": [],
   "source": [
    "NewsPlease.from_file(path)"
   ]
  },
  {
   "cell_type": "markdown",
   "metadata": {},
   "source": [
    "ElasticSearch\n",
    "news-please also supports export to ElasticSearch. Using Elasticsearch will also enable the versioning feature. First, enable it in the config.cfg at the config directory, which is by default ~/news-please/config but can also be changed with the -c parameter to a custom location. In case the directory does not exist, a default directory will be created at the specified location."
   ]
  }
 ],
 "metadata": {
  "kernelspec": {
   "display_name": ".willow",
   "language": "python",
   "name": ".willow"
  },
  "language_info": {
   "codemirror_mode": {
    "name": "ipython",
    "version": 3
   },
   "file_extension": ".py",
   "mimetype": "text/x-python",
   "name": "python",
   "nbconvert_exporter": "python",
   "pygments_lexer": "ipython3",
   "version": "3.9.13"
  },
  "orig_nbformat": 4
 },
 "nbformat": 4,
 "nbformat_minor": 2
}
