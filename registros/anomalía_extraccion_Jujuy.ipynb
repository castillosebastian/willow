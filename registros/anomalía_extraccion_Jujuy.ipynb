{
 "cells": [
  {
   "cell_type": "markdown",
   "metadata": {},
   "source": [
    "# Network"
   ]
  },
  {
   "cell_type": "code",
   "execution_count": 1,
   "metadata": {},
   "outputs": [
    {
     "name": "stdout",
     "output_type": "stream",
     "text": [
      "/home/sebacastillo/willow\n"
     ]
    }
   ],
   "source": [
    "%cd /home/sebacastillo/willow\n",
    "from src.process import *\n",
    "from src.database import *\n",
    "collection_news = get_collection(host='mongodb://localhost:27017/', db_name='wdocuments', collection_name='news')\n",
    "news = get_news(collection_news, \"2023-08-16\", \"2023-09-01\", 'narcotráfico', embed=False)\n",
    "news = consolidate_news(news)\n",
    "collection_newsner = get_collection(host='mongodb://localhost:27017/', db_name='wdocuments', collection_name='newsner')\n",
    "newsner = get_ner_byindex(collection_newsner, news)"
   ]
  },
  {
   "cell_type": "code",
   "execution_count": 4,
   "metadata": {},
   "outputs": [],
   "source": [
    "from src.utils import view_string"
   ]
  },
  {
   "cell_type": "code",
   "execution_count": 3,
   "metadata": {},
   "outputs": [],
   "source": [
    "news_j = (\n",
    "    news.filter(\n",
    "        (pl.col('state') == 'Jujuy') & (pl.col('summary_llm').str.contains('HORIZONTES'))\n",
    "    )\n",
    ")"
   ]
  },
  {
   "cell_type": "code",
   "execution_count": 10,
   "metadata": {},
   "outputs": [
    {
     "data": {
      "text/plain": [
       "['El usuario o la contraseña son incorrectos. Si ya estás registrado en Diario el Tribuno de Salta com',\n",
       " 'pletá tu usuario y contraseña: Error durante el registro. 22 DE Agosto 2023 - 01:51 Tras el hallazgo',\n",
       " ' de una avioneta incendiada en Rivadavia Banda Norte se tejen varias hipótesis de la actuación narco',\n",
       " ' en la zona de la triple frontera. El lugar se conoce, la nacionalidad de los profesionales químicos',\n",
       " ' también. Solo faltaría precisar el verdadero precio y la monumental ganancia que a los carteles de ',\n",
       " 'la droga les estaría quedando por este nuevo producto que comienzan a sacar al mercado internacional',\n",
       " ' y que en la jerga se conoce como \"cocaína de cristal\\' o \"cocaína cristalizada\". El lugar: la selva ',\n",
       " 'amazónica boliviana en cercanías al pueblo de Raboré, a 500 km de Santa Cruz de la Sierra y a menos ',\n",
       " 'de 300 de Puerto Suárez, el límite de Bolivia con Brasil. Los químicos y bioquímicos, de nacionalida',\n",
       " 'des peruana y colombiana -considerados los mejores del mundo en la fabricación de cocaína-, quienes,',\n",
       " ' no ya en esas \"cocinas\" que se encuentran en alejadas regiones de cualquier país de centro américa,',\n",
       " ' sino al frente de verdaderos laboratorios de alta tecnología instalados en medio de la selva, son l',\n",
       " 'o que fabrican esta nueva variante del clorhidrato de cocaína que en calidad y precio podría superar',\n",
       " ' todo lo conocido. LE PUEDE INTERESAR El municipio ultima los detalles por el Milagro Kalinsky y otr',\n",
       " 'os cinco exfuncionarios van a juicio por la construcción ilegal de edificios de altura en Salta Las ',\n",
       " 'pistas sirven para lo mismo. Una avioneta aterriza y levanta vuelo sin inconvenientes y cuando no ha',\n",
       " 'y vuelos, se organizan carreras de caballos. Las alarmas en el norte de Argentina y en el sur de Bol',\n",
       " 'ivia se dispararon la semana que concluye cuando una aeronave con patente boliviana fue incendiada e',\n",
       " 'n una pista de aterrizaje clandestina en otra alejada, inhóspita y casi impenetrable zona del Chaco ',\n",
       " 'salteño, a pocos kilómetros de la triple frontera entre Bolivia, Argentina y Paraguay. Todo indica q',\n",
       " 'ue la avioneta no cayó, sino que fue incendiada por dos ocupantes quienes fueron vistos caminando a ',\n",
       " 'una distancia de unos dos kilómetros del paraje El Lecherón, cargando dos mochilas la tarde del miér',\n",
       " 'coles anterior. Cuando los criollos les preguntaron si necesitaban alguna ayuda se mostraron muy tra',\n",
       " 'nquilos y dijeron que no. \"Los criollos no insistieron porque son gente de campo y lo que no tienen ',\n",
       " 'en comunicaciones telefónicas o caminos para transitar lo tienen en intuición. Y están habituados a ',\n",
       " 'ver aeronaves volando a baja altura en una zona en la que no existen rutas aéreas oficiales. Ellos m',\n",
       " 'ejor que nadie saben qué transportan esas aeronaves que ven atravesar ese espacio todas las semanas\"',\n",
       " ', explica el fiscal penal con jurisdicción en la inmensa zona del Chaco salteño, Armando Cazón. Cazó',\n",
       " 'n explica: \"Son dos las líneas investigativas que estamos siguiendo y que le pasamos a la Justicia F',\n",
       " 'ederal porque si bien fue la fiscalía provincial y a mi cargo y la Policía de Salta la que actuó en ',\n",
       " 'un primer momento, corresponde que sea el ámbito federal el que continúe. A nosotros nos interesa po',\n",
       " 'rque estamos hablando de delitos que involucran a nuestra provincia y que si bien pueden ser transna',\n",
       " 'cionales, la tarea de cada funcionario político o judicial es evitar que estas organizaciones extien',\n",
       " 'dan sus acciones delictivas al norte de la provincia\", explica el fiscal bajo cuya orden actuaron do',\n",
       " 's efectivos policiales en un primer momento, quienes con más voluntad que medios se trasladaron -en ',\n",
       " 'un ciclomotor de propiedad de uno de ellos- y a 35 kilómetros desde el destacamento Alto La Sierra e',\n",
       " 'ncontraron los restos humeantes de la aeronave y la custodiaron hasta que llegaron policías desde Ta',\n",
       " 'rtagal y especialistas del CIF de Orán. \"Los que llevan adelante el negocio son los mismos, o ¿cómo ',\n",
       " 'crees que las apuestas oscilan entre los 500 y los 10 mil dólares?\", dijo un lugareño. \"No fue un ac',\n",
       " 'cidente, fue voluntario el incendio y eso queda corroborado en el hecho de que no hay víctimas, los ',\n",
       " 'tanques de combustible -JP 1 de altísimo octanaje y detonación- fueron abiertos y los ocupantes ante',\n",
       " 's de irse retiraron las identificaciones del avión. Podrían haber estado transportando marihuana ing',\n",
       " 'resada desde Paraguay y por el fuerte viento no pudo despegar u operando desde Bolivia\". ¿Pistas cla',\n",
       " 'ndestinas o de carreras cuadreras? Esa fue la pregunta de El Tribuno a un criollo del Chaco salteño ',\n",
       " 'que reside en otra zona de esa extensa región. \"Sirven para lo mismo. Una avioneta aterriza y levant',\n",
       " 'a vuelo sin inconvenientes y cuando no hay previstos vuelos, se organizan las carreras de caballos; ',\n",
       " 'los que llevan adelante el negocio son los mismos, o ¿cómo crees que las apuestas oscilan entre los ',\n",
       " '500 y los 10 mil dólares?\". El lugareño, cuya identidad por estricta seguridad se mantiene en reserv',\n",
       " 'a, explicó algo más: \"Las pistas no están en la finca de nadie, están en terrenos fiscales porque es',\n",
       " 'ta gente es cualquier cosa menos ingenua\". Los investigadores bolivianos no descartan que desde los ',\n",
       " 'laboratorios de alta complejidad instalados en la selva amazónica haya partido la aeronave CP-3123, ',\n",
       " 'que llevaba 324 kilos de cocaína de alta pureza y que se incendió en la provincia de Chaco. La cocaí',\n",
       " 'na de cristal podría estar fabricándose en esa misma región con hojas de coca que provienen desde el',\n",
       " ' Chapare, la región cocalera por excelencia de Bolivia. Pero este último podría tratarse de un produ',\n",
       " 'cto mucho más sofisticado que el clorhidrato de cocaína \"común\", altamente concentrado, con capacida',\n",
       " 'd infinita de ser estirado y presentado no solo en polvo, sino también en pastillas, píldoras, compr',\n",
       " 'imidos o líquido. El nuevo producto, por su calidad y exorbitante precio, rompería con todo lo conoc',\n",
       " 'ido a nivel mundial en materia de sustancias prohibidas. Es tan difícil llegar a la zona donde la na',\n",
       " 've fue incendiada, que el fiscal Cazón recordó que \"los policías me hicieron un solo pedido: doctor,',\n",
       " ' la próxima vez por favor haga que contraten un helicóptero. A los policías les llevó 15 horas llega',\n",
       " 'r al lugar, al punto que la primera comunicación después que salieron de madrugada desde Tartagal, l',\n",
       " 'a tuve a las 12 de la noche del jueves 17, desde el destacamento Alto La Sierra cuando el hecho se r',\n",
       " 'eportó el miércoles, a las 6 de la tarde. Para cargar o descargar se requiere de una logística muy g',\n",
       " 'rande, pero reitero que todo lo tiene que investigar la Justicia Federal, que tiene varios destacame',\n",
       " 'ntos de la Gendarmería Nacional con vehículos aptos para transitar esa zona\", explicó y agregó: \"Com',\n",
       " 'o sugerencia, y lo hago como un simple ciudadano salteño, las autoridades competentes tienen que pon',\n",
       " 'er en funcionamiento el sistema de radares que detecte el ingreso de aeronaves al espacio argentino,',\n",
       " ' pero durante las 24 horas, 7 días a la semana, e instruir a las fuerzas de competencia federal que ',\n",
       " 'trabajen con compromiso; todo lo demás que se diga de la lucha contra el narcotráfico es simple disc',\n",
       " 'urso\". A diferencia de los funcionarios del área federal a Cazón lo asiste una gran ventaja: es oriu',\n",
       " 'ndo de Salvador Mazza y cuenta con magistrados y militares de confianza - con algunos estudiaron la ',\n",
       " 'primaria y la secundaria- en las localidades del sur boliviano. Es de las propias autoridades del ve',\n",
       " \"cinos país que partió la versión referida a la fabricación de 'cocaína de cristal' en laboratorios d\",\n",
       " \"e la selva amazónica. Hace menos de un mes se desbarató una instalación que en medio 'de la nada mis\",\n",
       " \"ma' contaba con generación eléctrica, pistas de aterrizajes, aeronaves, varias decenas de operarios \",\n",
       " 'y la tecnología más avanzada con capacidad para fabricar media tonelada diaria de cocaína. En di&aac',\n",
       " 'ute;logo con Radio Salta, el presidente&nbsp;de la C&aacute;mara Inmobiliaria&nbsp;de Salta se refir',\n",
       " 'i&oacute; a la grave crisis que afecta al sector.&nbsp; El presidente brasile&ntilde;o dijo que la i',\n",
       " 'nclusi&oacute;n del pa&iacute;s al grupo econ&oacute;mico ser&iacute;a &quot;clave&quot; por la &quo',\n",
       " 't;interdependencia econ&oacute;mica entre ambos pa&iacute;ses sudamericanos&quot;, sugiri&oacute; co',\n",
       " 'merciar con yuanes y critic&oacute; duramente el pr&eacute;stamo con el FMI acordado en el gobierno ',\n",
       " 'de Macri. Tres maestras y dos alumnos resultaron intoxicados por una p&eacute;rdida de gas en la esc',\n",
       " 'uela rural de El Huaico en la localidad de La Merced. El resto del alumnado result&oacute; evacuado ',\n",
       " 'por los bomberos y la polic&iacute;a local. El &uacute;ltimo incremento que recibi&oacute; el sector',\n",
       " ' fue el mes pasado y hab&iacute;a sido de 27,27% La v&iacute;ctima ser&iacute;a una ni&ntilde;a, men',\n",
       " 'or de edad, de nacionalidad chilena. Los fundamentos del fallo se conocer&aacute;n el pr&oacute;ximo',\n",
       " ' 30 de agosto En di&aacute;logo con Radio Salta, el presidente&nbsp;de la C&aacute;mara Inmobiliaria',\n",
       " '&nbsp;de Salta se refiri&oacute; a la grave crisis que afecta al sector.&nbsp; El &uacute;ltimo incr',\n",
       " 'emento que recibi&oacute; el sector fue el mes pasado y hab&iacute;a sido de 27,27% 23 mil turistas ',\n",
       " 'fueron registrados en alojamientos salte&ntilde;os distribuidos en las siete regiones tur&iacute;sti',\n",
       " 'cas. Se trata de estudiantes de quinto grado A y B, quienes tuvieron la oportunidad de recorrer sus ',\n",
       " 'instalaciones y dialogar con periodistas. Las localidades con ocupaci&oacute;n m&aacute;s alta fuero',\n",
       " 'n&nbsp;San Antonio de los Cobres, Cachi, Cafayate, Chicoana, Ciudad de Salta, Coronel Moldes, San Lo',\n",
       " 'renzo, Rosario de la Frontera, Molinos y Seclant&aacute;s. Gonz&aacute;lez Metilli fue elegido por e',\n",
       " 'l gol que meti&oacute; ante Rosario Central en agosto y&nbsp;competir&aacute; con Mbapp&eacute; y Ba',\n",
       " 'lotelli. Gimnasia elimin&oacute; a Villa Mitre de Bah&iacute;a Blanca en el Gigante y se meti&oacute',\n",
       " '; a cuartos de final. Fue 2 a 1, con goles de Perillo, la figura, y Gonz&aacute;lez Bord&oacute;n.&n',\n",
       " 'bsp;El millonario tuvo que sufrir en el sprint final para conseguir la angustiante clasificaci&oacut',\n",
       " 'e;n y quedar a tres pasos del segundo ascenso a la Primera Nacional. La Joya y Marcos Senesi, sorpre',\n",
       " 'sas en la lista para jugar con Italia .Cinco excluidos comenzar&iacute;an a despedirse de la Copa de',\n",
       " 'l Mundo. Gole&oacute; por 4 a 1 a Venezuela para seguir con el sue&ntilde;o mundialista. Los partido',\n",
       " 's por los cuartos de final, cuando se reanude el reducido. Esta noche, a las 22, jugar&aacute; en el',\n",
       " ' Polideportivo frente a J&aacute;chal BC. La Polic&iacute;a de Salta realiz&oacute; durante las &uac',\n",
       " 'ute;ltimas horas varios allanamientos donde fueron desbaratadas tres bocas de expendio de estupefaci',\n",
       " 'entes. El &uacute;ltimo fin de semana hubo enfrentamientos entre narcos que incluyeron hasta bombas ',\n",
       " 'molotov. Las huellas muestran un aterrizaje forzoso. Los dos tripulantes huyeron a pie.&nbsp;La drog',\n",
       " 'a ya hab&iacute;a sido arrojada. La polic&iacute;a tard&oacute; muchas horas en llegar.&nbsp; La inv',\n",
       " 'estigaci&oacute;n surgi&oacute; de una boca de expendios de drogas a nivel local. El lugar se conoce',\n",
       " ', la nacionalidad de los profesionales químicos también. Solo faltaría precisar el verdadero precio ',\n",
       " 'y la monumental ganancia que a los carteles de la droga les estaría quedando por este nuevo producto',\n",
       " ' que comienzan a sacar al mercado internacional y que en la jerga se conoce como \"cocaína de cristal',\n",
       " '\\' o \"cocaína cristalizada\". El lugar: la selva amazónica boliviana en cercanías al pueblo de Raboré,',\n",
       " ' a 500 km de Santa Cruz de la Sierra y a menos de 300 de Puerto Suárez, el límite de Bolivia con Bra',\n",
       " 'sil. Los químicos y bioquímicos, de nacionalidades peruana y colombiana -considerados los mejores de',\n",
       " 'l mundo en la fabricación de cocaína-, quienes, no ya en esas \"cocinas\" que se encuentran en alejada',\n",
       " 's regiones de cualquier país de centro américa, sino al frente de verdaderos laboratorios de alta te',\n",
       " 'cnología instalados en medio de la selva, son lo que fabrican esta nueva variante del clorhidrato de',\n",
       " ' cocaína que en calidad y precio podría superar todo lo conocido. LE PUEDE INTERESAR El municipio ul',\n",
       " 'tima los detalles por el Milagro Kalinsky y otros cinco exfuncionarios van a juicio por la construcc',\n",
       " 'ión ilegal de edificios de altura en Salta Las pistas sirven para lo mismo. Una avioneta aterriza y ',\n",
       " 'levanta vuelo sin inconvenientes y cuando no hay vuelos, se organizan carreras de caballos. Las alar',\n",
       " 'mas en el norte de Argentina y en el sur de Bolivia se dispararon la semana que concluye cuando una ',\n",
       " 'aeronave con patente boliviana fue incendiada en una pista de aterrizaje clandestina en otra alejada',\n",
       " ', inhóspita y casi impenetrable zona del Chaco salteño, a pocos kilómetros de la triple frontera ent',\n",
       " 're Bolivia, Argentina y Paraguay. Todo indica que la avioneta no cayó, sino que fue incendiada por d',\n",
       " 'os ocupantes quienes fueron vistos caminando a una distancia de unos dos kilómetros del paraje El Le',\n",
       " 'cherón, cargando dos mochilas la tarde del miércoles anterior. Cuando los criollos les preguntaron s',\n",
       " 'i necesitaban alguna ayuda se mostraron muy tranquilos y dijeron que no. \"Los criollos no insistiero',\n",
       " 'n porque son gente de campo y lo que no tienen en comunicaciones telefónicas o caminos para transita',\n",
       " 'r lo tienen en intuición. Y están habituados a ver aeronaves volando a baja altura en una zona en la',\n",
       " ' que no existen rutas aéreas oficiales. Ellos mejor que nadie saben qué transportan esas aeronaves q',\n",
       " 'ue ven atravesar ese espacio todas las semanas\", explica el fiscal penal con jurisdicción en la inme',\n",
       " 'nsa zona del Chaco salteño, Armando Cazón. Cazón explica: \"Son dos las líneas investigativas que est',\n",
       " 'amos siguiendo y que le pasamos a la Justicia Federal porque si bien fue la fiscalía provincial y a ',\n",
       " 'mi cargo y la Policía de Salta la que actuó en un primer momento, corresponde que sea el ámbito fede',\n",
       " 'ral el que continúe. A nosotros nos interesa porque estamos hablando de delitos que involucran a nue',\n",
       " 'stra provincia y que si bien pueden ser transnacionales, la tarea de cada funcionario político o jud',\n",
       " 'icial es evitar que estas organizaciones extiendan sus acciones delictivas al norte de la provincia\"',\n",
       " ', explica el fiscal bajo cuya orden actuaron dos efectivos policiales en un primer momento, quienes ',\n",
       " 'con más voluntad que medios se trasladaron -en un ciclomotor de propiedad de uno de ellos- y a 35 ki',\n",
       " 'lómetros desde el destacamento Alto La Sierra encontraron los restos humeantes de la aeronave y la c',\n",
       " 'ustodiaron hasta que llegaron policías desde Tartagal y especialistas del CIF de Orán. \"Los que llev',\n",
       " 'an adelante el negocio son los mismos, o ¿cómo crees que las apuestas oscilan entre los 500 y los 10',\n",
       " ' mil dólares?\", dijo un lugareño. \"No fue un accidente, fue voluntario el incendio y eso queda corro',\n",
       " 'borado en el hecho de que no hay víctimas, los tanques de combustible -JP 1 de altísimo octanaje y d',\n",
       " 'etonación- fueron abiertos y los ocupantes antes de irse retiraron las identificaciones del avión. P',\n",
       " 'odrían haber estado transportando marihuana ingresada desde Paraguay y por el fuerte viento no pudo ',\n",
       " 'despegar u operando desde Bolivia\". ¿Pistas clandestinas o de carreras cuadreras? Esa fue la pregunt',\n",
       " 'a de El Tribuno a un criollo del Chaco salteño que reside en otra zona de esa extensa región. \"Sirve',\n",
       " 'n para lo mismo. Una avioneta aterriza y levanta vuelo sin inconvenientes y cuando no hay previstos ',\n",
       " 'vuelos, se organizan las carreras de caballos; los que llevan adelante el negocio son los mismos, o ',\n",
       " '¿cómo crees que las apuestas oscilan entre los 500 y los 10 mil dólares?\". El lugareño, cuya identid',\n",
       " 'ad por estricta seguridad se mantiene en reserva, explicó algo más: \"Las pistas no están en la finca',\n",
       " ' de nadie, están en terrenos fiscales porque esta gente es cualquier cosa menos ingenua\". Los invest',\n",
       " 'igadores bolivianos no descartan que desde los laboratorios de alta complejidad instalados en la sel',\n",
       " 'va amazónica haya partido la aeronave CP-3123, que llevaba 324 kilos de cocaína de alta pureza y que',\n",
       " ' se incendió en la provincia de Chaco. La cocaína de cristal podría estar fabricándose en esa misma ',\n",
       " 'región con hojas de coca que provienen desde el Chapare, la región cocalera por excelencia de Bolivi',\n",
       " 'a. Pero este último podría tratarse de un producto mucho más sofisticado que el clorhidrato de cocaí',\n",
       " 'na \"común\", altamente concentrado, con capacidad infinita de ser estirado y presentado no solo en po',\n",
       " 'lvo, sino también en pastillas, píldoras, comprimidos o líquido. El nuevo producto, por su calidad y',\n",
       " ' exorbitante precio, rompería con todo lo conocido a nivel mundial en materia de sustancias prohibid',\n",
       " 'as. Es tan difícil llegar a la zona donde la nave fue incendiada, que el fiscal Cazón recordó que \"l',\n",
       " 'os policías me hicieron un solo pedido: doctor, la próxima vez por favor haga que contraten un helic',\n",
       " 'óptero. A los policías les llevó 15 horas llegar al lugar, al punto que la primera comunicación desp',\n",
       " 'ués que salieron de madrugada desde Tartagal, la tuve a las 12 de la noche del jueves 17, desde el d',\n",
       " 'estacamento Alto La Sierra cuando el hecho se reportó el miércoles, a las 6 de la tarde. Para cargar',\n",
       " ' o descargar se requiere de una logística muy grande, pero reitero que todo lo tiene que investigar ',\n",
       " 'la Justicia Federal, que tiene varios destacamentos de la Gendarmería Nacional con vehículos aptos p',\n",
       " 'ara transitar esa zona\", explicó y agregó: \"Como sugerencia, y lo hago como un simple ciudadano salt',\n",
       " 'eño, las autoridades competentes tienen que poner en funcionamiento el sistema de radares que detect',\n",
       " 'e el ingreso de aeronaves al espacio argentino, pero durante las 24 horas, 7 días a la semana, e ins',\n",
       " 'truir a las fuerzas de competencia federal que trabajen con compromiso; todo lo demás que se diga de',\n",
       " ' la lucha contra el narcotráfico es simple discurso\". A diferencia de los funcionarios del área fede',\n",
       " 'ral a Cazón lo asiste una gran ventaja: es oriundo de Salvador Mazza y cuenta con magistrados y mili',\n",
       " 'tares de confianza - con algunos estudiaron la primaria y la secundaria- en las localidades del sur ',\n",
       " 'boliviano. Es de las propias autoridades del vecinos país que partió la versión referida a la fabric',\n",
       " \"ación de 'cocaína de cristal' en laboratorios de la selva amazónica. Hace menos de un mes se desbara\",\n",
       " \"tó una instalación que en medio 'de la nada misma' contaba con generación eléctrica, pistas de aterr\",\n",
       " 'izajes, aeronaves, varias decenas de operarios y la tecnología más avanzada con capacidad para fabri',\n",
       " 'car media tonelada diaria de cocaína. Protección de datos personales HORIZONTES S.A. utilizará la in',\n",
       " 'formación para los siguientes fines: a) identificación y autenticación, b) administración y gestión ',\n",
       " 'comercial, c) mejora del servicio, d) fines estadísticos, e) envío de notificaciones, promociones o ',\n",
       " 'publicidad, entre otros. Los datos personales no serán difundidos ni empleados para un fin distinto ',\n",
       " 'o incompatible al tenido en cuenta al ser ingresados en la base. HORIZONTES S.A. podrá emplear a otr',\n",
       " 'as compañías y/o personas físicas para llevar a cabo tareas o funciones en su nombre. Entre los ejem',\n",
       " 'plos de ese tipo podemos mencionar el de enviar correo postal y electrónico, retirar información rei',\n",
       " 'terativa de las listas de usuarios, analizar datos en forma estadística, etc. Dichas personas cuenta',\n",
       " 'n con acceso a la información personal necesaria para cumplir con sus tareas y funciones, pero no pu',\n",
       " 'eden utilizarla con fines distintos a los estipulados. Las bases de datos de HORIZONTES S.A. se encu',\n",
       " 'entran registradas en la Dirección Nacional de Protección de Datos Personales del Ministerio de Just',\n",
       " 'icia y Derechos Humanos de la Presidencia de la Nación (República Argentina), en cumplimiento de lo ',\n",
       " 'dispuesto en el art. 3 de la Ley 25.326. El titular de los datos personales tiene la facultad de eje',\n",
       " 'rcer el derecho de acceso a los mismos en forma gratuita a intervalos no inferiores a 6 meses, salvo',\n",
       " ' que se acredite un interés legítimo al efecto, conforme lo establecido en el art. 14, inc. 3 de la ',\n",
       " 'Ley 25.326. La DIRECCIÓN NACIONAL DE PROTECCIÓN DE DATOS PERSONALES, Órgano de Control de la Ley 25.',\n",
       " '326, tiene la atribución de atender las denuncias y reclamos que se interpongan con relación al incu',\n",
       " 'mplimiento de las normas sobre protección de datos personales. Copyright (c) 1996-2023. Todos los de',\n",
       " 'rechos reservados.']"
      ]
     },
     "execution_count": 10,
     "metadata": {},
     "output_type": "execute_result"
    }
   ],
   "source": [
    "view_string(news_j['content'][2])"
   ]
  },
  {
   "cell_type": "code",
   "execution_count": 8,
   "metadata": {},
   "outputs": [
    {
     "data": {
      "text/plain": [
       "['https://www.eltribuno.com/salta/nota/2023-8-21-0-0-0-traficaba-24-kilos-de-cocaina-en-su-auto-y-fue-detenido',\n",
       " 'https://www.eltribuno.com/salta/nota/2023-8-25-11-39-0-narcotrafico-secuestran-mas-de-6-kilos-de-cocaina-que-intentaban-enviar-en-encomiendas',\n",
       " 'https://www.eltribuno.com/salta/nota/2023-8-22-0-0-0-las-narco-avionetas-y-una-nueva-droga-que-se-estaria-fabricando-en-bolivia',\n",
       " 'https://www.eltribuno.com/salta/nota/2023-8-17-11-53-0-aeronave-narco-incendiada-en-santa-victoria-este-reportan-el-hallazgo-a-la-justicia-federal',\n",
       " 'https://www.eltribuno.com/salta/nota/2023-8-24-11-41-0-contrabando-hacia-bolivia-la-policia-federal-incauto-60-toneladas-de-soja',\n",
       " 'https://www.eltribuno.com/salta/nota/2023-8-25-18-43-0-acompanaba-a-una-mujer-que-le-estallo-una-capsulas-de-cocaina-quedo-detenida-e-imputada',\n",
       " 'https://www.eltribuno.com/jujuy/nota/2023-8-17-12-8-0-salta-detenidos-por-llevar-6-kilos-de-cocaina-adosados-al-cuerpo',\n",
       " 'https://www.eltribuno.com/salta/nota/2023-8-17-0-0-0-una-pareja-llevaba-seis-kilos-de-cocaina-en-su-cuerpo',\n",
       " 'https://www.eltribuno.com/salta/nota/2023-8-18-10-40-0-narcomenudeo-cuatro-detenidos-por-venta-de-drogas-e-incidentes-en-barrio-la-paz',\n",
       " 'https://www.eltribuno.com/salta/nota/2023-8-17-10-51-0-santa-victoria-este-investigan-el-incendio-de-una-avioneta-narco-que-cayo-en-el-chaco-salteno']"
      ]
     },
     "execution_count": 8,
     "metadata": {},
     "output_type": "execute_result"
    }
   ],
   "source": [
    "news_j['link'].to_list()"
   ]
  },
  {
   "cell_type": "code",
   "execution_count": 11,
   "metadata": {},
   "outputs": [
    {
     "data": {
      "text/plain": [
       "['La droga estaba oculta en el tanque de nafta, engañaba a la vista de los gendarmes, pero no al olfato de Ziro, el can antidrogas.\\nUn joven fue detenido en un control de ruta en la localidad de Aguaray luego de que el can Ziro determinara que el sujeto escondía cocaína en el tanque de nafta, que había llenado de combustible para no ser detectado.\\nLa experiencia del can antinarcóticos y su olfato sin par hicieron posible que el narcotraficante sea detenido y la droga no llegara a las calles de nuestro país.\\nPretendía traficar más de 24 kilos y medio de cocaína, que llevaba ocultos en el tanque de combustible del auto que conducía, informaron fuentes de esa fuerza de seguridad.\\nLa Fiscalía interviniente dispuso el decomiso de la droga, el secuestro del vehículo y la detención del conductor involucrado.',\n",
       " 'La primera intervención se concretó en la madrugada del jueves, minutos antes de las 2, cuando efectivos de la División Investigación Compleja Narcocriminal realizó un control preventivo en una empresa de envíos de encomiendas de esa localidad.\\nCon la colaboración de un can antinarcótico, detectaron la posible presencia de drogas en uno de los paquetes.\\nSe constató que en el interior de la máquina se encontraban ocultos tres envoltorios rectangulares en forma de ladrillo, los cuales contenían una sustancia amarillenta compacta que, a la prueba de campo, dio positivo para derivados de clorhidrato de cocaína.\\nAl ser consultados, se negaron a brindar datos a los efectivos y se tornaron nerviosos por su presencia.\\nEntre ambos procedimientos se secuestraron más de 51 mil dosis de pasta base que intentaban ingresar de forma ilegal a nuestra provincia.',\n",
       " 'Solo faltaría precisar el verdadero precio y la monumental ganancia que a los carteles de la droga les estaría quedando por este nuevo producto que comienzan a sacar al mercado internacional y que en la jerga se conoce como \"cocaína de cristal\\' o \"cocaína cristalizada\".\\n\"Los criollos no insistieron porque son gente de campo y lo que no tienen en comunicaciones telefónicas o caminos para transitar lo tienen en intuición.\\nY están habituados a ver aeronaves volando a baja altura en una zona en la que no existen rutas aéreas oficiales.\\nDos líneas investigativasCazón explica: \"Son dos las líneas investigativas que estamos siguiendo y que le pasamos a la Justicia Federal porque si bien fue la fiscalía provincial y a mi cargo y la Policía de Salta la que actuó en un primer momento, corresponde que sea el ámbito federal el que continúe.\\n\"Los que llevan adelante el negocio son los mismos, o ¿cómo crees que las apuestas oscilan entre los 500 y los 10 mil dólares?',\n",
       " 'En el lugar trabaja personal perteneciente a criminalística de la policía de la provincia, del CIF y de bomberos para recuperar elementos que puedan dar mayor certeza de lo que la nave cargaba y procedencia de la misma.\\nEn el lugar trabaja personal perteneciente a criminalística de la policía de la provincia, del CIF y de bomberos para recuperar elementos que puedan dar mayor certeza de lo que la nave cargaba y procedencia de la misma.\\nUna vez que el personal policial recabe toda la información pasaremos desde esta fiscalía todas las actuaciones a la fiscalía federal para que sigan con la investigación”.\\nEl hallazgo de la avioneta se produjo en horas de la tarde del miércoles en el paraje El Lecherón distante a unos 35 kilómetros del paraje Alto La Sierra al noreste de la localidad de Santa Victoria Este.\\nDesde ese momento se desplegó el amplio operativo para determinar si dentro de la aeronave había cuerpos calcinados lo que quedó descartados y recuperar otras evidencias.',\n",
       " 'Los agentes de la División Unidad Operativa Federal Salvador Mazza secuestraron en la localidad de Tartagal, sesenta toneladas de soja.\\nLa Policía Federal Argentina le dio otro golpe al contrabando de nuestro país hacia Bolivia, al incautar en las últimas horas 60 toneladas de soja que eran movilizadas en dos camiones con sus respectivos acoplados.\\nEl operativo se llevo a cabo en la Ruta Nacional Nº 34 a la altura del Paraje Virgen de La Peña, con el objetivo de prevenir delitos de competencia federal, vinculados al contrabando desde y hacia el Estado Plurinacional de Bolivia.\\nAl efectuar la requisa de los rodados, hallaron un total de sesenta toneladas de granos de soja, los cuales carecían de la documentación correspondiente.\\nEn consecuencia, los uniformados confiscaron la mercadería y los vehículos, mientras que los choferes de los mismos, argentinos y mayores de edad, fueron notificados de la causa.',\n",
       " 'Ponderó también la gravedad y la naturaleza del hecho.\\nDe allí se dirigieron a una casa que la imputada tenía rentada en la zona del macrocentro de la ciudad, donde la víctima quedó resguardada.\\n“Lo único que le importaba era que no se descubriera el transporte de droga”, sostuvieron.\\nUna vez captada, la persona era conminada a ingerir cápsulas de cocaína, lo que convertía a la acusada en la “garante” del traslado y la salud de la misma.\\nTras describir la plataforma fáctica, la fiscalía solicitó la imputación penal por el transporte de estupefacientes y por el homicidio y requirió entonces que se dicte la prisión preventiva.',\n",
       " 'El personal de la Fuerza decomisó seis paquetes con el estupefaciente.\\nUna pareja quedó detenida en la provincia de Salta cuando en un control vehicular de Gendarmería les hallaron seis paquetes con cocaína adosados al cuerpo.\\nComo resultado de la requisa personal, los gendarmes detectaron un total de cuatro paquetes rectangulares adosados al cuerpo de la mujer, y otros dos “panes” adheridos al del hombre.\\nLas pruebas de campo Narcotest realizadas por integrantes de Criminalística y Estudios Forenses confirmaron un total de 6 kilos 400 gramos de cocaína.\\nLa Fiscalía interviniente orientó el secuestro del estupefaciente y del vehículo, como así también la detención de ambos ocupantes.',\n",
       " 'El conductor, quien viajaba con una mujer de nacionalidad boliviana, se mostró amable y en un comienzo no exteriorizó ningún tipo de nervios.\\nEn medio de una requisa más minuciosa, y al hacer descender del vehículo a los sospechosos notaron que la actitud del hombre había cambiado y que la mujer estaba muy nerviosa.\\nAl ser requisados los gendarmes descubrieron que ambos ocultaban droga que estaba compactada en empaques tipos \"ladrillos\" y adosadas a su cuerpo.\\nLa mujer tenía cuatro panes y el hombre dos.\\nLa Fiscalía interviniente orientó el secuestro del estupefaciente y del vehículo, como así también la detención de ambos ocupantes.',\n",
       " 'La Policía de Salta realizó durante las últimas horas varios allanamientos donde fueron desbaratadas tres bocas de expendio de estupefacientes.\\nEl último fin de semana hubo enfrentamientos entre narcos que incluyeron hasta bombas molotov.\\nLa Policía de Salta a través de una investigación llevada adelante por la Dirección General de Drogas Peligrosas desbarató tres bocas dedicadas al tráfico y comercialización de drogas en la zona sudeste de la ciudad.\\nLos cuatro detenidos están vinculados en los enfrentamientos registrados en los últimos días en barrio La Paz que incluyeron hasta bombas molotov.\\nAl reunir los elementos probatorios se solicitó al Juzgado de Garantías N° 7 las respectivas órdenes de allanamiento para dos viviendas de barrio La Paz y una en Solidaridad.',\n",
       " 'El hallazgo lo concretó personal policial de esos destacamentos quienes advertidos por algunos lugareños localizaron los restos de la aeronave que se encontraba en gran parte consumida por las llamas.\\nCazón consideró que “por el lugar donde fue localizada pensamos que llegó para cargar marihuana ingresada por el puente internacional Misión La Paz- Pozo hondo, desde Paraguay.\\nEsas aeronaves tienen una capacidad máxima de 300 kilos pero si la superaron no habría podido levantar vuelo, más en la tarde de ayer que en toda la zona del chaco salteño se registraban ráfagas de vientos bastante fuertes.\\nNadie incendia una nave que pueda levantar vuelo sin problemas o que tenga alguna dificultad mecánica solamente”, consideró el fiscal Cazón.\\nNo se descarta que la aeronave pueda haber ingresado desde Bolivia -distante unos pocos kilómetros ya que se trata de la zona tripartita- para prestar ese servicio de transporte ya que por los primeros indicios tendría todas las características de ser el tipo que se utiliza para los narco vuelos.']"
      ]
     },
     "execution_count": 11,
     "metadata": {},
     "output_type": "execute_result"
    }
   ],
   "source": [
    "news_j['summary'].to_list()"
   ]
  },
  {
   "cell_type": "code",
   "execution_count": 12,
   "metadata": {},
   "outputs": [],
   "source": [
    "news_j = (\n",
    "    news_j.with_columns([pl.col(\"summary\").alias(\"summary_llm\")])\n",
    ")"
   ]
  },
  {
   "cell_type": "code",
   "execution_count": 26,
   "metadata": {},
   "outputs": [],
   "source": [
    "news2 = (\n",
    "                news.with_columns(\n",
    "                    pl.when(pl.col(\"state\") == 'Jujuy')\n",
    "                    .then(pl.col('summary').str.slice(0,400))\n",
    "                    .otherwise(pl.col(\"summary_llm\"))\n",
    "                    .alias(\"summary_llm\"),                        \n",
    "\n",
    "                )\n",
    "            )"
   ]
  },
  {
   "cell_type": "code",
   "execution_count": null,
   "metadata": {},
   "outputs": [],
   "source": []
  }
 ],
 "metadata": {
  "kernelspec": {
   "display_name": ".willow",
   "language": "python",
   "name": ".willow"
  },
  "language_info": {
   "codemirror_mode": {
    "name": "ipython",
    "version": 3
   },
   "file_extension": ".py",
   "mimetype": "text/x-python",
   "name": "python",
   "nbconvert_exporter": "python",
   "pygments_lexer": "ipython3",
   "version": "3.9.13"
  },
  "orig_nbformat": 4
 },
 "nbformat": 4,
 "nbformat_minor": 2
}
