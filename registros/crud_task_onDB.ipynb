{
 "cells": [
  {
   "cell_type": "code",
   "execution_count": 9,
   "metadata": {},
   "outputs": [
    {
     "name": "stdout",
     "output_type": "stream",
     "text": [
      "/home/sebacastillo/willow\n"
     ]
    }
   ],
   "source": [
    "%cd /home/sebacastillo/willow\n",
    "from src.process import *\n",
    "from src.database import *\n",
    "collection_news = get_collection(host='mongodb://localhost:27017/', db_name='wdocuments', collection_name='news')\n",
    "news = get_news(collection_news, \"2023-08-16\", \"2023-09-01\", 'narcotráfico', embed=False)\n",
    "collection_newsner = get_collection(host='mongodb://localhost:27017/', db_name='wdocuments', collection_name='newsner')\n",
    "newsner = get_ner_byindex(collection_newsner, news)"
   ]
  },
  {
   "cell_type": "code",
   "execution_count": 8,
   "metadata": {},
   "outputs": [
    {
     "name": "stdout",
     "output_type": "stream",
     "text": [
      "One document was deleted with index 132.\n"
     ]
    }
   ],
   "source": [
    "# 2020-08-25\n",
    "# borro falsos positivos\n",
    "#delete_one(collection_news, 131)\n",
    "#delete_one(collection_news, 241)\n",
    "#delete_one(collection_news, 46)\n",
    "#delete_one(collection_news, 132) # falló extraccion de contenido"
   ]
  },
  {
   "cell_type": "markdown",
   "metadata": {},
   "source": [
    "Otro positivos con tópico diferente\n",
    "\n",
    "- 287 falso positivo sobre 'droga por adelgazar'"
   ]
  },
  {
   "cell_type": "markdown",
   "metadata": {},
   "source": [
    "- Se eliminó portal diaadia de córdoba xq diseño web generaba falso positivo sistemáticamente\n"
   ]
  }
 ],
 "metadata": {
  "kernelspec": {
   "display_name": ".willow",
   "language": "python",
   "name": ".willow"
  },
  "language_info": {
   "codemirror_mode": {
    "name": "ipython",
    "version": 3
   },
   "file_extension": ".py",
   "mimetype": "text/x-python",
   "name": "python",
   "nbconvert_exporter": "python",
   "pygments_lexer": "ipython3",
   "version": "3.9.13"
  },
  "orig_nbformat": 4
 },
 "nbformat": 4,
 "nbformat_minor": 2
}
