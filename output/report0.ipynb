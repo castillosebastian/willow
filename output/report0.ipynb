{
 "cells": [
  {
   "cell_type": "markdown",
   "metadata": {},
   "source": [
    "# Reporte0"
   ]
  },
  {
   "cell_type": "markdown",
   "metadata": {},
   "source": [
    "Prototipo de Reporte Analítico   \n",
    "Tema: *Narcotráfico*   \n",
    "Sistema: *Willow*    "
   ]
  },
  {
   "cell_type": "code",
   "execution_count": 1,
   "metadata": {},
   "outputs": [],
   "source": [
    "import polars as pl\n",
    "import re \n",
    "import time\n",
    "import plotly.graph_objects as go\n",
    "from ipywidgets import widgets\n"
   ]
  },
  {
   "cell_type": "code",
   "execution_count": 2,
   "metadata": {},
   "outputs": [],
   "source": [
    "data = pl.read_csv('news_clean.csv', \n",
    "                   dtypes={\n",
    "                        \"content_hash\": pl.UInt64,\n",
    "                        \"date_extract\": pl.Date,\n",
    "                        \"date_article\": pl.Date\n",
    "                    }\n",
    "                    )\n",
    "main_table = data[['state', 'city', 'date_article', 'sumary', 'link' ]]"
   ]
  },
  {
   "cell_type": "code",
   "execution_count": 5,
   "metadata": {},
   "outputs": [
    {
     "name": "stdout",
     "output_type": "stream",
     "text": [
      "['date_extract', 'date_article', 'topic', 'content', 'link', 'authors', 'portal', 'state', 'city', 'content_nchar', 'content_hash', 'content_cleaned', 'count', 'duplicated_content', 'sumary']\n",
      "['state', 'city', 'date_article', 'sumary', 'link']\n",
      "(123, 15)\n"
     ]
    },
    {
     "data": {
      "text/plain": [
       "(None, None, None)"
      ]
     },
     "execution_count": 5,
     "metadata": {},
     "output_type": "execute_result"
    }
   ],
   "source": [
    "print(data.columns), print(main_table.columns), print(data.shape)"
   ]
  },
  {
   "cell_type": "code",
   "execution_count": 6,
   "metadata": {},
   "outputs": [
    {
     "data": {
      "text/plain": [
       "['entity_group', 'score', 'word', 'start', 'end', 'index']"
      ]
     },
     "execution_count": 6,
     "metadata": {},
     "output_type": "execute_result"
    }
   ],
   "source": [
    "ner = pl.read_csv('ner.csv')\n",
    "ner.columns"
   ]
  },
  {
   "cell_type": "code",
   "execution_count": 7,
   "metadata": {},
   "outputs": [],
   "source": [
    "ner_small = (\n",
    "    ner\n",
    "    .filter(pl.col('score') > 0.95)\n",
    "    \n",
    ")"
   ]
  },
  {
   "cell_type": "code",
   "execution_count": 10,
   "metadata": {},
   "outputs": [
    {
     "ename": "AttributeError",
     "evalue": "'Expr' object has no attribute 'agg_list'",
     "output_type": "error",
     "traceback": [
      "\u001b[0;31m---------------------------------------------------------------------------\u001b[0m",
      "\u001b[0;31mAttributeError\u001b[0m                            Traceback (most recent call last)",
      "Cell \u001b[0;32mIn[10], line 3\u001b[0m\n\u001b[1;32m      1\u001b[0m \u001b[39m# Group by 'index' and 'entity_group' and concatenate 'word'\u001b[39;00m\n\u001b[1;32m      2\u001b[0m result \u001b[39m=\u001b[39m ner_small\u001b[39m.\u001b[39mgroupby([\u001b[39m\"\u001b[39m\u001b[39mindex\u001b[39m\u001b[39m\"\u001b[39m, \u001b[39m\"\u001b[39m\u001b[39mentity_group\u001b[39m\u001b[39m\"\u001b[39m])\u001b[39m.\u001b[39magg([\n\u001b[0;32m----> 3\u001b[0m     pl\u001b[39m.\u001b[39;49mcol(\u001b[39m\"\u001b[39;49m\u001b[39mword\u001b[39;49m\u001b[39m\"\u001b[39;49m)\u001b[39m.\u001b[39;49magg_list()\u001b[39m.\u001b[39malias(\u001b[39m\"\u001b[39m\u001b[39mwords_concatenated\u001b[39m\u001b[39m\"\u001b[39m)\n\u001b[1;32m      4\u001b[0m ])\n",
      "\u001b[0;31mAttributeError\u001b[0m: 'Expr' object has no attribute 'agg_list'"
     ]
    }
   ],
   "source": [
    "# Group by 'index' and 'entity_group' and concatenate 'word'\n",
    "result = ner_small.groupby([\"index\", \"entity_group\"]).agg([\n",
    "    pl.col(\"word\").agg_list().alias(\"words_concatenated\")\n",
    "])\n"
   ]
  }
 ],
 "metadata": {
  "kernelspec": {
   "display_name": ".willow",
   "language": "python",
   "name": ".willow"
  },
  "language_info": {
   "codemirror_mode": {
    "name": "ipython",
    "version": 3
   },
   "file_extension": ".py",
   "mimetype": "text/x-python",
   "name": "python",
   "nbconvert_exporter": "python",
   "pygments_lexer": "ipython3",
   "version": "3.9.13"
  },
  "orig_nbformat": 4
 },
 "nbformat": 4,
 "nbformat_minor": 2
}
