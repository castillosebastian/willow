{
 "cells": [
  {
   "cell_type": "markdown",
   "metadata": {},
   "source": [
    "# Reporte0"
   ]
  },
  {
   "cell_type": "markdown",
   "metadata": {},
   "source": [
    "Prototipo de Reporte Analítico   \n",
    "Tema: *Narcotráfico*   \n",
    "Sistema: *Willow*    "
   ]
  },
  {
   "cell_type": "code",
   "execution_count": 2,
   "metadata": {},
   "outputs": [],
   "source": [
    "import polars as pl\n",
    "import re \n",
    "import time\n",
    "import plotly.graph_objects as go\n",
    "from ipywidgets import widgets\n"
   ]
  },
  {
   "cell_type": "code",
   "execution_count": 3,
   "metadata": {},
   "outputs": [],
   "source": [
    "data = pl.read_csv('news_clean.csv', \n",
    "                   dtypes={\n",
    "                        \"content_hash\": pl.UInt64,\n",
    "                        \"date_extract\": pl.Date,\n",
    "                        \"date_article\": pl.Date\n",
    "                    }\n",
    "                    )\n",
    "main_table = data[['state', 'city', 'date_article', 'sumary', 'link' ]]"
   ]
  },
  {
   "cell_type": "code",
   "execution_count": 6,
   "metadata": {},
   "outputs": [
    {
     "data": {
      "text/html": [
       "<div><style>\n",
       ".dataframe > thead > tr > th,\n",
       ".dataframe > tbody > tr > td {\n",
       "  text-align: right;\n",
       "}\n",
       "</style>\n",
       "<small>shape: (5, 5)</small><table border=\"1\" class=\"dataframe\"><thead><tr><th>state</th><th>city</th><th>date_article</th><th>sumary</th><th>link</th></tr><tr><td>str</td><td>str</td><td>date</td><td>str</td><td>str</td></tr></thead><tbody><tr><td>&quot;Buenos Aires&quot;</td><td>&quot;La Plata&quot;</td><td>2023-08-11</td><td>&quot;La muerte de M…</td><td>&quot;https://www.el…</td></tr><tr><td>&quot;Buenos Aires&quot;</td><td>&quot;La Plata&quot;</td><td>2023-08-12</td><td>&quot;Un adolescente…</td><td>&quot;https://www.el…</td></tr><tr><td>&quot;Buenos Aires&quot;</td><td>&quot;La Plata&quot;</td><td>2023-08-12</td><td>&quot;Un joven perua…</td><td>&quot;https://www.el…</td></tr><tr><td>&quot;Buenos Aires&quot;</td><td>&quot;La Plata&quot;</td><td>2023-08-12</td><td>&quot;Un sujeto de 3…</td><td>&quot;https://www.el…</td></tr><tr><td>&quot;Buenos Aires&quot;</td><td>&quot;La Plata&quot;</td><td>2023-08-12</td><td>&quot;El asesinato d…</td><td>&quot;https://www.el…</td></tr></tbody></table></div>"
      ],
      "text/plain": [
       "shape: (5, 5)\n",
       "┌──────────────┬──────────┬──────────────┬────────────────────────────┬────────────────────────────┐\n",
       "│ state        ┆ city     ┆ date_article ┆ sumary                     ┆ link                       │\n",
       "│ ---          ┆ ---      ┆ ---          ┆ ---                        ┆ ---                        │\n",
       "│ str          ┆ str      ┆ date         ┆ str                        ┆ str                        │\n",
       "╞══════════════╪══════════╪══════════════╪════════════════════════════╪════════════════════════════╡\n",
       "│ Buenos Aires ┆ La Plata ┆ 2023-08-11   ┆ La muerte de Morena y el   ┆ https://www.eldia.com/nota │\n",
       "│              ┆          ┆              ┆ voto en…                   ┆ /2023-…                    │\n",
       "│ Buenos Aires ┆ La Plata ┆ 2023-08-12   ┆ Un adolescente de 17 años  ┆ https://www.eldia.com/nota │\n",
       "│              ┆          ┆              ┆ se ent…                    ┆ /2023-…                    │\n",
       "│ Buenos Aires ┆ La Plata ┆ 2023-08-12   ┆ Un joven peruano de 33     ┆ https://www.eldia.com/nota │\n",
       "│              ┆          ┆              ┆ años, det…                 ┆ /2023-…                    │\n",
       "│ Buenos Aires ┆ La Plata ┆ 2023-08-12   ┆ Un sujeto de 31 años fue   ┆ https://www.eldia.com/nota │\n",
       "│              ┆          ┆              ┆ arresta…                   ┆ /2023-…                    │\n",
       "│ Buenos Aires ┆ La Plata ┆ 2023-08-12   ┆ El asesinato de            ┆ https://www.eldia.com/nota │\n",
       "│              ┆          ┆              ┆ Villavicencio a …          ┆ /2023-…                    │\n",
       "└──────────────┴──────────┴──────────────┴────────────────────────────┴────────────────────────────┘"
      ]
     },
     "execution_count": 6,
     "metadata": {},
     "output_type": "execute_result"
    }
   ],
   "source": [
    "main_table.head()"
   ]
  }
 ],
 "metadata": {
  "kernelspec": {
   "display_name": ".willow",
   "language": "python",
   "name": ".willow"
  },
  "language_info": {
   "codemirror_mode": {
    "name": "ipython",
    "version": 3
   },
   "file_extension": ".py",
   "mimetype": "text/x-python",
   "name": "python",
   "nbconvert_exporter": "python",
   "pygments_lexer": "ipython3",
   "version": "3.9.13"
  },
  "orig_nbformat": 4
 },
 "nbformat": 4,
 "nbformat_minor": 2
}
