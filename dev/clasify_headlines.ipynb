{
 "cells": [
  {
   "cell_type": "markdown",
   "metadata": {},
   "source": [
    "# Clasify news by topic related"
   ]
  },
  {
   "cell_type": "markdown",
   "metadata": {},
   "source": [
    "References:\n",
    "* https://newspaper.readthedocs.io/en/latest/\n"
   ]
  },
  {
   "cell_type": "code",
   "execution_count": 3,
   "metadata": {},
   "outputs": [
    {
     "name": "stderr",
     "output_type": "stream",
     "text": [
      "[nltk_data] Downloading package punkt to\n",
      "[nltk_data]     /home/sebacastillo/nltk_data...\n",
      "[nltk_data]   Package punkt is already up-to-date!\n"
     ]
    }
   ],
   "source": [
    "import polars as pl\n",
    "from newspaper import Article\n",
    "import nltk\n",
    "nltk.download('punkt')\n",
    "import newspaper\n"
   ]
  },
  {
   "cell_type": "code",
   "execution_count": 4,
   "metadata": {},
   "outputs": [],
   "source": [
    "#url = 'https://www.paralelo32.com.ar/'\n",
    "# url = 'https://www.diariouno.com.ar/' #  segundos consulta url artículos\n",
    "url = 'https://www.infobae.com/' # 20 segundos build de source. Instanciado a las 10.30"
   ]
  },
  {
   "cell_type": "code",
   "execution_count": 5,
   "metadata": {},
   "outputs": [],
   "source": [
    "source = newspaper.build(url, language='es')"
   ]
  },
  {
   "cell_type": "code",
   "execution_count": 6,
   "metadata": {},
   "outputs": [
    {
     "name": "stdout",
     "output_type": "stream",
     "text": [
      "https://www.infobae.com/economia/2023/08/07/dolar-hoy-en-vivo-a-cuanto-abre-este-lunes-7-de-agosto-y-cual-es-el-precio-minuto-a-minuto/\n",
      "https://www.infobae.com/politica/2023/08/07/macri-rodriguez-larreta-y-bullrich-haran-hoy-una-foto-de-unidad-en-el-cierre-de-campana-de-jorge-macri/\n",
      "https://www.infobae.com/deportes/2023/08/07/el-mensaje-de-lionel-messi-en-las-redes-sociales-tras-su-brillante-actuacion-ante-dallas-la-reaccion-de-thiago-almada-y-un-agradecimiento-especial/\n",
      "https://www.infobae.com/teleshow/2023/08/07/el-operativo-lm-la-teoria-que-indica-que-luis-miguel-es-reemplazado-por-un-doble-en-sus-recitales-en-argentina/\n",
      "https://www.infobae.com/america/medio-ambiente/2023/08/07/los-oceanos-baten-records-de-temperaturas-y-afectan-a-las-especies-marinas-como-si-fueran-incendios/\n",
      "https://www.infobae.com/deportes/2023/08/07/la-reaccion-de-beckham-tras-el-tiro-libre-de-messi-y-el-sentido-gesto-con-el-tata-martino-las-perlitas-del-triunfo-de-inter-miami/\n",
      "https://www.infobae.com/deportes/2023/08/07/la-violenta-pelea-entre-un-fanatico-de-messi-y-otros-hinchas-durante-el-partido-del-inter-miami-y-fc-dallas/\n",
      "https://www.infobae.com/politica/2023/08/07/martin-lousteau-presento-sus-propuestas-para-facilitar-el-acceso-a-la-vivienda-en-la-ciudad-de-buenos-aires/\n",
      "https://www.infobae.com/sociedad/2023/08/07/roca-no-se-toca-vecinos-de-bariloche-participaron-de-un-abrazo-al-monumento-que-el-intendente-quiere-trasladar/\n",
      "https://www.infobae.com/teleshow/2023/08/07/pepe-cibrian-apunto-contra-julieta-poggio-sus-declaraciones-son-terribles-su-criterio-su-lexico-su-no-saber/\n",
      "https://www.infobae.com/teleshow/2023/08/07/coco-sily-devastado-por-la-separacion-de-cecilia-caramelito-carrizo-pense-que-ibamos-a-tener-una-relacion-divina/\n",
      "https://www.infobae.com/teleshow/2023/08/07/mirtha-legrand-reanudo-las-conversaciones-con-un-canal-de-television-para-volver-con-su-clasico-programa-los-sabados-a-la-noche/\n",
      "https://www.infobae.com/deportes/2023/08/07/impacto-en-river-plate-aseguran-que-lucas-beltran-esta-a-un-paso-de-ser-transferido-a-la-fiorentina-por-una-suma-millonaria/\n",
      "https://www.infobae.com/deportes/2023/08/07/nacio-theo-el-segundo-hijo-de-lautaro-martinez-y-agus-gandolfo-uno-de-los-dias-mas-emocionantes-de-nuestras-vidas/\n",
      "https://www.infobae.com/politica/2023/08/07/que-dijo-sergio-massa-cuando-le-recordaron-su-frase-sobre-los-noquis-de-la-campora/\n",
      "https://www.infobae.com/sociedad/2023/08/07/no-hay-bolsillo-que-alcance-reclamo-garcia-cuerva-en-la-homilia-por-san-cayetano/\n",
      "https://www.infobae.com/sociedad/policiales/2023/08/07/allanan-por-estafa-a-coinx-otra-empresa-cripto-que-prometia-ganancias-extraordinarias/\n",
      "https://www.infobae.com/politica/2023/08/07/axel-kicillof-prepara-un-acto-repleto-de-intendentes-para-cerrar-la-campana-provincial/\n",
      "https://www.infobae.com/politica/2023/08/07/los-candidatos-a-presidente-en-las-paso-preparan-sus-actos-de-cierre-de-campana/\n",
      "https://www.infobae.com/america/mundo/2023/08/07/un-productor-italiano-murio-aplastado-por-25-mil-hormas-gigantes-de-queso/\n",
      "https://www.infobae.com/espana/2023/08/07/el-drama-de-tori-spelling-actriz-de-sensacion-de-vivir-de-nepo-baby-de-beverly-hills-a-vivir-en-una-caravana-con-sus-cinco-hijos/\n",
      "https://www.infobae.com/entretenimiento/2023/08/07/william-friedkin-director-de-el-exorcista-murio-a-los-87-anos/\n",
      "https://www.infobae.com/economia/2023/08/07/la-inflacion-en-la-ciudad-de-buenos-aires-fue-del-73-en-julio-y-del-1179-el-ultimo-ano/\n",
      "https://www.infobae.com/salud/2023/08/07/los-usos-actuales-y-potenciales-del-cannabis-medicinal-van-desde-la-epilepsia-hasta-el-cancer/\n",
      "https://www.infobae.com/america/ciencia-america/2023/08/07/tres-interrogantes-sobre-eg51-la-nueva-subvariante-del-covid-que-la-oms-vigila-de-cerca/\n",
      "https://www.infobae.com/deportes/2023/08/07/los-pumas-anunciaron-los-33-jugadores-para-el-mundial-de-rugby-las-sorpresas-de-una-lista-que-tendra-a-14-debutantes/\n",
      "https://www.infobae.com/mexico/2023/08/07/inigo-arenas-saiz-murio-hallan-sin-vida-al-empresario-que-desaparecio-en-polanco/\n",
      "https://www.infobae.com/salud/2023/08/07/descubren-una-nueva-propiedad-de-la-leche-materna-capaz-de-evitar-el-dano-cerebral-en-bebes-prematuros/\n",
      "https://www.infobae.com/deportes/2023/08/07/sorpresa-en-francia-neymar-anuncio-que-quiere-dejar-el-psg/\n",
      "https://www.infobae.com/salud/2023/08/07/que-significa-ser-una-persona-altamente-sensible-y-como-reconocer-este-rasgo-de-la-personalidad/\n",
      "https://www.infobae.com/sociedad/policiales/2023/08/07/el-empresario-que-baleo-la-casa-del-ex-peluquero-de-nestor-kirchner-podria-salir-de-prision/\n",
      "https://www.infobae.com/entretenimiento/2023/08/07/el-espectacular-homenaje-a-sinead-oconnor-construido-sobre-la-costa-de-irlanda-cerca-de-su-hogar-natal/\n",
      "https://www.infobae.com/malditos-nerds/2023/08/07/noticias-tekken-8-presenta-a-raven-y-la-nueva-luchadora-azucena/\n",
      "https://www.infobae.com/malditos-nerds/2023/08/07/gaming-los-lanzamientos-de-videojuegos-que-llegaran-durante-la-segunda-semana-de-agosto/\n",
      "https://www.infobae.com/malditos-nerds/2023/08/07/top-5-juegos-de-fantasia-oscura-que-tienes-que-jugar-antes-del-lanzamiento-de-gord/\n",
      "https://www.infobae.com/malditos-nerds/2023/08/07/en-video-pikmin-4-el-regreso-de-uno-de-los-grandes-de-nintendo/\n",
      "https://www.infobae.com/que-puedo-ver/2023/08/07/que-no-te-esta-diciendo-tu-comida-el-documental-que-desvela-los-secretos-oscuros-de-la-industria-alimentaria/\n",
      "https://www.infobae.com/que-puedo-ver/2023/08/07/andrew-scott-y-paul-mescal-encarnan-un-misterioso-romance-lgbt-en-all-of-us-strangers/\n",
      "https://www.infobae.com/que-puedo-ver/2023/08/07/asi-es-el-sorpresivo-exito-polaco-que-domina-las-listas-de-netflix/\n",
      "https://www.infobae.com/teleshow/2023/08/07/wanda-nara-y-mauro-icardi-organizaron-un-falso-festejo-de-cumpleanos-para-kennys-palacios/\n",
      "https://www.infobae.com/teleshow/2023/08/07/luis-miguel-anuncia-su-gira-mundial-en-2024-cuando-volvera-a-cantar-en-la-argentina/\n",
      "https://www.infobae.com/deportes/2023/08/07/que-yerba-es-la-graciosa-reaccion-del-kun-aguero-despues-de-probar-el-mate-de-morena-beltran/\n",
      "https://www.infobae.com/economia/2023/08/07/el-bcra-compro-usd-21-millones-en-el-mercado-oficial-con-fuertes-liquidaciones-de-dolar-agro/\n",
      "https://www.infobae.com/cultura/2023/08/07/un-premio-internacional-de-cuento-dedicado-a-la-figura-de-victoria-ocampo/\n",
      "https://www.infobae.com/sociedad/2023/08/07/encuesta-el-80-de-los-argentinos-esta-de-acuerdo-en-achicar-los-gastos-del-estado-pero-no-en-salud-ni-educacion/\n",
      "https://www.infobae.com/mascotas/2023/08/07/volver-a-aprender-a-vivir-como-superar-la-muerte-de-tu-querido-gato/\n",
      "https://www.infobae.com/tecno/2023/08/07/que-es-typosquatting-y-por-que-es-usado-por-ciberdelincuentes-para-robar-informacion/\n",
      "https://www.infobae.com/espana/2023/08/07/el-record-de-fernando-alonso-en-la-f1-que-max-verstappen-no-habia-podido-igualar-hasta-ahora/\n"
     ]
    }
   ],
   "source": [
    "for article in source.articles:\n",
    "        print(article.url)"
   ]
  },
  {
   "cell_type": "code",
   "execution_count": 7,
   "metadata": {},
   "outputs": [
    {
     "data": {
      "text/plain": [
       "48"
      ]
     },
     "execution_count": 7,
     "metadata": {},
     "output_type": "execute_result"
    }
   ],
   "source": [
    "# cantidad de artículos\n",
    "source.size()"
   ]
  },
  {
   "cell_type": "code",
   "execution_count": 8,
   "metadata": {},
   "outputs": [],
   "source": [
    "a = str(source.articles[1].url)"
   ]
  },
  {
   "cell_type": "code",
   "execution_count": 9,
   "metadata": {},
   "outputs": [
    {
     "name": "stdout",
     "output_type": "stream",
     "text": [
      "https://www.infobae.com/politica/2023/08/07/macri-rodriguez-larreta-y-bullrich-haran-hoy-una-foto-de-unidad-en-el-cierre-de-campana-de-jorge-macri/\n"
     ]
    }
   ],
   "source": [
    "print(a)"
   ]
  },
  {
   "cell_type": "code",
   "execution_count": 10,
   "metadata": {},
   "outputs": [
    {
     "data": {
      "text/plain": [
       "'politica 2023 08 07 macri rodriguez larreta y bullrich haran hoy una foto de unidad en el cierre de campana de jorge macri '"
      ]
     },
     "execution_count": 10,
     "metadata": {},
     "output_type": "execute_result"
    }
   ],
   "source": [
    "import re\n",
    "urlshort = re.sub(url, '', a)\n",
    "urlshort = re.sub(r'[^\\w\\s]', ' ', urlshort)\n",
    "urlshort"
   ]
  },
  {
   "cell_type": "code",
   "execution_count": 11,
   "metadata": {},
   "outputs": [],
   "source": [
    "# Tokenization\n",
    "from transformers import AutoTokenizer\n",
    "tokenizer = AutoTokenizer.from_pretrained(\"distilbert-base-uncased\")"
   ]
  },
  {
   "cell_type": "code",
   "execution_count": 12,
   "metadata": {},
   "outputs": [
    {
     "name": "stdout",
     "output_type": "stream",
     "text": [
      "url encoded {'input_ids': [101, 14955, 18291, 2050, 16798, 2509, 5511, 5718, 6097, 3089, 9172, 2474, 27032, 2050, 1061, 7087, 13149, 18820, 2078, 7570, 2100, 14477, 1042, 11439, 2139, 4895, 27893, 4372, 3449, 25022, 28849, 2139, 3409, 5162, 2139, 10853, 6097, 3089, 102], 'attention_mask': [1, 1, 1, 1, 1, 1, 1, 1, 1, 1, 1, 1, 1, 1, 1, 1, 1, 1, 1, 1, 1, 1, 1, 1, 1, 1, 1, 1, 1, 1, 1, 1, 1, 1, 1, 1, 1, 1, 1]}\n",
      "url tokenz ['[CLS]', 'pol', '##itic', '##a', '202', '##3', '08', '07', 'mac', '##ri', 'rodriguez', 'la', '##rret', '##a', 'y', 'bull', '##rich', 'hara', '##n', 'ho', '##y', 'una', 'f', '##oto', 'de', 'un', '##idad', 'en', 'el', 'ci', '##erre', 'de', 'camp', '##ana', 'de', 'jorge', 'mac', '##ri', '[SEP]']\n",
      "url decode [CLS] politica 2023 08 07 macri rodriguez larreta y bullrich haran hoy una foto de unidad en el cierre de campana de jorge macri [SEP]\n"
     ]
    }
   ],
   "source": [
    "txt_enc = tokenizer(urlshort)\n",
    "print(f'url encoded {txt_enc}')\n",
    "txt_tok = tokenizer.convert_ids_to_tokens(txt_enc.input_ids)\n",
    "print(f'url tokenz {txt_tok}')\n",
    "txt_dec = tokenizer.decode(txt_enc.input_ids)\n",
    "print(f'url decode {txt_dec}')"
   ]
  },
  {
   "cell_type": "markdown",
   "metadata": {},
   "source": [
    "# Similaridad horaciones"
   ]
  },
  {
   "cell_type": "code",
   "execution_count": 28,
   "metadata": {},
   "outputs": [
    {
     "data": {
      "application/vnd.jupyter.widget-view+json": {
       "model_id": "3327bfab93d04f6f84bd75ee7d6614c6",
       "version_major": 2,
       "version_minor": 0
      },
      "text/plain": [
       "Downloading (…)398/onnx/config.json:   0%|          | 0.00/630 [00:00<?, ?B/s]"
      ]
     },
     "metadata": {},
     "output_type": "display_data"
    },
    {
     "data": {
      "application/vnd.jupyter.widget-view+json": {
       "model_id": "5d5e6f82967044cd8dd94b3eb665e844",
       "version_major": 2,
       "version_minor": 0
      },
      "text/plain": [
       "Downloading model.onnx:   0%|          | 0.00/436M [00:00<?, ?B/s]"
      ]
     },
     "metadata": {},
     "output_type": "display_data"
    },
    {
     "data": {
      "application/vnd.jupyter.widget-view+json": {
       "model_id": "f390c5e454244b1091fb3b911eaa63da",
       "version_major": 2,
       "version_minor": 0
      },
      "text/plain": [
       "Downloading (…)cial_tokens_map.json:   0%|          | 0.00/125 [00:00<?, ?B/s]"
      ]
     },
     "metadata": {},
     "output_type": "display_data"
    },
    {
     "data": {
      "application/vnd.jupyter.widget-view+json": {
       "model_id": "6e3b73fc846c45a6b04a7b2de80570dd",
       "version_major": 2,
       "version_minor": 0
      },
      "text/plain": [
       "Downloading (…)/onnx/tokenizer.json:   0%|          | 0.00/712k [00:00<?, ?B/s]"
      ]
     },
     "metadata": {},
     "output_type": "display_data"
    },
    {
     "data": {
      "application/vnd.jupyter.widget-view+json": {
       "model_id": "4fba8054dd984aa8a019cb210b9a7fa6",
       "version_major": 2,
       "version_minor": 0
      },
      "text/plain": [
       "Downloading (…)okenizer_config.json:   0%|          | 0.00/314 [00:00<?, ?B/s]"
      ]
     },
     "metadata": {},
     "output_type": "display_data"
    },
    {
     "data": {
      "application/vnd.jupyter.widget-view+json": {
       "model_id": "de61ecd20e8d40b0a4266c8fc7484b71",
       "version_major": 2,
       "version_minor": 0
      },
      "text/plain": [
       "Downloading (…)0b398/onnx/vocab.txt:   0%|          | 0.00/232k [00:00<?, ?B/s]"
      ]
     },
     "metadata": {},
     "output_type": "display_data"
    },
    {
     "data": {
      "application/vnd.jupyter.widget-view+json": {
       "model_id": "7c514b07cbda47ad9dc30b90158035b9",
       "version_major": 2,
       "version_minor": 0
      },
      "text/plain": [
       "Downloading (…)710b398/modules.json:   0%|          | 0.00/385 [00:00<?, ?B/s]"
      ]
     },
     "metadata": {},
     "output_type": "display_data"
    }
   ],
   "source": [
    "from sentence_transformers import SentenceTransformer, util\n",
    "model = SentenceTransformer('thenlper/gte-base')"
   ]
  },
  {
   "cell_type": "code",
   "execution_count": 32,
   "metadata": {},
   "outputs": [
    {
     "data": {
      "text/plain": [
       "tensor([[0.7803]])"
      ]
     },
     "execution_count": 32,
     "metadata": {},
     "output_type": "execute_result"
    }
   ],
   "source": [
    "#Compute embedding for both lists\n",
    "rembeddings = model.encode(urlshort, convert_to_tensor=True)\n",
    "vembeddings = model.encode(\"narcotráfico droga traficante\", convert_to_tensor=True)\n",
    "\n",
    "#Compute cosine-similarities\n",
    "cosine_scores = util.cos_sim(rembeddings, vembeddings)\n",
    "cosine_scores"
   ]
  },
  {
   "cell_type": "code",
   "execution_count": null,
   "metadata": {},
   "outputs": [],
   "source": [
    "# Function to get the word embedding vector\n",
    "def get_vector(word):\n",
    "    try:\n",
    "        return model[word]\n",
    "    except:\n",
    "        return None  # or a zero vector\n",
    "\n",
    "# Tokenize and get embeddings for the urlshort and keywords\n",
    "urlshort_vectors = [get_vector(word) for word in urlshort.split()]\n",
    "\n",
    "# computarlo una sola vez y guardar keyword_vectors\n",
    "# Pre-compute keyword vectors\n",
    "keyword_vectors = {keyword: model[keyword] for keyword in keywords}\n",
    "\n",
    "def get_most_similar_keyword(url, threshold=0.7):\n",
    "    url_tokens = url.split()\n",
    "    url_vectors = [model[token] for token in url_tokens if token in model]\n",
    "    \n",
    "    for keyword, keyword_vec in keyword_vectors.items():\n",
    "        for url_vec in url_vectors:\n",
    "            similarity = cosine_similarity([url_vec], [keyword_vec])[0][0]\n",
    "            if similarity > threshold:\n",
    "                return keyword\n",
    "    return None\n",
    "\n",
    "# Process URLs\n",
    "results = {}\n",
    "for url in urls:\n",
    "    related_keyword = get_most_similar_keyword(url)\n",
    "    results[url] = related_keyword"
   ]
  },
  {
   "cell_type": "markdown",
   "metadata": {},
   "source": [
    "## Test extraction of keywords and headlines"
   ]
  },
  {
   "cell_type": "code",
   "execution_count": 82,
   "metadata": {},
   "outputs": [],
   "source": [
    "url_narco = 'https://www.infobae.com/america/america-latina/2023/08/04/autoridades-bolivianas-aseguran-tener-acorralado-al-narco-profugo-sebastian-marset-2800-policias-trabajan-en-su-busqueda-y-captura/'\n",
    "url_no_narco = source.articles[1].url\n",
    "article_narco = Article(url_narco)\n",
    "article_no_narco = Article(url_no_narco)"
   ]
  },
  {
   "cell_type": "code",
   "execution_count": 95,
   "metadata": {},
   "outputs": [
    {
     "data": {
      "text/plain": [
       "'https://www.infobae.com/politica/2023/08/07/video-paso-a-paso-como-funciona-la-boleta-unica-electronica-que-se-usara-para-votar-en-caba/'"
      ]
     },
     "execution_count": 95,
     "metadata": {},
     "output_type": "execute_result"
    }
   ],
   "source": [
    "url_no_narco"
   ]
  },
  {
   "cell_type": "markdown",
   "metadata": {},
   "source": [
    "## Demora en descargar dos artículos"
   ]
  },
  {
   "cell_type": "code",
   "execution_count": 84,
   "metadata": {},
   "outputs": [],
   "source": [
    "article_narco.download()\n",
    "article_no_narco.download()"
   ]
  },
  {
   "cell_type": "code",
   "execution_count": 86,
   "metadata": {},
   "outputs": [],
   "source": [
    "article_narco.parse()\n",
    "article_no_narco.parse()"
   ]
  },
  {
   "cell_type": "code",
   "execution_count": 88,
   "metadata": {},
   "outputs": [
    {
     "name": "stdout",
     "output_type": "stream",
     "text": [
      "Autoridades bolivianas aseguran tener “acorralado” al narco Sebastián Marset: más de 2.800 policías buscan al prófugo\n",
      "Video: paso a paso, cómo funciona la Boleta Única Electrónica que se usará para votar en CABA\n"
     ]
    }
   ],
   "source": [
    "print(article_narco.title)\n",
    "print(article_no_narco.title)"
   ]
  },
  {
   "cell_type": "markdown",
   "metadata": {},
   "source": [
    "No es relevante el título porque reproduce (+ / -) la url"
   ]
  },
  {
   "cell_type": "markdown",
   "metadata": {},
   "source": [
    "## Sumario del artículo trabaja con renkeo de sentencias más importantes\n",
    "\n",
    "- https://github.com/codelucas/newspaper/blob/master/newspaper/nlp.py"
   ]
  },
  {
   "cell_type": "code",
   "execution_count": 89,
   "metadata": {},
   "outputs": [],
   "source": [
    "article_narco.nlp()\n",
    "article_no_narco.nlp()\n"
   ]
  },
  {
   "cell_type": "code",
   "execution_count": 94,
   "metadata": {},
   "outputs": [
    {
     "name": "stdout",
     "output_type": "stream",
     "text": [
      "## Narco: “Este sujeto se encuentra acorralado por los efectivos de la policía boliviana y de la fuerza especial de lucha contra el narcotráfico.\n",
      "Pues esperemos que en el transcurso de las próximas horas podamos dar con este sujeto altamente peligroso”, expresó Mamani en una conferencia de prensa desde Asunción, donde ha sostenido reuniones con las autoridades de Paraguay.\n",
      "Mamani dijo que “más de 2800 policías se desplazan para la búsqueda y localización de este sujeto”, quien escapó de un operativo policial el sábado pasado.\n",
      "“Hemos realizado varios operativos de manera coordinada y simultánea entre todos los países de Sudamérica, lo cual nos está permitiendo desarticular este tipo de organizaciones criminales”, añadió.\n",
      "El Gobierno boliviano envió este jueves a Paraguay a una comisión para intercambiar información sobre el caso del presunto narcotraficante uruguayo.\n",
      "## No Narco: Una de las novedades será que habrá dos urnas y que el elector deberá ingresar dos veces al cuarto oscuro.\n",
      "La otra, aunque el sistema se utilizó en 2015, será la Boleta Única Electrónica, que se usará para el comicio porteño.\n",
      "— Expliquemos paso a paso cómo va a ser el sistema de Boleta Única Electrónica en la Ciudad de Buenos Aires.\n",
      "Vas a ir a la mesa, particularidad que la mesa va a tener las dos urnas, va a tener la urna nacional y la urna local.\n",
      "La primera categoría que se despliega en la máquina es la categoría jefe o jefa de Gobierno ¿sí?\n"
     ]
    },
    {
     "data": {
      "text/plain": [
       "(None, None)"
      ]
     },
     "execution_count": 94,
     "metadata": {},
     "output_type": "execute_result"
    }
   ],
   "source": [
    "print(f'## Narco: {article_narco.summary}'), print(f'## No Narco: {article_no_narco.summary}')"
   ]
  },
  {
   "cell_type": "markdown",
   "metadata": {},
   "source": [
    "**Muy util: summary**"
   ]
  },
  {
   "cell_type": "markdown",
   "metadata": {},
   "source": [
    "# Falsos positivos"
   ]
  },
  {
   "cell_type": "markdown",
   "metadata": {},
   "source": [
    "Para el tratamiento de falsos positivos hay que:\n",
    "\n",
    "- trabajar en el texto de artículo. Identificar tópico puede ser por 'sumarización' o 'tópicos'.\n",
    "- \n",
    "\n",
    "** match por mención de keyword** : Ejemplo: \"El precandidato a vicepresidente de Patricia Bullrich, Luis Petri visitó Formosa, en dialogo con el Grupo de Medios TVO habló de diferentes temas, entre ellos de la importancia que tiene que cada provincia pueda producir y generar empleo, dijo que Formosa podría ser una de las provincias agrícola ganadera más importante del país, al mismo tiempo que contó que uno de los pilares que tendrán en caso de que Bullrich llegue a la presidencia será el combate contra la inseguridad y el narcotráfico.Petri comenzó diciendo «es importante que todas las provincias puedan producir, puedan tener trabajo privado y vivir con sueldos de calidad, que haya inversiones, desarrollo y que cada vez sea menor la dependencia de los ciudadanos al Estado y así podamos fomentar las potencialidades en cada provincia».«Formosa\""
   ]
  },
  {
   "cell_type": "markdown",
   "metadata": {},
   "source": []
  }
 ],
 "metadata": {
  "kernelspec": {
   "display_name": ".willow",
   "language": "python",
   "name": ".willow"
  },
  "language_info": {
   "codemirror_mode": {
    "name": "ipython",
    "version": 3
   },
   "file_extension": ".py",
   "mimetype": "text/x-python",
   "name": "python",
   "nbconvert_exporter": "python",
   "pygments_lexer": "ipython3",
   "version": "3.9.13"
  },
  "orig_nbformat": 4
 },
 "nbformat": 4,
 "nbformat_minor": 2
}
