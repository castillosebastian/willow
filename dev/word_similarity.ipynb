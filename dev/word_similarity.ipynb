{
 "cells": [
  {
   "cell_type": "markdown",
   "metadata": {},
   "source": [
    "# Probar algoritmo de similaridad"
   ]
  },
  {
   "cell_type": "code",
   "execution_count": 13,
   "metadata": {},
   "outputs": [],
   "source": [
    "# Re-implementing the solution\n",
    "import polars as pl\n",
    "import re\n",
    "import nltk\n",
    "from nltk.stem.snowball import SnowballStemmer\n",
    "import string\n",
    "import spacy\n",
    "\n",
    "# Stopword and stemer\n",
    "stemmer = SnowballStemmer(\"spanish\")\n",
    "nlp = spacy.load(\"es_core_news_sm\")\n",
    "spanish_stopwords_spacy = spacy.lang.es.stop_words.STOP_WORDS"
   ]
  },
  {
   "cell_type": "code",
   "execution_count": 14,
   "metadata": {},
   "outputs": [],
   "source": [
    "keywords = [\n",
    "    'narcotráfico', 'drogas', 'cocaína', 'marihuana', 'heroína', 'anfetaminas', \n",
    "    'metanfetaminas', 'éxtasis', 'crimen organizado', 'traficante', 'cartel', \n",
    "    'narcos', 'estupefacientes', 'psicotrópicos', 'incautación', 'tráfico de drogas', \n",
    "    'dealer', 'mafia', 'pasta base', 'crack', 'opiáceos', 'fentanilo', 'alcaloide', \n",
    "    'sintéticas', 'laboratorio clandestino', 'lavado de dinero', 'blanqueo de capitales', 'corrupción',\n",
    "    'bust', 'operativo', 'narcopiso', 'mula', 'cártel', 'infiltrado', 'aprehensión',\n",
    "    'narcolaboratorio', 'clandestino', 'narcobloqueo', 'túnel', 'narcoavioneta',\n",
    "    'confiscación', 'narcosubmarino', 'captura', 'dosis', 'microtráfico', \n",
    "    'narcomenudeo', 'narcocorrido', 'decapitación', 'narcocultura', 'narcopolítica',\n",
    "    'soborno', 'narcoguerra', 'narcoestado', 'narcotienditas', 'plantío',\n",
    "    'narcotúnel', 'narcobodega', 'narcocampamento', 'narcobanda', 'narcobalacera',\n",
    "    'secuestro', 'narcosecuestro', 'homicidio', 'masacre', 'ejecución'\n",
    "]"
   ]
  },
  {
   "cell_type": "markdown",
   "metadata": {},
   "source": [
    "## Regex\n"
   ]
  },
  {
   "cell_type": "code",
   "execution_count": 15,
   "metadata": {},
   "outputs": [],
   "source": [
    "# Define a mapping of accented characters to their unaccented counterparts\n",
    "accent_mapping = {\n",
    "    'á': 'a', 'é': 'e', 'í': 'i', 'ó': 'o', 'ú': 'u',\n",
    "    'ü': 'u', 'ñ': 'n',\n",
    "    'Á': 'A', 'É': 'E', 'Í': 'I', 'Ó': 'O', 'Ú': 'U',\n",
    "    'Ü': 'U', 'Ñ': 'N'\n",
    "}\n",
    "\n",
    "def import_data(data):\n",
    "    return pl.read_csv(data)\n",
    "\n",
    "def remove_accents(text):\n",
    "    \"\"\"Remove accents from the given text.\"\"\"\n",
    "    return ''.join(accent_mapping.get(char, char) for char in text)\n",
    "\n",
    "def normalize_text(url):\n",
    "    \"\"\"Normalize, remove accents, and stem the words in the given text.\"\"\"\n",
    "    # Convert to lowercase\n",
    "    text = url.lower()\n",
    "    \n",
    "    # Split URLs into components\n",
    "    text = re.sub(r'https?://', '', text)  # remove http/https\n",
    "    text = re.sub(r'[\\W_]+', ' ', text)    # replace non-alphanumeric characters with space\n",
    "    text = re.sub(r'[0-9]', ' ', text)    # replace non-alphanumeric characters with space\n",
    "\n",
    "    # Remove punctuation\n",
    "    text = text.translate(str.maketrans('', '', string.punctuation))\n",
    "    \n",
    "    # Remove accents\n",
    "    text = remove_accents(text)\n",
    "    \n",
    "    # Stem, remove stopwords, and split into words\n",
    "    return [stemmer.stem(word) for word in text.split() if word not in spanish_stopwords_spacy]\n",
    "    \n",
    "def evaluate_similarity(urlshort, keywords):\n",
    "    \"\"\"Evaluate the similarity between a urlshort and a list of keywords.\"\"\"\n",
    "    # Normalize urlshort and keywords\n",
    "    keywords_string = \" \".join(keywords)    \n",
    "\n",
    "    normalized_urlshort = normalize_text(urlshort)\n",
    "    normalized_keywords = normalize_text(keywords_string)\n",
    "\n",
    "\n",
    "    normalized_keywords = [normalize_text(keyword) for keyword in keywords]\n",
    "    \n",
    "    # Flatten the list of keywords (since some keywords can be multi-word phrases)\n",
    "    flat_keywords = [word for sublist in normalized_keywords for word in sublist]\n",
    "    \n",
    "    # Find matches\n",
    "    matches = [word for word in normalized_urlshort if word in flat_keywords]\n",
    "    \n",
    "    # Calculate the score\n",
    "    score = round( len(matches) / len(normalized_urlshort), ndigits=2)\n",
    "    \n",
    "    return score, matches"
   ]
  },
  {
   "cell_type": "code",
   "execution_count": 16,
   "metadata": {},
   "outputs": [
    {
     "data": {
      "text/plain": [
       "(0.09, ['drog'])"
      ]
     },
     "execution_count": 16,
     "metadata": {},
     "output_type": "execute_result"
    }
   ],
   "source": [
    "urlshort = 'politica alberto flamarique tras la muerte del droga mazzon el pj se fragmento y no logra salir n1186551'\n",
    "# Evaluate similarity\n",
    "score, found_matches = evaluate_similarity(urlshort, keywords)\n",
    "score, found_matches"
   ]
  },
  {
   "cell_type": "code",
   "execution_count": 191,
   "metadata": {},
   "outputs": [
    {
     "data": {
      "text/plain": [
       "(0.08, ['cocain'])"
      ]
     },
     "execution_count": 191,
     "metadata": {},
     "output_type": "execute_result"
    }
   ],
   "source": [
    "urlshort = 'https://www.infobae.com/colombia/2023/08/07/autoridades-colombianas-y-espanolas-lograron-interceptar-una-embarcacion-con-1650-kilos-de-cocaina/'\n",
    "# Evaluate similarity\n",
    "score, found_matches = evaluate_similarity(urlshort, keywords)\n",
    "score, found_matches"
   ]
  },
  {
   "cell_type": "code",
   "execution_count": 192,
   "metadata": {},
   "outputs": [
    {
     "data": {
      "text/plain": [
       "(0.06, ['drog'])"
      ]
     },
     "execution_count": 192,
     "metadata": {},
     "output_type": "execute_result"
    }
   ],
   "source": [
    "urlshort = \"https://www.infobae.com/america/america-latina/2023/08/07/luis-arce-dedico-el-discurso-del-dia-de-la-independencia-boliviana-a-comparar-las-exportaciones-de-droga-a-lo-largo-de-los-anos/\"\n",
    "score, found_matches = evaluate_similarity(urlshort, keywords)\n",
    "score, found_matches"
   ]
  },
  {
   "cell_type": "code",
   "execution_count": 193,
   "metadata": {},
   "outputs": [
    {
     "data": {
      "text/plain": [
       "(0.08, ['narcotraf'])"
      ]
     },
     "execution_count": 193,
     "metadata": {},
     "output_type": "execute_result"
    }
   ],
   "source": [
    "urlshort = \"https://www.infobae.com/colombia/2023/08/06/fiscalia-entrego-95-bienes-provenientes-del-narcotrafico-para-reparar-a-victimas-estan-avaluados-en-mas-de-161000-millones/\"\n",
    "score, found_matches = evaluate_similarity(urlshort, keywords)\n",
    "score, found_matches"
   ]
  },
  {
   "cell_type": "code",
   "execution_count": 194,
   "metadata": {},
   "outputs": [
    {
     "data": {
      "text/plain": [
       "0.0"
      ]
     },
     "execution_count": 194,
     "metadata": {},
     "output_type": "execute_result"
    }
   ],
   "source": [
    "urlshort = 'La suba del dólar trajo remarcaciones y elevó el piso de la inflación para agosto'\n",
    "score, found_matches = evaluate_similarity(urlshort, keywords)\n",
    "score"
   ]
  },
  {
   "cell_type": "markdown",
   "metadata": {},
   "source": [
    "## Word2vec"
   ]
  },
  {
   "cell_type": "code",
   "execution_count": null,
   "metadata": {},
   "outputs": [
    {
     "data": {
      "text/plain": [
       "array([[0.4810186]], dtype=float32)"
      ]
     },
     "metadata": {},
     "output_type": "display_data"
    }
   ],
   "source": [
    "# word2vec\n",
    "# https://github.com/dccuchile/spanish-word-embeddings\n",
    "from gensim.models.keyedvectors import KeyedVectors\n",
    "from sklearn.metrics.pairwise import cosine_similarity\n",
    "\n",
    "# Modelo cardellino\n",
    "wordvectors_file_vec = '/home/sebacastillo/willow/models/wiki.es.vec' # https://crscardellino.ar/SBWCE/\n",
    "\n",
    "# De este link obtuvimos la sugerencia de cargar parcialmente el modelo de vectores para optimizar memoria\n",
    "# https://github.com/dccuchile/spanish-word-embeddings/blob/master/examples/Ejemplo_WordVectors.ipynb\n",
    "wordvectors = KeyedVectors.load_word2vec_format(wordvectors_file_vec, limit=100000)\n",
    "\n",
    "v_apple = wordvectors['droga']\n",
    "v_mango = wordvectors['cigarrillo']\n",
    "\n",
    "cosine_similarity([v_apple],[v_mango])\n"
   ]
  },
  {
   "cell_type": "code",
   "execution_count": 195,
   "metadata": {},
   "outputs": [],
   "source": [
    "from gensim.models.keyedvectors import KeyedVectors\n",
    "#from sklearn.metrics.pairwise import cosine_similarity\n",
    "import numpy as np\n",
    "\n",
    "# Load the word vectors (this should be done once and reused for multiple calls to avoid loading overhead)\n",
    "wordvectors_file_vec = '/home/sebacastillo/willow/models/wiki.es.vec' # path to your model\n",
    "wordvectors = KeyedVectors.load_word2vec_format(wordvectors_file_vec, limit=100000)\n",
    "\n",
    "\n",
    "def compute_median_similarity(url, topic_word, wordvec):\n",
    "    \"\"\"\n",
    "    Compute the median similarity score between a topic word and all words in a URL.      \n",
    "    Returns:\n",
    "    - float: The median similarity score.\n",
    "    \"\"\"\n",
    "    text = url.lower()\n",
    "    text = re.sub(r'https?://', '', text)  # remove http/https\n",
    "    text = re.sub(r'[\\W_]+', ' ', text)    # replace non-alphanumeric characters with space\n",
    "    text = re.sub(r'[0-9]', ' ', text)    # replace numeric characters with space    \n",
    "    url_words = [word for word in text.split() if word not in spanish_stopwords_spacy]\n",
    "    \n",
    "    # Compute cosine similarity scores\n",
    "    scores = []\n",
    "    for word in url_words:\n",
    "        if word in wordvec:            \n",
    "            v_url_word = wordvec[word]\n",
    "            v_topic = wordvec[topic_word]        \n",
    "            similarity = wordvec.similarity(word, topic_word)\n",
    "            scores.append(similarity)   \n",
    "    \n",
    "    # Return median score    \n",
    "    return np.max(scores) if scores else 0.0"
   ]
  },
  {
   "cell_type": "code",
   "execution_count": 196,
   "metadata": {},
   "outputs": [
    {
     "data": {
      "text/plain": [
       "0.4447947"
      ]
     },
     "execution_count": 196,
     "metadata": {},
     "output_type": "execute_result"
    }
   ],
   "source": [
    "# Test the function with the provided example\n",
    "test_url = \"https://example.com/nena-feliz-en-la-plaza-juega-con-su-mamá-que-fuma-marihuana\"\n",
    "test_topic_word = \"narcotráfico\"\n",
    "compute_median_similarity(test_url, test_topic_word, wordvectors)"
   ]
  },
  {
   "cell_type": "code",
   "execution_count": 197,
   "metadata": {},
   "outputs": [
    {
     "data": {
      "text/plain": [
       "0.69604456"
      ]
     },
     "execution_count": 197,
     "metadata": {},
     "output_type": "execute_result"
    }
   ],
   "source": [
    "# Test the function with the provided example\n",
    "test_url = \"Narcos en Rosario: una guerra que golpeó a la política y afectó a los gobiernos del socialismo y el peronismo\"\n",
    "test_topic_word = \"narcotráfico\"\n",
    "compute_median_similarity(test_url, test_topic_word, wordvectors)"
   ]
  },
  {
   "cell_type": "code",
   "execution_count": 198,
   "metadata": {},
   "outputs": [
    {
     "data": {
      "text/plain": [
       "1.0"
      ]
     },
     "execution_count": 198,
     "metadata": {},
     "output_type": "execute_result"
    }
   ],
   "source": [
    "test_url = 'Santa Fe, la única cartel donde el narcotráfico superó la capacidad del traficante'\n",
    "test_topic_word = \"narcotráfico\"\n",
    "compute_median_similarity(test_url, test_topic_word, wordvectors)"
   ]
  },
  {
   "cell_type": "code",
   "execution_count": 199,
   "metadata": {},
   "outputs": [
    {
     "data": {
      "text/plain": [
       "0.46996608"
      ]
     },
     "execution_count": 199,
     "metadata": {},
     "output_type": "execute_result"
    }
   ],
   "source": [
    "test_url = 'La suba del blanqueo capitales trajo remarcaciones y elevó el piso de la inflación para agosto'\n",
    "test_topic_word = \"narcotráfico\"\n",
    "compute_median_similarity(test_url, test_topic_word, wordvectors)"
   ]
  },
  {
   "cell_type": "markdown",
   "metadata": {},
   "source": [
    "## Conclusion y pauta a utilizar"
   ]
  },
  {
   "cell_type": "markdown",
   "metadata": {},
   "source": [
    "Fijaremos como *treshold* < 0.4 para detectar verdaderos positivos."
   ]
  },
  {
   "cell_type": "markdown",
   "metadata": {},
   "source": [
    "# Ejemplo implementacion"
   ]
  },
  {
   "cell_type": "code",
   "execution_count": 3,
   "metadata": {},
   "outputs": [],
   "source": [
    "import newspaper"
   ]
  },
  {
   "cell_type": "code",
   "execution_count": 4,
   "metadata": {},
   "outputs": [],
   "source": [
    "url = 'https://www.infobae.com/' # 20 segundos build de source. Instanciado a las 10.30"
   ]
  },
  {
   "cell_type": "code",
   "execution_count": 5,
   "metadata": {},
   "outputs": [],
   "source": [
    "source = newspaper.build(url, language='es')"
   ]
  },
  {
   "cell_type": "code",
   "execution_count": 75,
   "metadata": {},
   "outputs": [
    {
     "data": {
      "text/plain": [
       "'https://www.infobae.com/politica/2023/08/08/fuerte-gesto-de-la-cgt-a-5-dias-de-las-paso-movilizara-10000-trabajadores-para-un-acto-en-favor-de-massa/'"
      ]
     },
     "execution_count": 75,
     "metadata": {},
     "output_type": "execute_result"
    }
   ],
   "source": [
    "source.articles[0].url"
   ]
  },
  {
   "cell_type": "code",
   "execution_count": null,
   "metadata": {},
   "outputs": [],
   "source": [
    "for article in source.articles:\n",
    "        print(article.url)"
   ]
  },
  {
   "cell_type": "code",
   "execution_count": 7,
   "metadata": {},
   "outputs": [],
   "source": [
    "source_size = source.size()"
   ]
  },
  {
   "cell_type": "code",
   "execution_count": 18,
   "metadata": {},
   "outputs": [],
   "source": [
    "def evaluate_matches(urlshort, keywords):\n",
    "    \"\"\"Evaluate the similarity between a urlshort and a list of keywords.\"\"\"\n",
    "    # Normalize urlshort and keywords\n",
    "    keywords_string = \" \".join(keywords)    \n",
    "\n",
    "    normalized_urlshort = normalize_text(urlshort)\n",
    "    normalized_keywords = normalize_text(keywords_string)\n",
    "\n",
    "\n",
    "    normalized_keywords = [normalize_text(keyword) for keyword in keywords]\n",
    "    \n",
    "    # Flatten the list of keywords (since some keywords can be multi-word phrases)\n",
    "    flat_keywords = [word for sublist in normalized_keywords for word in sublist]\n",
    "    \n",
    "    # Find matches\n",
    "    matches = [word for word in normalized_urlshort if word in flat_keywords]\n",
    "    \n",
    "    # Calculate the score\n",
    "    score = round( len(matches) / len(normalized_urlshort), ndigits=2)\n",
    "    \n",
    "    return score, matches"
   ]
  },
  {
   "cell_type": "code",
   "execution_count": 28,
   "metadata": {},
   "outputs": [
    {
     "name": "stdout",
     "output_type": "stream",
     "text": [
      "['https://www.infobae.com/economia/2023/08/08/el-conflicto-sin-fin-de-lacteos-vidal-el-juez-quedo-de-rehen-de-la-mafia-sindical-denuncio-su-duena/', 'https://www.infobae.com/deportes/2023/08/08/el-curioso-detalle-de-lionel-messi-en-los-segundos-previos-a-la-ejecucion-del-tiro-libre-frente-a-fc-dallas/', 'https://www.infobae.com/salud/2023/08/08/luces-y-sombras-de-la-nueva-droga-inyectable-para-el-tratamiento-de-la-obesidad-segun-los-expertos/', 'https://www.infobae.com/america/2023/08/08/conmocion-por-un-brutal-femicidio-en-uruguay-la-secuestro-su-ex-pareja-y-la-mato-al-chocar-contra-un-peaje/', 'https://www.infobae.com/deportes/2023/08/08/los-detalles-del-operativo-inedito-para-evitar-nuevos-incidentes-entre-boca-juniors-y-nacional-sin-banderazos-y-con-horario-de-ingreso-exclusivo/', 'https://www.infobae.com/sociedad/2023/08/08/la-primera-conquista-del-desierto-la-operacion-militar-que-condujo-rosas-y-el-insolito-encuentro-con-darwin/', 'https://www.infobae.com/sociedad/2023/08/08/el-cordobes-que-instalo-carteles-con-el-alfabeto-de-senas-en-las-plazas-para-integrar-a-chicos-hipoacusicos/', 'https://www.infobae.com/judiciales/2023/08/08/prescribio-el-caso-por-el-triple-crimen-de-general-rodriguez-sin-saber-quien-fue-el-autor-intelectual/', 'https://www.infobae.com/cultura/2023/08/08/hernan-casciari-y-la-serie-del-dibu-martinez-queremos-que-funcione-no-a-base-de-algoritmo-sino-de-corazon/']\n",
      "[['mafi'], ['ejecucion'], ['drog'], ['secuestr'], ['oper'], ['oper'], ['cartel'], ['crim'], ['bas']]\n"
     ]
    }
   ],
   "source": [
    "urls_matches = []\n",
    "found_matches = []\n",
    "for article in source.articles:\n",
    "    \n",
    "    url = article.url\n",
    "    match_score, found_match = evaluate_matches(url, keywords)\n",
    "    \n",
    "    if match_score > 0:\n",
    "        urls_matches.append(url) \n",
    "        found_matches.append(found_match)\n",
    "\n",
    "print(urls_matches)\n",
    "print(found_matches)\n"
   ]
  },
  {
   "cell_type": "code",
   "execution_count": 51,
   "metadata": {},
   "outputs": [],
   "source": [
    "def compute_max_similarity(url, topic_word, wordvec):\n",
    "    \"\"\"\n",
    "    Compute the median similarity score between a topic word and all words in a URL.      \n",
    "    Returns:\n",
    "    - float: The median similarity score.\n",
    "    \"\"\"\n",
    "    text = url.lower()\n",
    "    text = re.sub(r'https?://', '', text)  # remove http/https\n",
    "    text = re.sub(r'[\\W_]+', ' ', text)    # replace non-alphanumeric characters with space\n",
    "    text = re.sub(r'[0-9]', ' ', text)    # replace numeric characters with space    \n",
    "    url_words = [word for word in text.split() if word not in spanish_stopwords_spacy]\n",
    "    \n",
    "    # Compute cosine similarity scores\n",
    "    scores = []\n",
    "    for word in url_words:\n",
    "        if word in wordvec:            \n",
    "            v_url_word = wordvec[word]\n",
    "            v_topic = wordvec[topic_word]        \n",
    "            similarity = wordvec.similarity(word, topic_word)\n",
    "            scores.append(similarity)   \n",
    "    \n",
    "    # Return \n",
    "\n",
    "    return np.max(scores)"
   ]
  },
  {
   "cell_type": "code",
   "execution_count": 39,
   "metadata": {},
   "outputs": [],
   "source": [
    "from gensim.models.keyedvectors import KeyedVectors\n",
    "def load_embeddings(path='models/wiki.es.vec', limit=100000):\n",
    "    \"\"\"\n",
    "    Load the word embeddings from the specified path.    \n",
    "    Args:\n",
    "    - path (str): Path to the embeddings model.\n",
    "    - limit (int): Limit the number of word vectors loaded.\n",
    "    \n",
    "    Returns:\n",
    "    - KeyedVectors: Loaded word vectors.\n",
    "    \"\"\"\n",
    "    return KeyedVectors.load_word2vec_format(path, limit=limit)"
   ]
  },
  {
   "cell_type": "code",
   "execution_count": 43,
   "metadata": {},
   "outputs": [],
   "source": [
    "wordvectors = load_embeddings(path='/home/sebacastillo/willow/models/wiki.es.vec', limit=100000)"
   ]
  },
  {
   "cell_type": "code",
   "execution_count": 60,
   "metadata": {},
   "outputs": [],
   "source": [
    "import numpy as np\n",
    "max_sin_scores = []\n",
    "urls_second_match = []\n",
    "is_similar = []\n",
    "for url_match in urls_matches:\n",
    "    max_sin_score = compute_max_similarity(url_match, 'narcotráfico', wordvectors) \n",
    "    max_sin_scores.append(max_sin_score)\n",
    "    urls_second_match.append(url_match)\n",
    "    is_similar.append(max_sin_score>0.4) \n",
    "\n",
    "df = pl.DataFrame({\n",
    "    \"max_sin_scores\": max_sin_scores,\n",
    "    \"urls_second_match\": urls_second_match,\n",
    "    \"is_similar\": is_similar\n",
    "}).sort('is_similar')    "
   ]
  },
  {
   "cell_type": "code",
   "execution_count": 70,
   "metadata": {},
   "outputs": [
    {
     "data": {
      "text/plain": [
       "4"
      ]
     },
     "execution_count": 70,
     "metadata": {},
     "output_type": "execute_result"
    }
   ],
   "source": [
    "df[\"is_similar\"].sum()\n"
   ]
  },
  {
   "cell_type": "code",
   "execution_count": 71,
   "metadata": {},
   "outputs": [
    {
     "data": {
      "text/html": [
       "<div><style>\n",
       ".dataframe > thead > tr > th,\n",
       ".dataframe > tbody > tr > td {\n",
       "  text-align: right;\n",
       "}\n",
       "</style>\n",
       "<small>shape: (4, 3)</small><table border=\"1\" class=\"dataframe\"><thead><tr><th>max_sin_scores</th><th>urls_second_match</th><th>is_similar</th></tr><tr><td>f64</td><td>str</td><td>i64</td></tr></thead><tbody><tr><td>0.539085</td><td>&quot;https://www.in…</td><td>1</td></tr><tr><td>0.605253</td><td>&quot;https://www.in…</td><td>1</td></tr><tr><td>0.546821</td><td>&quot;https://www.in…</td><td>1</td></tr><tr><td>0.609395</td><td>&quot;https://www.in…</td><td>1</td></tr></tbody></table></div>"
      ],
      "text/plain": [
       "shape: (4, 3)\n",
       "┌────────────────┬───────────────────────────────────┬────────────┐\n",
       "│ max_sin_scores ┆ urls_second_match                 ┆ is_similar │\n",
       "│ ---            ┆ ---                               ┆ ---        │\n",
       "│ f64            ┆ str                               ┆ i64        │\n",
       "╞════════════════╪═══════════════════════════════════╪════════════╡\n",
       "│ 0.539085       ┆ https://www.infobae.com/economia… ┆ 1          │\n",
       "│ 0.605253       ┆ https://www.infobae.com/salud/20… ┆ 1          │\n",
       "│ 0.546821       ┆ https://www.infobae.com/america/… ┆ 1          │\n",
       "│ 0.609395       ┆ https://www.infobae.com/judicial… ┆ 1          │\n",
       "└────────────────┴───────────────────────────────────┴────────────┘"
      ]
     },
     "execution_count": 71,
     "metadata": {},
     "output_type": "execute_result"
    }
   ],
   "source": [
    "df.filter(df['is_similar']==1)"
   ]
  }
 ],
 "metadata": {
  "kernelspec": {
   "display_name": ".willow",
   "language": "python",
   "name": ".willow"
  },
  "language_info": {
   "codemirror_mode": {
    "name": "ipython",
    "version": 3
   },
   "file_extension": ".py",
   "mimetype": "text/x-python",
   "name": "python",
   "nbconvert_exporter": "python",
   "pygments_lexer": "ipython3",
   "version": "3.9.13"
  },
  "orig_nbformat": 4
 },
 "nbformat": 4,
 "nbformat_minor": 2
}
