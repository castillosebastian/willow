{
 "cells": [
  {
   "cell_type": "markdown",
   "metadata": {},
   "source": [
    "# Probar algoritmo de similaridad"
   ]
  },
  {
   "cell_type": "code",
   "execution_count": 13,
   "metadata": {},
   "outputs": [],
   "source": [
    "# Re-implementing the solution\n",
    "import polars as pl\n",
    "import re\n",
    "import nltk\n",
    "from nltk.stem.snowball import SnowballStemmer\n",
    "import string\n",
    "import spacy\n",
    "\n",
    "# Stopword and stemer\n",
    "stemmer = SnowballStemmer(\"spanish\")\n",
    "nlp = spacy.load(\"es_core_news_sm\")\n",
    "spanish_stopwords_spacy = spacy.lang.es.stop_words.STOP_WORDS"
   ]
  },
  {
   "cell_type": "code",
   "execution_count": 14,
   "metadata": {},
   "outputs": [],
   "source": [
    "keywords = [\n",
    "    'narcotráfico', 'drogas', 'cocaína', 'marihuana', 'heroína', 'anfetaminas', \n",
    "    'metanfetaminas', 'éxtasis', 'crimen organizado', 'traficante', 'cartel', \n",
    "    'narcos', 'estupefacientes', 'psicotrópicos', 'incautación', 'tráfico de drogas', \n",
    "    'dealer', 'mafia', 'pasta base', 'crack', 'opiáceos', 'fentanilo', 'alcaloide', \n",
    "    'sintéticas', 'laboratorio clandestino', 'lavado de dinero', 'blanqueo de capitales', 'corrupción',\n",
    "    'bust', 'operativo', 'narcopiso', 'mula', 'cártel', 'infiltrado', 'aprehensión',\n",
    "    'narcolaboratorio', 'clandestino', 'narcobloqueo', 'túnel', 'narcoavioneta',\n",
    "    'confiscación', 'narcosubmarino', 'captura', 'dosis', 'microtráfico', \n",
    "    'narcomenudeo', 'narcocorrido', 'decapitación', 'narcocultura', 'narcopolítica',\n",
    "    'soborno', 'narcoguerra', 'narcoestado', 'narcotienditas', 'plantío',\n",
    "    'narcotúnel', 'narcobodega', 'narcocampamento', 'narcobanda', 'narcobalacera',\n",
    "    'secuestro', 'narcosecuestro', 'homicidio', 'masacre', 'ejecución'\n",
    "]"
   ]
  },
  {
   "cell_type": "markdown",
   "metadata": {},
   "source": [
    "## Regex\n"
   ]
  },
  {
   "cell_type": "code",
   "execution_count": 15,
   "metadata": {},
   "outputs": [],
   "source": [
    "# Define a mapping of accented characters to their unaccented counterparts\n",
    "accent_mapping = {\n",
    "    'á': 'a', 'é': 'e', 'í': 'i', 'ó': 'o', 'ú': 'u',\n",
    "    'ü': 'u', 'ñ': 'n',\n",
    "    'Á': 'A', 'É': 'E', 'Í': 'I', 'Ó': 'O', 'Ú': 'U',\n",
    "    'Ü': 'U', 'Ñ': 'N'\n",
    "}\n",
    "\n",
    "def import_data(data):\n",
    "    return pl.read_csv(data)\n",
    "\n",
    "def remove_accents(text):\n",
    "    \"\"\"Remove accents from the given text.\"\"\"\n",
    "    return ''.join(accent_mapping.get(char, char) for char in text)\n",
    "\n",
    "def normalize_text(url):\n",
    "    \"\"\"Normalize, remove accents, and stem the words in the given text.\"\"\"\n",
    "    # Convert to lowercase\n",
    "    text = url.lower()\n",
    "    \n",
    "    # Split URLs into components\n",
    "    text = re.sub(r'https?://', '', text)  # remove http/https\n",
    "    text = re.sub(r'[\\W_]+', ' ', text)    # replace non-alphanumeric characters with space\n",
    "    text = re.sub(r'[0-9]', ' ', text)    # replace non-alphanumeric characters with space\n",
    "\n",
    "    # Remove punctuation\n",
    "    text = text.translate(str.maketrans('', '', string.punctuation))\n",
    "    \n",
    "    # Remove accents\n",
    "    text = remove_accents(text)\n",
    "    \n",
    "    # Stem, remove stopwords, and split into words\n",
    "    return [stemmer.stem(word) for word in text.split() if word not in spanish_stopwords_spacy]\n",
    "    \n",
    "def evaluate_similarity(urlshort, keywords):\n",
    "    \"\"\"Evaluate the similarity between a urlshort and a list of keywords.\"\"\"\n",
    "    # Normalize urlshort and keywords\n",
    "    keywords_string = \" \".join(keywords)    \n",
    "\n",
    "    normalized_urlshort = normalize_text(urlshort)\n",
    "    normalized_keywords = normalize_text(keywords_string)\n",
    "\n",
    "\n",
    "    normalized_keywords = [normalize_text(keyword) for keyword in keywords]\n",
    "    \n",
    "    # Flatten the list of keywords (since some keywords can be multi-word phrases)\n",
    "    flat_keywords = [word for sublist in normalized_keywords for word in sublist]\n",
    "    \n",
    "    # Find matches\n",
    "    matches = [word for word in normalized_urlshort if word in flat_keywords]\n",
    "    \n",
    "    # Calculate the score\n",
    "    score = round( len(matches) / len(normalized_urlshort), ndigits=2)\n",
    "    \n",
    "    return score, matches"
   ]
  },
  {
   "cell_type": "code",
   "execution_count": 16,
   "metadata": {},
   "outputs": [
    {
     "data": {
      "text/plain": [
       "(0.09, ['drog'])"
      ]
     },
     "execution_count": 16,
     "metadata": {},
     "output_type": "execute_result"
    }
   ],
   "source": [
    "urlshort = 'politica alberto flamarique tras la muerte del droga mazzon el pj se fragmento y no logra salir n1186551'\n",
    "# Evaluate similarity\n",
    "score, found_matches = evaluate_similarity(urlshort, keywords)\n",
    "score, found_matches"
   ]
  },
  {
   "cell_type": "code",
   "execution_count": 191,
   "metadata": {},
   "outputs": [
    {
     "data": {
      "text/plain": [
       "(0.08, ['cocain'])"
      ]
     },
     "execution_count": 191,
     "metadata": {},
     "output_type": "execute_result"
    }
   ],
   "source": [
    "urlshort = 'https://www.infobae.com/colombia/2023/08/07/autoridades-colombianas-y-espanolas-lograron-interceptar-una-embarcacion-con-1650-kilos-de-cocaina/'\n",
    "# Evaluate similarity\n",
    "score, found_matches = evaluate_similarity(urlshort, keywords)\n",
    "score, found_matches"
   ]
  },
  {
   "cell_type": "code",
   "execution_count": 192,
   "metadata": {},
   "outputs": [
    {
     "data": {
      "text/plain": [
       "(0.06, ['drog'])"
      ]
     },
     "execution_count": 192,
     "metadata": {},
     "output_type": "execute_result"
    }
   ],
   "source": [
    "urlshort = \"https://www.infobae.com/america/america-latina/2023/08/07/luis-arce-dedico-el-discurso-del-dia-de-la-independencia-boliviana-a-comparar-las-exportaciones-de-droga-a-lo-largo-de-los-anos/\"\n",
    "score, found_matches = evaluate_similarity(urlshort, keywords)\n",
    "score, found_matches"
   ]
  },
  {
   "cell_type": "code",
   "execution_count": 193,
   "metadata": {},
   "outputs": [
    {
     "data": {
      "text/plain": [
       "(0.08, ['narcotraf'])"
      ]
     },
     "execution_count": 193,
     "metadata": {},
     "output_type": "execute_result"
    }
   ],
   "source": [
    "urlshort = \"https://www.infobae.com/colombia/2023/08/06/fiscalia-entrego-95-bienes-provenientes-del-narcotrafico-para-reparar-a-victimas-estan-avaluados-en-mas-de-161000-millones/\"\n",
    "score, found_matches = evaluate_similarity(urlshort, keywords)\n",
    "score, found_matches"
   ]
  },
  {
   "cell_type": "code",
   "execution_count": 194,
   "metadata": {},
   "outputs": [
    {
     "data": {
      "text/plain": [
       "0.0"
      ]
     },
     "execution_count": 194,
     "metadata": {},
     "output_type": "execute_result"
    }
   ],
   "source": [
    "urlshort = 'La suba del dólar trajo remarcaciones y elevó el piso de la inflación para agosto'\n",
    "score, found_matches = evaluate_similarity(urlshort, keywords)\n",
    "score"
   ]
  },
  {
   "cell_type": "markdown",
   "metadata": {},
   "source": [
    "## Word2vec"
   ]
  },
  {
   "cell_type": "code",
   "execution_count": null,
   "metadata": {},
   "outputs": [
    {
     "data": {
      "text/plain": [
       "array([[0.4810186]], dtype=float32)"
      ]
     },
     "metadata": {},
     "output_type": "display_data"
    }
   ],
   "source": [
    "# word2vec\n",
    "# https://github.com/dccuchile/spanish-word-embeddings\n",
    "from gensim.models.keyedvectors import KeyedVectors\n",
    "from sklearn.metrics.pairwise import cosine_similarity\n",
    "\n",
    "# Modelo cardellino\n",
    "wordvectors_file_vec = '/home/sebacastillo/willow/models/wiki.es.vec' # https://crscardellino.ar/SBWCE/\n",
    "\n",
    "# De este link obtuvimos la sugerencia de cargar parcialmente el modelo de vectores para optimizar memoria\n",
    "# https://github.com/dccuchile/spanish-word-embeddings/blob/master/examples/Ejemplo_WordVectors.ipynb\n",
    "wordvectors = KeyedVectors.load_word2vec_format(wordvectors_file_vec, limit=100000)\n",
    "\n",
    "v_apple = wordvectors['droga']\n",
    "v_mango = wordvectors['cigarrillo']\n",
    "\n",
    "cosine_similarity([v_apple],[v_mango])\n"
   ]
  },
  {
   "cell_type": "code",
   "execution_count": 195,
   "metadata": {},
   "outputs": [],
   "source": [
    "from gensim.models.keyedvectors import KeyedVectors\n",
    "#from sklearn.metrics.pairwise import cosine_similarity\n",
    "import numpy as np\n",
    "\n",
    "# Load the word vectors (this should be done once and reused for multiple calls to avoid loading overhead)\n",
    "wordvectors_file_vec = '/home/sebacastillo/willow/models/wiki.es.vec' # path to your model\n",
    "wordvectors = KeyedVectors.load_word2vec_format(wordvectors_file_vec, limit=100000)\n",
    "\n",
    "\n",
    "def compute_median_similarity(url, topic_word, wordvec):\n",
    "    \"\"\"\n",
    "    Compute the median similarity score between a topic word and all words in a URL.      \n",
    "    Returns:\n",
    "    - float: The median similarity score.\n",
    "    \"\"\"\n",
    "    text = url.lower()\n",
    "    text = re.sub(r'https?://', '', text)  # remove http/https\n",
    "    text = re.sub(r'[\\W_]+', ' ', text)    # replace non-alphanumeric characters with space\n",
    "    text = re.sub(r'[0-9]', ' ', text)    # replace numeric characters with space    \n",
    "    url_words = [word for word in text.split() if word not in spanish_stopwords_spacy]\n",
    "    \n",
    "    # Compute cosine similarity scores\n",
    "    scores = []\n",
    "    for word in url_words:\n",
    "        if word in wordvec:            \n",
    "            v_url_word = wordvec[word]\n",
    "            v_topic = wordvec[topic_word]        \n",
    "            similarity = wordvec.similarity(word, topic_word)\n",
    "            scores.append(similarity)   \n",
    "    \n",
    "    # Return median score    \n",
    "    return np.max(scores) if scores else 0.0"
   ]
  },
  {
   "cell_type": "code",
   "execution_count": 196,
   "metadata": {},
   "outputs": [
    {
     "data": {
      "text/plain": [
       "0.4447947"
      ]
     },
     "execution_count": 196,
     "metadata": {},
     "output_type": "execute_result"
    }
   ],
   "source": [
    "# Test the function with the provided example\n",
    "test_url = \"https://example.com/nena-feliz-en-la-plaza-juega-con-su-mamá-que-fuma-marihuana\"\n",
    "test_topic_word = \"narcotráfico\"\n",
    "compute_median_similarity(test_url, test_topic_word, wordvectors)"
   ]
  },
  {
   "cell_type": "code",
   "execution_count": 197,
   "metadata": {},
   "outputs": [
    {
     "data": {
      "text/plain": [
       "0.69604456"
      ]
     },
     "execution_count": 197,
     "metadata": {},
     "output_type": "execute_result"
    }
   ],
   "source": [
    "# Test the function with the provided example\n",
    "test_url = \"Narcos en Rosario: una guerra que golpeó a la política y afectó a los gobiernos del socialismo y el peronismo\"\n",
    "test_topic_word = \"narcotráfico\"\n",
    "compute_median_similarity(test_url, test_topic_word, wordvectors)"
   ]
  },
  {
   "cell_type": "code",
   "execution_count": 198,
   "metadata": {},
   "outputs": [
    {
     "data": {
      "text/plain": [
       "1.0"
      ]
     },
     "execution_count": 198,
     "metadata": {},
     "output_type": "execute_result"
    }
   ],
   "source": [
    "test_url = 'Santa Fe, la única cartel donde el narcotráfico superó la capacidad del traficante'\n",
    "test_topic_word = \"narcotráfico\"\n",
    "compute_median_similarity(test_url, test_topic_word, wordvectors)"
   ]
  },
  {
   "cell_type": "code",
   "execution_count": 199,
   "metadata": {},
   "outputs": [
    {
     "data": {
      "text/plain": [
       "0.46996608"
      ]
     },
     "execution_count": 199,
     "metadata": {},
     "output_type": "execute_result"
    }
   ],
   "source": [
    "test_url = 'La suba del blanqueo capitales trajo remarcaciones y elevó el piso de la inflación para agosto'\n",
    "test_topic_word = \"narcotráfico\"\n",
    "compute_median_similarity(test_url, test_topic_word, wordvectors)"
   ]
  },
  {
   "cell_type": "markdown",
   "metadata": {},
   "source": [
    "## Conclusion y pauta a utilizar"
   ]
  },
  {
   "cell_type": "markdown",
   "metadata": {},
   "source": [
    "Fijaremos como *treshold* < 0.4 para detectar verdaderos positivos."
   ]
  },
  {
   "cell_type": "markdown",
   "metadata": {},
   "source": [
    "# Ejemplo implementacion"
   ]
  },
  {
   "cell_type": "code",
   "execution_count": 33,
   "metadata": {},
   "outputs": [],
   "source": [
    "import newspaper\n"
   ]
  },
  {
   "cell_type": "code",
   "execution_count": 34,
   "metadata": {},
   "outputs": [],
   "source": [
    "url = 'https://www.analisisdigital.com.ar/' # 20 segundos build de source. Instanciado a las 10.30"
   ]
  },
  {
   "cell_type": "code",
   "execution_count": 35,
   "metadata": {},
   "outputs": [],
   "source": [
    "source = newspaper.build(url, language='es')"
   ]
  },
  {
   "cell_type": "code",
   "execution_count": 36,
   "metadata": {},
   "outputs": [
    {
     "name": "stdout",
     "output_type": "stream",
     "text": [
      "https://www.analisisdigital.com.ar/judiciales/2023/08/08/narcotrafico-la-justicia-le-rechazo-un-pedido-de-salidas-sociolaborales-jose\n",
      "https://www.analisisdigital.com.ar/economia/2023/08/08/argentina-volvio-ser-pais-libre-de-gripe-aviar\n",
      "https://www.analisisdigital.com.ar/locales/2023/08/08/guzman-no-solo-vamos-ganar-la-eleccion-sino-que-la-vamos-ganar-bien\n",
      "https://www.analisisdigital.com.ar/locales/2023/08/08/gainza-la-gente-tiene-la-chance-de-acompanar-el-domingo-un-cambio-generacional\n",
      "https://www.analisisdigital.com.ar/judiciales/2023/08/08/causa-cuadernos-tras-confirmarse-adulteraciones-la-defensa-de-cfk-pidio-la\n",
      "https://www.analisisdigital.com.ar/provinciales/2023/08/08/marcha-atras-del-colegio-de-odontologos-con-las-sanciones\n",
      "https://www.analisisdigital.com.ar/interes-general/2023/08/08/carta-de-un-proveedor-sobre-el-impacto-del-cepo-importaciones-en-el\n",
      "https://www.analisisdigital.com.ar/nacionales/2023/08/08/la-cgt-hara-un-fuerte-respaldo-massa-movilizara-10000-trabajadores-para-un\n",
      "https://www.analisisdigital.com.ar/judiciales/2023/08/08/la-jueza-figueroa-cumplira-75-anos-y-cesara-en-su-cargo-en-casacion\n",
      "https://www.analisisdigital.com.ar/deportes/2023/08/08/liga-profesional-el-entrerriano-leo-godoy-seguira-en-estudiantes\n",
      "https://www.analisisdigital.com.ar/deportes/2023/08/08/en-la-final-hay-que-entrar-concentrados-dijo-el-jugador-de-estudiantes-valentin\n",
      "https://www.analisisdigital.com.ar/deportes/2023/08/08/sera-partido-partido-dijo-ojeda\n",
      "https://www.analisisdigital.com.ar/deportes/2023/08/08/copa-libertadores-river-visitara-inter-y-buscara-el-pase-cuartos\n",
      "https://www.analisisdigital.com.ar/deportes/2023/08/08/voy-renovar-con-gremio-aviso-kannemann\n",
      "https://www.analisisdigital.com.ar/deportes/2023/08/07/basquet-echague-confirmo-ivan-albornoz-y-francisco-michelli-para-la-liga\n",
      "https://www.analisisdigital.com.ar/deportes/2023/08/07/river-tiene-acordado-el-regreso-de-gonzalo-pity-martinez\n",
      "https://www.analisisdigital.com.ar/deportes/2023/08/07/futbol-independiente-suena-con-los-goles-del-entrerriano-fernando-zampedri\n",
      "https://www.analisisdigital.com.ar/deportes/2023/08/07/belgrano-le-gano-el-clasico-patronato-y-quedo-un-paso-del-titulo-liguista\n",
      "https://www.analisisdigital.com.ar/opinion/2023/08/07/que-empieza-jugarse-el-domingo-que-viene\n",
      "https://www.analisisdigital.com.ar/opinion/2023/08/06/el-largo-e-invisible-brazo-de-los-muchachos-peronistas\n",
      "https://www.analisisdigital.com.ar/opinion/2023/08/05/argentina-la-autopista-de-la-droga\n",
      "https://www.analisisdigital.com.ar/opinion/2023/08/05/dia-de-la-identidad-restituida-en-el-ambito-de-la-uader-por-todos-los-nietos-que\n",
      "https://www.analisisdigital.com.ar/opinion/2023/08/05/no-explica-nada-o-explica-todo-una-visita-al-oculista\n",
      "https://www.analisisdigital.com.ar/opinion/2023/08/03/reconocer-necesidad\n",
      "https://www.analisisdigital.com.ar/judiciales/2023/08/08/la-cupula-del-poder-judicial-recorrio-obras-en-la-alcaidia-de-tribunales\n",
      "https://www.analisisdigital.com.ar/judiciales/2023/08/08/probation-dos-empleados-por-la-muerte-de-las-lechuzas-en-la-costanera\n",
      "https://www.analisisdigital.com.ar/provinciales/2023/08/08/cecilia-goyeneche-la-corte-me-va-restituir-en-el-cargo\n",
      "https://www.analisisdigital.com.ar/policiales/2023/08/08/parana-un-automovilista-choco-contra-una-casa-y-debio-ser-hospitalizado\n",
      "https://www.analisisdigital.com.ar/policiales/2023/08/07/parana-le-robaron-un-morral-con-pertenencias-al-actor-mauricio-dayub\n",
      "https://www.analisisdigital.com.ar/policiales/2023/08/07/autovia-14-una-mujer-de-89-anos-sufrio-graves-lesiones-tras-un-despiste-y\n",
      "https://www.analisisdigital.com.ar/economia/2023/08/08/el-dolar-blue-quedo-al-borde-de-los-600-los-motivos-de-la-suba-dias-de-las-paso\n",
      "https://www.analisisdigital.com.ar/economia/2023/08/07/los-precios-suben-por-el-dolar-blue-pero-encuentran-techo-en-el-enfriamiento-de\n",
      "https://www.analisisdigital.com.ar/economia/2023/08/07/por-que-la-eficiencia-energetica-es-una-oportunidad-de-negocio-para-el-agro\n",
      "https://www.analisisdigital.com.ar/cultura/2023/08/08/se-realizaran-las-ii-jornadas-de-educacion-artisticas-impulsadas-por-el-cge\n",
      "https://www.analisisdigital.com.ar/cultura/2023/08/08/uner-inscriben-la-diplomatura-en-gestion-social-y-desarrollo-territorial\n",
      "https://www.analisisdigital.com.ar/cultura/2023/08/08/tendran-lugar-las-i-jornadas-de-educacion-artistica-en-la-capital-entrerriana\n",
      "https://www.analisisdigital.com.ar/cultura/2023/08/08/lanzan-un-concurso-literario-con-el-nombre-de-victoria-ocampo\n",
      "https://www.analisisdigital.com.ar/cultura/2023/08/08/tiempo-de-descuento-para-la-puesta-en-valor-de-la-biblioteca-popular-del-parana\n",
      "https://www.analisisdigital.com.ar/cultura/2023/08/08/45-anos-de-su-estreno-vuelve-proyectarse-la-intemperie-sin-fin-en-parana\n",
      "https://www.analisisdigital.com.ar/nacionales/2023/08/08/gaillard-celebro-la-reglamentacion-de-la-ley-para-canamo-industrial-y-cannabis\n",
      "https://www.analisisdigital.com.ar/nacionales/2023/08/07/macri-rodriguez-larreta-y-bullrich-en-una-foto-de-unidad-para-respaldar-jorge\n",
      "https://www.analisisdigital.com.ar/nacionales/2023/08/07/massa-hara-el-acto-de-cierre-de-campana-el-jueves-en-el-teatro-argentino-de-la\n",
      "https://www.analisisdigital.com.ar/nacionales/2023/08/07/alberto-fernandez-recibio-los-abuelos-de-lucio-dupuy-el-chico-asesinado-en-la\n",
      "https://www.analisisdigital.com.ar/nacionales/2023/08/07/randazzo-con-schiaretti-vamos-defender-los-intereses-de-las-provincias\n",
      "https://www.analisisdigital.com.ar/nacionales/2023/08/07/encuesta-el-80-de-los-argentinos-esta-de-acuerdo-en-achicar-los-gastos-del\n",
      "https://www.analisisdigital.com.ar/provinciales/2023/08/07/schiaretti-en-parana-entre-rios-no-es-la-hermana-pobre-de-la-region-centro\n",
      "https://www.analisisdigital.com.ar/provinciales/2023/08/07/bordet-participo-del-lanzamiento-del-congreso-internacional-del-maiz-que-se\n",
      "https://www.analisisdigital.com.ar/provinciales/2023/08/07/comenzaran-los-trabajos-para-reponer-la-energia-electrica-en-el-puente\n",
      "https://www.analisisdigital.com.ar/locales/2023/08/08/colon-participo-de-la-reunion-mensual-de-la-microrregion-tierra-de-palmares\n",
      "https://www.analisisdigital.com.ar/locales/2023/08/08/denuncian-y-repudian-danos-en-espacios-publicos-de-urdinarrain\n",
      "https://www.analisisdigital.com.ar/locales/2023/08/08/colon-precandidata-se-bajo-de-una-lista-por-principios-eticos-y-morales\n",
      "https://www.analisisdigital.com.ar/interes-general/2023/08/08/elecciones-en-utn-parana-fuerte-respaldo-al-proyecto-reformista\n",
      "https://www.analisisdigital.com.ar/interes-general/2023/08/08/santa-fe-goyeneche-expondra-en-un-congreso-anticorrupcion\n",
      "https://www.analisisdigital.com.ar/interes-general/2023/08/07/la-anmat-autorizo-la-inscripcion-de-un-medicamento-inyectable-que-ayuda\n",
      "https://www.analisisdigital.com.ar/interes-general/2023/07/18/periodismo-y-elecciones-jacquelin-y-savoia-llegan-en-agosto-parana\n",
      "https://entreriosahora.com/sicarios-de-la-caja-el-reves-de-la-trama-de-la-corrupcion-en-entre-rios/\n",
      "https://www.analisisdigital.com.ar/judiciales/2023/08/07/el-poder-judicial-convoca-profesionales-de-psiquiatria-o-salud-mental\n",
      "https://www.analisisdigital.com.ar/cultura/2023/08/08/continua-la-voz-de-la-marea-junto-mocchi-y-maje-alvarez\n",
      "https://www.analisisdigital.com.ar/cultura/2023/08/07/la-feria-de-salta-y-nogoya-vivio-una-kermes-para-las-infancias\n",
      "https://www.analisisdigital.com.ar/cultura/2023/08/07/identifican-con-qr-espacios-e-inmuebles-historicos-del-casco-centrico-de-parana\n",
      "https://www.analisisdigital.com.ar/cultura/2023/08/07/emprendedores-de-parana-fueron-protagonistas-de-un-nuevo-encuentro\n",
      "https://www.analisisdigital.com.ar/judiciales/2023/08/07/prescribio-la-causa-del-triple-crimen-de-rodriguez-sin-que-este-identificado\n",
      "https://www.analisisdigital.com.ar/judiciales/2023/08/07/juzgan-10-represores-por-104-crimenes-de-lesa-humanidad-en-corrientes\n",
      "https://www.analisisdigital.com.ar/judiciales/2023/08/07/la-ministra-sonia-velazquez-insiste-en-llevar-juicio-allende-por-amenazas\n",
      "https://www.analisisdigital.com.ar/cultura/2023/08/08/ronda-de-conversacion-sobre-feminismos-y-presentacion-de-libro-en-la-fts\n",
      "https://www.analisisdigital.com.ar/policiales/2023/08/07/asalto-una-panaderia-en-parana-encerraron-las-victimas-y-les-robaron-20000\n",
      "https://www.analisisdigital.com.ar/policiales/2023/08/07/gualeguaychu-identificaron-siete-cazadores-secuestraron-armas-y-cartucheria\n",
      "https://www.analisisdigital.com.ar/policiales/2023/08/07/murio-un-policia-tras-chocar-su-moto-contra-un-camion-en-parana\n",
      "https://www.analisisdigital.com.ar/policiales/2023/08/06/hallaron-sin-vida-una-mujer-en-el-puerto-de-federacion\n",
      "https://www.analisisdigital.com.ar/policiales/2023/08/06/parana-salio-ebrio-de-un-baile-y-choco-camioneta-estacionada\n",
      "https://www.analisisdigital.com.ar/policiales/2023/08/05/encontraron-una-persona-sin-vida-en-la-zona-de-cinco-esquinas-de-parana\n",
      "https://www.analisisdigital.com.ar/policiales/2023/08/05/hospitalizaron-motociclista-tras-chocar-con-un-auto-en-la-ruta-nacional-127\n",
      "https://www.analisisdigital.com.ar/locales/2023/08/07/romero-con-apyme-vamos-fortalecer-el-trabajo-conjunto-entre-sector-publico-y\n",
      "https://www.analisisdigital.com.ar/locales/2023/08/07/en-la-misa-por-san-cayetano-puiggari-advirtio-por-el-escandalo-de-la-pobreza\n",
      "https://www.analisisdigital.com.ar/locales/2023/08/07/urdinarrain-trabajan-en-ampliacion-de-caneria-para-la-red-de-agua-potable\n",
      "https://www.analisisdigital.com.ar/locales/2023/08/07/concepcion-del-uruguay-propusieron-abrir-una-diplomatura-en-liderazgo-e\n",
      "https://www.analisisdigital.com.ar/locales/2023/08/07/juan-schiaretti-estara-este-lunes-por-la-tarde-en-parana\n",
      "https://www.analisisdigital.com.ar/nacionales/2023/08/07/no-hay-bolsillo-que-alcance-reclamo-obispo-en-la-homilia-por-san-cayetano\n",
      "https://www.analisisdigital.com.ar/nacionales/2023/08/07/llamado-de-atencion-de-un-juez-experimentado-ante-unas-paso-inusuales-e\n",
      "https://www.analisisdigital.com.ar/nacionales/2023/08/07/15-meses-de-su-sancion-reglamentan-la-ley-de-cannabis-medicinal-y-canamo\n",
      "https://www.analisisdigital.com.ar/provinciales/2023/08/07/la-liga-de-intendentes-justicialistas-frigerio-promete-hacer-lo-que-nunca\n",
      "https://www.analisisdigital.com.ar/provinciales/2023/08/07/avanza-la-construccion-de-179-viviendas-en-cinco-localidades-entrerrianas\n",
      "https://www.analisisdigital.com.ar/provinciales/2023/08/07/bahl-de-campana-tenemos-que-hacernos-conocidos-en-la-costa-del-uruguay-pero\n",
      "https://www.analisisdigital.com.ar/provinciales/2023/08/07/mas-de-1-millon-de-entrerrianos-estan-habilitados-para-votar-en-las\n",
      "https://www.analisisdigital.com.ar/provinciales/2023/08/07/olivetti-tenemos-una-fuerte-definicion-de-federalismo-y-haremos-una-buena\n",
      "https://www.analisisdigital.com.ar/provinciales/2023/08/07/ate-renueva-conduccion-este-miercoles-18-mil-afiliados-estan-en-condiciones\n",
      "https://www.analisisdigital.com.ar/opinion/2023/08/02/vicentin-la-dependencia-y-las-extorsiones\n",
      "https://www.analisisdigital.com.ar/opinion/2023/07/31/entre-la-carniceria-y-la-merceria\n",
      "https://www.analisisdigital.com.ar/opinion/2023/07/30/el-dia-que-los-ovnis-aterrizaron-en-el-congreso-de-los-estados-unidos-de-america\n",
      "https://www.analisisdigital.com.ar/opinion/2023/07/30/la-culpa-no-es-del-futbol\n",
      "https://www.analisisdigital.com.ar/deportes/2023/08/07/pese-al-aporte-entrerriano-las-panteritas-cayeron-con-brasil-en-el-mundial-u19\n",
      "https://www.analisisdigital.com.ar/economia/2023/08/07/massa-adelanto-que-se-evalua-el-pago-de-una-suma-fija-para-los-trabajadores\n",
      "https://www.analisisdigital.com.ar/economia/2023/08/06/segun-came-las-ventas-minoristas-en-comercio-retrocedieron-36-anual-en-julio\n",
      "https://www.analisisdigital.com.ar/economia/2023/08/05/temperaturas-record-impactan-en-el-cultivo-de-trigo-y-generan-preocupacion\n",
      "https://www.analisisdigital.com.ar/economia/2023/08/05/aduana-secuestro-mas-de-38500-productos-valuados-en-1000-millones\n",
      "https://www.analisisdigital.com.ar/economia/2023/08/05/la-pobreza-trepo-al-387-hay-18-millones-de-personas-que-no-acceden-la-canasta\n",
      "https://www.analisisdigital.com.ar/economia/2023/08/05/segun-datos-oficiales-el-turismo-lidera-la-creacion-de-trabajo-en-el-pais\n"
     ]
    }
   ],
   "source": [
    "for article in source.articles:\n",
    "        print(article.url)"
   ]
  },
  {
   "cell_type": "code",
   "execution_count": 45,
   "metadata": {},
   "outputs": [
    {
     "name": "stdout",
     "output_type": "stream",
     "text": [
      "97\n"
     ]
    }
   ],
   "source": [
    "source_size = source.size()\n",
    "print(source_size)"
   ]
  },
  {
   "cell_type": "code",
   "execution_count": 46,
   "metadata": {},
   "outputs": [
    {
     "name": "stdout",
     "output_type": "stream",
     "text": [
      "[False, False, False, False, False, False, False, False, False, False, False, False, False, False, False, False, False, False, False, False, False, False, False, False, False, False, False, False, False, False, False, False, False, False, False, False, False, False, False, False, False, False, False, False, False, False, False, False, False, False, False, False, False, False, False, False, False, False, False, False, False, False, False, False, False, False, False, False, False, False, False, False, False, False, False, False, False, False, False, False, False, False, False, False, False, False, False, False, False, False, False, False, False, False, False, False, False]\n"
     ]
    },
    {
     "data": {
      "text/plain": [
       "97"
      ]
     },
     "execution_count": 46,
     "metadata": {},
     "output_type": "execute_result"
    }
   ],
   "source": [
    "target_articles = [False] * source_size\n",
    "print(target_articles)\n",
    "len(target_articles)\n",
    "#target_articles[3] = True\n",
    "#print(target_articles)"
   ]
  },
  {
   "cell_type": "code",
   "execution_count": 18,
   "metadata": {},
   "outputs": [],
   "source": [
    "def evaluate_matches(urlshort, keywords):\n",
    "    \"\"\"Evaluate the similarity between a urlshort and a list of keywords.\"\"\"\n",
    "    # Normalize urlshort and keywords\n",
    "    keywords_string = \" \".join(keywords)    \n",
    "\n",
    "    normalized_urlshort = normalize_text(urlshort)\n",
    "    normalized_keywords = normalize_text(keywords_string)\n",
    "\n",
    "\n",
    "    normalized_keywords = [normalize_text(keyword) for keyword in keywords]\n",
    "    \n",
    "    # Flatten the list of keywords (since some keywords can be multi-word phrases)\n",
    "    flat_keywords = [word for sublist in normalized_keywords for word in sublist]\n",
    "    \n",
    "    # Find matches\n",
    "    matches = [word for word in normalized_urlshort if word in flat_keywords]\n",
    "    \n",
    "    # Calculate the score\n",
    "    score = round( len(matches) / len(normalized_urlshort), ndigits=2)\n",
    "    \n",
    "    return score, matches"
   ]
  },
  {
   "cell_type": "code",
   "execution_count": 28,
   "metadata": {},
   "outputs": [
    {
     "name": "stdout",
     "output_type": "stream",
     "text": [
      "['https://www.infobae.com/economia/2023/08/08/el-conflicto-sin-fin-de-lacteos-vidal-el-juez-quedo-de-rehen-de-la-mafia-sindical-denuncio-su-duena/', 'https://www.infobae.com/deportes/2023/08/08/el-curioso-detalle-de-lionel-messi-en-los-segundos-previos-a-la-ejecucion-del-tiro-libre-frente-a-fc-dallas/', 'https://www.infobae.com/salud/2023/08/08/luces-y-sombras-de-la-nueva-droga-inyectable-para-el-tratamiento-de-la-obesidad-segun-los-expertos/', 'https://www.infobae.com/america/2023/08/08/conmocion-por-un-brutal-femicidio-en-uruguay-la-secuestro-su-ex-pareja-y-la-mato-al-chocar-contra-un-peaje/', 'https://www.infobae.com/deportes/2023/08/08/los-detalles-del-operativo-inedito-para-evitar-nuevos-incidentes-entre-boca-juniors-y-nacional-sin-banderazos-y-con-horario-de-ingreso-exclusivo/', 'https://www.infobae.com/sociedad/2023/08/08/la-primera-conquista-del-desierto-la-operacion-militar-que-condujo-rosas-y-el-insolito-encuentro-con-darwin/', 'https://www.infobae.com/sociedad/2023/08/08/el-cordobes-que-instalo-carteles-con-el-alfabeto-de-senas-en-las-plazas-para-integrar-a-chicos-hipoacusicos/', 'https://www.infobae.com/judiciales/2023/08/08/prescribio-el-caso-por-el-triple-crimen-de-general-rodriguez-sin-saber-quien-fue-el-autor-intelectual/', 'https://www.infobae.com/cultura/2023/08/08/hernan-casciari-y-la-serie-del-dibu-martinez-queremos-que-funcione-no-a-base-de-algoritmo-sino-de-corazon/']\n",
      "[['mafi'], ['ejecucion'], ['drog'], ['secuestr'], ['oper'], ['oper'], ['cartel'], ['crim'], ['bas']]\n"
     ]
    }
   ],
   "source": [
    "urls_matches = []\n",
    "found_matches = []\n",
    "for article in source.articles:\n",
    "    \n",
    "    url = article.url\n",
    "    match_score, found_match = evaluate_matches(url, keywords)\n",
    "    \n",
    "    if match_score > 0:\n",
    "        urls_matches.append(url) \n",
    "        found_matches.append(found_match)\n",
    "\n",
    "print(urls_matches)\n",
    "print(found_matches)\n"
   ]
  },
  {
   "cell_type": "code",
   "execution_count": 51,
   "metadata": {},
   "outputs": [],
   "source": [
    "def compute_max_similarity(url, topic_word, wordvec):\n",
    "    \"\"\"\n",
    "    Compute the median similarity score between a topic word and all words in a URL.      \n",
    "    Returns:\n",
    "    - float: The median similarity score.\n",
    "    \"\"\"\n",
    "    text = url.lower()\n",
    "    text = re.sub(r'https?://', '', text)  # remove http/https\n",
    "    text = re.sub(r'[\\W_]+', ' ', text)    # replace non-alphanumeric characters with space\n",
    "    text = re.sub(r'[0-9]', ' ', text)    # replace numeric characters with space    \n",
    "    url_words = [word for word in text.split() if word not in spanish_stopwords_spacy]\n",
    "    \n",
    "    # Compute cosine similarity scores\n",
    "    scores = []\n",
    "    for word in url_words:\n",
    "        if word in wordvec:            \n",
    "            v_url_word = wordvec[word]\n",
    "            v_topic = wordvec[topic_word]        \n",
    "            similarity = wordvec.similarity(word, topic_word)\n",
    "            scores.append(similarity)   \n",
    "    \n",
    "    # Return \n",
    "\n",
    "    return np.max(scores)"
   ]
  },
  {
   "cell_type": "code",
   "execution_count": 39,
   "metadata": {},
   "outputs": [],
   "source": [
    "from gensim.models.keyedvectors import KeyedVectors\n",
    "def load_embeddings(path='models/wiki.es.vec', limit=100000):\n",
    "    \"\"\"\n",
    "    Load the word embeddings from the specified path.    \n",
    "    Args:\n",
    "    - path (str): Path to the embeddings model.\n",
    "    - limit (int): Limit the number of word vectors loaded.\n",
    "    \n",
    "    Returns:\n",
    "    - KeyedVectors: Loaded word vectors.\n",
    "    \"\"\"\n",
    "    return KeyedVectors.load_word2vec_format(path, limit=limit)"
   ]
  },
  {
   "cell_type": "code",
   "execution_count": 43,
   "metadata": {},
   "outputs": [],
   "source": [
    "wordvectors = load_embeddings(path='/home/sebacastillo/willow/models/wiki.es.vec', limit=100000)"
   ]
  },
  {
   "cell_type": "code",
   "execution_count": 60,
   "metadata": {},
   "outputs": [],
   "source": [
    "import numpy as np\n",
    "max_sin_scores = []\n",
    "urls_second_match = []\n",
    "is_similar = []\n",
    "for url_match in urls_matches:\n",
    "    max_sin_score = compute_max_similarity(url_match, 'narcotráfico', wordvectors) \n",
    "    max_sin_scores.append(max_sin_score)\n",
    "    urls_second_match.append(url_match)\n",
    "    is_similar.append(max_sin_score>0.4) \n",
    "\n",
    "df = pl.DataFrame({\n",
    "    \"max_sin_scores\": max_sin_scores,\n",
    "    \"urls_second_match\": urls_second_match,\n",
    "    \"is_similar\": is_similar\n",
    "}).sort('is_similar')    "
   ]
  },
  {
   "cell_type": "code",
   "execution_count": 70,
   "metadata": {},
   "outputs": [
    {
     "data": {
      "text/plain": [
       "4"
      ]
     },
     "execution_count": 70,
     "metadata": {},
     "output_type": "execute_result"
    }
   ],
   "source": [
    "df[\"is_similar\"].sum()\n"
   ]
  },
  {
   "cell_type": "code",
   "execution_count": 71,
   "metadata": {},
   "outputs": [
    {
     "data": {
      "text/html": [
       "<div><style>\n",
       ".dataframe > thead > tr > th,\n",
       ".dataframe > tbody > tr > td {\n",
       "  text-align: right;\n",
       "}\n",
       "</style>\n",
       "<small>shape: (4, 3)</small><table border=\"1\" class=\"dataframe\"><thead><tr><th>max_sin_scores</th><th>urls_second_match</th><th>is_similar</th></tr><tr><td>f64</td><td>str</td><td>i64</td></tr></thead><tbody><tr><td>0.539085</td><td>&quot;https://www.in…</td><td>1</td></tr><tr><td>0.605253</td><td>&quot;https://www.in…</td><td>1</td></tr><tr><td>0.546821</td><td>&quot;https://www.in…</td><td>1</td></tr><tr><td>0.609395</td><td>&quot;https://www.in…</td><td>1</td></tr></tbody></table></div>"
      ],
      "text/plain": [
       "shape: (4, 3)\n",
       "┌────────────────┬───────────────────────────────────┬────────────┐\n",
       "│ max_sin_scores ┆ urls_second_match                 ┆ is_similar │\n",
       "│ ---            ┆ ---                               ┆ ---        │\n",
       "│ f64            ┆ str                               ┆ i64        │\n",
       "╞════════════════╪═══════════════════════════════════╪════════════╡\n",
       "│ 0.539085       ┆ https://www.infobae.com/economia… ┆ 1          │\n",
       "│ 0.605253       ┆ https://www.infobae.com/salud/20… ┆ 1          │\n",
       "│ 0.546821       ┆ https://www.infobae.com/america/… ┆ 1          │\n",
       "│ 0.609395       ┆ https://www.infobae.com/judicial… ┆ 1          │\n",
       "└────────────────┴───────────────────────────────────┴────────────┘"
      ]
     },
     "execution_count": 71,
     "metadata": {},
     "output_type": "execute_result"
    }
   ],
   "source": [
    "df.filter(df['is_similar']==1)"
   ]
  }
 ],
 "metadata": {
  "kernelspec": {
   "display_name": ".willow",
   "language": "python",
   "name": ".willow"
  },
  "language_info": {
   "codemirror_mode": {
    "name": "ipython",
    "version": 3
   },
   "file_extension": ".py",
   "mimetype": "text/x-python",
   "name": "python",
   "nbconvert_exporter": "python",
   "pygments_lexer": "ipython3",
   "version": "3.9.13"
  },
  "orig_nbformat": 4
 },
 "nbformat": 4,
 "nbformat_minor": 2
}
