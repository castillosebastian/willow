{
 "cells": [
  {
   "cell_type": "markdown",
   "metadata": {},
   "source": [
    "# Probar algoritmo de similaridad"
   ]
  },
  {
   "cell_type": "code",
   "execution_count": 1,
   "metadata": {},
   "outputs": [],
   "source": [
    "# Re-implementing the solution\n",
    "import polars as pl\n",
    "import re\n",
    "import nltk\n",
    "from nltk.stem.snowball import SnowballStemmer\n",
    "import string\n",
    "import spacy\n",
    "\n",
    "# Stopword and stemer\n",
    "stemmer = SnowballStemmer(\"spanish\")\n",
    "nlp = spacy.load(\"es_core_news_sm\")\n",
    "spanish_stopwords_spacy = spacy.lang.es.stop_words.STOP_WORDS"
   ]
  },
  {
   "cell_type": "code",
   "execution_count": 4,
   "metadata": {},
   "outputs": [],
   "source": [
    "def load_keywords(topic = 'narcotráfico'):\n",
    "    df = pl.read_csv('/home/sebacastillo/willow/data/topics.csv')\n",
    "    df = df.filter(pl.col('topic') == topic)\n",
    "    return df['keywords'].to_list()\n",
    "keywords = load_keywords(topic='narcotráfico')"
   ]
  },
  {
   "cell_type": "markdown",
   "metadata": {},
   "source": [
    "## Regex\n"
   ]
  },
  {
   "cell_type": "code",
   "execution_count": 9,
   "metadata": {},
   "outputs": [],
   "source": [
    "# Define a mapping of accented characters to their unaccented counterparts\n",
    "accent_mapping = {\n",
    "    'á': 'a', 'é': 'e', 'í': 'i', 'ó': 'o', 'ú': 'u',\n",
    "    'ü': 'u', 'ñ': 'n',\n",
    "    'Á': 'A', 'É': 'E', 'Í': 'I', 'Ó': 'O', 'Ú': 'U',\n",
    "    'Ü': 'U', 'Ñ': 'N'\n",
    "}\n",
    "\n",
    "def import_data(data):\n",
    "    return pl.read_csv(data)\n",
    "\n",
    "def remove_accents(text):\n",
    "    \"\"\"Remove accents from the given text.\"\"\"\n",
    "    return ''.join(accent_mapping.get(char, char) for char in text)\n",
    "\n",
    "def normalize_text(url):\n",
    "    \"\"\"Normalize, remove accents, and stem the words in the given text.\"\"\"\n",
    "    # Convert to lowercase\n",
    "    text = url.lower()\n",
    "    \n",
    "    # Split URLs into components\n",
    "    text = re.sub(r'https?://', '', text)  # remove http/https\n",
    "    text = re.sub(r'[\\W_]+', ' ', text)    # replace non-alphanumeric characters with space\n",
    "    text = re.sub(r'[0-9]', ' ', text)    # replace non-alphanumeric characters with space\n",
    "\n",
    "    # Remove punctuation\n",
    "    text = text.translate(str.maketrans('', '', string.punctuation))\n",
    "    \n",
    "    # Remove accents\n",
    "    text = remove_accents(text)\n",
    "    \n",
    "    # Stem, remove stopwords, and split into words\n",
    "    return [stemmer.stem(word) for word in text.split() if word not in spanish_stopwords_spacy]\n",
    "    \n",
    "def evaluate_similarity(urlshort, keywords):\n",
    "    \"\"\"Evaluate the similarity between a urlshort and a list of keywords.\"\"\"\n",
    "    # Normalize urlshort and keywords\n",
    "    keywords_string = \" \".join(keywords)    \n",
    "\n",
    "    normalized_urlshort = normalize_text(urlshort)\n",
    "    normalized_keywords = normalize_text(keywords_string)\n",
    "\n",
    "\n",
    "    normalized_keywords = [normalize_text(keyword) for keyword in keywords]\n",
    "    \n",
    "    # Flatten the list of keywords (since some keywords can be multi-word phrases)\n",
    "    flat_keywords = [word for sublist in normalized_keywords for word in sublist]\n",
    "    \n",
    "    # Find matches\n",
    "    matches = [word for word in normalized_urlshort if word in flat_keywords]\n",
    "    \n",
    "    # Calculate the score\n",
    "    score = round( len(matches) / len(normalized_urlshort), ndigits=2)\n",
    "    \n",
    "    return score, matches\n",
    "\n",
    "def evaluate_matches(urlshort, keywords):\n",
    "    \"\"\"Evaluate the similarity between a urlshort and a list of keywords.\"\"\"\n",
    "    # Normalize urlshort and keywords\n",
    "    keywords_string = \" \".join(keywords)    \n",
    "\n",
    "    normalized_urlshort = normalize_text(urlshort)\n",
    "    normalized_keywords = normalize_text(keywords_string)\n",
    "\n",
    "\n",
    "    normalized_keywords = [normalize_text(keyword) for keyword in keywords]\n",
    "    \n",
    "    # Flatten the list of keywords (since some keywords can be multi-word phrases)\n",
    "    flat_keywords = [word for sublist in normalized_keywords for word in sublist]\n",
    "    \n",
    "    # Find matches\n",
    "    matches = [word for word in normalized_urlshort if word in flat_keywords]\n",
    "    \n",
    "    # Calculate the score\n",
    "    score = round( len(matches) / len(normalized_urlshort), ndigits=2)\n",
    "    \n",
    "    return score, matches"
   ]
  },
  {
   "cell_type": "code",
   "execution_count": 6,
   "metadata": {},
   "outputs": [
    {
     "data": {
      "text/plain": [
       "(0.09, ['drog'])"
      ]
     },
     "execution_count": 6,
     "metadata": {},
     "output_type": "execute_result"
    }
   ],
   "source": [
    "urlshort = 'politica alberto flamarique tras la muerte del droga mazzon el pj se fragmento y no logra salir n1186551'\n",
    "# Evaluate similarity\n",
    "score, found_matches = evaluate_similarity(urlshort, keywords)\n",
    "score, found_matches"
   ]
  },
  {
   "cell_type": "code",
   "execution_count": 191,
   "metadata": {},
   "outputs": [
    {
     "data": {
      "text/plain": [
       "(0.08, ['cocain'])"
      ]
     },
     "execution_count": 191,
     "metadata": {},
     "output_type": "execute_result"
    }
   ],
   "source": [
    "urlshort = 'https://www.infobae.com/colombia/2023/08/07/autoridades-colombianas-y-espanolas-lograron-interceptar-una-embarcacion-con-1650-kilos-de-cocaina/'\n",
    "# Evaluate similarity\n",
    "score, found_matches = evaluate_similarity(urlshort, keywords)\n",
    "score, found_matches"
   ]
  },
  {
   "cell_type": "code",
   "execution_count": 192,
   "metadata": {},
   "outputs": [
    {
     "data": {
      "text/plain": [
       "(0.06, ['drog'])"
      ]
     },
     "execution_count": 192,
     "metadata": {},
     "output_type": "execute_result"
    }
   ],
   "source": [
    "urlshort = \"https://www.infobae.com/america/america-latina/2023/08/07/luis-arce-dedico-el-discurso-del-dia-de-la-independencia-boliviana-a-comparar-las-exportaciones-de-droga-a-lo-largo-de-los-anos/\"\n",
    "score, found_matches = evaluate_similarity(urlshort, keywords)\n",
    "score, found_matches"
   ]
  },
  {
   "cell_type": "code",
   "execution_count": 193,
   "metadata": {},
   "outputs": [
    {
     "data": {
      "text/plain": [
       "(0.08, ['narcotraf'])"
      ]
     },
     "execution_count": 193,
     "metadata": {},
     "output_type": "execute_result"
    }
   ],
   "source": [
    "urlshort = \"https://www.infobae.com/colombia/2023/08/06/fiscalia-entrego-95-bienes-provenientes-del-narcotrafico-para-reparar-a-victimas-estan-avaluados-en-mas-de-161000-millones/\"\n",
    "score, found_matches = evaluate_similarity(urlshort, keywords)\n",
    "score, found_matches"
   ]
  },
  {
   "cell_type": "code",
   "execution_count": 194,
   "metadata": {},
   "outputs": [
    {
     "data": {
      "text/plain": [
       "0.0"
      ]
     },
     "execution_count": 194,
     "metadata": {},
     "output_type": "execute_result"
    }
   ],
   "source": [
    "urlshort = 'La suba del dólar trajo remarcaciones y elevó el piso de la inflación para agosto'\n",
    "score, found_matches = evaluate_similarity(urlshort, keywords)\n",
    "score"
   ]
  },
  {
   "cell_type": "markdown",
   "metadata": {},
   "source": [
    "# Test function"
   ]
  },
  {
   "cell_type": "code",
   "execution_count": 10,
   "metadata": {},
   "outputs": [
    {
     "data": {
      "text/plain": [
       "(0.13, ['narc', 'secuestr'])"
      ]
     },
     "execution_count": 10,
     "metadata": {},
     "output_type": "execute_result"
    }
   ],
   "source": [
    "urlshort = 'https://www.infobae.com/sociedad/policiales/2023/08/09/por-un-ajuste-de-cuentas-narco-detuvieron-a-ocho-personas-que-secuestraron-e-hirieron-gravemente-a-un-hombre-en-salta/'\n",
    "# Evaluate similarity\n",
    "score, found_matches = evaluate_matches(urlshort, keywords)\n",
    "score, found_matches"
   ]
  },
  {
   "cell_type": "markdown",
   "metadata": {},
   "source": [
    "## Word2vec"
   ]
  },
  {
   "cell_type": "code",
   "execution_count": null,
   "metadata": {},
   "outputs": [
    {
     "data": {
      "text/plain": [
       "array([[0.4810186]], dtype=float32)"
      ]
     },
     "metadata": {},
     "output_type": "display_data"
    }
   ],
   "source": [
    "# word2vec\n",
    "# https://github.com/dccuchile/spanish-word-embeddings\n",
    "from gensim.models.keyedvectors import KeyedVectors\n",
    "from sklearn.metrics.pairwise import cosine_similarity\n",
    "\n",
    "# Modelo cardellino\n",
    "wordvectors_file_vec = '/home/sebacastillo/willow/models/wiki.es.vec' # https://crscardellino.ar/SBWCE/\n",
    "\n",
    "# De este link obtuvimos la sugerencia de cargar parcialmente el modelo de vectores para optimizar memoria\n",
    "# https://github.com/dccuchile/spanish-word-embeddings/blob/master/examples/Ejemplo_WordVectors.ipynb\n",
    "wordvectors = KeyedVectors.load_word2vec_format(wordvectors_file_vec, limit=100000)\n",
    "\n",
    "v_apple = wordvectors['droga']\n",
    "v_mango = wordvectors['cigarrillo']\n",
    "\n",
    "cosine_similarity([v_apple],[v_mango])\n"
   ]
  },
  {
   "cell_type": "code",
   "execution_count": 195,
   "metadata": {},
   "outputs": [],
   "source": [
    "from gensim.models.keyedvectors import KeyedVectors\n",
    "#from sklearn.metrics.pairwise import cosine_similarity\n",
    "import numpy as np\n",
    "\n",
    "# Load the word vectors (this should be done once and reused for multiple calls to avoid loading overhead)\n",
    "wordvectors_file_vec = '/home/sebacastillo/willow/models/wiki.es.vec' # path to your model\n",
    "wordvectors = KeyedVectors.load_word2vec_format(wordvectors_file_vec, limit=100000)\n",
    "\n",
    "\n",
    "def compute_median_similarity(url, topic_word, wordvec):\n",
    "    \"\"\"\n",
    "    Compute the median similarity score between a topic word and all words in a URL.      \n",
    "    Returns:\n",
    "    - float: The median similarity score.\n",
    "    \"\"\"\n",
    "    text = url.lower()\n",
    "    text = re.sub(r'https?://', '', text)  # remove http/https\n",
    "    text = re.sub(r'[\\W_]+', ' ', text)    # replace non-alphanumeric characters with space\n",
    "    text = re.sub(r'[0-9]', ' ', text)    # replace numeric characters with space    \n",
    "    url_words = [word for word in text.split() if word not in spanish_stopwords_spacy]\n",
    "    \n",
    "    # Compute cosine similarity scores\n",
    "    scores = []\n",
    "    for word in url_words:\n",
    "        if word in wordvec:            \n",
    "            v_url_word = wordvec[word]\n",
    "            v_topic = wordvec[topic_word]        \n",
    "            similarity = wordvec.similarity(word, topic_word)\n",
    "            scores.append(similarity)   \n",
    "    \n",
    "    # Return median score    \n",
    "    return np.max(scores) if scores else 0.0"
   ]
  },
  {
   "cell_type": "code",
   "execution_count": 196,
   "metadata": {},
   "outputs": [
    {
     "data": {
      "text/plain": [
       "0.4447947"
      ]
     },
     "execution_count": 196,
     "metadata": {},
     "output_type": "execute_result"
    }
   ],
   "source": [
    "# Test the function with the provided example\n",
    "test_url = \"https://example.com/nena-feliz-en-la-plaza-juega-con-su-mamá-que-fuma-marihuana\"\n",
    "test_topic_word = \"narcotráfico\"\n",
    "compute_median_similarity(test_url, test_topic_word, wordvectors)"
   ]
  },
  {
   "cell_type": "code",
   "execution_count": 197,
   "metadata": {},
   "outputs": [
    {
     "data": {
      "text/plain": [
       "0.69604456"
      ]
     },
     "execution_count": 197,
     "metadata": {},
     "output_type": "execute_result"
    }
   ],
   "source": [
    "# Test the function with the provided example\n",
    "test_url = \"Narcos en Rosario: una guerra que golpeó a la política y afectó a los gobiernos del socialismo y el peronismo\"\n",
    "test_topic_word = \"narcotráfico\"\n",
    "compute_median_similarity(test_url, test_topic_word, wordvectors)"
   ]
  },
  {
   "cell_type": "code",
   "execution_count": 198,
   "metadata": {},
   "outputs": [
    {
     "data": {
      "text/plain": [
       "1.0"
      ]
     },
     "execution_count": 198,
     "metadata": {},
     "output_type": "execute_result"
    }
   ],
   "source": [
    "test_url = 'Santa Fe, la única cartel donde el narcotráfico superó la capacidad del traficante'\n",
    "test_topic_word = \"narcotráfico\"\n",
    "compute_median_similarity(test_url, test_topic_word, wordvectors)"
   ]
  },
  {
   "cell_type": "code",
   "execution_count": 199,
   "metadata": {},
   "outputs": [
    {
     "data": {
      "text/plain": [
       "0.46996608"
      ]
     },
     "execution_count": 199,
     "metadata": {},
     "output_type": "execute_result"
    }
   ],
   "source": [
    "test_url = 'La suba del blanqueo capitales trajo remarcaciones y elevó el piso de la inflación para agosto'\n",
    "test_topic_word = \"narcotráfico\"\n",
    "compute_median_similarity(test_url, test_topic_word, wordvectors)"
   ]
  },
  {
   "cell_type": "markdown",
   "metadata": {},
   "source": [
    "## Conclusion y pauta a utilizar"
   ]
  },
  {
   "cell_type": "markdown",
   "metadata": {},
   "source": [
    "Fijaremos como *treshold* < 0.4 para detectar verdaderos positivos."
   ]
  },
  {
   "cell_type": "markdown",
   "metadata": {},
   "source": [
    "# Ejemplo implementacion"
   ]
  },
  {
   "cell_type": "code",
   "execution_count": 11,
   "metadata": {},
   "outputs": [],
   "source": [
    "import newspaper\n"
   ]
  },
  {
   "cell_type": "code",
   "execution_count": 12,
   "metadata": {},
   "outputs": [],
   "source": [
    "url = 'https://www.infobae.com/' # 20 segundos build de source. Instanciado a las 10.30"
   ]
  },
  {
   "cell_type": "code",
   "execution_count": 13,
   "metadata": {},
   "outputs": [],
   "source": [
    "source = newspaper.build(url, language='es')"
   ]
  },
  {
   "cell_type": "code",
   "execution_count": 15,
   "metadata": {},
   "outputs": [
    {
     "name": "stdout",
     "output_type": "stream",
     "text": [
      "https://www.infobae.com/sociedad/policiales/2023/08/09/motochorros-mataron-a-una-nena-de-11-anos-en-lanus-oeste-cuando-entraba-a-la-escuela/\n",
      "https://www.infobae.com/sociedad/policiales/2023/08/09/video-asi-fue-el-momento-del-ataque-motochorro-a-morena-la-nena-de-11-anos-que-murio-en-lanus/\n",
      "https://www.infobae.com/teleshow/2023/08/09/fuerte-cruce-en-la-mesa-de-polemica-en-el-bar-vos-representas-lo-peor-del-pais/\n",
      "https://www.infobae.com/sociedad/policiales/2023/08/09/nestor-grindetti-suspendio-la-campana-tras-el-asesinato-de-una-nena-de-11-anos-en-lanus/\n",
      "https://www.infobae.com/sociedad/policiales/2023/08/09/exploto-la-crisis-de-wenance-debe-268-millones-en-cheques-sin-fondos-y-le-embargaron-la-ferrari-al-ceo/\n",
      "https://www.infobae.com/teleshow/2023/08/09/wanda-nara-hablo-de-su-salud-desde-estambul-mis-hijos-me-hacian-preguntas-y-yo-no-tenia-la-respuesta/\n",
      "https://www.infobae.com/leamos/2023/08/10/las-fotos-de-hitler-despues-de-la-guerra-por-que-afirman-que-el-lider-nazi-no-se-suicido/\n",
      "https://www.infobae.com/deportes/2023/08/09/quienes-son-los-futbolistas-que-dejarian-river-plate-tras-la-eliminacion-en-la-copa-libertadores/\n",
      "https://www.infobae.com/deportes/2023/08/09/conmebol-publico-el-audio-del-var-sobre-el-penal-anulado-a-solari-en-la-eliminacion-de-river-plate-contra-inter-de-porto-alegre/\n",
      "https://www.infobae.com/salud/2023/08/09/un-caso-de-muerte-digna-conmueve-a-cordoba-la-familia-de-un-paciente-en-estado-vegetativo-espera-una-decision-judicial/\n",
      "https://www.infobae.com/america/medio-ambiente/2023/08/09/detectaron-un-alarmante-retroceso-del-glaciar-perito-moreno-y-estudian-si-es-una-tendencia-irreversible/\n",
      "https://www.infobae.com/teleshow/2023/08/09/el-antes-y-el-despues-de-las-paquitas-asi-estan-hoy-las-integrantes-de-el-show-de-xuxa-a-30-anos-de-haber-terminado-el-programa/\n",
      "https://www.infobae.com/politica/2023/08/09/cristina-kirchner-volvio-a-criticar-las-declaraciones-de-mauricio-macri-mas-mafioso-no-se-consigue/\n",
      "https://www.infobae.com/economia/2023/08/09/a-cuanto-llegaran-a-fin-de-ano-el-dolar-y-la-inflacion-en-la-argentina-segun-los-analistas-internacionales/\n",
      "https://www.infobae.com/economia/2023/08/09/como-comprar-dolares-en-blanco-sin-limite-y-a-un-precio-80-mas-barato-que-la-cotizacion-libre/\n",
      "https://www.infobae.com/sociedad/policiales/2023/08/09/caso-cecilia-strzyzowski-otro-reves-judicial-para-el-clan-sena/\n",
      "https://www.infobae.com/politica/2023/08/09/paso-2023-como-sera-el-operativo-de-fiscalizacion-que-desplegaran-las-principales-agrupaciones-este-domingo/\n",
      "https://www.infobae.com/politica/2023/08/09/el-oficialismo-concentra-la-campana-en-la-figura-de-sergio-massa-y-apunta-a-los-indecisos-para-dar-el-golpe-en-las-paso/\n",
      "https://www.infobae.com/politica/2023/08/09/miguel-angel-pichetto-yo-estuve-con-todos-pero-fundamentalmente-estuve-con-la-argentina/\n",
      "https://www.infobae.com/politica/2023/08/09/elecciones-2023-en-vivo-noticias-de-las-paso-candidatos-fechas-y-resultados-minuto-a-minuto/\n",
      "https://www.infobae.com/politica/2023/08/09/rodriguez-larreta-apuesta-a-la-teoria-de-la-mayoria-silenciosa-para-ganar-la-interna-contra-bullrich/\n",
      "https://www.infobae.com/teleshow/2023/08/09/susana-gimenez-y-moria-casan-enfrentadas-por-la-politica-a-dias-de-las-paso-2023/\n",
      "https://www.infobae.com/politica/2023/08/09/no-podria-estar-mas-orgulloso-de-ser-tu-amigo-martin-lousteau-conto-que-bono-le-mando-un-mensaje-antes-de-las-paso/\n",
      "https://www.infobae.com/economia/2023/08/09/acciones-y-bonos-siguen-muy-firmes-se-subestiman-los-riesgos-post-paso/\n",
      "https://www.infobae.com/deportes/2023/08/09/la-visita-a-la-bombonera-con-12-anos-y-que-le-dijo-riquelme-para-convencerlo-la-historia-detras-de-por-que-cavani-decidio-jugar-en-boca-juniors/\n",
      "https://www.infobae.com/salud/ciencia/2023/08/09/empieza-la-inscripcion-de-la-2-edicion-del-premio-cesar-milstein-en-honor-al-nobel-argentino-que-cambio-la-ciencia-para-siempre/\n",
      "https://www.infobae.com/teleshow/2023/08/09/las-vacaciones-de-chrissy-teigen-en-mexico-los-dias-de-leonardo-dicaprio-y-tobey-maguire-en-un-yate-en-ibiza-celebrities-en-un-click/\n",
      "https://www.infobae.com/estados-unidos/2023/08/09/la-casa-blanca-anunciara-nuevas-restricciones-a-las-inversiones-en-china/\n",
      "https://www.infobae.com/historias/2023/08/09/dejen-que-tenga-mi-bebe-y-luego-matenme-el-ruego-de-sharon-tate-en-la-sangrienta-noche-que-el-clan-manson-la-asesino/\n",
      "https://www.infobae.com/entretenimiento/2023/08/08/autopsia-revelo-la-verdadera-causa-de-la-muerte-del-nieto-de-robert-de-niro/\n",
      "https://www.infobae.com/deportes/2023/08/09/estallaron-los-memes-por-la-eliminacion-de-river-plate-de-la-libertadores-los-cambios-de-demichelis-y-los-penales-en-el-foco/\n",
      "https://www.infobae.com/historias/2023/08/09/el-dia-que-el-aire-se-prendio-fuego-y-la-gente-de-desintegro-el-estremecedor-relato-de-los-sobrevivientes-de-nagasaki/\n",
      "https://www.infobae.com/sociedad/2023/08/09/la-pareja-que-se-fue-al-campo-en-la-pandemia-y-resucitara-una-pulperia-para-darle-vida-a-un-pequeno-pueblo/\n",
      "https://www.infobae.com/educacion/2023/08/09/dos-alumnos-argentinos-en-la-elite-global-de-la-matematica-ganaron-medallas-en-la-olimpiada-en-japon/\n",
      "https://www.infobae.com/sociedad/2023/08/09/fallo-inusual-en-general-roca-un-hombre-reconocio-voluntariamente-a-su-hijo-antes-de-llegar-a-juicio/\n",
      "https://www.infobae.com/sociedad/policiales/2023/08/09/indagan-hoy-al-cantante-kaleb-di-masi-por-los-choques-y-el-intento-de-fuga-en-villa-urquiza/\n",
      "https://www.infobae.com/venezuela/2023/08/09/amnistia-internacional-pidio-al-regimen-de-maduro-condiciones-de-detencion-dignas-para-el-ex-dirigente-guillermo-zarraga/\n",
      "https://www.infobae.com/deportes/2023/08/09/se-confirmo-el-horario-del-partido-del-inter-miami-de-messi-ante-charlotte-por-la-leagues-cup-el-premio-extra-que-lograrian-si-triunfan/\n",
      "https://www.infobae.com/judiciales/2023/08/09/casacion-anulo-la-absolucion-de-milani-por-enriquecimiento-ilicito-ordeno-dictar-una-nueva-sentencia-apuntando-a-la-condena/\n",
      "https://www.infobae.com/sociedad/2023/08/09/susana-trimarco-dara-hoy-una-conferencia-tras-el-hallazgo-de-pruebas-sobre-la-presunta-muerte-marita-veron/\n",
      "https://www.infobae.com/deportes/2023/08/09/fanatica-de-mascherano-y-una-guerrera-de-la-vida-la-cautivadora-historia-de-la-psicologa-que-jugara-con-argentina-el-primer-mundial-femenino-para-no-videntes/\n",
      "https://www.infobae.com/politica/2023/08/09/alberto-fernandez-concurrira-a-la-cumbre-del-g-77-en-cuba-a-mediados-de-septiembre/\n",
      "https://www.infobae.com/economia/2023/08/09/cuanto-cuesta-el-boleto-de-colectivo-en-las-ciudades-del-interior-y-cuanto-aporta-nacion-en-subsidios/\n",
      "https://www.infobae.com/sociedad/policiales/2023/08/09/giro-en-la-causa-por-abusos-sexuales-y-estafas-en-una-escuela-espiritual-en-alta-gracia/\n",
      "https://www.infobae.com/entretenimiento/2023/08/09/el-sacrificio-secreto-de-sandra-bullock-para-poder-cuidar-a-bryan-randall-en-su-dura-enfermedad/\n",
      "https://www.infobae.com/economia/2023/08/09/la-inflacion-en-alimentos-vuelve-a-despegar-y-crece-la-brecha-de-precios-entre-supermercados-y-almacenes/\n",
      "https://www.infobae.com/sociedad/2023/08/09/cuando-la-distancia-de-las-grandes-ciudades-hace-mas-dificil-la-busqueda-de-un-hijo-con-la-ayuda-de-la-ciencia/\n",
      "https://www.infobae.com/entretenimiento/2023/08/09/el-detalle-en-una-foto-de-shakira-que-acrecienta-los-rumores-sobre-un-romance-con-lewis-hamilton/\n",
      "https://www.infobae.com/sociedad/2023/08/09/paso-de-barrer-calles-y-trabajar-en-un-taller-a-ser-la-primera-mujer-chofer-de-ambulancia-de-la-pampa/\n",
      "https://www.infobae.com/economia/2023/08/09/por-tercer-mes-consecutivo-argentina-tuvo-superavit-turistico/\n",
      "https://www.infobae.com/historia/2023/08/09/el-calvario-de-la-venus-hotentote-la-joven-africana-esclavizada-violada-y-exhibida-como-fenomeno-de-circo/\n",
      "https://www.infobae.com/salud/2023/08/09/los-cinco-alimentos-que-hay-que-limitar-para-prevenir-la-hipertension-arterial/\n",
      "https://www.infobae.com/salud/2023/08/09/el-gobierno-bonaerense-emitio-un-alerta-epidemiologica-por-un-brote-de-triquinosis-cuales-son-los-sintomas-y-como-prevenirla/\n",
      "https://www.infobae.com/fotos/2023/08/09/40-fotos-un-brindis-de-bienvenida-en-honor-al-nuevo-embajador-de-brasil-julio-glinternick-bitelli/\n",
      "https://www.infobae.com/teleshow/2023/08/09/flores-y-mariposas-en-el-jardin-de-las-hadas-asi-fue-el-festejo-de-cumpleanos-de-azul-la-hija-menor-de-dalma-maradona/\n",
      "https://www.infobae.com/inhouse/2023/08/09/como-invertir-de-forma-simple-y-en-todo-momento-desde-el-celular/\n",
      "https://www.infobae.com/inhouse/2023/08/09/campo-argentino-como-funciona-el-innovador-sistema-de-distribucion-de-fitosanitarios-a-granel/\n",
      "https://www.infobae.com/inhouse/2023/08/09/vistas-panoramicas-gimnasio-en-altura-y-piscinas-infinitas-por-que-los-desarrollos-inmobiliarios-con-amenities-son-los-mas-elegidos/\n",
      "https://www.infobae.com/inhouse/2023/08/09/como-derribar-ciertos-mitos-sobre-higiene-urbana-para-tener-una-ciudad-mas-limpia/\n",
      "https://www.infobae.com/educacion/2023/08/09/el-programa-de-potenciar-solidario-que-busca-reducir-la-brecha-digital-en-contextos-vulnerables/\n",
      "https://www.infobae.com/educacion/2023/08/09/hasta-que-edad-se-puede-seguir-aprendiendo-la-educacion-y-el-prejuicio-del-edadismo/\n",
      "https://www.infobae.com/educacion/2023/07/31/por-que-latinoamerica-necesita-hacer-mas-ciencia-propia-en-la-region/\n",
      "https://www.infobae.com/politica/2023/08/09/juan-grabois-cerrara-hoy-su-campana-en-el-estadio-malvinas-argentinas/\n",
      "https://www.infobae.com/politica/2023/08/09/santoro-cerro-su-campana-junto-a-massa-y-afirmo-que-busca-ser-el-precandidato-mas-votado-nada-es-imposible/\n",
      "https://www.infobae.com/politica/2023/08/09/larreta-y-vidal-llegan-a-entre-rios-para-reforzar-el-respaldo-frigerio-en-el-cierre-de-campana-de-las-paso/\n",
      "https://www.infobae.com/politica/2023/08/09/restan-dos-dias-de-campana-y-los-candidatos-no-alcanzan-a-decodificar-del-todo-el-clima-para-las-paso/\n",
      "https://www.infobae.com/economia/2023/08/09/la-aceleracion-de-la-devaluacion-comenzo-a-frenar-la-liquidacion-de-exportadores-a-traves-del-dolar-agro/\n",
      "https://www.infobae.com/economist/2023/08/09/america-latina-podria-convertirse-en-la-superpotencia-de-materias-primas-de-este-siglo/\n",
      "https://www.infobae.com/sociedad/policiales/2023/08/09/rosario-un-joven-fue-asesinado-de-un-tiro-en-la-cabeza-mientras-trabajaba-en-un-taller-mecanico/\n",
      "https://www.infobae.com/america/ciencia-america/2023/08/09/por-que-el-consumo-de-azucar-agregada-podria-aumentar-el-riesgo-de-calculos-renales/\n",
      "https://www.infobae.com/salud/2023/08/09/existe-una-relacion-entre-el-tipo-de-personalidad-y-un-aumento-en-el-riesgo-de-sufrir-un-infarto/\n",
      "https://www.infobae.com/america/ciencia-america/2023/08/09/control-del-apetito-que-parte-del-cerebro-es-diferente-en-personas-con-sobrepeso-u-obesidad/\n",
      "https://www.infobae.com/america/ciencia-america/2023/08/09/la-contaminacion-del-aire-es-un-factor-clave-en-la-resistencia-a-los-antibioticos-segun-un-estudio/\n",
      "https://www.infobae.com/salud/2023/08/09/las-autolesiones-un-sintoma-de-dolor-psiquico-y-sufrimiento-emocional-en-los-jovenes/\n",
      "https://www.infobae.com/america/medio-ambiente/2023/08/09/develan-las-razones-de-la-misteriosa-desaparicion-de-las-esponjas-de-coral/\n",
      "https://www.infobae.com/leamos/2023/08/09/volvio-el-iconico-detective-marlowe-de-raymond-chandler-pero-esta-vez-escrito-por-una-mujer-esta-a-la-altura-del-original/\n",
      "https://www.infobae.com/leamos/2023/08/09/vuelve-el-festival-borgespalooza-cuando-y-donde-celebrar-a-la-gran-bestia-pop-de-la-literatura/\n",
      "https://www.infobae.com/sociedad/policiales/2023/08/09/por-un-ajuste-de-cuentas-narco-detuvieron-a-ocho-personas-que-secuestraron-e-hirieron-gravemente-a-un-hombre-en-salta/\n",
      "https://www.infobae.com/malditos-nerds/2023/08/09/en-video-5-juegos-espaciales-que-nos-recuerdan-a-space-mechanic-simulator/\n",
      "https://www.infobae.com/malditos-nerds/2023/08/09/noticias-la-franquicia-de-alien-llegara-a-dead-by-daylight-a-fin-de-mes/\n",
      "https://www.infobae.com/malditos-nerds/2023/08/09/noticias-el-ceo-de-take-two-defiende-el-precio-de-red-dead-redemption-en-nintendo-switch/\n",
      "https://www.infobae.com/malditos-nerds/2023/08/08/noticias-the-changeling-la-nueva-serie-de-horror-y-fantasia-de-apple-tv-presenta-su-trailer/\n",
      "https://www.infobae.com/que-puedo-ver/2023/08/09/juego-limpio-netflix-revela-trailer-de-la-erotica-pelicula-con-phoebe-dynevor-y-alden-ehrenreich/\n",
      "https://www.infobae.com/que-puedo-ver/2023/08/09/entre-leyes-y-romances-el-abogado-del-lincoln-supera-a-heartstopper-en-el-top-10-de-netflix/\n",
      "https://www.infobae.com/que-puedo-ver/2023/08/09/llega-a-star-la-nueva-temporada-de-greys-anatomy-y-ellen-pompeo-se-alista-para-decir-adios/\n",
      "https://www.infobae.com/teleshow/2023/08/09/el-conmovedor-mensaje-de-la-madre-de-wanda-nara-tras-hablar-de-su-enfermedad-una-mas-vos-podes/\n",
      "https://www.infobae.com/teleshow/2023/08/09/caramelito-carrizo-confirmo-su-reconciliacion-con-su-exmarido-y-hablo-de-su-vinculo-con-coco-sily-no-es-una-situacion-linda/\n",
      "https://www.infobae.com/teleshow/2023/08/09/alex-caniggia-le-dedico-un-tierno-mensaje-a-su-hija-venezia-todo-el-dia-asi-superpapa/\n",
      "https://www.infobae.com/teleshow/2023/08/09/rodeada-de-sus-fanaticos-y-en-su-casa-lia-crucet-cumplio-71-anos-estaba-contenta-y-la-paso-muy-bien/\n",
      "https://www.infobae.com/deportes/2023/08/09/lapidaria-frase-de-zanetti-sobre-lukaku-me-decepciono-como-hombre/\n",
      "https://www.infobae.com/deportes/2023/08/09/el-extrano-metodo-de-entrenamiento-de-la-numero-1-del-tenis-iga-swiatek-por-que-se-tapa-la-boca-con-cinta/\n",
      "https://www.infobae.com/deportes/2023/08/09/boca-juniors-recibe-a-nacional-con-el-objetivo-de-avanzar-a-los-cuartos-de-final-de-la-copa-libertadores-hora-tv-y-formaciones/\n",
      "https://www.infobae.com/deportes/2023/08/09/el-pedido-del-chacho-coudet-tras-vencer-a-river-plate-y-avanzar-a-cuartos-de-final-de-la-copa-libertadores/\n",
      "https://www.infobae.com/cultura/2023/08/09/de-como-un-bohemio-logro-capturar-el-espiritu-de-estados-unidos-a-traves-de-su-musica/\n",
      "https://www.infobae.com/cultura/2023/08/09/el-arte-que-argentina-enviara-al-g20-un-poema-un-poncho-y-una-fotoperformance-de-marta-minujin/\n",
      "https://www.infobae.com/cultura/2023/08/09/magritte-cumple-125-anos-de-su-nacimiento-y-bruselas-lo-celebra-a-lo-grande/\n",
      "https://www.infobae.com/cultura/2023/08/09/herencia-de-heraclito-homero-y-platon-cuales-fueron-los-primeros-usos-de-la-palabra-filosofia/\n",
      "https://www.infobae.com/opinion/2023/08/09/lideres-progresistas-o-magos-de-la-decepcion/\n",
      "https://www.infobae.com/opinion/2023/08/09/la-falta-de-propuestas-educativas-en-las-campanas-politicas/\n",
      "https://www.infobae.com/opinion/2023/08/09/israel-apto-para-todo-publico/\n",
      "https://www.infobae.com/tecno/2023/08/09/whatsapp-aumenta-la-seguridad-con-este-metodo-sin-contrasenas/\n",
      "https://www.infobae.com/cultura/2023/08/09/inauguraron-una-replica-del-guernica-de-pablo-picasso-en-la-costanera-de-viedma/\n",
      "https://www.infobae.com/politica/2023/08/09/axel-kicillof-cierra-hoy-su-campana-por-la-reeleccion-acompanado-por-sergio-massa-y-wado-de-pedro/\n",
      "https://www.infobae.com/deportes/2023/08/09/la-efusiva-reaccion-de-un-guardia-de-seguridad-al-ver-el-gol-de-tiro-libre-de-lionel-messi/\n",
      "https://www.infobae.com/espana/2023/08/09/fernando-alonso-se-reivindica-y-responde-a-alpine-no-se-trata-de-ser-joven-sino-el-mas-rapido/\n"
     ]
    }
   ],
   "source": [
    "urls_concat = ''\n",
    "\n",
    "for article in source.articles:\n",
    "        urls_concat += article.url\n",
    "        print(article.url)"
   ]
  },
  {
   "cell_type": "code",
   "execution_count": 27,
   "metadata": {},
   "outputs": [
    {
     "name": "stdout",
     "output_type": "stream",
     "text": [
      "No detectado\n"
     ]
    }
   ],
   "source": [
    "urls_concat \n",
    "import re\n",
    "detect = re.search('alias', urls_concat)\n",
    "if detect:\n",
    "    print('Detectado')\n",
    "else:\n",
    "    print('No detectado')\n"
   ]
  },
  {
   "cell_type": "code",
   "execution_count": 45,
   "metadata": {},
   "outputs": [
    {
     "name": "stdout",
     "output_type": "stream",
     "text": [
      "97\n"
     ]
    }
   ],
   "source": [
    "source_size = source.size()\n",
    "print(source_size)"
   ]
  },
  {
   "cell_type": "code",
   "execution_count": 46,
   "metadata": {},
   "outputs": [
    {
     "name": "stdout",
     "output_type": "stream",
     "text": [
      "[False, False, False, False, False, False, False, False, False, False, False, False, False, False, False, False, False, False, False, False, False, False, False, False, False, False, False, False, False, False, False, False, False, False, False, False, False, False, False, False, False, False, False, False, False, False, False, False, False, False, False, False, False, False, False, False, False, False, False, False, False, False, False, False, False, False, False, False, False, False, False, False, False, False, False, False, False, False, False, False, False, False, False, False, False, False, False, False, False, False, False, False, False, False, False, False, False]\n"
     ]
    },
    {
     "data": {
      "text/plain": [
       "97"
      ]
     },
     "execution_count": 46,
     "metadata": {},
     "output_type": "execute_result"
    }
   ],
   "source": [
    "target_articles = [False] * source_size\n",
    "print(target_articles)\n",
    "len(target_articles)\n",
    "#target_articles[3] = True\n",
    "#print(target_articles)"
   ]
  },
  {
   "cell_type": "code",
   "execution_count": 18,
   "metadata": {},
   "outputs": [],
   "source": [
    "def evaluate_matches(urlshort, keywords):\n",
    "    \"\"\"Evaluate the similarity between a urlshort and a list of keywords.\"\"\"\n",
    "    # Normalize urlshort and keywords\n",
    "    keywords_string = \" \".join(keywords)    \n",
    "\n",
    "    normalized_urlshort = normalize_text(urlshort)\n",
    "    normalized_keywords = normalize_text(keywords_string)\n",
    "\n",
    "\n",
    "    normalized_keywords = [normalize_text(keyword) for keyword in keywords]\n",
    "    \n",
    "    # Flatten the list of keywords (since some keywords can be multi-word phrases)\n",
    "    flat_keywords = [word for sublist in normalized_keywords for word in sublist]\n",
    "    \n",
    "    # Find matches\n",
    "    matches = [word for word in normalized_urlshort if word in flat_keywords]\n",
    "    \n",
    "    # Calculate the score\n",
    "    score = round( len(matches) / len(normalized_urlshort), ndigits=2)\n",
    "    \n",
    "    return score, matches"
   ]
  },
  {
   "cell_type": "code",
   "execution_count": 28,
   "metadata": {},
   "outputs": [
    {
     "name": "stdout",
     "output_type": "stream",
     "text": [
      "['https://www.infobae.com/economia/2023/08/08/el-conflicto-sin-fin-de-lacteos-vidal-el-juez-quedo-de-rehen-de-la-mafia-sindical-denuncio-su-duena/', 'https://www.infobae.com/deportes/2023/08/08/el-curioso-detalle-de-lionel-messi-en-los-segundos-previos-a-la-ejecucion-del-tiro-libre-frente-a-fc-dallas/', 'https://www.infobae.com/salud/2023/08/08/luces-y-sombras-de-la-nueva-droga-inyectable-para-el-tratamiento-de-la-obesidad-segun-los-expertos/', 'https://www.infobae.com/america/2023/08/08/conmocion-por-un-brutal-femicidio-en-uruguay-la-secuestro-su-ex-pareja-y-la-mato-al-chocar-contra-un-peaje/', 'https://www.infobae.com/deportes/2023/08/08/los-detalles-del-operativo-inedito-para-evitar-nuevos-incidentes-entre-boca-juniors-y-nacional-sin-banderazos-y-con-horario-de-ingreso-exclusivo/', 'https://www.infobae.com/sociedad/2023/08/08/la-primera-conquista-del-desierto-la-operacion-militar-que-condujo-rosas-y-el-insolito-encuentro-con-darwin/', 'https://www.infobae.com/sociedad/2023/08/08/el-cordobes-que-instalo-carteles-con-el-alfabeto-de-senas-en-las-plazas-para-integrar-a-chicos-hipoacusicos/', 'https://www.infobae.com/judiciales/2023/08/08/prescribio-el-caso-por-el-triple-crimen-de-general-rodriguez-sin-saber-quien-fue-el-autor-intelectual/', 'https://www.infobae.com/cultura/2023/08/08/hernan-casciari-y-la-serie-del-dibu-martinez-queremos-que-funcione-no-a-base-de-algoritmo-sino-de-corazon/']\n",
      "[['mafi'], ['ejecucion'], ['drog'], ['secuestr'], ['oper'], ['oper'], ['cartel'], ['crim'], ['bas']]\n"
     ]
    }
   ],
   "source": [
    "urls_matches = []\n",
    "found_matches = []\n",
    "for article in source.articles:\n",
    "    \n",
    "    url = article.url\n",
    "    match_score, found_match = evaluate_matches(url, keywords)\n",
    "    \n",
    "    if match_score > 0:\n",
    "        urls_matches.append(url) \n",
    "        found_matches.append(found_match)\n",
    "\n",
    "print(urls_matches)\n",
    "print(found_matches)\n"
   ]
  },
  {
   "cell_type": "code",
   "execution_count": 51,
   "metadata": {},
   "outputs": [],
   "source": [
    "def compute_max_similarity(url, topic_word, wordvec):\n",
    "    \"\"\"\n",
    "    Compute the median similarity score between a topic word and all words in a URL.      \n",
    "    Returns:\n",
    "    - float: The median similarity score.\n",
    "    \"\"\"\n",
    "    text = url.lower()\n",
    "    text = re.sub(r'https?://', '', text)  # remove http/https\n",
    "    text = re.sub(r'[\\W_]+', ' ', text)    # replace non-alphanumeric characters with space\n",
    "    text = re.sub(r'[0-9]', ' ', text)    # replace numeric characters with space    \n",
    "    url_words = [word for word in text.split() if word not in spanish_stopwords_spacy]\n",
    "    \n",
    "    # Compute cosine similarity scores\n",
    "    scores = []\n",
    "    for word in url_words:\n",
    "        if word in wordvec:            \n",
    "            v_url_word = wordvec[word]\n",
    "            v_topic = wordvec[topic_word]        \n",
    "            similarity = wordvec.similarity(word, topic_word)\n",
    "            scores.append(similarity)   \n",
    "    \n",
    "    # Return \n",
    "\n",
    "    return np.max(scores)"
   ]
  },
  {
   "cell_type": "code",
   "execution_count": 39,
   "metadata": {},
   "outputs": [],
   "source": [
    "from gensim.models.keyedvectors import KeyedVectors\n",
    "def load_embeddings(path='models/wiki.es.vec', limit=100000):\n",
    "    \"\"\"\n",
    "    Load the word embeddings from the specified path.    \n",
    "    Args:\n",
    "    - path (str): Path to the embeddings model.\n",
    "    - limit (int): Limit the number of word vectors loaded.\n",
    "    \n",
    "    Returns:\n",
    "    - KeyedVectors: Loaded word vectors.\n",
    "    \"\"\"\n",
    "    return KeyedVectors.load_word2vec_format(path, limit=limit)"
   ]
  },
  {
   "cell_type": "code",
   "execution_count": 43,
   "metadata": {},
   "outputs": [],
   "source": [
    "wordvectors = load_embeddings(path='/home/sebacastillo/willow/models/wiki.es.vec', limit=100000)"
   ]
  },
  {
   "cell_type": "code",
   "execution_count": 60,
   "metadata": {},
   "outputs": [],
   "source": [
    "import numpy as np\n",
    "max_sin_scores = []\n",
    "urls_second_match = []\n",
    "is_similar = []\n",
    "for url_match in urls_matches:\n",
    "    max_sin_score = compute_max_similarity(url_match, 'narcotráfico', wordvectors) \n",
    "    max_sin_scores.append(max_sin_score)\n",
    "    urls_second_match.append(url_match)\n",
    "    is_similar.append(max_sin_score>0.4) \n",
    "\n",
    "df = pl.DataFrame({\n",
    "    \"max_sin_scores\": max_sin_scores,\n",
    "    \"urls_second_match\": urls_second_match,\n",
    "    \"is_similar\": is_similar\n",
    "}).sort('is_similar')    "
   ]
  },
  {
   "cell_type": "code",
   "execution_count": 70,
   "metadata": {},
   "outputs": [
    {
     "data": {
      "text/plain": [
       "4"
      ]
     },
     "execution_count": 70,
     "metadata": {},
     "output_type": "execute_result"
    }
   ],
   "source": [
    "df[\"is_similar\"].sum()\n"
   ]
  },
  {
   "cell_type": "code",
   "execution_count": 71,
   "metadata": {},
   "outputs": [
    {
     "data": {
      "text/html": [
       "<div><style>\n",
       ".dataframe > thead > tr > th,\n",
       ".dataframe > tbody > tr > td {\n",
       "  text-align: right;\n",
       "}\n",
       "</style>\n",
       "<small>shape: (4, 3)</small><table border=\"1\" class=\"dataframe\"><thead><tr><th>max_sin_scores</th><th>urls_second_match</th><th>is_similar</th></tr><tr><td>f64</td><td>str</td><td>i64</td></tr></thead><tbody><tr><td>0.539085</td><td>&quot;https://www.in…</td><td>1</td></tr><tr><td>0.605253</td><td>&quot;https://www.in…</td><td>1</td></tr><tr><td>0.546821</td><td>&quot;https://www.in…</td><td>1</td></tr><tr><td>0.609395</td><td>&quot;https://www.in…</td><td>1</td></tr></tbody></table></div>"
      ],
      "text/plain": [
       "shape: (4, 3)\n",
       "┌────────────────┬───────────────────────────────────┬────────────┐\n",
       "│ max_sin_scores ┆ urls_second_match                 ┆ is_similar │\n",
       "│ ---            ┆ ---                               ┆ ---        │\n",
       "│ f64            ┆ str                               ┆ i64        │\n",
       "╞════════════════╪═══════════════════════════════════╪════════════╡\n",
       "│ 0.539085       ┆ https://www.infobae.com/economia… ┆ 1          │\n",
       "│ 0.605253       ┆ https://www.infobae.com/salud/20… ┆ 1          │\n",
       "│ 0.546821       ┆ https://www.infobae.com/america/… ┆ 1          │\n",
       "│ 0.609395       ┆ https://www.infobae.com/judicial… ┆ 1          │\n",
       "└────────────────┴───────────────────────────────────┴────────────┘"
      ]
     },
     "execution_count": 71,
     "metadata": {},
     "output_type": "execute_result"
    }
   ],
   "source": [
    "df.filter(df['is_similar']==1)"
   ]
  }
 ],
 "metadata": {
  "kernelspec": {
   "display_name": ".willow",
   "language": "python",
   "name": ".willow"
  },
  "language_info": {
   "codemirror_mode": {
    "name": "ipython",
    "version": 3
   },
   "file_extension": ".py",
   "mimetype": "text/x-python",
   "name": "python",
   "nbconvert_exporter": "python",
   "pygments_lexer": "ipython3",
   "version": "3.9.13"
  },
  "orig_nbformat": 4
 },
 "nbformat": 4,
 "nbformat_minor": 2
}
