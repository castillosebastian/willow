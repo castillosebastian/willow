{
 "cells": [
  {
   "cell_type": "code",
   "execution_count": 1,
   "metadata": {},
   "outputs": [],
   "source": [
    "import polars as pl\n",
    "import numpy as np\n",
    "import re\n",
    "from nltk.stem.snowball import SnowballStemmer\n",
    "from gensim.models.keyedvectors import KeyedVectors\n",
    "from bs4 import BeautifulSoup\n",
    "import string\n",
    "import spacy\n",
    "\n",
    "# Stopword and stemer\n",
    "stemmer = SnowballStemmer(\"spanish\")\n",
    "nlp = spacy.load(\"es_core_news_sm\")\n",
    "spanish_stopwords_spacy = spacy.lang.es.stop_words.STOP_WORDS\n"
   ]
  },
  {
   "cell_type": "code",
   "execution_count": 2,
   "metadata": {},
   "outputs": [],
   "source": [
    "def load_embeddings(path=\"/home/sebacastillo/willow/models/wiki.es.vec\", limit=100000):\n",
    "    \"\"\"\n",
    "    Load the word embeddings from the specified path.\n",
    "    Args:\n",
    "    - path (str): Path to the embeddings model.\n",
    "    - limit (int): Limit the number of word vectors loaded.\n",
    "\n",
    "    Returns:\n",
    "    - KeyedVectors: Loaded word vectors.\n",
    "    \"\"\"\n",
    "    return KeyedVectors.load_word2vec_format(path, limit=limit)"
   ]
  },
  {
   "cell_type": "code",
   "execution_count": 3,
   "metadata": {},
   "outputs": [],
   "source": [
    "wordvec = load_embeddings()\n"
   ]
  },
  {
   "cell_type": "code",
   "execution_count": 11,
   "metadata": {},
   "outputs": [],
   "source": [
    "url = 'https://www.infobae.com/economia/2023/08/14/el-bcra-devaluo-dolar-droga-a-350-fijo-narcotráfico-las-elecciones-y-suba-de-tasa-al-118-por-ciento/'"
   ]
  },
  {
   "cell_type": "code",
   "execution_count": 12,
   "metadata": {},
   "outputs": [],
   "source": [
    "import re\n",
    "text = url.lower()\n",
    "text = re.sub(r\"https?://\", \"\", text)  # remove http/https\n",
    "text = re.sub(\n",
    "    r\"[\\W_]+\", \" \", text\n",
    ")  # replace non-alphanumeric characters with space\n",
    "text = re.sub(r\"[0-9]\", \" \", text)  # replace numeric characters with space\n",
    "url_words = [word for word in text.split() if word not in spanish_stopwords_spacy]\n"
   ]
  },
  {
   "cell_type": "code",
   "execution_count": 13,
   "metadata": {},
   "outputs": [
    {
     "data": {
      "text/plain": [
       "['www',\n",
       " 'infobae',\n",
       " 'com',\n",
       " 'economia',\n",
       " 'bcra',\n",
       " 'devaluo',\n",
       " 'dolar',\n",
       " 'droga',\n",
       " 'fijo',\n",
       " 'narcotráfico',\n",
       " 'elecciones',\n",
       " 'suba',\n",
       " 'tasa',\n",
       " 'ciento']"
      ]
     },
     "execution_count": 13,
     "metadata": {},
     "output_type": "execute_result"
    }
   ],
   "source": [
    "url_words"
   ]
  },
  {
   "cell_type": "code",
   "execution_count": 7,
   "metadata": {},
   "outputs": [
    {
     "name": "stdout",
     "output_type": "stream",
     "text": [
      "narcotráfico\n"
     ]
    }
   ],
   "source": [
    "topic = 'narcotráfico'\n",
    "print(topic)"
   ]
  },
  {
   "cell_type": "code",
   "execution_count": 16,
   "metadata": {},
   "outputs": [
    {
     "data": {
      "text/plain": [
       "True"
      ]
     },
     "execution_count": 16,
     "metadata": {},
     "output_type": "execute_result"
    }
   ],
   "source": [
    "'trafico' in wordvec"
   ]
  },
  {
   "cell_type": "code",
   "execution_count": 17,
   "metadata": {},
   "outputs": [
    {
     "name": "stdout",
     "output_type": "stream",
     "text": [
      "www\n",
      "narcotráfico\n",
      "0.12122729\n",
      "infobae\n",
      "narcotráfico\n",
      "0.3483704\n",
      "com\n",
      "narcotráfico\n",
      "0.13672991\n",
      "economia\n",
      "narcotráfico\n",
      "0.24278423\n",
      "dolar\n",
      "narcotráfico\n",
      "0.2998347\n",
      "droga\n",
      "narcotráfico\n",
      "0.60525346\n",
      "fijo\n",
      "narcotráfico\n",
      "0.14581311\n",
      "narcotráfico\n",
      "narcotráfico\n",
      "1.0\n",
      "elecciones\n",
      "narcotráfico\n",
      "0.26341924\n",
      "suba\n",
      "narcotráfico\n",
      "0.20002475\n",
      "tasa\n",
      "narcotráfico\n",
      "0.22669348\n",
      "ciento\n",
      "narcotráfico\n",
      "0.22946738\n"
     ]
    }
   ],
   "source": [
    "for word in url_words:\n",
    "        if word in wordvec:\n",
    "                print(word), print(topic)\n",
    "                similarity = wordvec.similarity(word, topic)\n",
    "                print(similarity)\n",
    "   \n",
    "        \n"
   ]
  }
 ],
 "metadata": {
  "kernelspec": {
   "display_name": ".willow",
   "language": "python",
   "name": ".willow"
  },
  "language_info": {
   "codemirror_mode": {
    "name": "ipython",
    "version": 3
   },
   "file_extension": ".py",
   "mimetype": "text/x-python",
   "name": "python",
   "nbconvert_exporter": "python",
   "pygments_lexer": "ipython3",
   "version": "3.9.13"
  },
  "orig_nbformat": 4
 },
 "nbformat": 4,
 "nbformat_minor": 2
}
