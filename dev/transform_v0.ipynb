{
 "cells": [
  {
   "cell_type": "markdown",
   "metadata": {},
   "source": [
    "# etl: Transform"
   ]
  },
  {
   "cell_type": "code",
   "execution_count": 104,
   "metadata": {},
   "outputs": [],
   "source": [
    "import polars as pl\n",
    "import re \n",
    "import time\n",
    "def view_string(long_string, chunk_size=100):     \n",
    "    return [long_string[i:i+chunk_size] for i in range(0, len(long_string), chunk_size)]"
   ]
  },
  {
   "cell_type": "code",
   "execution_count": 105,
   "metadata": {},
   "outputs": [],
   "source": [
    "df_clean = pl.read_csv(   \n",
    "    '/home/sebacastillo/willow/output/news_narcotráfico_related_2023-08-16_1355.csv',\n",
    "    dtypes={\"content_hash\": pl.UInt64},     \n",
    ")"
   ]
  },
  {
   "cell_type": "code",
   "execution_count": 106,
   "metadata": {},
   "outputs": [
    {
     "name": "stdout",
     "output_type": "stream",
     "text": [
      "(44, 14)\n",
      "['date_extract', 'date_article', 'topic', 'content', 'link', 'link_sim_score', 'title', 'summary', 'authors', 'portal', 'state', 'city', 'content_hash', 'content_nchar']\n"
     ]
    },
    {
     "data": {
      "text/plain": [
       "(None, None)"
      ]
     },
     "execution_count": 106,
     "metadata": {},
     "output_type": "execute_result"
    }
   ],
   "source": [
    "print(df_clean.shape), print(df_clean.columns)"
   ]
  },
  {
   "cell_type": "code",
   "execution_count": 107,
   "metadata": {},
   "outputs": [
    {
     "data": {
      "text/html": [
       "<div><style>\n",
       ".dataframe > thead > tr > th,\n",
       ".dataframe > tbody > tr > td {\n",
       "  text-align: right;\n",
       "}\n",
       "</style>\n",
       "<small>shape: (1, 14)</small><table border=\"1\" class=\"dataframe\"><thead><tr><th>date_extract</th><th>date_article</th><th>topic</th><th>content</th><th>link</th><th>link_sim_score</th><th>title</th><th>summary</th><th>authors</th><th>portal</th><th>state</th><th>city</th><th>content_hash</th><th>content_nchar</th></tr><tr><td>str</td><td>str</td><td>str</td><td>str</td><td>str</td><td>f64</td><td>str</td><td>str</td><td>str</td><td>str</td><td>str</td><td>str</td><td>u64</td><td>i64</td></tr></thead><tbody><tr><td>&quot;2023-08-16 13:…</td><td>&quot;2023-08-16T13:…</td><td>&quot;narcotráfico&quot;</td><td>&quot;Seguinos Por L…</td><td>&quot;https://www.la…</td><td>0.561929</td><td>&quot;Condenaron a s…</td><td>&quot;Brian está det…</td><td>&quot;n-a&quot;</td><td>&quot;https://www.ar…</td><td>&quot;Santa Fe&quot;</td><td>&quot;Rosario&quot;</td><td>9259959111029284149</td><td>4543</td></tr></tbody></table></div>"
      ],
      "text/plain": [
       "shape: (1, 14)\n",
       "┌────────────┬────────────┬───────────┬───────────┬───┬──────────┬─────────┬───────────┬───────────┐\n",
       "│ date_extra ┆ date_artic ┆ topic     ┆ content   ┆ … ┆ state    ┆ city    ┆ content_h ┆ content_n │\n",
       "│ ct         ┆ le         ┆ ---       ┆ ---       ┆   ┆ ---      ┆ ---     ┆ ash       ┆ char      │\n",
       "│ ---        ┆ ---        ┆ str       ┆ str       ┆   ┆ str      ┆ str     ┆ ---       ┆ ---       │\n",
       "│ str        ┆ str        ┆           ┆           ┆   ┆          ┆         ┆ u64       ┆ i64       │\n",
       "╞════════════╪════════════╪═══════════╪═══════════╪═══╪══════════╪═════════╪═══════════╪═══════════╡\n",
       "│ 2023-08-16 ┆ 2023-08-16 ┆ narcotráf ┆ Seguinos  ┆ … ┆ Santa Fe ┆ Rosario ┆ 925995911 ┆ 4543      │\n",
       "│ 13:46:02   ┆ T13:53:58. ┆ ico       ┆ Por Leo   ┆   ┆          ┆         ┆ 102928414 ┆           │\n",
       "│            ┆ 456107     ┆           ┆ Graciaren ┆   ┆          ┆         ┆ 9         ┆           │\n",
       "│            ┆            ┆           ┆ a  La …   ┆   ┆          ┆         ┆           ┆           │\n",
       "└────────────┴────────────┴───────────┴───────────┴───┴──────────┴─────────┴───────────┴───────────┘"
      ]
     },
     "execution_count": 107,
     "metadata": {},
     "output_type": "execute_result"
    }
   ],
   "source": [
    "df_clean.head(1)"
   ]
  },
  {
   "cell_type": "code",
   "execution_count": 20,
   "metadata": {},
   "outputs": [
    {
     "data": {
      "text/plain": [
       "' El usuario o la contraseña son incorrectos. Si ya estás registrado en Diario el Tribuno de Salta\\n\\t\\t\\t                    \\t\\t            completá tu usuario y contraseña: Error durante el registro.   \\n14 DE Agosto 2023 - 03:48\\n                                Especialistas salteños desmitificaron algunos secretos.\\n                             El pasado 26 de julio, un comunicado de la Administración Nacional de Medicamentos, Alimentos y Tecnología Médica (ANMAT) generó revuelo. La autorización de inscripción de la ya famosa Ozempic, la droga de moda que usan los famosos para bajar de peso, hizo pensar a muchos que su milagro estaba en puertas. En algunos países de Europa y en Estados Unidos, este medicamento ganó su fama en las redes sociales, en donde se muestra que el Ozempic sirve para perder peso. Incluso hay celebridades de la talla de Lady Gaga, Kim Kardashian y hasta Elon Musk que reconocen haberlo consumido, sin mediar en consecuencias. El fármaco es un medicamento inyectable hecho con semaglutida, que se utiliza en pacientes con obesidad y diabetes tipo 2, para reducir el peso y regular los niveles de insulina en la sangre. El lunes último, la ANMAT tuvo que salir a explicar el proceso administrativo que se debe llevar adelante para que Ozempic finalmente ingrese al mercado farmacéutico del país y cuáles serán las reglas que se deberán cumplir para su comercialización. LE PUEDE INTERESAR Elecciones 2023. Outes: \"Las PASO marcaron un resultado que nos compromete\" Elecciones 2023: Javier Milei arrasa también en las PASO de Salta El comunicado expresa que \"a raíz de las consultas recibidas, se informa que esta Administración Nacional autorizó, por disposición Nº 5591/2023, a la firma Novo Nordisk Pharma Argentina SA, la inscripción en el Registro de Especialidades Medicinales (REM) de la especialidad medicinal de nombre comercial Wegovy® y nombre genérico semaglutida. La condición de expendio es venta bajo receta. Asimismo, el titular del producto deberá cumplimentar lo establecido en el artículo 5 de la disposición mencionada, el cual dicta: \"Con carácter previo a la comercialización de la especialidad medicinal cuya inscripción se autoriza por la presente disposición, el titular deberá solicitar a esta Administración Nacional la autorización efectiva de comercialización notificando fecha de inicio de la importación del primer lote a comercializar a los fines de realizar la verificación técnica correspondiente\". El médico Bernardo Biella explicó cuáles son las reacciones que produce esta droga en el organismo. El profesional recordó que la semaglutida es un medicamento similar a la liraglutida, con casi los mismos componentes, y que se usa hace 10 años y se aplica en forma diaria y cutánea. En detalle, dijo que esta droga genera una sensación de saciedad. Esto hace que la persona sienta que pierde el apetito. También \"fideliza la unión de la insulina con el azúcar, para que el azúcar entre a la célula en los pacientes que tienen diabetes insulina resistente\", añadió. \"Recordemos que hay dos tipos de pacientes. Están aquellos que se inyectan la insulina y están los otros que tiene resistencia a la insulina. Al tener la insulina tan alta, se produce un aumento de peso y son después los pacientes con obesidad mórbida\", describió el profesional. Esta dosis quita la resistencia a la insulina y favorece el ingreso del azúcar a la célula. Esto permite que se saque derivados del azúcar que están en el hígado como el glucógeno y que se comiencen a utilizar los triglicéridos como provisión de energía para el cuerpo. Además, trabaja en las incretinas intestinales. Estas dan una sensación de estar satisfecho. \"He comido y estoy bien, estoy satisfecho\". Tal es así que esa sensación de satisfacción que genera la linglutida, se analiza para poder aplicarla en las personas que tienen adicción al juego, que padecen una ludopatía y también para los alcohólicos. Biella, al igual que el resto de los profesionales consultados como Susana Carrasco, presidente de la Cámara de Propietarios de Farmacias de Salta, y Romina Sosa, licenciada en Nutrición, recordaron que este medicamento está destinado a las personas con diabetes tipo 2 o insulinorresistentes, personas con sobrepeso grado II y III y obesidad mórbida. Que además están en tratamiento, con dieta y realizando ejercicios, y no obtienen los resultados deseados. La semaglutida se aplica de manera semanal y genera una reducción del 5 al 20 por ciento del peso, en 54 semanas a 108 semanas. Esto quiere decir que se requiere de al menos un año de tratamiento. Susana Carrasco, presidente de la Cámara de Propietarios de Farmacias de Salta, expresó que este medicamento requiere de indicación médica y aclaró que \"todavía no está autorizada su comecialización\". \"Los interesados en el tema tienen que saber que lo que ocurrió el 26 de julio pasado, es que se inscribió en el ANMAT y se dio inicio a un proceso, que toma su tiempo\", agregó. La representantes de los dueños de farmacias en Salta recordó que la monodroga de este medicamento es la semaglutida, que ya se comercializa en el país, pero en dosis más bajas. El nombre comercial de este producto, que es Wegovy®, se comercializa con la misma droga, también está el Ozempic que es del mismo laboratorio. Son productos de venta controlada y con asistencia médica. Carrasco agregó que Ozempic, que ya se comercializa, con una dosis menor tiene un costo de 73 mil pesos. Se trata de la dosis de 0,5 mg y la dosis de 1 mg se comercializa en 122.600.  \"Esos son los precios de la semaglutida que se comercializa. El Wegovy, que tiene una dosis de 2,4 mg. todavía no tiene precio ni está autorizada por ANMAT\", remarcó la profesional. Por su parte, el médico salteño Bernardo Biella recordó que estos medicamentos, si bien se venden con receta no tienen cobertura de las obras sociales. Romina Sosa, licenciada en Nutrición, destacó que estas drogas reducen la ansiedad. \"Creo que esta medicación requiere, además, del acompañamiento de un médico, psicólogo y nutricionista. No puede colocarse sin controles. Porque cuando la dejen, la situación será peor\", alertó la especialista que destacó su aplicación en pacientes que tienen patologías graves a causa del sobrepeso y que pueden solucionar, al menos, algunas otras dolencias coexistentes. \"Puede ser útil en los casos extremos, pero con educación alimentaria\", aseguró la profesional, haciendo referencia a los cuidados posteriores a la baja de peso deseada. El cardiólogo Bernardo Biella detalló que en la fase 2 de estudio de la liraglutida -que es el estudio en animales- los ejemplares presentaron cáncer de tiroides. \"Por eso en los pacientes que tienen antecedentes familiares de cáncer de tiroides o antecedente personales de tiroides, como salteños tenemos que tener mucho cuidado\", advirtió Biella, teniendo en cuenta que la provincia es zona endémica de esta dolencia. En esta fase de la investigación de los efectos del medicamento también presentaron afecciones hepáticas y renales. \"Hay que recordar que un gran número de las personas con diabetes, tienen estas afecciones\", alertó Biella. Finalmente, tampoco se recomienda en los pacientes que tienen cuadros de inflamación pancreática. \"Y los pacientes alcohólicos tienen estos cuadros. Entonces es como poner nafta al fuego, en algunos casos\", analizó el médico, que recordó que \"no es un medicamento innocuo, es un medicamento que requiere de los controles médicos periódicos de los funcionamientos renal, hepático, pancreático y tiroideo. Con ecografías de tiroides y análisis globales\".  Después de la resolución de la ANMAT, el ingreso de este medicamento al país tomará varios meses, incluso hasta un año. \"Esto es positivo porque desde Argentina vamos a ver cuáles son los efectos colaterales que genera este medicamento. Vamos a darnos cuenta antes si lo podemos utilizar o no\", expresó Biella, que además recordó que como es un medicamento que usan los famosos, tuvo prensa rápidamente. \"Pero no hay que olvidar lo que facturan los famosos y se hacen controles estrictos. Los laboratorios hacen controles cada 15 días o menos, y acá no\", agregó. El prospecto de Ozempic advierte que los efectos secundarios que pueden producir no son, para tomárselos a la ligera. Entre los efectos secundarios se señalan \"náuseas, vómitos, diarrea, estreñimiento, dolor de cabeza, problemas estomacales, mareos, alteraciones en el gusto o cálculos biliares\". \"Dolor de estómago intenso y continuo que se puede deber a pancreatitis aguda. Si tiene un dolor intenso y continuo en la zona del estómago acuda al médico de inmediato, ya que podría ser un síntoma de pancreatitis aguda (inflamación del páncreas). \"Bajo nivel de azúcar en sangre (hipoglucemia). La combinación de una sulfonilurea o insulina con este medicamento puede aumentar el riesgo de experimentar bajos niveles de azúcar en sangre (hipoglucemia)\". \"Enfermedad ocular diabética (retinopatía). Si tiene una enfermedad ocular diabética y está usando insulina, este medicamento puede provocar un empeoramiento de su visión por lo cual podría necesitar tratamiento\". Y si bien puede que los cuerpos de los famosos luzcan esbeltos, delgados, y hasta saludables, no hay que olvidar que más allá de esa imagen (que además puede ser manipulada por los programas de diseño y los tan conocidos filtros), estar saludables requiere de algo más que una droga milagrosa. Para pensarlo.  \\nLas operaciones se inician con un fuerte salto de $70 que lo hizo llegar a los&nbsp;$800.\\n \\nA ra&iacute;z de la nota de El Tribuno donde se expuso la falta de agua en el paraje, llev&oacute; a la entidad a comenzar a involucrarse con la problem&aacute;tica.\\n \\nPadre e hijo iban caminando hacia el colegio cuando dos delincuentes los interceptaron. Se llevaron celulares, plata y hasta la mochila del chico. Todo qued&oacute; filmado\\n \\nEl gobernador fue&nbsp;entrevistado por Alejandro Fantino, a quien le cont&oacute; que se vio sorprendido con el resultado de las PASO.&nbsp;Consider&oacute; que las propuestas de campa&ntilde;a que apuntan a que cada provincia viva con lo que tiene, atentan contra el federalismo.\\n \\nEl sacerdote fue designado por el papa Benedicto XVI para hacerse cargo de la Prelatura de Cafayate el 17 de noviembre de 2007.\\n \\nSe trata de SAFESA, un sistema desarrollado por inform&aacute;ticos salte&ntilde;os, que tiene como objetivo la implementaci&oacute;n de la historia cl&iacute;nica digital &uacute;nica. En Tartagal se entregaron 28 computadoras y el programa ya est&aacute; operativo.\\n \\nEl gobernador fue&nbsp;entrevistado por Alejandro Fantino, a quien le cont&oacute; que se vio sorprendido con el resultado de las PASO.&nbsp;Consider&oacute; que las propuestas de campa&ntilde;a que apuntan a que cada provincia viva con lo que tiene, atentan contra el federalismo.\\n \\nSe trata de SAFESA, un sistema desarrollado por inform&aacute;ticos salte&ntilde;os, que tiene como objetivo la implementaci&oacute;n de la historia cl&iacute;nica digital &uacute;nica. En Tartagal se entregaron 28 computadoras y el programa ya est&aacute; operativo.\\n \\nEl Poder Ejecutivo provincial, la Universidad Nacional de Salta (UNSa) y el Poder Legislativo contin&uacute;an las acciones para atraer a j&oacute;venes a cursar la carrera en la capital salte&ntilde;a.\\n \\nEl calendario electoral abre a los especuladores un periodo en el que &quot;vale todo&quot;.\\n \\nSe trata del proyecto &quot;Llevando luz a las sombras&quot;, de la Fundaci&oacute;n Santosha.\\n \\n\\n \\nGonz&aacute;lez Metilli fue elegido por el gol que meti&oacute; ante Rosario Central en agosto y&nbsp;competir&aacute; con Mbapp&eacute; y Balotelli.\\n \\nGimnasia elimin&oacute; a Villa Mitre de Bah&iacute;a Blanca en el Gigante y se meti&oacute; a cuartos de final. Fue 2 a 1, con goles de Perillo, la figura, y Gonz&aacute;lez Bord&oacute;n.&nbsp;El millonario tuvo que sufrir en el sprint final para conseguir la angustiante clasificaci&oacute;n y quedar a tres pasos del segundo ascenso a la Primera Nacional.\\n \\nLa Joya y Marcos Senesi, sorpresas en la lista para jugar con Italia .Cinco excluidos comenzar&iacute;an a despedirse de la Copa del Mundo.\\n \\nGole&oacute; por 4 a 1 a Venezuela para seguir con el sue&ntilde;o mundialista.\\n \\nLos partidos por los cuartos de final, cuando se reanude el reducido.\\n \\nEsta noche, a las 22, jugar&aacute; en el Polideportivo frente a J&aacute;chal BC.\\n \\n\\n \\nPatricia Cerrizuela cuenta su experiencia como moderadora de los eventos de Hablemos de lo que viene.\\n \\nLo se&ntilde;al&oacute; el m&eacute;dico Bernardino P&eacute;rez Alsina.\\n El pasado 26 de julio, un comunicado de la Administración Nacional de Medicamentos, Alimentos y Tecnología Médica (ANMAT) generó revuelo. La autorización de inscripción de la ya famosa Ozempic, la droga de moda que usan los famosos para bajar de peso, hizo pensar a muchos que su milagro estaba en puertas. En algunos países de Europa y en Estados Unidos, este medicamento ganó su fama en las redes sociales, en donde se muestra que el Ozempic sirve para perder peso. Incluso hay celebridades de la talla de Lady Gaga, Kim Kardashian y hasta Elon Musk que reconocen haberlo consumido, sin mediar en consecuencias. El fármaco es un medicamento inyectable hecho con semaglutida, que se utiliza en pacientes con obesidad y diabetes tipo 2, para reducir el peso y regular los niveles de insulina en la sangre. El lunes último, la ANMAT tuvo que salir a explicar el proceso administrativo que se debe llevar adelante para que Ozempic finalmente ingrese al mercado farmacéutico del país y cuáles serán las reglas que se deberán cumplir para su comercialización. LE PUEDE INTERESAR Elecciones 2023. Outes: \"Las PASO marcaron un resultado que nos compromete\" Elecciones 2023: Javier Milei arrasa también en las PASO de Salta El comunicado expresa que \"a raíz de las consultas recibidas, se informa que esta Administración Nacional autorizó, por disposición Nº 5591/2023, a la firma Novo Nordisk Pharma Argentina SA, la inscripción en el Registro de Especialidades Medicinales (REM) de la especialidad medicinal de nombre comercial Wegovy® y nombre genérico semaglutida. La condición de expendio es venta bajo receta. Asimismo, el titular del producto deberá cumplimentar lo establecido en el artículo 5 de la disposición mencionada, el cual dicta: \"Con carácter previo a la comercialización de la especialidad medicinal cuya inscripción se autoriza por la presente disposición, el titular deberá solicitar a esta Administración Nacional la autorización efectiva de comercialización notificando fecha de inicio de la importación del primer lote a comercializar a los fines de realizar la verificación técnica correspondiente\". El médico Bernardo Biella explicó cuáles son las reacciones que produce esta droga en el organismo. El profesional recordó que la semaglutida es un medicamento similar a la liraglutida, con casi los mismos componentes, y que se usa hace 10 años y se aplica en forma diaria y cutánea. En detalle, dijo que esta droga genera una sensación de saciedad. Esto hace que la persona sienta que pierde el apetito. También \"fideliza la unión de la insulina con el azúcar, para que el azúcar entre a la célula en los pacientes que tienen diabetes insulina resistente\", añadió. \"Recordemos que hay dos tipos de pacientes. Están aquellos que se inyectan la insulina y están los otros que tiene resistencia a la insulina. Al tener la insulina tan alta, se produce un aumento de peso y son después los pacientes con obesidad mórbida\", describió el profesional. Esta dosis quita la resistencia a la insulina y favorece el ingreso del azúcar a la célula. Esto permite que se saque derivados del azúcar que están en el hígado como el glucógeno y que se comiencen a utilizar los triglicéridos como provisión de energía para el cuerpo. Además, trabaja en las incretinas intestinales. Estas dan una sensación de estar satisfecho. \"He comido y estoy bien, estoy satisfecho\". Tal es así que esa sensación de satisfacción que genera la linglutida, se analiza para poder aplicarla en las personas que tienen adicción al juego, que padecen una ludopatía y también para los alcohólicos. Biella, al igual que el resto de los profesionales consultados como Susana Carrasco, presidente de la Cámara de Propietarios de Farmacias de Salta, y Romina Sosa, licenciada en Nutrición, recordaron que este medicamento está destinado a las personas con diabetes tipo 2 o insulinorresistentes, personas con sobrepeso grado II y III y obesidad mórbida. Que además están en tratamiento, con dieta y realizando ejercicios, y no obtienen los resultados deseados. La semaglutida se aplica de manera semanal y genera una reducción del 5 al 20 por ciento del peso, en 54 semanas a 108 semanas. Esto quiere decir que se requiere de al menos un año de tratamiento. Susana Carrasco, presidente de la Cámara de Propietarios de Farmacias de Salta, expresó que este medicamento requiere de indicación médica y aclaró que \"todavía no está autorizada su comecialización\". \"Los interesados en el tema tienen que saber que lo que ocurrió el 26 de julio pasado, es que se inscribió en el ANMAT y se dio inicio a un proceso, que toma su tiempo\", agregó. La representantes de los dueños de farmacias en Salta recordó que la monodroga de este medicamento es la semaglutida, que ya se comercializa en el país, pero en dosis más bajas. El nombre comercial de este producto, que es Wegovy®, se comercializa con la misma droga, también está el Ozempic que es del mismo laboratorio. Son productos de venta controlada y con asistencia médica. Carrasco agregó que Ozempic, que ya se comercializa, con una dosis menor tiene un costo de 73 mil pesos. Se trata de la dosis de 0,5 mg y la dosis de 1 mg se comercializa en 122.600.  \"Esos son los precios de la semaglutida que se comercializa. El Wegovy, que tiene una dosis de 2,4 mg. todavía no tiene precio ni está autorizada por ANMAT\", remarcó la profesional. Por su parte, el médico salteño Bernardo Biella recordó que estos medicamentos, si bien se venden con receta no tienen cobertura de las obras sociales. Romina Sosa, licenciada en Nutrición, destacó que estas drogas reducen la ansiedad. \"Creo que esta medicación requiere, además, del acompañamiento de un médico, psicólogo y nutricionista. No puede colocarse sin controles. Porque cuando la dejen, la situación será peor\", alertó la especialista que destacó su aplicación en pacientes que tienen patologías graves a causa del sobrepeso y que pueden solucionar, al menos, algunas otras dolencias coexistentes. \"Puede ser útil en los casos extremos, pero con educación alimentaria\", aseguró la profesional, haciendo referencia a los cuidados posteriores a la baja de peso deseada. El cardiólogo Bernardo Biella detalló que en la fase 2 de estudio de la liraglutida -que es el estudio en animales- los ejemplares presentaron cáncer de tiroides. \"Por eso en los pacientes que tienen antecedentes familiares de cáncer de tiroides o antecedente personales de tiroides, como salteños tenemos que tener mucho cuidado\", advirtió Biella, teniendo en cuenta que la provincia es zona endémica de esta dolencia. En esta fase de la investigación de los efectos del medicamento también presentaron afecciones hepáticas y renales. \"Hay que recordar que un gran número de las personas con diabetes, tienen estas afecciones\", alertó Biella. Finalmente, tampoco se recomienda en los pacientes que tienen cuadros de inflamación pancreática. \"Y los pacientes alcohólicos tienen estos cuadros. Entonces es como poner nafta al fuego, en algunos casos\", analizó el médico, que recordó que \"no es un medicamento innocuo, es un medicamento que requiere de los controles médicos periódicos de los funcionamientos renal, hepático, pancreático y tiroideo. Con ecografías de tiroides y análisis globales\".  Después de la resolución de la ANMAT, el ingreso de este medicamento al país tomará varios meses, incluso hasta un año. \"Esto es positivo porque desde Argentina vamos a ver cuáles son los efectos colaterales que genera este medicamento. Vamos a darnos cuenta antes si lo podemos utilizar o no\", expresó Biella, que además recordó que como es un medicamento que usan los famosos, tuvo prensa rápidamente. \"Pero no hay que olvidar lo que facturan los famosos y se hacen controles estrictos. Los laboratorios hacen controles cada 15 días o menos, y acá no\", agregó. El prospecto de Ozempic advierte que los efectos secundarios que pueden producir no son, para tomárselos a la ligera. Entre los efectos secundarios se señalan \"náuseas, vómitos, diarrea, estreñimiento, dolor de cabeza, problemas estomacales, mareos, alteraciones en el gusto o cálculos biliares\". \"Dolor de estómago intenso y continuo que se puede deber a pancreatitis aguda. Si tiene un dolor intenso y continuo en la zona del estómago acuda al médico de inmediato, ya que podría ser un síntoma de pancreatitis aguda (inflamación del páncreas). \"Bajo nivel de azúcar en sangre (hipoglucemia). La combinación de una sulfonilurea o insulina con este medicamento puede aumentar el riesgo de experimentar bajos niveles de azúcar en sangre (hipoglucemia)\". \"Enfermedad ocular diabética (retinopatía). Si tiene una enfermedad ocular diabética y está usando insulina, este medicamento puede provocar un empeoramiento de su visión por lo cual podría necesitar tratamiento\". Y si bien puede que los cuerpos de los famosos luzcan esbeltos, delgados, y hasta saludables, no hay que olvidar que más allá de esa imagen (que además puede ser manipulada por los programas de diseño y los tan conocidos filtros), estar saludables requiere de algo más que una droga milagrosa. Para pensarlo. \\n\\t\\t\\t\\t\\t\\t\\t\\t\\tProtección de datos personales \\n\\t\\t\\t\\t\\t\\t\\t\\t\\tHORIZONTES S.A. utilizará la información para los siguientes fines: a) identificación y autenticación, b) administración y gestión comercial, c) mejora del servicio, d) fines estadísticos, e) envío de notificaciones, promociones o publicidad, entre otros. Los datos personales no serán difundidos ni empleados para un fin distinto o incompatible al tenido en cuenta al ser ingresados en la base. HORIZONTES S.A. podrá emplear a otras compañías y/o personas físicas para llevar a cabo tareas o funciones en su nombre. Entre los ejemplos de ese tipo podemos mencionar el de enviar correo postal y electrónico, retirar información reiterativa de las listas de usuarios, analizar datos en forma estadística, etc. Dichas personas cuentan con acceso a la información personal necesaria para cumplir con sus tareas y funciones, pero no pueden utilizarla con fines distintos a los estipulados. Las bases de datos de HORIZONTES S.A. se encuentran registradas en la Dirección Nacional de Protección de Datos Personales del Ministerio de Justicia y Derechos Humanos de la Presidencia de la Nación (República Argentina), en cumplimiento de lo dispuesto en el art. 3 de la Ley 25.326. El titular de los datos personales tiene la facultad de ejercer el derecho de acceso a los mismos en forma gratuita a intervalos no inferiores a 6 meses, salvo que se acredite un interés legítimo al efecto, conforme lo establecido en el art. 14, inc. 3 de la Ley 25.326. La DIRECCIÓN NACIONAL DE PROTECCIÓN DE DATOS PERSONALES, Órgano de Control de la Ley 25.326, tiene la atribución de atender las denuncias y reclamos que se interpongan con relación al incumplimiento de las normas sobre protección de datos personales.\\n\\t\\t\\t\\t\\t\\t\\t\\t\\t\\t \\n\\t\\t\\t\\t\\t\\t\\t\\t\\tCopyright (c) 1996-2023. Todos los derechos reservados.\\n\\t\\t\\t\\t\\t\\t\\t\\t'"
      ]
     },
     "execution_count": 20,
     "metadata": {},
     "output_type": "execute_result"
    }
   ],
   "source": [
    "df['content'].to_list()[3]"
   ]
  },
  {
   "cell_type": "markdown",
   "metadata": {},
   "source": [
    "# Cleaning febore write to DB"
   ]
  },
  {
   "cell_type": "code",
   "execution_count": 83,
   "metadata": {},
   "outputs": [],
   "source": [
    "df_clean = (\n",
    "    df_clean.with_columns([\n",
    "        pl.col('date_extract').str.strptime(pl.Date, format='%Y-%m-%d %H:%M:%s', strict=True),\n",
    "        pl.col('date_article').str.slice(0, 10).str.strptime(pl.Date, format='%Y-%m-%d'),        \n",
    "        \n",
    "        # Replace new lines and tabs with a single space, then replace multiple spaces with a single space\n",
    "        pl.col(\"content\").str.replace_all(r\"[\\n\\t]+\", \" \")\n",
    "        .str.replace_all(r\"\\s{2,}\", \" \")\n",
    "        .str.strip().str.strip().alias(\"content\"),  # Adjusted\n",
    "    ])\n",
    ")\n"
   ]
  },
  {
   "cell_type": "code",
   "execution_count": 84,
   "metadata": {},
   "outputs": [
    {
     "data": {
      "text/html": [
       "<div><style>\n",
       ".dataframe > thead > tr > th,\n",
       ".dataframe > tbody > tr > td {\n",
       "  text-align: right;\n",
       "}\n",
       "</style>\n",
       "<small>shape: (5, 15)</small><table border=\"1\" class=\"dataframe\"><thead><tr><th>date_extract</th><th>date_article</th><th>topic</th><th>content</th><th>link</th><th>link_sim_score</th><th>title</th><th>summary</th><th>authors</th><th>portal</th><th>state</th><th>city</th><th>content_hash</th><th>content_nchar</th><th>link_hash</th></tr><tr><td>date</td><td>date</td><td>str</td><td>str</td><td>str</td><td>f64</td><td>str</td><td>str</td><td>str</td><td>str</td><td>str</td><td>str</td><td>u64</td><td>i64</td><td>u64</td></tr></thead><tbody><tr><td>2023-08-16</td><td>2023-08-16</td><td>&quot;narcotráfico&quot;</td><td>&quot;Seguinos Por L…</td><td>&quot;https://www.la…</td><td>0.561929</td><td>&quot;Condenaron a s…</td><td>&quot;Brian está det…</td><td>&quot;n-a&quot;</td><td>&quot;https://www.ar…</td><td>&quot;Santa Fe&quot;</td><td>&quot;Rosario&quot;</td><td>9259959111029284149</td><td>4543</td><td>17052477334313902255</td></tr><tr><td>2023-08-16</td><td>2023-08-16</td><td>&quot;narcotráfico&quot;</td><td>&quot;Escuadrón 1 “R…</td><td>&quot;http://www.dia…</td><td>0.476911</td><td>&quot;Encuentran 32 …</td><td>&quot;na&quot;</td><td>&quot;Diario El Oran…</td><td>&quot;https://www.ar…</td><td>&quot;Salta&quot;</td><td>&quot;Orán&quot;</td><td>6046667906668190206</td><td>707</td><td>3209048333592772804</td></tr><tr><td>2023-08-16</td><td>2023-08-16</td><td>&quot;narcotráfico&quot;</td><td>&quot;. Compartir en…</td><td>&quot;https://www.ar…</td><td>0.526558</td><td>&quot;Prefectura sec…</td><td>&quot;Efectivos de l…</td><td>&quot;n-a&quot;</td><td>&quot;https://www.ar…</td><td>&quot;Argentina&quot;</td><td>&quot;Argentina&quot;</td><td>12244461015022324118</td><td>657</td><td>16967809217027424855</td></tr><tr><td>2023-08-16</td><td>2023-08-14</td><td>&quot;narcotráfico&quot;</td><td>&quot;El usuario o l…</td><td>&quot;https://www.el…</td><td>0.540131</td><td>&quot;Semaglutida: l…</td><td>&quot;También &quot;fidel…</td><td>&quot;El Tribuno&quot;</td><td>&quot;https://www.ar…</td><td>&quot;Jujuy&quot;</td><td>&quot;San Salvador d…</td><td>13466443961547567731</td><td>23475</td><td>14376176470560487263</td></tr><tr><td>2023-08-16</td><td>2023-08-16</td><td>&quot;narcotráfico&quot;</td><td>&quot;Escuadrón 54 “…</td><td>&quot;http://www.dia…</td><td>0.503642</td><td>&quot;Secuestran más…</td><td>&quot;na&quot;</td><td>&quot;Diario El Oran…</td><td>&quot;https://www.ar…</td><td>&quot;Salta&quot;</td><td>&quot;Orán&quot;</td><td>8279679033715743567</td><td>1293</td><td>2411650459581365560</td></tr></tbody></table></div>"
      ],
      "text/plain": [
       "shape: (5, 15)\n",
       "┌───────────┬───────────┬───────────┬───────────┬───┬───────────┬───────────┬───────────┬──────────┐\n",
       "│ date_extr ┆ date_arti ┆ topic     ┆ content   ┆ … ┆ city      ┆ content_h ┆ content_n ┆ link_has │\n",
       "│ act       ┆ cle       ┆ ---       ┆ ---       ┆   ┆ ---       ┆ ash       ┆ char      ┆ h        │\n",
       "│ ---       ┆ ---       ┆ str       ┆ str       ┆   ┆ str       ┆ ---       ┆ ---       ┆ ---      │\n",
       "│ date      ┆ date      ┆           ┆           ┆   ┆           ┆ u64       ┆ i64       ┆ u64      │\n",
       "╞═══════════╪═══════════╪═══════════╪═══════════╪═══╪═══════════╪═══════════╪═══════════╪══════════╡\n",
       "│ 2023-08-1 ┆ 2023-08-1 ┆ narcotráf ┆ Seguinos  ┆ … ┆ Rosario   ┆ 925995911 ┆ 4543      ┆ 17052477 │\n",
       "│ 6         ┆ 6         ┆ ico       ┆ Por Leo   ┆   ┆           ┆ 102928414 ┆           ┆ 33431390 │\n",
       "│           ┆           ┆           ┆ Graciaren ┆   ┆           ┆ 9         ┆           ┆ 2255     │\n",
       "│           ┆           ┆           ┆ a La j…   ┆   ┆           ┆           ┆           ┆          │\n",
       "│ 2023-08-1 ┆ 2023-08-1 ┆ narcotráf ┆ Escuadrón ┆ … ┆ Orán      ┆ 604666790 ┆ 707       ┆ 32090483 │\n",
       "│ 6         ┆ 6         ┆ ico       ┆ 1 “Roque  ┆   ┆           ┆ 666819020 ┆           ┆ 33592772 │\n",
       "│           ┆           ┆           ┆ Sáenz     ┆   ┆           ┆ 6         ┆           ┆ 804      │\n",
       "│           ┆           ┆           ┆ Peña” m…  ┆   ┆           ┆           ┆           ┆          │\n",
       "│ 2023-08-1 ┆ 2023-08-1 ┆ narcotráf ┆ .         ┆ … ┆ Argentina ┆ 122444610 ┆ 657       ┆ 16967809 │\n",
       "│ 6         ┆ 6         ┆ ico       ┆ Compartir ┆   ┆           ┆ 150223241 ┆           ┆ 21702742 │\n",
       "│           ┆           ┆           ┆ enredes   ┆   ┆           ┆ 18        ┆           ┆ 4855     │\n",
       "│           ┆           ┆           ┆ sociales  ┆   ┆           ┆           ┆           ┆          │\n",
       "│           ┆           ┆           ┆ Efe…      ┆   ┆           ┆           ┆           ┆          │\n",
       "│ 2023-08-1 ┆ 2023-08-1 ┆ narcotráf ┆ El        ┆ … ┆ San       ┆ 134664439 ┆ 23475     ┆ 14376176 │\n",
       "│ 6         ┆ 4         ┆ ico       ┆ usuario o ┆   ┆ Salvador  ┆ 615475677 ┆           ┆ 47056048 │\n",
       "│           ┆           ┆           ┆ la contra ┆   ┆ de Jujuy  ┆ 31        ┆           ┆ 7263     │\n",
       "│           ┆           ┆           ┆ seña son  ┆   ┆           ┆           ┆           ┆          │\n",
       "│           ┆           ┆           ┆ i…        ┆   ┆           ┆           ┆           ┆          │\n",
       "│ 2023-08-1 ┆ 2023-08-1 ┆ narcotráf ┆ Escuadrón ┆ … ┆ Orán      ┆ 827967903 ┆ 1293      ┆ 24116504 │\n",
       "│ 6         ┆ 6         ┆ ico       ┆ 54        ┆   ┆           ┆ 371574356 ┆           ┆ 59581365 │\n",
       "│           ┆           ┆           ┆ “Aguaray” ┆   ┆           ┆ 7         ┆           ┆ 560      │\n",
       "│           ┆           ┆           ┆ efectuaba ┆   ┆           ┆           ┆           ┆          │\n",
       "│           ┆           ┆           ┆ …         ┆   ┆           ┆           ┆           ┆          │\n",
       "└───────────┴───────────┴───────────┴───────────┴───┴───────────┴───────────┴───────────┴──────────┘"
      ]
     },
     "execution_count": 84,
     "metadata": {},
     "output_type": "execute_result"
    }
   ],
   "source": [
    "df_clean.head()"
   ]
  },
  {
   "cell_type": "markdown",
   "metadata": {},
   "source": [
    "# Agrego summary2_llm"
   ]
  },
  {
   "cell_type": "code",
   "execution_count": 6,
   "metadata": {},
   "outputs": [
    {
     "name": "stdout",
     "output_type": "stream",
     "text": [
      "Seguinos Por Leo Graciarena La jueza Elena Beatriz Dilario, miembro del Tribunal Oral Federal 3, homologó el abreviado. Seis personas sindicadas como integrantes del “Clan Insaurralde” fueron condenadas por el Tribunal Oral Federal 3 en un proceso abreviado como responsables, en diferentes grados, del delito de tráfico y tenencia de estupefacientes con fines de comercialización agravada por la intervención de tres o más personas en forma organizada. La jueza Elena Beatriz Dilario homologó el acuerdo al que llegaron las partes. Entre los condenados se encuentra Brian Nahuel Insaurralde, quien es sobrino del jefe del clan, Ramón Javier “Rengo” Insaurralde (quien se encuentra cumpliendo sentencia), y que recibió una pena unificada de 11 años y 6 meses; y una de las proveedoras del grupo, Roxana García Sipe, a quien la dieron una pena única de 8 años y 6 meses de cárcel. Brian está detenido en la cárcel de Villa Devoto, en la Ciudad Autónoma de Buenos Aires, mientras que García Sipe está bajo prisión domiciliaria en la localidad bonaerense de Lomas de Zamora. Los restantes cuatro condenados recibieron penas de 3 años de prisión condicional al hallarlos responsables con una participación secundaria en la organización delictiva. El 18 de noviembre de 2020 el Tribunal Oral Federal 3, compuesto por los jueces Eugenio Martínez Ferrero, Osvaldo Facciano y María Ivón Vella, condenó al Rengo Insaurralde y a otras 23 personas por ser parte de una organización que comercializaba droga que les llegaba desde la ciudad bonaerense de Lomas de Zamora. Entonces el Rengo fue considerado jefe y organizador del grupo, y entre los condenados estaban su sobrino Brian y García Sipe. En aquel proceso se juzgaron dos causas acumuladas teniendo en cuenta que el Rengo, junto a su hijo Fernando y la pareja de éste se encontraban imputados en ambos expedientes. La primera de las bandas fue desarticulada en febrero de 2017 (operaba al menos desde agosto de 2016 según la acusación) cuando se logró interceptar una carga de unos 30 kilos de cocaína y más de 80 de marihuana y luego de una serie de 24 allanamientos en distintos domicilios rosarinos que surgieron de las tareas investigativas a cargo de la Policía de Seguridad Aeroportuaria (PSA). Tras ello, e iniciada una nueva investigación, la fiscalía pudo acreditar casi un año después que la actividad del grupo delictivo no había cesado y que la misma era llevada adelante aún con su jefe preso en la cárcel de Villa Devoto, desde la cual daba las órdenes para quienes seguían operando en las calles rosarinas con otros brazos ejecutores, principalmente su hijo Fernando y su sobrino Brian. En esta causa también fue juzgado Arnaldo Andrés “Junior” Vivas, sindicado como un transa de Villa Banana que también operaba desde la cárcel junto con Insaurralde. >> Leer más: Lo condenan a 18 años por seguir organizando una banda narco desde la cárcel El abreviado que se cerró esta semana puso el ojo en una tercera secuencia del accionar de la banda en la que también se acumularon dos causas. Así, el fiscal de instrucción Claudio Kishimoto imputó a Brian Insaurralde, su tía Marianela “Minini” Insaurralde, Daniel Leguizamón (yerno del Rengo) y Roxana García Sipe por el delito de tráfico de estupefacientes en la modalidad de tenencia con fines de comercialización agravada por la intervención de tres o más personas organizadas para la comisión del hecho en carácter de coautores. En la otra causa Kishimoto acusó a Brian por el delito de tenencia de armas y acopio de municiones. Y en cuanto a María Carla Antonella Insaurralde y María Fernanda Zupel, ambas fueron penadas por tráfico y tenencia de estupefacientes con fines de comercialización agravada por la intervención de tres o más personas organizadas para la comisión del hecho. Además de las condenas a Brian Insaurralde y García Sipe también fueron sentenciados en el abreviado María Insaurralde, Minini Insaurralde, Zupel y Leguizamón a 3 años de prisión condicional y a una serie de normas de conductas. Las partes estuvieron representadas por el fiscal general Federico Reynares Solari y por los abogados defensores Adalberto Luna, Mariano Scaglia, Fabián Freitas y Fausto Yrure. Desde la Cámara de Electrodomésticos de Rosario aseguran que, más allá de los precios, puede haber inconvenientes con la entrega de mercadería por parte de proveedores. Por Matías Petisce Por Matías Petisce Por Guillermo Zysman Por Nicolás Maggi Por Patricia Martino Por Rodolfo Montes Por Leo Graciarena Por Claudio González Seguinos\n",
      "Escuadrón 1 “Roque Sáenz Peña” mientras patrullaban por la zona de Avía Teraí, encontraron una bolsa tipo arpillera de color verde a 60 metros donde se estrelló una avioneta con un cargamento de cocaína la semana pasada. Ante esa situación, en presencia de testigos, los funcionarios abrieron el bulto hallado y encontraron 30 paquetes rectangulares La prueba de campo Narcotest arrojó resultado positivo para cocaína con un peso total de 32 kilos 726 gramos. La droga detectada tiene relación con el cargamento de estupefaciente hallado en la avioneta caída de la semana pasada a 60 metros del lugar. La Fiscalía Federal de Roque Sáenz Peña dispuso el secuestro de la droga. ESPACIO PUBLICITARIO\n",
      ". Compartir enredes sociales Efectivos de la Prefectura Naval Argentina incautaron un cargamento de 417 kilos de marihuana, durante un operativo realizado en la localidad misionera de Puerto Rico, en el marco de las tareas de control que se realizan a diario en la zona de frontera para prevenir el delito. La droga fue localizada durante la madrugada, en el kilómetro 1743 del río Paraná, a bordo de una embarcación embicada en el Arroyo Meyer. La mercadería estaba dividida en 26 bultos y posee un valor de mercado que supera los 760 millones de pesos. Interviene en la causa la Fiscalía Federal de Oberá, Misiones, a cargo de la Dra. Viviana Vallejos.\n"
     ]
    }
   ],
   "source": [
    "articles = df_clean['content'].to_list()\n",
    "\n",
    "for article in articles[:3]:\n",
    "    print(article)"
   ]
  },
  {
   "cell_type": "code",
   "execution_count": 36,
   "metadata": {},
   "outputs": [
    {
     "data": {
      "text/plain": [
       "['Seguinos Por Leo Graciarena La jueza Elena Beatriz Dilario, miembro del Tribunal Oral Federal 3, hom',\n",
       " 'ologó el abreviado. Seis personas sindicadas como integrantes del “Clan Insaurralde” fueron condenad',\n",
       " 'as por el Tribunal Oral Federal 3 en un proceso abreviado como responsables, en diferentes grados, d',\n",
       " 'el delito de tráfico y tenencia de estupefacientes con fines de comercialización agravada por la int',\n",
       " 'ervención de tres o más personas en forma organizada. La jueza Elena Beatriz Dilario homologó el acu',\n",
       " 'erdo al que llegaron las partes. Entre los condenados se encuentra Brian Nahuel Insaurralde, quien e',\n",
       " 's sobrino del jefe del clan, Ramón Javier “Rengo” Insaurralde (quien se encuentra cumpliendo sentenc',\n",
       " 'ia), y que recibió una pena unificada de 11 años y 6 meses; y una de las proveedoras del grupo, Roxa',\n",
       " 'na García Sipe, a quien la dieron una pena única de 8 años y 6 meses de cárcel. Brian está detenido ',\n",
       " 'en la cárcel de Villa Devoto, en la Ciudad Autónoma de Buenos Aires, mientras que García Sipe está b',\n",
       " 'ajo prisión domiciliaria en la localidad bonaerense de Lomas de Zamora. Los restantes cuatro condena',\n",
       " 'dos recibieron penas de 3 años de prisión condicional al hallarlos responsables con una participació',\n",
       " 'n secundaria en la organización delictiva. El 18 de noviembre de 2020 el Tribunal Oral Federal 3, co',\n",
       " 'mpuesto por los jueces Eugenio Martínez Ferrero, Osvaldo Facciano y María Ivón Vella, condenó al Ren',\n",
       " 'go Insaurralde y a otras 23 personas por ser parte de una organización que comercializaba droga que ',\n",
       " 'les llegaba desde la ciudad bonaerense de Lomas de Zamora. Entonces el Rengo fue considerado jefe y ',\n",
       " 'organizador del grupo, y entre los condenados estaban su sobrino Brian y García Sipe. En aquel proce',\n",
       " 'so se juzgaron dos causas acumuladas teniendo en cuenta que el Rengo, junto a su hijo Fernando y la ',\n",
       " 'pareja de éste se encontraban imputados en ambos expedientes. La primera de las bandas fue desarticu',\n",
       " 'lada en febrero de 2017 (operaba al menos desde agosto de 2016 según la acusación) cuando se logró i',\n",
       " 'nterceptar una carga de unos 30 kilos de cocaína y más de 80 de marihuana y luego de una serie de 24',\n",
       " ' allanamientos en distintos domicilios rosarinos que surgieron de las tareas investigativas a cargo ',\n",
       " 'de la Policía de Seguridad Aeroportuaria (PSA). Tras ello, e iniciada una nueva investigación, la fi',\n",
       " 'scalía pudo acreditar casi un año después que la actividad del grupo delictivo no había cesado y que',\n",
       " ' la misma era llevada adelante aún con su jefe preso en la cárcel de Villa Devoto, desde la cual dab',\n",
       " 'a las órdenes para quienes seguían operando en las calles rosarinas con otros brazos ejecutores, pri',\n",
       " 'ncipalmente su hijo Fernando y su sobrino Brian. En esta causa también fue juzgado Arnaldo Andrés “J',\n",
       " 'unior” Vivas, sindicado como un transa de Villa Banana que también operaba desde la cárcel junto con',\n",
       " ' Insaurralde. >> Leer más: Lo condenan a 18 años por seguir organizando una banda narco desde la cár',\n",
       " 'cel El abreviado que se cerró esta semana puso el ojo en una tercera secuencia del accionar de la ba',\n",
       " 'nda en la que también se acumularon dos causas. Así, el fiscal de instrucción Claudio Kishimoto impu',\n",
       " 'tó a Brian Insaurralde, su tía Marianela “Minini” Insaurralde, Daniel Leguizamón (yerno del Rengo) y',\n",
       " ' Roxana García Sipe por el delito de tráfico de estupefacientes en la modalidad de tenencia con fine',\n",
       " 's de comercialización agravada por la intervención de tres o más personas organizadas para la comisi',\n",
       " 'ón del hecho en carácter de coautores. En la otra causa Kishimoto acusó a Brian por el delito de ten',\n",
       " 'encia de armas y acopio de municiones. Y en cuanto a María Carla Antonella Insaurralde y María Ferna',\n",
       " 'nda Zupel, ambas fueron penadas por tráfico y tenencia de estupefacientes con fines de comercializac',\n",
       " 'ión agravada por la intervención de tres o más personas organizadas para la comisión del hecho. Adem',\n",
       " 'ás de las condenas a Brian Insaurralde y García Sipe también fueron sentenciados en el abreviado Mar',\n",
       " 'ía Insaurralde, Minini Insaurralde, Zupel y Leguizamón a 3 años de prisión condicional y a una serie',\n",
       " ' de normas de conductas. Las partes estuvieron representadas por el fiscal general Federico Reynares',\n",
       " ' Solari y por los abogados defensores Adalberto Luna, Mariano Scaglia, Fabián Freitas y Fausto Yrure',\n",
       " '. Desde la Cámara de Electrodomésticos de Rosario\\xa0aseguran que, más allá de los precios, puede haber',\n",
       " ' inconvenientes con la entrega de mercadería por parte de proveedores. Por Matías Petisce Por Matías',\n",
       " ' Petisce Por Guillermo Zysman Por Nicolás Maggi Por Patricia Martino Por Rodolfo Montes Por Leo Grac',\n",
       " 'iarena Por Claudio González Seguinos']"
      ]
     },
     "execution_count": 36,
     "metadata": {},
     "output_type": "execute_result"
    }
   ],
   "source": [
    "view_string(articles[0])"
   ]
  },
  {
   "cell_type": "code",
   "execution_count": null,
   "metadata": {},
   "outputs": [],
   "source": [
    "#embeddings = HuggingFaceEmbeddings(model_name='sentence-transformers/all-MiniLM-L6-v2',\n",
    "    #                                   model_kwargs={'device': 'cpu'})\n",
    "#embeddings = HuggingFaceEmbeddings(model_name='thenlper/gte-base',\n",
    "#                                       model_kwargs={'device': 'cpu'})"
   ]
  },
  {
   "cell_type": "code",
   "execution_count": 8,
   "metadata": {},
   "outputs": [],
   "source": [
    "from transformers import AutoModelForSeq2SeqLM, AutoTokenizer\n",
    "model_str = \"IIC/mt5-spanish-mlsum\"\n",
    "#model_Str = \"dccuchile/bert-base-spanish-wwm-cased\"\n",
    "tokenizer = AutoTokenizer.from_pretrained(model_str)\n",
    "model = AutoModelForSeq2SeqLM.from_pretrained(model_str)"
   ]
  },
  {
   "cell_type": "code",
   "execution_count": 9,
   "metadata": {},
   "outputs": [],
   "source": [
    "articles_summaries = []\n",
    "for article in articles:\n",
    "    input_ids = tokenizer(article, return_tensors=\"pt\").input_ids    \n",
    "    output_ids = model.generate(input_ids, max_new_tokens=400, penalty_alpha=0.6, top_k=4,)[0]\n",
    "    summary = tokenizer.decode(output_ids, skip_special_tokens=True)\n",
    "    articles_summaries.append(summary)"
   ]
  },
  {
   "cell_type": "code",
   "execution_count": 29,
   "metadata": {},
   "outputs": [
    {
     "data": {
      "text/plain": [
       "['Fuerza Naval Argentina acata marihuana y armas blancas en Villa La Angostura. La Fuerza Naval Argent',\n",
       " 'ina incautó a tres personas, dos mujeres y un hombre']"
      ]
     },
     "execution_count": 29,
     "metadata": {},
     "output_type": "execute_result"
    }
   ],
   "source": [
    "view_string(articles_summaries[5])"
   ]
  },
  {
   "cell_type": "code",
   "execution_count": 14,
   "metadata": {},
   "outputs": [
    {
     "name": "stdout",
     "output_type": "stream",
     "text": [
      "119\n",
      "119\n"
     ]
    },
    {
     "data": {
      "text/plain": [
       "(None, None)"
      ]
     },
     "execution_count": 14,
     "metadata": {},
     "output_type": "execute_result"
    }
   ],
   "source": [
    "print(len(articles_summaries)), print(df_clean.shape[0])"
   ]
  },
  {
   "cell_type": "code",
   "execution_count": 11,
   "metadata": {},
   "outputs": [],
   "source": [
    "summaries = pl.DataFrame(articles_summaries)\n",
    "df_clean = df_clean.with_columns(pl.Series(\"summary_llm\", articles_summaries))  \n"
   ]
  },
  {
   "cell_type": "code",
   "execution_count": 12,
   "metadata": {},
   "outputs": [
    {
     "data": {
      "text/plain": [
       "['date_extract',\n",
       " 'date_article',\n",
       " 'topic',\n",
       " 'content',\n",
       " 'link',\n",
       " 'link_sim_score',\n",
       " 'title',\n",
       " 'summary',\n",
       " 'authors',\n",
       " 'portal',\n",
       " 'state',\n",
       " 'city',\n",
       " 'content_hash',\n",
       " 'content_nchar',\n",
       " 'summary_llm']"
      ]
     },
     "execution_count": 12,
     "metadata": {},
     "output_type": "execute_result"
    }
   ],
   "source": [
    "df_clean.columns"
   ]
  },
  {
   "cell_type": "code",
   "execution_count": 13,
   "metadata": {},
   "outputs": [],
   "source": [
    "df_clean.write_csv('df_clean.csv')"
   ]
  },
  {
   "cell_type": "code",
   "execution_count": 14,
   "metadata": {},
   "outputs": [],
   "source": [
    "del tokenizer\n",
    "del model"
   ]
  },
  {
   "cell_type": "code",
   "execution_count": 15,
   "metadata": {},
   "outputs": [
    {
     "data": {
      "text/plain": [
       "0"
      ]
     },
     "execution_count": 15,
     "metadata": {},
     "output_type": "execute_result"
    }
   ],
   "source": [
    "import gc\n",
    "gc.collect()"
   ]
  },
  {
   "cell_type": "markdown",
   "metadata": {},
   "source": [
    "# Agrego NER "
   ]
  },
  {
   "cell_type": "code",
   "execution_count": null,
   "metadata": {},
   "outputs": [],
   "source": []
  },
  {
   "cell_type": "code",
   "execution_count": 30,
   "metadata": {},
   "outputs": [],
   "source": [
    "index = list(range(1, df_clean.shape[0]+1))\n",
    "articles = df_clean['content'].to_list()"
   ]
  },
  {
   "cell_type": "code",
   "execution_count": 31,
   "metadata": {},
   "outputs": [],
   "source": [
    "import spacy\n",
    "from langchain.text_splitter import RecursiveCharacterTextSplitter\n",
    "from transformers import pipeline\n",
    "\n",
    "# Load Spanish stopwords from spacy\n",
    "#nlp = spacy.load(\"es_core_news_sm\")\n",
    "#spanish_stopwords_spacy = spacy.lang.es.stop_words.STOP_WORDS\n",
    "\n",
    "#def remove_stopwords(text):\n",
    "#    \"\"\"Remove Spanish stopwords from the text.\"\"\"\n",
    "#    return \" \".join([word for word in text.split() if word not in spanish_stopwords_spacy])\n",
    "\n",
    "def langchain_chunk_text(text):\n",
    "    \n",
    "    # Remove stopwords\n",
    "    # text = remove_stopwords(text)\n",
    "    \n",
    "    # Define a basic whitespace tokenizer\n",
    "    def whitespace_tokenizer(text):\n",
    "        return text.split()\n",
    "\n",
    "    custom_text_splitter = RecursiveCharacterTextSplitter(\n",
    "        chunk_size=400,\n",
    "        chunk_overlap=60,\n",
    "        length_function = len,\n",
    "        #length_function=lambda x: len(whitespace_tokenizer(x))\n",
    "    )\n",
    "    \n",
    "    # Create the chunks using langchain\n",
    "    documents = custom_text_splitter.create_documents([text])\n",
    "    \n",
    "    # Extract the text content from the resulting Document objects\n",
    "    chunks = [doc.page_content for doc in documents]\n",
    "    \n",
    "    return chunks\n",
    "\n",
    "\n",
    "def ner_on_large_document(text):\n",
    "    nlp_ner = pipeline(\n",
    "        \"ner\",\n",
    "        model=\"mrm8488/bert-spanish-cased-finetuned-ner\",\n",
    "        #model=\"PlanTL-GOB-ES/roberta-base-bne-capitel-ner\",\n",
    "        #tokenizer=('mrm8488/bert-spanish-cased-finetuned-ner', {\"use_fast\": False}),\n",
    "        #aggregation_strategy=\"simple\"\n",
    "        aggregation_strategy=\"max\" # more precision!\n",
    "        #aggregation_strategy=\"average\"\n",
    "    )\n",
    "\n",
    "    chunks = langchain_chunk_text(text)\n",
    "    all_ner_results = []\n",
    "\n",
    "    for chunk in chunks:\n",
    "        ner_results = nlp_ner(chunk)\n",
    "        all_ner_results.extend(ner_results)\n",
    "\n",
    "    return all_ner_results"
   ]
  },
  {
   "cell_type": "code",
   "execution_count": 34,
   "metadata": {},
   "outputs": [],
   "source": [
    "from tqdm import tqdm"
   ]
  },
  {
   "cell_type": "code",
   "execution_count": null,
   "metadata": {},
   "outputs": [],
   "source": [
    "# Initialize an empty DataFrame\n",
    "df_combined = pl.DataFrame()\n",
    "for article, i in tqdm(zip(articles, index)):\n",
    "    # Assume ner_on_large_document is a function that processes the article\n",
    "    ner = ner_on_large_document(article)\n",
    "    df = pl.DataFrame(ner)\n",
    "    df_len = df.shape[0]\n",
    "    df = df.with_columns(pl.Series(\"index\", [i] * df_len))  \n",
    "    # Check if the columns of df match those of df_combined or if df_combined is still empty\n",
    "    if set(df.columns) == set(df_combined.columns) or df_combined.shape[1] == 0:\n",
    "        # Vertically stack the generated df to the df_combined\n",
    "        df_combined = pl.concat([df_combined, df])"
   ]
  },
  {
   "cell_type": "code",
   "execution_count": 95,
   "metadata": {},
   "outputs": [],
   "source": [
    "#df_combined.write_csv('ner.csv')\n",
    "df_combined = pl.read_csv('ner.csv')"
   ]
  },
  {
   "cell_type": "code",
   "execution_count": 109,
   "metadata": {},
   "outputs": [],
   "source": [
    "df_clean = df_clean.with_columns(pl.Series(\"index\", index))  "
   ]
  },
  {
   "cell_type": "code",
   "execution_count": 100,
   "metadata": {},
   "outputs": [],
   "source": [
    "# Perform the join operation directly using the 'index' column as the key\n",
    "df_combined = df_combined.join(df_clean[['link', 'content_hash', 'index']], on='index', how='left')\n"
   ]
  },
  {
   "cell_type": "code",
   "execution_count": 101,
   "metadata": {},
   "outputs": [
    {
     "data": {
      "text/html": [
       "<div><style>\n",
       ".dataframe > thead > tr > th,\n",
       ".dataframe > tbody > tr > td {\n",
       "  text-align: right;\n",
       "}\n",
       "</style>\n",
       "<small>shape: (1_448, 8)</small><table border=\"1\" class=\"dataframe\"><thead><tr><th>entity_group</th><th>score</th><th>word</th><th>start</th><th>end</th><th>index</th><th>link</th><th>content_hash</th></tr><tr><td>str</td><td>f64</td><td>str</td><td>i64</td><td>i64</td><td>i64</td><td>str</td><td>u64</td></tr></thead><tbody><tr><td>&quot;PER&quot;</td><td>0.9998</td><td>&quot;Leo Graciarena…</td><td>13</td><td>27</td><td>1</td><td>&quot;https://www.la…</td><td>9259959111029284149</td></tr><tr><td>&quot;PER&quot;</td><td>0.999691</td><td>&quot;Elena Beatriz …</td><td>37</td><td>58</td><td>1</td><td>&quot;https://www.la…</td><td>9259959111029284149</td></tr><tr><td>&quot;ORG&quot;</td><td>0.984321</td><td>&quot;Tribunal Oral …</td><td>72</td><td>95</td><td>1</td><td>&quot;https://www.la…</td><td>9259959111029284149</td></tr><tr><td>&quot;ORG&quot;</td><td>0.98353</td><td>&quot;“ Clan Insaurr…</td><td>166</td><td>184</td><td>1</td><td>&quot;https://www.la…</td><td>9259959111029284149</td></tr><tr><td>&quot;ORG&quot;</td><td>0.997706</td><td>&quot;Tribunal Oral …</td><td>210</td><td>233</td><td>1</td><td>&quot;https://www.la…</td><td>9259959111029284149</td></tr><tr><td>&quot;PER&quot;</td><td>0.999829</td><td>&quot;Elena Beatriz …</td><td>112</td><td>133</td><td>1</td><td>&quot;https://www.la…</td><td>9259959111029284149</td></tr><tr><td>&quot;PER&quot;</td><td>0.99977</td><td>&quot;Brian Nahuel I…</td><td>216</td><td>240</td><td>1</td><td>&quot;https://www.la…</td><td>9259959111029284149</td></tr><tr><td>&quot;PER&quot;</td><td>0.999559</td><td>&quot;Ramón Javier&quot;</td><td>278</td><td>290</td><td>1</td><td>&quot;https://www.la…</td><td>9259959111029284149</td></tr><tr><td>&quot;PER&quot;</td><td>0.993575</td><td>&quot;“ Rengo ” Insa…</td><td>291</td><td>310</td><td>1</td><td>&quot;https://www.la…</td><td>9259959111029284149</td></tr><tr><td>&quot;PER&quot;</td><td>0.999605</td><td>&quot;Roxana García …</td><td>103</td><td>121</td><td>1</td><td>&quot;https://www.la…</td><td>9259959111029284149</td></tr><tr><td>&quot;PER&quot;</td><td>0.998353</td><td>&quot;Brian&quot;</td><td>187</td><td>192</td><td>1</td><td>&quot;https://www.la…</td><td>9259959111029284149</td></tr><tr><td>&quot;LOC&quot;</td><td>0.999207</td><td>&quot;Villa Devoto&quot;</td><td>223</td><td>235</td><td>1</td><td>&quot;https://www.la…</td><td>9259959111029284149</td></tr><tr><td>&hellip;</td><td>&hellip;</td><td>&hellip;</td><td>&hellip;</td><td>&hellip;</td><td>&hellip;</td><td>&hellip;</td><td>&hellip;</td></tr><tr><td>&quot;ORG&quot;</td><td>0.999406</td><td>&quot;Cámara de Elec…</td><td>110</td><td>148</td><td>44</td><td>&quot;https://www.la…</td><td>16848295609999560211</td></tr><tr><td>&quot;PER&quot;</td><td>0.999807</td><td>&quot;Matías Petisce…</td><td>274</td><td>288</td><td>44</td><td>&quot;https://www.la…</td><td>16848295609999560211</td></tr><tr><td>&quot;PER&quot;</td><td>0.999793</td><td>&quot;Matías Petisce…</td><td>293</td><td>307</td><td>44</td><td>&quot;https://www.la…</td><td>16848295609999560211</td></tr><tr><td>&quot;PER&quot;</td><td>0.999835</td><td>&quot;Nicolás Maggi&quot;</td><td>312</td><td>325</td><td>44</td><td>&quot;https://www.la…</td><td>16848295609999560211</td></tr><tr><td>&quot;PER&quot;</td><td>0.999828</td><td>&quot;Patricia Marti…</td><td>330</td><td>346</td><td>44</td><td>&quot;https://www.la…</td><td>16848295609999560211</td></tr><tr><td>&quot;PER&quot;</td><td>0.999829</td><td>&quot;Rodolfo Montes…</td><td>351</td><td>365</td><td>44</td><td>&quot;https://www.la…</td><td>16848295609999560211</td></tr><tr><td>&quot;PER&quot;</td><td>0.999829</td><td>&quot;Leo Graciarena…</td><td>370</td><td>384</td><td>44</td><td>&quot;https://www.la…</td><td>16848295609999560211</td></tr><tr><td>&quot;PER&quot;</td><td>0.999818</td><td>&quot;Claudio&quot;</td><td>389</td><td>396</td><td>44</td><td>&quot;https://www.la…</td><td>16848295609999560211</td></tr><tr><td>&quot;PER&quot;</td><td>0.99891</td><td>&quot;Martino&quot;</td><td>0</td><td>7</td><td>44</td><td>&quot;https://www.la…</td><td>16848295609999560211</td></tr><tr><td>&quot;PER&quot;</td><td>0.999798</td><td>&quot;Rodolfo Montes…</td><td>12</td><td>26</td><td>44</td><td>&quot;https://www.la…</td><td>16848295609999560211</td></tr><tr><td>&quot;PER&quot;</td><td>0.999834</td><td>&quot;Leo Graciarena…</td><td>31</td><td>45</td><td>44</td><td>&quot;https://www.la…</td><td>16848295609999560211</td></tr><tr><td>&quot;PER&quot;</td><td>0.999689</td><td>&quot;Claudio Gonzál…</td><td>50</td><td>75</td><td>44</td><td>&quot;https://www.la…</td><td>16848295609999560211</td></tr></tbody></table></div>"
      ],
      "text/plain": [
       "shape: (1_448, 8)\n",
       "┌──────────────┬──────────┬────────────────┬───────┬─────┬───────┬────────────────┬────────────────┐\n",
       "│ entity_group ┆ score    ┆ word           ┆ start ┆ end ┆ index ┆ link           ┆ content_hash   │\n",
       "│ ---          ┆ ---      ┆ ---            ┆ ---   ┆ --- ┆ ---   ┆ ---            ┆ ---            │\n",
       "│ str          ┆ f64      ┆ str            ┆ i64   ┆ i64 ┆ i64   ┆ str            ┆ u64            │\n",
       "╞══════════════╪══════════╪════════════════╪═══════╪═════╪═══════╪════════════════╪════════════════╡\n",
       "│ PER          ┆ 0.9998   ┆ Leo Graciarena ┆ 13    ┆ 27  ┆ 1     ┆ https://www.la ┆ 92599591110292 │\n",
       "│              ┆          ┆                ┆       ┆     ┆       ┆ capital.com.ar ┆ 84149          │\n",
       "│              ┆          ┆                ┆       ┆     ┆       ┆ /pol…          ┆                │\n",
       "│ PER          ┆ 0.999691 ┆ Elena Beatriz  ┆ 37    ┆ 58  ┆ 1     ┆ https://www.la ┆ 92599591110292 │\n",
       "│              ┆          ┆ Dilario        ┆       ┆     ┆       ┆ capital.com.ar ┆ 84149          │\n",
       "│              ┆          ┆                ┆       ┆     ┆       ┆ /pol…          ┆                │\n",
       "│ ORG          ┆ 0.984321 ┆ Tribunal Oral  ┆ 72    ┆ 95  ┆ 1     ┆ https://www.la ┆ 92599591110292 │\n",
       "│              ┆          ┆ Federal 3      ┆       ┆     ┆       ┆ capital.com.ar ┆ 84149          │\n",
       "│              ┆          ┆                ┆       ┆     ┆       ┆ /pol…          ┆                │\n",
       "│ ORG          ┆ 0.98353  ┆ “ Clan         ┆ 166   ┆ 184 ┆ 1     ┆ https://www.la ┆ 92599591110292 │\n",
       "│              ┆          ┆ Insaurralde ”  ┆       ┆     ┆       ┆ capital.com.ar ┆ 84149          │\n",
       "│              ┆          ┆                ┆       ┆     ┆       ┆ /pol…          ┆                │\n",
       "│ …            ┆ …        ┆ …              ┆ …     ┆ …   ┆ …     ┆ …              ┆ …              │\n",
       "│ PER          ┆ 0.99891  ┆ Martino        ┆ 0     ┆ 7   ┆ 44    ┆ https://www.la ┆ 16848295609999 │\n",
       "│              ┆          ┆                ┆       ┆     ┆       ┆ capital.com.ar ┆ 560211         │\n",
       "│              ┆          ┆                ┆       ┆     ┆       ┆ /pol…          ┆                │\n",
       "│ PER          ┆ 0.999798 ┆ Rodolfo Montes ┆ 12    ┆ 26  ┆ 44    ┆ https://www.la ┆ 16848295609999 │\n",
       "│              ┆          ┆                ┆       ┆     ┆       ┆ capital.com.ar ┆ 560211         │\n",
       "│              ┆          ┆                ┆       ┆     ┆       ┆ /pol…          ┆                │\n",
       "│ PER          ┆ 0.999834 ┆ Leo Graciarena ┆ 31    ┆ 45  ┆ 44    ┆ https://www.la ┆ 16848295609999 │\n",
       "│              ┆          ┆                ┆       ┆     ┆       ┆ capital.com.ar ┆ 560211         │\n",
       "│              ┆          ┆                ┆       ┆     ┆       ┆ /pol…          ┆                │\n",
       "│ PER          ┆ 0.999689 ┆ Claudio        ┆ 50    ┆ 75  ┆ 44    ┆ https://www.la ┆ 16848295609999 │\n",
       "│              ┆          ┆ González       ┆       ┆     ┆       ┆ capital.com.ar ┆ 560211         │\n",
       "│              ┆          ┆ Seguinos       ┆       ┆     ┆       ┆ /pol…          ┆                │\n",
       "└──────────────┴──────────┴────────────────┴───────┴─────┴───────┴────────────────┴────────────────┘"
      ]
     },
     "execution_count": 101,
     "metadata": {},
     "output_type": "execute_result"
    }
   ],
   "source": [
    "df_combined"
   ]
  },
  {
   "cell_type": "code",
   "execution_count": 110,
   "metadata": {},
   "outputs": [
    {
     "data": {
      "text/plain": [
       "['date_extract',\n",
       " 'date_article',\n",
       " 'topic',\n",
       " 'content',\n",
       " 'link',\n",
       " 'link_sim_score',\n",
       " 'title',\n",
       " 'summary',\n",
       " 'authors',\n",
       " 'portal',\n",
       " 'state',\n",
       " 'city',\n",
       " 'content_hash',\n",
       " 'content_nchar',\n",
       " 'index']"
      ]
     },
     "execution_count": 110,
     "metadata": {},
     "output_type": "execute_result"
    }
   ],
   "source": [
    "df_clean.columns"
   ]
  },
  {
   "cell_type": "code",
   "execution_count": null,
   "metadata": {},
   "outputs": [],
   "source": [
    "df_reordered = df_combined.select([\n",
    "    'index',\n",
    "    'topic',\n",
    "    'date_extract',\n",
    "    'date_article',    \n",
    "    'content',\n",
    "    'portal',\n",
    "    'link',\n",
    "    'link_sim_score',\n",
    "    'title',\n",
    "    'summary',\n",
    "    'summary_llm',\n",
    "    'authors',    \n",
    "    'state',\n",
    "    'city',\n",
    "    'content_hash',\n",
    "    'content_nchar'\n",
    "])"
   ]
  },
  {
   "cell_type": "code",
   "execution_count": 111,
   "metadata": {},
   "outputs": [
    {
     "data": {
      "text/plain": [
       "['entity_group',\n",
       " 'score',\n",
       " 'word',\n",
       " 'start',\n",
       " 'end',\n",
       " 'index',\n",
       " 'link',\n",
       " 'content_hash']"
      ]
     },
     "execution_count": 111,
     "metadata": {},
     "output_type": "execute_result"
    }
   ],
   "source": [
    "df_combined.columns"
   ]
  },
  {
   "cell_type": "code",
   "execution_count": null,
   "metadata": {},
   "outputs": [],
   "source": [
    "df_combined = df_combined.select(\n",
    "    [\n",
    "        'index',\n",
    "        'link',\n",
    "        'content_hash'\n",
    "        'entity_group',\n",
    "        'score',\n",
    "        'word',\n",
    "        'start',\n",
    "        'end'        \n",
    "    ]\n",
    ")"
   ]
  },
  {
   "cell_type": "code",
   "execution_count": null,
   "metadata": {},
   "outputs": [],
   "source": [
    "import spacy\n",
    "from langchain.text_splitter import RecursiveCharacterTextSplitter\n",
    "from transformers import pipeline\n",
    "\n",
    "\n",
    "def langchain_chunk_text(text):\n",
    "   \n",
    "    custom_text_splitter = RecursiveCharacterTextSplitter(\n",
    "        chunk_size=400,\n",
    "        chunk_overlap=60,\n",
    "        length_function = len        \n",
    "    )\n",
    "    \n",
    "    # Create the chunks using langchain\n",
    "    documents = custom_text_splitter.create_documents([text])\n",
    "    \n",
    "    # Extract the text content from the resulting Document objects\n",
    "    chunks = [doc.page_content for doc in documents]\n",
    "    \n",
    "    return chunks\n",
    "\n",
    "\n",
    "def ner_on_large_document(text):\n",
    "    nlp_ner = pipeline(\n",
    "        \"ner\",\n",
    "        model=\"mrm8488/bert-spanish-cased-finetuned-ner\",\n",
    "        #model=\"PlanTL-GOB-ES/roberta-base-bne-capitel-ner\",\n",
    "        #tokenizer=('mrm8488/bert-spanish-cased-finetuned-ner', {\"use_fast\": False}),\n",
    "        #aggregation_strategy=\"simple\"\n",
    "        aggregation_strategy=\"max\" # more precision!\n",
    "        #aggregation_strategy=\"average\"\n",
    "    )\n",
    "\n",
    "    chunks = langchain_chunk_text(text)\n",
    "    all_ner_results = []\n",
    "\n",
    "    for chunk in chunks:\n",
    "        ner_results = nlp_ner(chunk)\n",
    "        all_ner_results.extend(ner_results)\n",
    "\n",
    "    return all_ner_results"
   ]
  }
 ],
 "metadata": {
  "kernelspec": {
   "display_name": ".willow",
   "language": "python",
   "name": ".willow"
  },
  "language_info": {
   "codemirror_mode": {
    "name": "ipython",
    "version": 3
   },
   "file_extension": ".py",
   "mimetype": "text/x-python",
   "name": "python",
   "nbconvert_exporter": "python",
   "pygments_lexer": "ipython3",
   "version": "3.9.13"
  },
  "orig_nbformat": 4
 },
 "nbformat": 4,
 "nbformat_minor": 2
}
