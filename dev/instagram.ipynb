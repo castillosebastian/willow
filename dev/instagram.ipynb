{
 "cells": [
  {
   "cell_type": "markdown",
   "metadata": {},
   "source": [
    "# Instagram"
   ]
  },
  {
   "cell_type": "code",
   "execution_count": 2,
   "metadata": {},
   "outputs": [],
   "source": [
    "from datetime import datetime\n",
    "import instaloader\n"
   ]
  },
  {
   "cell_type": "code",
   "execution_count": 3,
   "metadata": {},
   "outputs": [
    {
     "name": "stderr",
     "output_type": "stream",
     "text": [
      "JSON Query to accounts/login/: Could not find \"window._sharedData\" in html response. [retrying; skip with ^C]\n",
      "JSON Query to accounts/login/: Could not find \"window._sharedData\" in html response. [retrying; skip with ^C]\n"
     ]
    },
    {
     "ename": "QueryReturnedNotFoundException",
     "evalue": "JSON Query to accounts/login/: Could not find \"window._sharedData\" in html response.",
     "output_type": "error",
     "traceback": [
      "\u001b[0;31m---------------------------------------------------------------------------\u001b[0m",
      "\u001b[0;31mQueryReturnedNotFoundException\u001b[0m            Traceback (most recent call last)",
      "File \u001b[0;32m~/.willow/lib/python3.9/site-packages/instaloader/instaloadercontext.py:410\u001b[0m, in \u001b[0;36mInstaloaderContext.get_json\u001b[0;34m(self, path, params, host, session, _attempt, response_headers)\u001b[0m\n\u001b[1;32m    409\u001b[0m \u001b[39mif\u001b[39;00m match \u001b[39mis\u001b[39;00m \u001b[39mNone\u001b[39;00m:\n\u001b[0;32m--> 410\u001b[0m     \u001b[39mraise\u001b[39;00m QueryReturnedNotFoundException(\u001b[39m\"\u001b[39m\u001b[39mCould not find \u001b[39m\u001b[39m\\\"\u001b[39;00m\u001b[39mwindow._sharedData\u001b[39m\u001b[39m\\\"\u001b[39;00m\u001b[39m in html response.\u001b[39m\u001b[39m\"\u001b[39m)\n\u001b[1;32m    411\u001b[0m resp_json \u001b[39m=\u001b[39m json\u001b[39m.\u001b[39mloads(match\u001b[39m.\u001b[39mgroup(\u001b[39m1\u001b[39m))\n",
      "\u001b[0;31mQueryReturnedNotFoundException\u001b[0m: Could not find \"window._sharedData\" in html response.",
      "\nDuring handling of the above exception, another exception occurred:\n",
      "\u001b[0;31mQueryReturnedNotFoundException\u001b[0m            Traceback (most recent call last)",
      "File \u001b[0;32m~/.willow/lib/python3.9/site-packages/instaloader/instaloadercontext.py:410\u001b[0m, in \u001b[0;36mInstaloaderContext.get_json\u001b[0;34m(self, path, params, host, session, _attempt, response_headers)\u001b[0m\n\u001b[1;32m    409\u001b[0m \u001b[39mif\u001b[39;00m match \u001b[39mis\u001b[39;00m \u001b[39mNone\u001b[39;00m:\n\u001b[0;32m--> 410\u001b[0m     \u001b[39mraise\u001b[39;00m QueryReturnedNotFoundException(\u001b[39m\"\u001b[39m\u001b[39mCould not find \u001b[39m\u001b[39m\\\"\u001b[39;00m\u001b[39mwindow._sharedData\u001b[39m\u001b[39m\\\"\u001b[39;00m\u001b[39m in html response.\u001b[39m\u001b[39m\"\u001b[39m)\n\u001b[1;32m    411\u001b[0m resp_json \u001b[39m=\u001b[39m json\u001b[39m.\u001b[39mloads(match\u001b[39m.\u001b[39mgroup(\u001b[39m1\u001b[39m))\n",
      "\u001b[0;31mQueryReturnedNotFoundException\u001b[0m: Could not find \"window._sharedData\" in html response.",
      "\nDuring handling of the above exception, another exception occurred:\n",
      "\u001b[0;31mQueryReturnedNotFoundException\u001b[0m            Traceback (most recent call last)",
      "File \u001b[0;32m~/.willow/lib/python3.9/site-packages/instaloader/instaloadercontext.py:410\u001b[0m, in \u001b[0;36mInstaloaderContext.get_json\u001b[0;34m(self, path, params, host, session, _attempt, response_headers)\u001b[0m\n\u001b[1;32m    409\u001b[0m \u001b[39mif\u001b[39;00m match \u001b[39mis\u001b[39;00m \u001b[39mNone\u001b[39;00m:\n\u001b[0;32m--> 410\u001b[0m     \u001b[39mraise\u001b[39;00m QueryReturnedNotFoundException(\u001b[39m\"\u001b[39m\u001b[39mCould not find \u001b[39m\u001b[39m\\\"\u001b[39;00m\u001b[39mwindow._sharedData\u001b[39m\u001b[39m\\\"\u001b[39;00m\u001b[39m in html response.\u001b[39m\u001b[39m\"\u001b[39m)\n\u001b[1;32m    411\u001b[0m resp_json \u001b[39m=\u001b[39m json\u001b[39m.\u001b[39mloads(match\u001b[39m.\u001b[39mgroup(\u001b[39m1\u001b[39m))\n",
      "\u001b[0;31mQueryReturnedNotFoundException\u001b[0m: Could not find \"window._sharedData\" in html response.",
      "\nThe above exception was the direct cause of the following exception:\n",
      "\u001b[0;31mQueryReturnedNotFoundException\u001b[0m            Traceback (most recent call last)",
      "Cell \u001b[0;32mIn[3], line 2\u001b[0m\n\u001b[1;32m      1\u001b[0m L \u001b[39m=\u001b[39m instaloader\u001b[39m.\u001b[39mInstaloader()\n\u001b[0;32m----> 2\u001b[0m L\u001b[39m.\u001b[39;49mlogin(\u001b[39m'\u001b[39;49m\u001b[39mcastilloclaudiosebastian\u001b[39;49m\u001b[39m'\u001b[39;49m, \u001b[39m'\u001b[39;49m\u001b[39mzancuda77\u001b[39;49m\u001b[39m'\u001b[39;49m)\n\u001b[1;32m      4\u001b[0m posts \u001b[39m=\u001b[39m instaloader\u001b[39m.\u001b[39mHashtag\u001b[39m.\u001b[39mfrom_name(L\u001b[39m.\u001b[39mcontext, \u001b[39m\"\u001b[39m\u001b[39mnarcotráfico\u001b[39m\u001b[39m\"\u001b[39m)\u001b[39m.\u001b[39mget_posts()\n\u001b[1;32m      6\u001b[0m SINCE \u001b[39m=\u001b[39m datetime(\u001b[39m2023\u001b[39m, \u001b[39m8\u001b[39m, \u001b[39m10\u001b[39m)  \u001b[39m# further from today, inclusive\u001b[39;00m\n",
      "File \u001b[0;32m~/.willow/lib/python3.9/site-packages/instaloader/instaloader.py:651\u001b[0m, in \u001b[0;36mInstaloader.login\u001b[0;34m(self, user, passwd)\u001b[0m\n\u001b[1;32m    643\u001b[0m \u001b[39mdef\u001b[39;00m \u001b[39mlogin\u001b[39m(\u001b[39mself\u001b[39m, user: \u001b[39mstr\u001b[39m, passwd: \u001b[39mstr\u001b[39m) \u001b[39m-\u001b[39m\u001b[39m>\u001b[39m \u001b[39mNone\u001b[39;00m:\n\u001b[1;32m    644\u001b[0m \u001b[39m    \u001b[39m\u001b[39m\"\"\"Log in to instagram with given username and password and internally store session object.\u001b[39;00m\n\u001b[1;32m    645\u001b[0m \n\u001b[1;32m    646\u001b[0m \u001b[39m    :raises InvalidArgumentException: If the provided username does not exist.\u001b[39;00m\n\u001b[0;32m   (...)\u001b[0m\n\u001b[1;32m    649\u001b[0m \u001b[39m    :raises TwoFactorAuthRequiredException: First step of 2FA login done, now call\u001b[39;00m\n\u001b[1;32m    650\u001b[0m \u001b[39m       :meth:`Instaloader.two_factor_login`.\"\"\"\u001b[39;00m\n\u001b[0;32m--> 651\u001b[0m     \u001b[39mself\u001b[39;49m\u001b[39m.\u001b[39;49mcontext\u001b[39m.\u001b[39;49mlogin(user, passwd)\n",
      "File \u001b[0;32m~/.willow/lib/python3.9/site-packages/instaloader/instaloadercontext.py:259\u001b[0m, in \u001b[0;36mInstaloaderContext.login\u001b[0;34m(self, user, passwd)\u001b[0m\n\u001b[1;32m    256\u001b[0m \u001b[39m# Override default timeout behavior.\u001b[39;00m\n\u001b[1;32m    257\u001b[0m \u001b[39m# Need to silence mypy bug for this. See: https://github.com/python/mypy/issues/2427\u001b[39;00m\n\u001b[1;32m    258\u001b[0m session\u001b[39m.\u001b[39mrequest \u001b[39m=\u001b[39m partial(session\u001b[39m.\u001b[39mrequest, timeout\u001b[39m=\u001b[39m\u001b[39mself\u001b[39m\u001b[39m.\u001b[39mrequest_timeout) \u001b[39m# type: ignore\u001b[39;00m\n\u001b[0;32m--> 259\u001b[0m csrf_json \u001b[39m=\u001b[39m \u001b[39mself\u001b[39;49m\u001b[39m.\u001b[39;49mget_json(\u001b[39m'\u001b[39;49m\u001b[39maccounts/login/\u001b[39;49m\u001b[39m'\u001b[39;49m, {}, session\u001b[39m=\u001b[39;49msession)\n\u001b[1;32m    260\u001b[0m csrf_token \u001b[39m=\u001b[39m csrf_json[\u001b[39m'\u001b[39m\u001b[39mconfig\u001b[39m\u001b[39m'\u001b[39m][\u001b[39m'\u001b[39m\u001b[39mcsrf_token\u001b[39m\u001b[39m'\u001b[39m]\n\u001b[1;32m    261\u001b[0m session\u001b[39m.\u001b[39mheaders\u001b[39m.\u001b[39mupdate({\u001b[39m'\u001b[39m\u001b[39mX-CSRFToken\u001b[39m\u001b[39m'\u001b[39m: csrf_token})\n",
      "File \u001b[0;32m~/.willow/lib/python3.9/site-packages/instaloader/instaloadercontext.py:448\u001b[0m, in \u001b[0;36mInstaloaderContext.get_json\u001b[0;34m(self, path, params, host, session, _attempt, response_headers)\u001b[0m\n\u001b[1;32m    446\u001b[0m         \u001b[39mif\u001b[39;00m is_other_query:\n\u001b[1;32m    447\u001b[0m             \u001b[39mself\u001b[39m\u001b[39m.\u001b[39m_rate_controller\u001b[39m.\u001b[39mhandle_429(\u001b[39m'\u001b[39m\u001b[39mother\u001b[39m\u001b[39m'\u001b[39m)\n\u001b[0;32m--> 448\u001b[0m     \u001b[39mreturn\u001b[39;00m \u001b[39mself\u001b[39;49m\u001b[39m.\u001b[39;49mget_json(path\u001b[39m=\u001b[39;49mpath, params\u001b[39m=\u001b[39;49mparams, host\u001b[39m=\u001b[39;49mhost, session\u001b[39m=\u001b[39;49msess, _attempt\u001b[39m=\u001b[39;49m_attempt \u001b[39m+\u001b[39;49m \u001b[39m1\u001b[39;49m,\n\u001b[1;32m    449\u001b[0m                          response_headers\u001b[39m=\u001b[39;49mresponse_headers)\n\u001b[1;32m    450\u001b[0m \u001b[39mexcept\u001b[39;00m \u001b[39mKeyboardInterrupt\u001b[39;00m:\n\u001b[1;32m    451\u001b[0m     \u001b[39mself\u001b[39m\u001b[39m.\u001b[39merror(\u001b[39m\"\u001b[39m\u001b[39m[skipped by user]\u001b[39m\u001b[39m\"\u001b[39m, repeat_at_end\u001b[39m=\u001b[39m\u001b[39mFalse\u001b[39;00m)\n",
      "File \u001b[0;32m~/.willow/lib/python3.9/site-packages/instaloader/instaloadercontext.py:448\u001b[0m, in \u001b[0;36mInstaloaderContext.get_json\u001b[0;34m(self, path, params, host, session, _attempt, response_headers)\u001b[0m\n\u001b[1;32m    446\u001b[0m         \u001b[39mif\u001b[39;00m is_other_query:\n\u001b[1;32m    447\u001b[0m             \u001b[39mself\u001b[39m\u001b[39m.\u001b[39m_rate_controller\u001b[39m.\u001b[39mhandle_429(\u001b[39m'\u001b[39m\u001b[39mother\u001b[39m\u001b[39m'\u001b[39m)\n\u001b[0;32m--> 448\u001b[0m     \u001b[39mreturn\u001b[39;00m \u001b[39mself\u001b[39;49m\u001b[39m.\u001b[39;49mget_json(path\u001b[39m=\u001b[39;49mpath, params\u001b[39m=\u001b[39;49mparams, host\u001b[39m=\u001b[39;49mhost, session\u001b[39m=\u001b[39;49msess, _attempt\u001b[39m=\u001b[39;49m_attempt \u001b[39m+\u001b[39;49m \u001b[39m1\u001b[39;49m,\n\u001b[1;32m    449\u001b[0m                          response_headers\u001b[39m=\u001b[39;49mresponse_headers)\n\u001b[1;32m    450\u001b[0m \u001b[39mexcept\u001b[39;00m \u001b[39mKeyboardInterrupt\u001b[39;00m:\n\u001b[1;32m    451\u001b[0m     \u001b[39mself\u001b[39m\u001b[39m.\u001b[39merror(\u001b[39m\"\u001b[39m\u001b[39m[skipped by user]\u001b[39m\u001b[39m\"\u001b[39m, repeat_at_end\u001b[39m=\u001b[39m\u001b[39mFalse\u001b[39;00m)\n",
      "File \u001b[0;32m~/.willow/lib/python3.9/site-packages/instaloader/instaloadercontext.py:436\u001b[0m, in \u001b[0;36mInstaloaderContext.get_json\u001b[0;34m(self, path, params, host, session, _attempt, response_headers)\u001b[0m\n\u001b[1;32m    434\u001b[0m \u001b[39mif\u001b[39;00m _attempt \u001b[39m==\u001b[39m \u001b[39mself\u001b[39m\u001b[39m.\u001b[39mmax_connection_attempts:\n\u001b[1;32m    435\u001b[0m     \u001b[39mif\u001b[39;00m \u001b[39misinstance\u001b[39m(err, QueryReturnedNotFoundException):\n\u001b[0;32m--> 436\u001b[0m         \u001b[39mraise\u001b[39;00m QueryReturnedNotFoundException(error_string) \u001b[39mfrom\u001b[39;00m \u001b[39merr\u001b[39;00m\n\u001b[1;32m    437\u001b[0m     \u001b[39melse\u001b[39;00m:\n\u001b[1;32m    438\u001b[0m         \u001b[39mraise\u001b[39;00m ConnectionException(error_string) \u001b[39mfrom\u001b[39;00m \u001b[39merr\u001b[39;00m\n",
      "\u001b[0;31mQueryReturnedNotFoundException\u001b[0m: JSON Query to accounts/login/: Could not find \"window._sharedData\" in html response."
     ]
    }
   ],
   "source": [
    "L = instaloader.Instaloader()\n",
    "L.login('castilloclaudiosebastian', 'zancuda77')\n",
    "\n",
    "posts = instaloader.Hashtag.from_name(L.context, \"narcotráfico\").get_posts()\n",
    "\n",
    "SINCE = datetime(2023, 8, 10)  # further from today, inclusive\n",
    "UNTIL = datetime(2023, 8, 14)  # closer to today, not inclusive\n",
    "\n",
    "k = 0  # initiate k\n",
    "#k_list = []  # uncomment this to tune k\n",
    "\n"
   ]
  },
  {
   "cell_type": "code",
   "execution_count": null,
   "metadata": {},
   "outputs": [],
   "source": [
    "for post in posts:\n",
    "    postdate = post.date\n",
    "\n",
    "    if postdate > UNTIL:\n",
    "        continue\n",
    "    elif postdate <= SINCE:\n",
    "        k += 1\n",
    "        if k == 50:\n",
    "            break\n",
    "        else:\n",
    "            continue\n",
    "    else:\n",
    "        L.download_post(post, \"#narcotráfico\")\n",
    "        # if you want to tune k, uncomment below to get your k max\n",
    "        #k_list.append(k)\n",
    "        k = 0  # set k to 0"
   ]
  }
 ],
 "metadata": {
  "kernelspec": {
   "display_name": ".willow",
   "language": "python",
   "name": ".willow"
  },
  "language_info": {
   "codemirror_mode": {
    "name": "ipython",
    "version": 3
   },
   "file_extension": ".py",
   "mimetype": "text/x-python",
   "name": "python",
   "nbconvert_exporter": "python",
   "pygments_lexer": "ipython3",
   "version": "3.9.13"
  },
  "orig_nbformat": 4
 },
 "nbformat": 4,
 "nbformat_minor": 2
}
