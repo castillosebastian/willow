{
 "cells": [
  {
   "cell_type": "markdown",
   "metadata": {},
   "source": [
    "# Data files tuning"
   ]
  },
  {
   "cell_type": "code",
   "execution_count": null,
   "metadata": {},
   "outputs": [],
   "source": [
    "import polars as pl\n",
    "df = pl.read_csv('/home/sebacastillo/willow/data/portals.csv')"
   ]
  },
  {
   "cell_type": "code",
   "execution_count": null,
   "metadata": {},
   "outputs": [],
   "source": [
    "def view_string(long_string, chunk_size=100):     \n",
    "    return [long_string[i:i+chunk_size] for i in range(0, len(long_string), chunk_size)]"
   ]
  },
  {
   "cell_type": "code",
   "execution_count": null,
   "metadata": {},
   "outputs": [],
   "source": [
    "topic = 'narcotráfico'"
   ]
  },
  {
   "cell_type": "code",
   "execution_count": null,
   "metadata": {},
   "outputs": [
    {
     "data": {
      "text/html": [
       "<div><style>\n",
       ".dataframe > thead > tr > th,\n",
       ".dataframe > tbody > tr > td {\n",
       "  text-align: right;\n",
       "}\n",
       "</style>\n",
       "<small>shape: (5, 5)</small><table border=\"1\" class=\"dataframe\"><thead><tr><th>state</th><th>city</th><th>newsportalname</th><th>newsportalurl</th><th>topic</th></tr><tr><td>str</td><td>str</td><td>str</td><td>str</td><td>str</td></tr></thead><tbody><tr><td>&quot;Buenos Aires&quot;</td><td>&quot;La Plata&quot;</td><td>&quot;El Día&quot;</td><td>&quot;https://www.el…</td><td>&quot;narcotráfico&quot;</td></tr><tr><td>&quot;Buenos Aires&quot;</td><td>&quot;Mar del Plata&quot;</td><td>&quot;La Capital&quot;</td><td>&quot;https://www.la…</td><td>&quot;narcotráfico&quot;</td></tr><tr><td>&quot;CABA&quot;</td><td>&quot;Buenos Aires&quot;</td><td>&quot;Clarín&quot;</td><td>&quot;https://www.cl…</td><td>&quot;narcotráfico&quot;</td></tr><tr><td>&quot;Chaco&quot;</td><td>&quot;Resistencia&quot;</td><td>&quot;Diario Norte&quot;</td><td>&quot;https://www.di…</td><td>&quot;narcotráfico&quot;</td></tr><tr><td>&quot;Chaco&quot;</td><td>&quot;Sáenz Peña&quot;</td><td>&quot;Diario Chaco&quot;</td><td>&quot;https://www.di…</td><td>&quot;narcotráfico&quot;</td></tr></tbody></table></div>"
      ],
      "text/plain": [
       "shape: (5, 5)\n",
       "┌──────────────┬───────────────┬────────────────┬───────────────────────────────┬──────────────┐\n",
       "│ state        ┆ city          ┆ newsportalname ┆ newsportalurl                 ┆ topic        │\n",
       "│ ---          ┆ ---           ┆ ---            ┆ ---                           ┆ ---          │\n",
       "│ str          ┆ str           ┆ str            ┆ str                           ┆ str          │\n",
       "╞══════════════╪═══════════════╪════════════════╪═══════════════════════════════╪══════════════╡\n",
       "│ Buenos Aires ┆ La Plata      ┆ El Día         ┆ https://www.eldia.com/        ┆ narcotráfico │\n",
       "│ Buenos Aires ┆ Mar del Plata ┆ La Capital     ┆ https://www.lacapitalmdp.com/ ┆ narcotráfico │\n",
       "│ CABA         ┆ Buenos Aires  ┆ Clarín         ┆ https://www.clarin.com/       ┆ narcotráfico │\n",
       "│ Chaco        ┆ Resistencia   ┆ Diario Norte   ┆ https://www.diarionorte.com/  ┆ narcotráfico │\n",
       "│ Chaco        ┆ Sáenz Peña    ┆ Diario Chaco   ┆ https://www.diariochaco.com/  ┆ narcotráfico │\n",
       "└──────────────┴───────────────┴────────────────┴───────────────────────────────┴──────────────┘"
      ]
     },
     "metadata": {},
     "output_type": "display_data"
    }
   ],
   "source": [
    "df.filter(pl.col('topic') == topic).select('newsportalurl').to_series().to_list()\n",
    "df.head()"
   ]
  },
  {
   "cell_type": "code",
   "execution_count": null,
   "metadata": {},
   "outputs": [
    {
     "data": {
      "text/html": [
       "<div><style>\n",
       ".dataframe > thead > tr > th,\n",
       ".dataframe > tbody > tr > td {\n",
       "  text-align: right;\n",
       "}\n",
       "</style>\n",
       "<small>shape: (1, 5)</small><table border=\"1\" class=\"dataframe\"><thead><tr><th>state</th><th>city</th><th>newsportalname</th><th>newsportalurl</th><th>topic</th></tr><tr><td>str</td><td>str</td><td>str</td><td>str</td><td>str</td></tr></thead><tbody><tr><td>&quot;Buenos Aires&quot;</td><td>&quot;La Plata&quot;</td><td>&quot;El Día&quot;</td><td>&quot;https://www.el…</td><td>&quot;narcotráfico&quot;</td></tr></tbody></table></div>"
      ],
      "text/plain": [
       "shape: (1, 5)\n",
       "┌──────────────┬──────────┬────────────────┬────────────────────────┬──────────────┐\n",
       "│ state        ┆ city     ┆ newsportalname ┆ newsportalurl          ┆ topic        │\n",
       "│ ---          ┆ ---      ┆ ---            ┆ ---                    ┆ ---          │\n",
       "│ str          ┆ str      ┆ str            ┆ str                    ┆ str          │\n",
       "╞══════════════╪══════════╪════════════════╪════════════════════════╪══════════════╡\n",
       "│ Buenos Aires ┆ La Plata ┆ El Día         ┆ https://www.eldia.com/ ┆ narcotráfico │\n",
       "└──────────────┴──────────┴────────────────┴────────────────────────┴──────────────┘"
      ]
     },
     "metadata": {},
     "output_type": "display_data"
    }
   ],
   "source": [
    "df = df.filter(\n",
    "    pl.col('topic') == topic\n",
    "    )\n",
    "df.head(1)\n"
   ]
  },
  {
   "cell_type": "code",
   "execution_count": null,
   "metadata": {},
   "outputs": [
    {
     "data": {
      "text/plain": [
       "'Buenos Aires'"
      ]
     },
     "metadata": {},
     "output_type": "display_data"
    }
   ],
   "source": [
    "df['state'][0]"
   ]
  }
 ],
 "metadata": {
  "language_info": {
   "name": "python"
  },
  "orig_nbformat": 4
 },
 "nbformat": 4,
 "nbformat_minor": 2
}
