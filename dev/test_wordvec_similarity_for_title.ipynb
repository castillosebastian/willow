{
 "cells": [
  {
   "cell_type": "markdown",
   "metadata": {},
   "source": [
    "# New filter on summary"
   ]
  },
  {
   "cell_type": "code",
   "execution_count": 2,
   "metadata": {},
   "outputs": [
    {
     "data": {
      "text/html": [
       "<div><style>\n",
       ".dataframe > thead > tr > th,\n",
       ".dataframe > tbody > tr > td {\n",
       "  text-align: right;\n",
       "}\n",
       "</style>\n",
       "<small>shape: (5, 15)</small><table border=\"1\" class=\"dataframe\"><thead><tr><th>date_extract</th><th>date_article</th><th>topic</th><th>content</th><th>link</th><th>titles</th><th>sumaries</th><th>authors</th><th>portal</th><th>state</th><th>city</th><th>content_hash</th><th>content_nchar</th><th>content_cleaned</th><th>sumary</th></tr><tr><td>str</td><td>str</td><td>str</td><td>str</td><td>str</td><td>str</td><td>str</td><td>str</td><td>str</td><td>str</td><td>str</td><td>i64</td><td>i64</td><td>str</td><td>str</td></tr></thead><tbody><tr><td>&quot;2023-08-14&quot;</td><td>&quot;2023-07-31&quot;</td><td>&quot;narcotráfico&quot;</td><td>&quot;Para lograr un…</td><td>&quot;https://www.el…</td><td>&quot;Ahorra energía…</td><td>&quot;Lavar la ropa …</td><td>&quot;n-a&quot;</td><td>&quot;https://www.lm…</td><td>&quot;Río Negro&quot;</td><td>&quot;Bariloche&quot;</td><td>8469788906430180569</td><td>3503</td><td>&quot;Para lograr un…</td><td>&quot;El consejo par…</td></tr><tr><td>&quot;2023-08-14&quot;</td><td>&quot;2023-08-14&quot;</td><td>&quot;narcotráfico&quot;</td><td>&quot;Dólar blue hoy…</td><td>&quot;http://www.cla…</td><td>&quot;Previaje 2023:…</td><td>&quot;Previaje 2023:…</td><td>&quot;Martín Grosz&quot;</td><td>&quot;https://www.lm…</td><td>&quot;CABA&quot;</td><td>&quot;Buenos Aires&quot;</td><td>null</td><td>7350</td><td>&quot;Dólar blue hoy…</td><td>&quot;Cómo gastar el…</td></tr><tr><td>&quot;2023-08-14&quot;</td><td>&quot;2023-08-13&quot;</td><td>&quot;narcotráfico&quot;</td><td>&quot;Estimado lecto…</td><td>&quot;https://www.el…</td><td>&quot;El cartel del …</td><td>&quot;Diario El Día …</td><td>&quot;Diario El Dia …</td><td>&quot;https://www.lm…</td><td>&quot;Buenos Aires&quot;</td><td>&quot;La Plata&quot;</td><td>null</td><td>2782</td><td>&quot;Estimado lecto…</td><td>&quot;Bienvenido a E…</td></tr><tr><td>&quot;2023-08-14&quot;</td><td>&quot;2023-08-11&quot;</td><td>&quot;narcotráfico&quot;</td><td>&quot;La violencia e…</td><td>&quot;https://www.mi…</td><td>&quot;Otro crimen en…</td><td>&quot;Mientras Peral…</td><td>&quot;Lucía Paz Gime…</td><td>&quot;https://www.lm…</td><td>&quot;Neuquén&quot;</td><td>&quot;Plottier&quot;</td><td>null</td><td>2706</td><td>&quot;La violencia e…</td><td>&quot;La violencia v…</td></tr><tr><td>&quot;2023-08-14&quot;</td><td>&quot;2023-08-14&quot;</td><td>&quot;narcotráfico&quot;</td><td>&quot;27°SAN LUIS - …</td><td>&quot;https://www.el…</td><td>&quot;Ordenaron 18 a…</td><td>&quot;Los mismos efe…</td><td>&quot;El Diario De L…</td><td>&quot;https://www.lm…</td><td>&quot;San Luis&quot;</td><td>&quot;San Luis&quot;</td><td>null</td><td>5520</td><td>&quot;27°SAN LUIS - …</td><td>&quot;Tres detenidos…</td></tr></tbody></table></div>"
      ],
      "text/plain": [
       "shape: (5, 15)\n",
       "┌───────────┬───────────┬───────────┬───────────┬───┬───────────┬───────────┬───────────┬──────────┐\n",
       "│ date_extr ┆ date_arti ┆ topic     ┆ content   ┆ … ┆ content_h ┆ content_n ┆ content_c ┆ sumary   │\n",
       "│ act       ┆ cle       ┆ ---       ┆ ---       ┆   ┆ ash       ┆ char      ┆ leaned    ┆ ---      │\n",
       "│ ---       ┆ ---       ┆ str       ┆ str       ┆   ┆ ---       ┆ ---       ┆ ---       ┆ str      │\n",
       "│ str       ┆ str       ┆           ┆           ┆   ┆ i64       ┆ i64       ┆ str       ┆          │\n",
       "╞═══════════╪═══════════╪═══════════╪═══════════╪═══╪═══════════╪═══════════╪═══════════╪══════════╡\n",
       "│ 2023-08-1 ┆ 2023-07-3 ┆ narcotráf ┆ Para      ┆ … ┆ 846978890 ┆ 3503      ┆ Para      ┆ El       │\n",
       "│ 4         ┆ 1         ┆ ico       ┆ lograr un ┆   ┆ 643018056 ┆           ┆ lograr un ┆ consejo  │\n",
       "│           ┆           ┆           ┆ uso más   ┆   ┆ 9         ┆           ┆ uso más   ┆ para     │\n",
       "│           ┆           ┆           ┆ eficiente ┆   ┆           ┆           ┆ eficiente ┆ ahorrar  │\n",
       "│           ┆           ┆           ┆ …         ┆   ┆           ┆           ┆ …         ┆ energía  │\n",
       "│           ┆           ┆           ┆           ┆   ┆           ┆           ┆           ┆ …        │\n",
       "│ 2023-08-1 ┆ 2023-08-1 ┆ narcotráf ┆ Dólar     ┆ … ┆ null      ┆ 7350      ┆ Dólar     ┆ Cómo     │\n",
       "│ 4         ┆ 4         ┆ ico       ┆ blue hoy  ┆   ┆           ┆           ┆ blue hoy  ┆ gastar   │\n",
       "│           ┆           ┆           ┆ Resultado ┆   ┆           ┆           ┆ Resultado ┆ el       │\n",
       "│           ┆           ┆           ┆ s PASO 2… ┆   ┆           ┆           ┆ s PASO 2… ┆ crédito  │\n",
       "│           ┆           ┆           ┆           ┆   ┆           ┆           ┆           ┆ de       │\n",
       "│           ┆           ┆           ┆           ┆   ┆           ┆           ┆           ┆ Previa…  │\n",
       "│ 2023-08-1 ┆ 2023-08-1 ┆ narcotráf ┆ Estimado  ┆ … ┆ null      ┆ 2782      ┆ Estimado  ┆ Bienveni │\n",
       "│ 4         ┆ 3         ┆ ico       ┆ lector,   ┆   ┆           ┆           ┆ lector,   ┆ do a El  │\n",
       "│           ┆           ┆           ┆ muchas    ┆   ┆           ┆           ┆ muchas    ┆ Día de   │\n",
       "│           ┆           ┆           ┆ gracias … ┆   ┆           ┆           ┆ gracias … ┆ La       │\n",
       "│           ┆           ┆           ┆           ┆   ┆           ┆           ┆           ┆ Plata.…  │\n",
       "│ 2023-08-1 ┆ 2023-08-1 ┆ narcotráf ┆ La        ┆ … ┆ null      ┆ 2706      ┆ La        ┆ La viole │\n",
       "│ 4         ┆ 1         ┆ ico       ┆ violencia ┆   ┆           ┆           ┆ violencia ┆ ncia     │\n",
       "│           ┆           ┆           ┆ está a la ┆   ┆           ┆           ┆ está a la ┆ vuelve a │\n",
       "│           ┆           ┆           ┆ orden     ┆   ┆           ┆           ┆ orden     ┆ poner en │\n",
       "│           ┆           ┆           ┆ del…      ┆   ┆           ┆           ┆ del…      ┆ p…       │\n",
       "│ 2023-08-1 ┆ 2023-08-1 ┆ narcotráf ┆ 27°SAN    ┆ … ┆ null      ┆ 5520      ┆ 27°SAN    ┆ Tres det │\n",
       "│ 4         ┆ 4         ┆ ico       ┆ LUIS -    ┆   ┆           ┆           ┆ LUIS -    ┆ enidos   │\n",
       "│           ┆           ┆           ┆ Lunes 14  ┆   ┆           ┆           ┆ Lunes 14  ┆ por el   │\n",
       "│           ┆           ┆           ┆ de        ┆   ┆           ┆           ┆ de        ┆ homicidi │\n",
       "│           ┆           ┆           ┆ Agosto…   ┆   ┆           ┆           ┆ Agosto…   ┆ o …      │\n",
       "└───────────┴───────────┴───────────┴───────────┴───┴───────────┴───────────┴───────────┴──────────┘"
      ]
     },
     "execution_count": 2,
     "metadata": {},
     "output_type": "execute_result"
    }
   ],
   "source": [
    "import polars as pl\n",
    "df = pl.read_csv('df_clean.csv', ignore_errors=True)\n",
    "df.head()"
   ]
  },
  {
   "cell_type": "code",
   "execution_count": 3,
   "metadata": {},
   "outputs": [
    {
     "data": {
      "text/plain": [
       "'Ahorra energía y dinero al utilizar tu lavarropa en el momento indicado'"
      ]
     },
     "execution_count": 3,
     "metadata": {},
     "output_type": "execute_result"
    }
   ],
   "source": [
    "summaries = df['titles'].to_list()\n",
    "summaries[0]\n"
   ]
  },
  {
   "cell_type": "code",
   "execution_count": 4,
   "metadata": {},
   "outputs": [
    {
     "data": {
      "text/plain": [
       "['narcotráfico',\n",
       " 'drogas',\n",
       " 'cocaína',\n",
       " 'marihuana',\n",
       " 'heroína',\n",
       " 'anfetaminas',\n",
       " 'éxtasis',\n",
       " 'traficante',\n",
       " 'narcos',\n",
       " 'narco',\n",
       " 'estupefacientes',\n",
       " 'incautación',\n",
       " 'dealer',\n",
       " 'mula',\n",
       " 'clandestino',\n",
       " 'cargamento']"
      ]
     },
     "execution_count": 4,
     "metadata": {},
     "output_type": "execute_result"
    }
   ],
   "source": [
    "keywords = pl.read_csv('/home/sebacastillo/willow/data/topics.csv')\n",
    "keywords = keywords['keywords'].to_list()\n",
    "keywords"
   ]
  },
  {
   "cell_type": "code",
   "execution_count": 5,
   "metadata": {},
   "outputs": [],
   "source": [
    "import re\n",
    "from nltk.stem.snowball import SnowballStemmer\n",
    "from gensim.models.keyedvectors import KeyedVectors\n",
    "from bs4 import BeautifulSoup\n",
    "import string\n",
    "import spacy\n",
    "import numpy as np\n",
    "\n",
    "# Stopword and stemer\n",
    "stemmer = SnowballStemmer(\"spanish\")\n",
    "nlp = spacy.load(\"es_core_news_sm\")\n",
    "spanish_stopwords_spacy = spacy.lang.es.stop_words.STOP_WORDS"
   ]
  },
  {
   "cell_type": "code",
   "execution_count": 6,
   "metadata": {},
   "outputs": [],
   "source": [
    "def compute_similarity(string, keywords, wordvec):\n",
    "    \"\"\"\n",
    "    Compute the average similarity score between a list of topic words and all words in a string.\n",
    "    Returns:\n",
    "    - float: The average similarity score.\n",
    "    \"\"\"\n",
    "    text = string.lower()\n",
    "    text = re.sub(r\"https?://\", \"\", text)  # remove http/https\n",
    "    text = re.sub(r\"[\\W_]+\", \" \", text)  # replace non-alphanumeric characters with space\n",
    "    text = re.sub(r\"[0-9]\", \" \", text)  # replace numeric characters with space\n",
    "    string_words = [word for word in text.split() if word not in spanish_stopwords_spacy]\n",
    "\n",
    "    total_scores = []\n",
    "    for keyword in keywords:\n",
    "        # Compute cosine similarity scores\n",
    "        scores = []\n",
    "        for word in string_words:\n",
    "            if word in wordvec:\n",
    "                similarity = wordvec.similarity(word, keyword)\n",
    "                scores.append(similarity)\n",
    "\n",
    "        max_scores = np.max(scores) if scores else 0.0\n",
    "        total_scores.append(max_scores)\n",
    "\n",
    "    # Return average score\n",
    "    return sum(total_scores) / len(total_scores) if total_scores else 0.0\n"
   ]
  },
  {
   "cell_type": "code",
   "execution_count": 7,
   "metadata": {},
   "outputs": [],
   "source": [
    "def load_embeddings(path=\"models/wiki.es.vec\", limit=200000):\n",
    "    \"\"\"\n",
    "    Load the word embeddings from the specified path.\n",
    "    Args:\n",
    "    - path (str): Path to the embeddings model.\n",
    "    - limit (int): Limit the number of word vectors loaded.\n",
    "\n",
    "    Returns:\n",
    "    - KeyedVectors: Loaded word vectors.\n",
    "    \"\"\"\n",
    "    return KeyedVectors.load_word2vec_format(path, limit=limit)"
   ]
  },
  {
   "cell_type": "code",
   "execution_count": 8,
   "metadata": {},
   "outputs": [],
   "source": [
    "def filter_articles_with_similarity(\n",
    "    strings, keywords, wordvectors, similarity_treshold\n",
    "):\n",
    "    \n",
    "    s_second_match = []\n",
    "    s_second_match_score = []\n",
    "\n",
    "    for string in strings:\n",
    "\n",
    "        similarity_score = compute_similarity(string, keywords, wordvectors)\n",
    "        \n",
    "        if similarity_score > similarity_treshold:\n",
    "            s_second_match.append(string)\n",
    "            s_second_match_score.append(similarity_score)\n",
    "\n",
    "    return s_second_match, s_second_match_score"
   ]
  },
  {
   "cell_type": "code",
   "execution_count": 9,
   "metadata": {},
   "outputs": [],
   "source": [
    "from gensim.models.keyedvectors import KeyedVectors\n",
    "word_vectors = load_embeddings(path=\"/home/sebacastillo/willow/models/wiki.es.vec\", limit=200000)"
   ]
  },
  {
   "cell_type": "code",
   "execution_count": 10,
   "metadata": {},
   "outputs": [],
   "source": [
    "\n",
    "sumary_match, summary_match_score = filter_articles_with_similarity(\n",
    "                summaries, keywords, word_vectors, 0.2\n",
    "            )\n"
   ]
  },
  {
   "cell_type": "markdown",
   "metadata": {},
   "source": [
    "## Los sumarios Detectados"
   ]
  },
  {
   "cell_type": "code",
   "execution_count": 11,
   "metadata": {},
   "outputs": [
    {
     "name": "stdout",
     "output_type": "stream",
     "text": [
      "SCORE: 0.5908334627747536 - sumary: En una despensa de Posadas incautaron 131 dosis de cocaína: dos detenidos con poco más de 7 millones de pesos\n",
      "SCORE: 0.6013110671192408 - sumary: Incautaron una tonelada de marihuana y cocaína en Puerto Libertad\n",
      "SCORE: 0.5139567153528333 - sumary: Sorprendente perfil: estudiaba Economía, vivía en Palermo y cayó por encapsular a una mula narco\n",
      "SCORE: 0.5635197144001722 - sumary: Imputaron y dictaron prisión preventiva para cinco integrantes de una organización narcocriminal señalados por el transporte de 423 kilos de cocaína\n",
      "SCORE: 0.5036423578858376 - sumary: Secuestran más de 18 kilos de marihuana y detienen a un ciudadano\n",
      "SCORE: 0.5570160690695047 - sumary: La autopsia al nieto de Robert De Niro reveló el cóctel de drogas que provocó su muerte\n",
      "SCORE: 0.540751064196229 - sumary: Cuándo estará en el país la droga inyectable para bajar de peso\n",
      "SCORE: 0.5605891076847911 - sumary: Día internacional contra el uso indebido y el tráfico de drogas: “El 90% tiene un antecedente directo”\n",
      "SCORE: 0.5401306208223104 - sumary: Semaglutida: la droga de los famosos para adelgazar, nada milagrosa\n",
      "SCORE: 0.5533383823931217 - sumary: Detectan consumo de drogas en niños menores de diez años en Sáenz Peña\n",
      "SCORE: 0.5248331893235445 - sumary: Secuestran estupefacientes listos para la venta\n",
      "SCORE: 0.5609570015221834 - sumary: Policía tucumano condenado por llevar 46 kilos de cocaína ocultos en un parlante\n",
      "SCORE: 0.5389245543628931 - sumary: Gendarmería incautó casi cuatro toneladas de marihuana en San Vicente\n",
      "SCORE: 0.5244428217411041 - sumary: En allanamientos simultáneos, Prefectura secuestró marihuana, armas y una máquina de contar billetes\n",
      "SCORE: 0.5652280012145638 - sumary: Contra el tráfico ilícito y el abuso de drogas\n",
      "SCORE: 0.5069817285984755 - sumary: Amenazaba a los tiros a los vecinos y, cuando la policía la atrapó, le halló casi 1,5 kg de marihuana\n",
      "SCORE: 0.5015174821019173 - sumary: Orán: Secuestraron cocaina, hay 3 detenidos\n",
      "SCORE: 0.5166434161365032 - sumary: Joven detenido con flor de marihuana\n",
      "SCORE: 0.579362690448761 - sumary: Desbarataron kiosco donde se \"fiaba\" cocaína y marihuana y detuvieron a una mujer\n",
      "SCORE: 0.5446075340732932 - sumary: Villa Ercilia: cayeron \"Las Vecinas\",dedicadas a la venta de droga\n",
      "SCORE: 0.5715589094907045 - sumary: En un allanamiento, la Policía secuestró drogas y detuvo a una persona en Centenario\n",
      "SCORE: 0.6020927578210831 - sumary: Atrapado: vive en Palermo, estudia Ciencias Económicas y lo detuvieron por cargar una “mula” con 78 cápsulas de cocaína\n",
      "SCORE: 0.5524594895541668 - sumary: Dejaron un frasco con varios tipos de drogas en una rotisería en Villa La Angostura\n",
      "SCORE: 0.5574870761483908 - sumary: Un año de prisión en suspenso para un hombre que admitió que tenía drogas en su poder\n",
      "SCORE: 0.5593232456594706 - sumary: Policía de Salta con más de 146 kilos de cocaína\n",
      "SCORE: 0.5044684708118439 - sumary: Salta: tres personas fueron imputadas por el transporte de más de 100 kilos de marihuana\n",
      "SCORE: 0.5064857136458158 - sumary: Allanan por un robo y dan con gran cantidad de marihuana, una tumbera y cosas robadas\n"
     ]
    }
   ],
   "source": [
    "for sum, score in zip(sumary_match, summary_match_score):\n",
    "    if score > 0.5:\n",
    "        print(f'SCORE: {score} - sumary: {sum}')"
   ]
  },
  {
   "cell_type": "markdown",
   "metadata": {},
   "source": [
    "# los sumarios de mayor puntaje que quedaron afuera "
   ]
  },
  {
   "cell_type": "code",
   "execution_count": 12,
   "metadata": {},
   "outputs": [
    {
     "name": "stdout",
     "output_type": "stream",
     "text": [
      "SCORE: 0.4783011535182595 - sumary: Gendarmería incautó municiones ilegales que trasladaban en camión desde Tucumán\n",
      "SCORE: 0.48086682707071304 - sumary: Amenazaron de muerte al taxista que denunció la mafia narco de los taxis\n",
      "SCORE: 0.488741934299469 - sumary: Mataron a un conocido narcotraficante y a su pareja\n",
      "SCORE: 0.48693016171455383 - sumary: Fuerte despliegue anti-narco en Resistencia: dos mujeres detenidas tras allanamiento en Villa Ercilia\n",
      "SCORE: 0.4734446248039603 - sumary: Desbarataron un aguantadero y un kiosco narco en el barrio Ñu Porá\n",
      "SCORE: 0.4742904109880328 - sumary: Condenaron a una pareja narco a varios años de prisión en Córdoba\n",
      "SCORE: 0.4671014631167054 - sumary: Incautaron 50 cajas de municiones ilegales\n",
      "SCORE: 0.4805230973288417 - sumary: Ex policía fue detenido por administrar un kiosco narco en Posadas\n"
     ]
    }
   ],
   "source": [
    "for sum, score in zip(sumary_match, summary_match_score):\n",
    "    if score > 0.44 and score <= 0.5:\n",
    "        print(f'SCORE: {score} - sumary: {sum}')"
   ]
  },
  {
   "cell_type": "markdown",
   "metadata": {},
   "source": [
    "Conclusión: se podría fijar como criterio de inclución el promedio de los tres scrores: link, título, sumario. "
   ]
  }
 ],
 "metadata": {
  "kernelspec": {
   "display_name": ".willow",
   "language": "python",
   "name": ".willow"
  },
  "language_info": {
   "codemirror_mode": {
    "name": "ipython",
    "version": 3
   },
   "file_extension": ".py",
   "mimetype": "text/x-python",
   "name": "python",
   "nbconvert_exporter": "python",
   "pygments_lexer": "ipython3",
   "version": "3.9.13"
  },
  "orig_nbformat": 4
 },
 "nbformat": 4,
 "nbformat_minor": 2
}
