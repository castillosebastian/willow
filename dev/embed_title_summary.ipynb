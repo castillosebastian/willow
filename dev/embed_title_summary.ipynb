{
 "cells": [
  {
   "cell_type": "markdown",
   "metadata": {},
   "source": [
    "# First write to DB"
   ]
  },
  {
   "cell_type": "code",
   "execution_count": 45,
   "metadata": {},
   "outputs": [],
   "source": [
    "import polars as pl\n",
    "import re \n",
    "import time\n",
    "def view_string(long_string, chunk_size=100):     \n",
    "    return [long_string[i:i+chunk_size] for i in range(0, len(long_string), chunk_size)]\n"
   ]
  },
  {
   "cell_type": "code",
   "execution_count": 46,
   "metadata": {},
   "outputs": [],
   "source": [
    "news = pl.read_csv(   \n",
    "    'news.csv',\n",
    "    dtypes={\"content_hash\": pl.UInt64},     \n",
    ")\n",
    "newsner = pl.read_csv(   \n",
    "    'newsner.csv',\n",
    "    dtypes={\"content_hash\": pl.UInt64},     \n",
    ")"
   ]
  },
  {
   "cell_type": "code",
   "execution_count": 47,
   "metadata": {},
   "outputs": [
    {
     "data": {
      "text/html": [
       "<div><style>\n",
       ".dataframe > thead > tr > th,\n",
       ".dataframe > tbody > tr > td {\n",
       "  text-align: right;\n",
       "}\n",
       "</style>\n",
       "<small>shape: (0, 19)</small><table border=\"1\" class=\"dataframe\"><thead><tr><th>index</th><th>topic</th><th>date_extract</th><th>date_article</th><th>content</th><th>portal</th><th>link</th><th>link_sim_score</th><th>title</th><th>summary</th><th>summary_llm</th><th>summary_sim_score</th><th>authors</th><th>state</th><th>city</th><th>content_hash</th><th>content_nchar</th><th>tit_summary</th><th>tit_sum_embed</th></tr><tr><td>str</td><td>str</td><td>str</td><td>str</td><td>str</td><td>str</td><td>str</td><td>str</td><td>str</td><td>str</td><td>str</td><td>str</td><td>str</td><td>str</td><td>str</td><td>u64</td><td>str</td><td>str</td><td>str</td></tr></thead><tbody></tbody></table></div>"
      ],
      "text/plain": [
       "shape: (0, 19)\n",
       "┌───────┬───────┬─────────────┬────────────┬───┬────────────┬────────────┬────────────┬────────────┐\n",
       "│ index ┆ topic ┆ date_extrac ┆ date_artic ┆ … ┆ content_ha ┆ content_nc ┆ tit_summar ┆ tit_sum_em │\n",
       "│ ---   ┆ ---   ┆ t           ┆ le         ┆   ┆ sh         ┆ har        ┆ y          ┆ bed        │\n",
       "│ str   ┆ str   ┆ ---         ┆ ---        ┆   ┆ ---        ┆ ---        ┆ ---        ┆ ---        │\n",
       "│       ┆       ┆ str         ┆ str        ┆   ┆ u64        ┆ str        ┆ str        ┆ str        │\n",
       "╞═══════╪═══════╪═════════════╪════════════╪═══╪════════════╪════════════╪════════════╪════════════╡\n",
       "└───────┴───────┴─────────────┴────────────┴───┴────────────┴────────────┴────────────┴────────────┘"
      ]
     },
     "execution_count": 47,
     "metadata": {},
     "output_type": "execute_result"
    }
   ],
   "source": [
    "news.head(1)"
   ]
  },
  {
   "cell_type": "code",
   "execution_count": 4,
   "metadata": {},
   "outputs": [],
   "source": [
    "news = news.with_columns(\n",
    "    pl.concat_str(\n",
    "        [\n",
    "            pl.col('state'),\n",
    "            pl.col('city'),\n",
    "            pl.col(\"title\"),\n",
    "            pl.col(\"summary_llm\"),\n",
    "        ],\n",
    "        separator=\" \",\n",
    "    ).alias(\"tit_summary\"),\n",
    ")"
   ]
  },
  {
   "cell_type": "code",
   "execution_count": 8,
   "metadata": {},
   "outputs": [
    {
     "data": {
      "text/html": [
       "<div><style>\n",
       ".dataframe > thead > tr > th,\n",
       ".dataframe > tbody > tr > td {\n",
       "  text-align: right;\n",
       "}\n",
       "</style>\n",
       "<small>shape: (3, 18)</small><table border=\"1\" class=\"dataframe\"><thead><tr><th>index</th><th>topic</th><th>date_extract</th><th>date_article</th><th>content</th><th>portal</th><th>link</th><th>link_sim_score</th><th>title</th><th>summary</th><th>summary_llm</th><th>summary_sim_score</th><th>authors</th><th>state</th><th>city</th><th>content_hash</th><th>content_nchar</th><th>tit_summary</th></tr><tr><td>i64</td><td>str</td><td>str</td><td>str</td><td>str</td><td>str</td><td>str</td><td>f64</td><td>str</td><td>str</td><td>str</td><td>f64</td><td>str</td><td>str</td><td>str</td><td>u64</td><td>i64</td><td>str</td></tr></thead><tbody><tr><td>1</td><td>&quot;narcotráfico&quot;</td><td>&quot;2023-08-16&quot;</td><td>&quot;2023-08-16&quot;</td><td>&quot;Seguinos Por L…</td><td>&quot;https://www.ar…</td><td>&quot;https://www.la…</td><td>0.561929</td><td>&quot;Condenaron a s…</td><td>&quot;Brian está det…</td><td>&quot;Seis condenado…</td><td>0.5237</td><td>&quot;n-a&quot;</td><td>&quot;Santa Fe&quot;</td><td>&quot;Rosario&quot;</td><td>9259959111029284149</td><td>4543</td><td>&quot;Santa Fe Rosar…</td></tr><tr><td>2</td><td>&quot;narcotráfico&quot;</td><td>&quot;2023-08-16&quot;</td><td>&quot;2023-08-16&quot;</td><td>&quot;Escuadrón 1 “R…</td><td>&quot;https://www.ar…</td><td>&quot;http://www.dia…</td><td>0.476911</td><td>&quot;Encuentran 32 …</td><td>&quot;na&quot;</td><td>&quot;La Fiscalía di…</td><td>0.5592</td><td>&quot;Diario El Oran…</td><td>&quot;Salta&quot;</td><td>&quot;Orán&quot;</td><td>6046667906668190206</td><td>707</td><td>&quot;Salta Orán Enc…</td></tr><tr><td>3</td><td>&quot;narcotráfico&quot;</td><td>&quot;2023-08-16&quot;</td><td>&quot;2023-08-16&quot;</td><td>&quot;. Compartir en…</td><td>&quot;https://www.ar…</td><td>&quot;https://www.ar…</td><td>0.526558</td><td>&quot;Prefectura sec…</td><td>&quot;Efectivos de l…</td><td>&quot;Puerto Rico in…</td><td>0.5686</td><td>&quot;n-a&quot;</td><td>&quot;Argentina&quot;</td><td>&quot;Argentina&quot;</td><td>12244461015022324118</td><td>657</td><td>&quot;Argentina Arge…</td></tr></tbody></table></div>"
      ],
      "text/plain": [
       "shape: (3, 18)\n",
       "┌───────┬────────────┬────────────┬────────────┬───┬───────────┬───────────┬───────────┬───────────┐\n",
       "│ index ┆ topic      ┆ date_extra ┆ date_artic ┆ … ┆ city      ┆ content_h ┆ content_n ┆ tit_summa │\n",
       "│ ---   ┆ ---        ┆ ct         ┆ le         ┆   ┆ ---       ┆ ash       ┆ char      ┆ ry        │\n",
       "│ i64   ┆ str        ┆ ---        ┆ ---        ┆   ┆ str       ┆ ---       ┆ ---       ┆ ---       │\n",
       "│       ┆            ┆ str        ┆ str        ┆   ┆           ┆ u64       ┆ i64       ┆ str       │\n",
       "╞═══════╪════════════╪════════════╪════════════╪═══╪═══════════╪═══════════╪═══════════╪═══════════╡\n",
       "│ 1     ┆ narcotráfi ┆ 2023-08-16 ┆ 2023-08-16 ┆ … ┆ Rosario   ┆ 925995911 ┆ 4543      ┆ Santa Fe  │\n",
       "│       ┆ co         ┆            ┆            ┆   ┆           ┆ 102928414 ┆           ┆ Rosario   │\n",
       "│       ┆            ┆            ┆            ┆   ┆           ┆ 9         ┆           ┆ Condenaro │\n",
       "│       ┆            ┆            ┆            ┆   ┆           ┆           ┆           ┆ n a se…   │\n",
       "│ 2     ┆ narcotráfi ┆ 2023-08-16 ┆ 2023-08-16 ┆ … ┆ Orán      ┆ 604666790 ┆ 707       ┆ Salta     │\n",
       "│       ┆ co         ┆            ┆            ┆   ┆           ┆ 666819020 ┆           ┆ Orán Encu │\n",
       "│       ┆            ┆            ┆            ┆   ┆           ┆ 6         ┆           ┆ entran 32 │\n",
       "│       ┆            ┆            ┆            ┆   ┆           ┆           ┆           ┆ kilos d…  │\n",
       "│ 3     ┆ narcotráfi ┆ 2023-08-16 ┆ 2023-08-16 ┆ … ┆ Argentina ┆ 122444610 ┆ 657       ┆ Argentina │\n",
       "│       ┆ co         ┆            ┆            ┆   ┆           ┆ 150223241 ┆           ┆ Argentina │\n",
       "│       ┆            ┆            ┆            ┆   ┆           ┆ 18        ┆           ┆ Prefectur │\n",
       "│       ┆            ┆            ┆            ┆   ┆           ┆           ┆           ┆ a s…      │\n",
       "└───────┴────────────┴────────────┴────────────┴───┴───────────┴───────────┴───────────┴───────────┘"
      ]
     },
     "execution_count": 8,
     "metadata": {},
     "output_type": "execute_result"
    }
   ],
   "source": [
    "news.head(3)"
   ]
  },
  {
   "cell_type": "markdown",
   "metadata": {},
   "source": [
    "## Embedings"
   ]
  },
  {
   "cell_type": "code",
   "execution_count": 5,
   "metadata": {},
   "outputs": [
    {
     "data": {
      "text/plain": [
       "'Santa Fe Rosario Condenaron a seis personas por venta de drogas, entre ellos un sobrino del \"Rengo\" Insaurralde Seis condenados por tráfico de estupefacientes en un proceso abreviado. El Tribunal Oral Federal 3 afronta una tercera secuencia del accionar de la banda'"
      ]
     },
     "execution_count": 5,
     "metadata": {},
     "output_type": "execute_result"
    }
   ],
   "source": [
    "text  = news['tit_summary'].to_list()[0]\n",
    "text"
   ]
  },
  {
   "cell_type": "code",
   "execution_count": 6,
   "metadata": {},
   "outputs": [],
   "source": [
    "from sentence_transformers import SentenceTransformer\n",
    "model = SentenceTransformer('sentence-transformers/all-MiniLM-L6-v2')\n",
    "embeddings = model.encode(text)"
   ]
  },
  {
   "cell_type": "code",
   "execution_count": 7,
   "metadata": {},
   "outputs": [
    {
     "data": {
      "text/plain": [
       "384"
      ]
     },
     "execution_count": 7,
     "metadata": {},
     "output_type": "execute_result"
    }
   ],
   "source": [
    "len(embeddings)"
   ]
  },
  {
   "cell_type": "code",
   "execution_count": 9,
   "metadata": {},
   "outputs": [
    {
     "data": {
      "text/plain": [
       "numpy.ndarray"
      ]
     },
     "execution_count": 9,
     "metadata": {},
     "output_type": "execute_result"
    }
   ],
   "source": [
    "type(embeddings)"
   ]
  },
  {
   "cell_type": "code",
   "execution_count": 16,
   "metadata": {},
   "outputs": [],
   "source": [
    "def process_dataframe(df):\n",
    "    # Load the transformer model\n",
    "    model = SentenceTransformer('sentence-transformers/all-MiniLM-L6-v2')\n",
    "\n",
    "    # Function to apply the model to each element in 'tit_summary'\n",
    "    def embed_text(summary):\n",
    "        try:\n",
    "            embeddings = model.encode(summary)\n",
    "            return embeddings.tolist()\n",
    "        except Exception as e:\n",
    "            print(f\"An error occurred while processing text: {summary}. Error: {str(e)}\")\n",
    "            return None # or return a default value if desired\n",
    "\n",
    "    # Create a new column 'tit_sum_embed' with the embeddings of 'tit_summary'\n",
    "    embeddings_col = df['tit_summary'].apply(embed_text, return_dtype=pl.Object)\n",
    "    new_df = df.with_columns(embeddings_col.rename('tit_sum_embed'))\n",
    "\n",
    "    return new_df\n"
   ]
  },
  {
   "cell_type": "code",
   "execution_count": 17,
   "metadata": {},
   "outputs": [],
   "source": [
    "news = process_dataframe(news)"
   ]
  },
  {
   "cell_type": "code",
   "execution_count": 27,
   "metadata": {},
   "outputs": [],
   "source": [
    "df = news.drop('tit_sum_embed')"
   ]
  },
  {
   "cell_type": "code",
   "execution_count": 28,
   "metadata": {},
   "outputs": [],
   "source": [
    "from sentence_transformers import SentenceTransformer\n",
    "import polars as pl\n",
    "import pyarrow as pa\n",
    "import pyarrow.parquet as pq\n",
    "\n",
    "def process_dataframe(df):\n",
    "    model = SentenceTransformer('sentence-transformers/all-MiniLM-L6-v2')\n",
    "\n",
    "    def embed_text(summary):\n",
    "        try:\n",
    "            embeddings = model.encode(summary)\n",
    "            return embeddings.tolist() # Convert numpy array to list\n",
    "        except Exception as e:\n",
    "            print(f\"An error occurred while processing text: {summary}. Error: {str(e)}\")\n",
    "            return None\n",
    "\n",
    "    embeddings_col = df['tit_summary'].apply(embed_text, return_dtype=pl.Object)\n",
    "    new_df = df.with_columns(embeddings_col.rename('tit_sum_embed'))\n",
    "\n",
    "    return new_df\n",
    "\n",
    "# Assuming `df` is your original DataFrame\n",
    "processed_df = process_dataframe(df)\n",
    "\n",
    "# Convert the Polars DataFrame to a PyArrow Table\n",
    "arrow_table = pa.Table.from_pandas(processed_df.to_pandas())\n",
    "\n",
    "# Write the PyArrow Table to a Parquet file\n",
    "pq.write_table(arrow_table, 'news.parquet')\n"
   ]
  },
  {
   "cell_type": "code",
   "execution_count": 30,
   "metadata": {},
   "outputs": [],
   "source": [
    "import pyarrow.parquet as pq\n",
    "import polars as pl\n",
    "\n",
    "def read_parquet_to_polars(file_path):\n",
    "    # Read the Parquet file using PyArrow\n",
    "    arrow_table = pq.read_table(file_path)\n",
    "    \n",
    "    # Convert the PyArrow Table to a Pandas DataFrame\n",
    "    pandas_df = arrow_table.to_pandas()\n",
    "    \n",
    "    # Convert the Pandas DataFrame to a Polars DataFrame\n",
    "    polars_df = pl.from_pandas(pandas_df)\n",
    "\n",
    "    return polars_df\n",
    "\n",
    "# Usage example\n",
    "file_path = 'news.parquet'\n",
    "data = read_parquet_to_polars(file_path)\n"
   ]
  }
 ],
 "metadata": {
  "kernelspec": {
   "display_name": ".willow",
   "language": "python",
   "name": ".willow"
  },
  "language_info": {
   "codemirror_mode": {
    "name": "ipython",
    "version": 3
   },
   "file_extension": ".py",
   "mimetype": "text/x-python",
   "name": "python",
   "nbconvert_exporter": "python",
   "pygments_lexer": "ipython3",
   "version": "3.9.13"
  },
  "orig_nbformat": 4
 },
 "nbformat": 4,
 "nbformat_minor": 2
}
