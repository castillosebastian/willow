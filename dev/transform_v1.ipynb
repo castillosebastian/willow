{
 "cells": [
  {
   "cell_type": "code",
   "execution_count": 1,
   "metadata": {},
   "outputs": [
    {
     "data": {
      "text/plain": [
       "'/home/sebacastillo/willow/dev'"
      ]
     },
     "execution_count": 1,
     "metadata": {},
     "output_type": "execute_result"
    }
   ],
   "source": [
    "import os\n",
    "os.getcwd()"
   ]
  },
  {
   "cell_type": "code",
   "execution_count": 2,
   "metadata": {},
   "outputs": [
    {
     "name": "stdout",
     "output_type": "stream",
     "text": [
      "/home/sebacastillo/willow\n"
     ]
    }
   ],
   "source": [
    "%cd /home/sebacastillo/willow"
   ]
  },
  {
   "cell_type": "code",
   "execution_count": 3,
   "metadata": {},
   "outputs": [],
   "source": [
    "import glob\n",
    "from datetime import datetime\n",
    "import polars as pl\n",
    "\n",
    "def load_data():\n",
    "    # Step 1: Get the list of all files with the specific pattern\n",
    "    files = glob.glob('output/news_narcotráfico_related_*.csv')\n",
    "\n",
    "    # Step 2: Extract dates and sort them\n",
    "    files_sorted = sorted(files, key=lambda x: datetime.strptime(x.split('_')[-2] + '_' + x.split('_')[-1][:-4], '%Y-%m-%d_%H%M'))\n",
    "\n",
    "    # Step 3: Read the latest file\n",
    "    latest_file = files_sorted[-1]\n",
    "    df = pl.read_csv(latest_file, dtypes={'content_hash': pl.UInt64})\n",
    "\n",
    "    return df"
   ]
  },
  {
   "cell_type": "code",
   "execution_count": 4,
   "metadata": {},
   "outputs": [
    {
     "ename": "ComputeError",
     "evalue": "Could not parse `14818762513071622053` as dtype `i64` at column 'content_hash' (column number 13).\nThe current offset in the file is 14337 bytes.\n\nYou might want to try:\n- increasing `infer_schema_length` (e.g. `infer_schema_length=10000`),\n- specifying correct dtype with the `dtypes` argument\n- setting `ignore_errors` to `True`,\n- adding `14818762513071622053` to the `null_values` list.",
     "output_type": "error",
     "traceback": [
      "\u001b[0;31m---------------------------------------------------------------------------\u001b[0m",
      "\u001b[0;31mComputeError\u001b[0m                              Traceback (most recent call last)",
      "Cell \u001b[0;32mIn[4], line 2\u001b[0m\n\u001b[1;32m      1\u001b[0m \u001b[39m# Example usage\u001b[39;00m\n\u001b[0;32m----> 2\u001b[0m data \u001b[39m=\u001b[39m load_data()\n\u001b[1;32m      3\u001b[0m \u001b[39mprint\u001b[39m(data)\n",
      "Cell \u001b[0;32mIn[3], line 14\u001b[0m, in \u001b[0;36mload_data\u001b[0;34m()\u001b[0m\n\u001b[1;32m     12\u001b[0m \u001b[39m# Step 3: Read the latest file\u001b[39;00m\n\u001b[1;32m     13\u001b[0m latest_file \u001b[39m=\u001b[39m files_sorted[\u001b[39m-\u001b[39m\u001b[39m1\u001b[39m]\n\u001b[0;32m---> 14\u001b[0m df \u001b[39m=\u001b[39m pl\u001b[39m.\u001b[39;49mread_csv(latest_file)\n\u001b[1;32m     16\u001b[0m \u001b[39mreturn\u001b[39;00m df\n",
      "File \u001b[0;32m~/.willow/lib/python3.9/site-packages/polars/io/csv/functions.py:354\u001b[0m, in \u001b[0;36mread_csv\u001b[0;34m(source, has_header, columns, new_columns, separator, comment_char, quote_char, skip_rows, dtypes, null_values, missing_utf8_is_empty_string, ignore_errors, try_parse_dates, n_threads, infer_schema_length, batch_size, n_rows, encoding, low_memory, rechunk, use_pyarrow, storage_options, skip_rows_after_header, row_count_name, row_count_offset, sample_size, eol_char)\u001b[0m\n\u001b[1;32m    346\u001b[0m         dtypes \u001b[39m=\u001b[39m {\n\u001b[1;32m    347\u001b[0m             new_to_current\u001b[39m.\u001b[39mget(column_name, column_name): column_dtype\n\u001b[1;32m    348\u001b[0m             \u001b[39mfor\u001b[39;00m column_name, column_dtype \u001b[39min\u001b[39;00m dtypes\u001b[39m.\u001b[39mitems()\n\u001b[1;32m    349\u001b[0m         }\n\u001b[1;32m    351\u001b[0m \u001b[39mwith\u001b[39;00m _prepare_file_arg(\n\u001b[1;32m    352\u001b[0m     source, encoding\u001b[39m=\u001b[39mencoding, use_pyarrow\u001b[39m=\u001b[39m\u001b[39mFalse\u001b[39;00m, \u001b[39m*\u001b[39m\u001b[39m*\u001b[39mstorage_options\n\u001b[1;32m    353\u001b[0m ) \u001b[39mas\u001b[39;00m data:\n\u001b[0;32m--> 354\u001b[0m     df \u001b[39m=\u001b[39m pl\u001b[39m.\u001b[39;49mDataFrame\u001b[39m.\u001b[39;49m_read_csv(\n\u001b[1;32m    355\u001b[0m         data,\n\u001b[1;32m    356\u001b[0m         has_header\u001b[39m=\u001b[39;49mhas_header,\n\u001b[1;32m    357\u001b[0m         columns\u001b[39m=\u001b[39;49mcolumns \u001b[39mif\u001b[39;49;00m columns \u001b[39melse\u001b[39;49;00m projection,\n\u001b[1;32m    358\u001b[0m         separator\u001b[39m=\u001b[39;49mseparator,\n\u001b[1;32m    359\u001b[0m         comment_char\u001b[39m=\u001b[39;49mcomment_char,\n\u001b[1;32m    360\u001b[0m         quote_char\u001b[39m=\u001b[39;49mquote_char,\n\u001b[1;32m    361\u001b[0m         skip_rows\u001b[39m=\u001b[39;49mskip_rows,\n\u001b[1;32m    362\u001b[0m         dtypes\u001b[39m=\u001b[39;49mdtypes,\n\u001b[1;32m    363\u001b[0m         null_values\u001b[39m=\u001b[39;49mnull_values,\n\u001b[1;32m    364\u001b[0m         missing_utf8_is_empty_string\u001b[39m=\u001b[39;49mmissing_utf8_is_empty_string,\n\u001b[1;32m    365\u001b[0m         ignore_errors\u001b[39m=\u001b[39;49mignore_errors,\n\u001b[1;32m    366\u001b[0m         try_parse_dates\u001b[39m=\u001b[39;49mtry_parse_dates,\n\u001b[1;32m    367\u001b[0m         n_threads\u001b[39m=\u001b[39;49mn_threads,\n\u001b[1;32m    368\u001b[0m         infer_schema_length\u001b[39m=\u001b[39;49minfer_schema_length,\n\u001b[1;32m    369\u001b[0m         batch_size\u001b[39m=\u001b[39;49mbatch_size,\n\u001b[1;32m    370\u001b[0m         n_rows\u001b[39m=\u001b[39;49mn_rows,\n\u001b[1;32m    371\u001b[0m         encoding\u001b[39m=\u001b[39;49mencoding \u001b[39mif\u001b[39;49;00m encoding \u001b[39m==\u001b[39;49m \u001b[39m\"\u001b[39;49m\u001b[39mutf8-lossy\u001b[39;49m\u001b[39m\"\u001b[39;49m \u001b[39melse\u001b[39;49;00m \u001b[39m\"\u001b[39;49m\u001b[39mutf8\u001b[39;49m\u001b[39m\"\u001b[39;49m,\n\u001b[1;32m    372\u001b[0m         low_memory\u001b[39m=\u001b[39;49mlow_memory,\n\u001b[1;32m    373\u001b[0m         rechunk\u001b[39m=\u001b[39;49mrechunk,\n\u001b[1;32m    374\u001b[0m         skip_rows_after_header\u001b[39m=\u001b[39;49mskip_rows_after_header,\n\u001b[1;32m    375\u001b[0m         row_count_name\u001b[39m=\u001b[39;49mrow_count_name,\n\u001b[1;32m    376\u001b[0m         row_count_offset\u001b[39m=\u001b[39;49mrow_count_offset,\n\u001b[1;32m    377\u001b[0m         sample_size\u001b[39m=\u001b[39;49msample_size,\n\u001b[1;32m    378\u001b[0m         eol_char\u001b[39m=\u001b[39;49meol_char,\n\u001b[1;32m    379\u001b[0m     )\n\u001b[1;32m    381\u001b[0m \u001b[39mif\u001b[39;00m new_columns:\n\u001b[1;32m    382\u001b[0m     \u001b[39mreturn\u001b[39;00m _update_columns(df, new_columns)\n",
      "File \u001b[0;32m~/.willow/lib/python3.9/site-packages/polars/dataframe/frame.py:765\u001b[0m, in \u001b[0;36mDataFrame._read_csv\u001b[0;34m(cls, source, has_header, columns, separator, comment_char, quote_char, skip_rows, dtypes, null_values, missing_utf8_is_empty_string, ignore_errors, try_parse_dates, n_threads, infer_schema_length, batch_size, n_rows, encoding, low_memory, rechunk, skip_rows_after_header, row_count_name, row_count_offset, sample_size, eol_char)\u001b[0m\n\u001b[1;32m    758\u001b[0m         \u001b[39mraise\u001b[39;00m \u001b[39mValueError\u001b[39;00m(\n\u001b[1;32m    759\u001b[0m             \u001b[39m\"\u001b[39m\u001b[39mcannot use glob patterns and integer based projection as `columns`\u001b[39m\u001b[39m\"\u001b[39m\n\u001b[1;32m    760\u001b[0m             \u001b[39m\"\u001b[39m\u001b[39m argument; Use columns: List[str]\u001b[39m\u001b[39m\"\u001b[39m\n\u001b[1;32m    761\u001b[0m         )\n\u001b[1;32m    763\u001b[0m projection, columns \u001b[39m=\u001b[39m handle_projection_columns(columns)\n\u001b[0;32m--> 765\u001b[0m \u001b[39mself\u001b[39m\u001b[39m.\u001b[39m_df \u001b[39m=\u001b[39m PyDataFrame\u001b[39m.\u001b[39;49mread_csv(\n\u001b[1;32m    766\u001b[0m     source,\n\u001b[1;32m    767\u001b[0m     infer_schema_length,\n\u001b[1;32m    768\u001b[0m     batch_size,\n\u001b[1;32m    769\u001b[0m     has_header,\n\u001b[1;32m    770\u001b[0m     ignore_errors,\n\u001b[1;32m    771\u001b[0m     n_rows,\n\u001b[1;32m    772\u001b[0m     skip_rows,\n\u001b[1;32m    773\u001b[0m     projection,\n\u001b[1;32m    774\u001b[0m     separator,\n\u001b[1;32m    775\u001b[0m     rechunk,\n\u001b[1;32m    776\u001b[0m     columns,\n\u001b[1;32m    777\u001b[0m     encoding,\n\u001b[1;32m    778\u001b[0m     n_threads,\n\u001b[1;32m    779\u001b[0m     path,\n\u001b[1;32m    780\u001b[0m     dtype_list,\n\u001b[1;32m    781\u001b[0m     dtype_slice,\n\u001b[1;32m    782\u001b[0m     low_memory,\n\u001b[1;32m    783\u001b[0m     comment_char,\n\u001b[1;32m    784\u001b[0m     quote_char,\n\u001b[1;32m    785\u001b[0m     processed_null_values,\n\u001b[1;32m    786\u001b[0m     missing_utf8_is_empty_string,\n\u001b[1;32m    787\u001b[0m     try_parse_dates,\n\u001b[1;32m    788\u001b[0m     skip_rows_after_header,\n\u001b[1;32m    789\u001b[0m     _prepare_row_count_args(row_count_name, row_count_offset),\n\u001b[1;32m    790\u001b[0m     sample_size\u001b[39m=\u001b[39;49msample_size,\n\u001b[1;32m    791\u001b[0m     eol_char\u001b[39m=\u001b[39;49meol_char,\n\u001b[1;32m    792\u001b[0m )\n\u001b[1;32m    793\u001b[0m \u001b[39mreturn\u001b[39;00m \u001b[39mself\u001b[39m\n",
      "\u001b[0;31mComputeError\u001b[0m: Could not parse `14818762513071622053` as dtype `i64` at column 'content_hash' (column number 13).\nThe current offset in the file is 14337 bytes.\n\nYou might want to try:\n- increasing `infer_schema_length` (e.g. `infer_schema_length=10000`),\n- specifying correct dtype with the `dtypes` argument\n- setting `ignore_errors` to `True`,\n- adding `14818762513071622053` to the `null_values` list."
     ]
    }
   ],
   "source": [
    "# Example usage\n",
    "data = load_data()\n",
    "print(data)"
   ]
  },
  {
   "cell_type": "code",
   "execution_count": 3,
   "metadata": {},
   "outputs": [],
   "source": [
    "from src.transform import *"
   ]
  },
  {
   "cell_type": "code",
   "execution_count": 4,
   "metadata": {},
   "outputs": [],
   "source": [
    "import polars as pl"
   ]
  },
  {
   "cell_type": "code",
   "execution_count": 5,
   "metadata": {},
   "outputs": [],
   "source": [
    "df = pl.read_csv('/home/sebacastillo/willow/output/news_narcotráfico_related_2023-08-16_1355.csv',\n",
    "                 dtypes={'content_hash': pl.UInt64})"
   ]
  },
  {
   "cell_type": "code",
   "execution_count": 6,
   "metadata": {},
   "outputs": [
    {
     "data": {
      "text/html": [
       "<div><style>\n",
       ".dataframe > thead > tr > th,\n",
       ".dataframe > tbody > tr > td {\n",
       "  text-align: right;\n",
       "}\n",
       "</style>\n",
       "<small>shape: (1, 14)</small><table border=\"1\" class=\"dataframe\"><thead><tr><th>date_extract</th><th>date_article</th><th>topic</th><th>content</th><th>link</th><th>link_sim_score</th><th>title</th><th>summary</th><th>authors</th><th>portal</th><th>state</th><th>city</th><th>content_hash</th><th>content_nchar</th></tr><tr><td>str</td><td>str</td><td>str</td><td>str</td><td>str</td><td>f64</td><td>str</td><td>str</td><td>str</td><td>str</td><td>str</td><td>str</td><td>u64</td><td>i64</td></tr></thead><tbody><tr><td>&quot;2023-08-16 13:…</td><td>&quot;2023-08-16T13:…</td><td>&quot;narcotráfico&quot;</td><td>&quot;Seguinos Por L…</td><td>&quot;https://www.la…</td><td>0.561929</td><td>&quot;Condenaron a s…</td><td>&quot;Brian está det…</td><td>&quot;n-a&quot;</td><td>&quot;https://www.ar…</td><td>&quot;Santa Fe&quot;</td><td>&quot;Rosario&quot;</td><td>9259959111029284149</td><td>4543</td></tr></tbody></table></div>"
      ],
      "text/plain": [
       "shape: (1, 14)\n",
       "┌────────────┬────────────┬───────────┬───────────┬───┬──────────┬─────────┬───────────┬───────────┐\n",
       "│ date_extra ┆ date_artic ┆ topic     ┆ content   ┆ … ┆ state    ┆ city    ┆ content_h ┆ content_n │\n",
       "│ ct         ┆ le         ┆ ---       ┆ ---       ┆   ┆ ---      ┆ ---     ┆ ash       ┆ char      │\n",
       "│ ---        ┆ ---        ┆ str       ┆ str       ┆   ┆ str      ┆ str     ┆ ---       ┆ ---       │\n",
       "│ str        ┆ str        ┆           ┆           ┆   ┆          ┆         ┆ u64       ┆ i64       │\n",
       "╞════════════╪════════════╪═══════════╪═══════════╪═══╪══════════╪═════════╪═══════════╪═══════════╡\n",
       "│ 2023-08-16 ┆ 2023-08-16 ┆ narcotráf ┆ Seguinos  ┆ … ┆ Santa Fe ┆ Rosario ┆ 925995911 ┆ 4543      │\n",
       "│ 13:46:02   ┆ T13:53:58. ┆ ico       ┆ Por Leo   ┆   ┆          ┆         ┆ 102928414 ┆           │\n",
       "│            ┆ 456107     ┆           ┆ Graciaren ┆   ┆          ┆         ┆ 9         ┆           │\n",
       "│            ┆            ┆           ┆ a  La …   ┆   ┆          ┆         ┆           ┆           │\n",
       "└────────────┴────────────┴───────────┴───────────┴───┴──────────┴─────────┴───────────┴───────────┘"
      ]
     },
     "execution_count": 6,
     "metadata": {},
     "output_type": "execute_result"
    }
   ],
   "source": [
    "df.head(1)"
   ]
  },
  {
   "cell_type": "markdown",
   "metadata": {},
   "source": [
    "# Pecessing with functions"
   ]
  },
  {
   "cell_type": "code",
   "execution_count": 9,
   "metadata": {},
   "outputs": [],
   "source": [
    "data = clean_dataframe(df)"
   ]
  },
  {
   "cell_type": "code",
   "execution_count": 10,
   "metadata": {},
   "outputs": [
    {
     "data": {
      "text/html": [
       "<div><style>\n",
       ".dataframe > thead > tr > th,\n",
       ".dataframe > tbody > tr > td {\n",
       "  text-align: right;\n",
       "}\n",
       "</style>\n",
       "<small>shape: (1, 14)</small><table border=\"1\" class=\"dataframe\"><thead><tr><th>date_extract</th><th>date_article</th><th>topic</th><th>content</th><th>link</th><th>link_sim_score</th><th>title</th><th>summary</th><th>authors</th><th>portal</th><th>state</th><th>city</th><th>content_hash</th><th>content_nchar</th></tr><tr><td>date</td><td>date</td><td>str</td><td>str</td><td>str</td><td>f64</td><td>str</td><td>str</td><td>str</td><td>str</td><td>str</td><td>str</td><td>u64</td><td>i64</td></tr></thead><tbody><tr><td>2023-08-16</td><td>2023-08-16</td><td>&quot;narcotráfico&quot;</td><td>&quot;Seguinos Por L…</td><td>&quot;https://www.la…</td><td>0.561929</td><td>&quot;Condenaron a s…</td><td>&quot;Brian está det…</td><td>&quot;n-a&quot;</td><td>&quot;https://www.ar…</td><td>&quot;Santa Fe&quot;</td><td>&quot;Rosario&quot;</td><td>9259959111029284149</td><td>4543</td></tr></tbody></table></div>"
      ],
      "text/plain": [
       "shape: (1, 14)\n",
       "┌────────────┬────────────┬───────────┬───────────┬───┬──────────┬─────────┬───────────┬───────────┐\n",
       "│ date_extra ┆ date_artic ┆ topic     ┆ content   ┆ … ┆ state    ┆ city    ┆ content_h ┆ content_n │\n",
       "│ ct         ┆ le         ┆ ---       ┆ ---       ┆   ┆ ---      ┆ ---     ┆ ash       ┆ char      │\n",
       "│ ---        ┆ ---        ┆ str       ┆ str       ┆   ┆ str      ┆ str     ┆ ---       ┆ ---       │\n",
       "│ date       ┆ date       ┆           ┆           ┆   ┆          ┆         ┆ u64       ┆ i64       │\n",
       "╞════════════╪════════════╪═══════════╪═══════════╪═══╪══════════╪═════════╪═══════════╪═══════════╡\n",
       "│ 2023-08-16 ┆ 2023-08-16 ┆ narcotráf ┆ Seguinos  ┆ … ┆ Santa Fe ┆ Rosario ┆ 925995911 ┆ 4543      │\n",
       "│            ┆            ┆ ico       ┆ Por Leo   ┆   ┆          ┆         ┆ 102928414 ┆           │\n",
       "│            ┆            ┆           ┆ Graciaren ┆   ┆          ┆         ┆ 9         ┆           │\n",
       "│            ┆            ┆           ┆ a La j…   ┆   ┆          ┆         ┆           ┆           │\n",
       "└────────────┴────────────┴───────────┴───────────┴───┴──────────┴─────────┴───────────┴───────────┘"
      ]
     },
     "execution_count": 10,
     "metadata": {},
     "output_type": "execute_result"
    }
   ],
   "source": [
    "data.head(1)"
   ]
  },
  {
   "cell_type": "markdown",
   "metadata": {},
   "source": [
    "# Summarize"
   ]
  },
  {
   "cell_type": "code",
   "execution_count": 11,
   "metadata": {},
   "outputs": [],
   "source": [
    "# Define the model paths\n",
    "summary_model_str = \"IIC/mt5-spanish-mlsum\"\n",
    "#ner_model = \"mrm8488/bert-spanish-cased-finetuned-ner\"\n",
    "word_vectors = load_embeddings(path=\"models/wiki.es.vec\", limit=200000)\n",
    "keywords = load_keywords(topic='narcotráfico')\n"
   ]
  },
  {
   "cell_type": "code",
   "execution_count": 12,
   "metadata": {},
   "outputs": [],
   "source": [
    "data = summarize_articles(data, model_str=summary_model_str,keywords=keywords, word_vectors=word_vectors)"
   ]
  },
  {
   "cell_type": "markdown",
   "metadata": {},
   "source": [
    "# Breakpoint: reset enviroment"
   ]
  },
  {
   "cell_type": "code",
   "execution_count": 1,
   "metadata": {},
   "outputs": [],
   "source": [
    "import polars as pl\n",
    "df = pl.read_csv('/home/sebacastillo/willow/output/news_summaries.csv',\n",
    "                 dtypes={'content_hash': pl.UInt64})"
   ]
  },
  {
   "cell_type": "code",
   "execution_count": 2,
   "metadata": {},
   "outputs": [],
   "source": [
    "df = (\n",
    "            df.with_columns([\n",
    "                pl.col('date_extract').str.strptime(pl.Date, format='%Y-%m-%d', strict=True),  # Fixed format\n",
    "                pl.col('date_article').str.slice(0, 10).str.strptime(pl.Date, format='%Y-%m-%d'),                \n",
    "            ])\n",
    "        )"
   ]
  },
  {
   "cell_type": "code",
   "execution_count": 11,
   "metadata": {},
   "outputs": [
    {
     "data": {
      "text/plain": [
       "(44, 16)"
      ]
     },
     "execution_count": 11,
     "metadata": {},
     "output_type": "execute_result"
    }
   ],
   "source": [
    "#data.write_csv('/home/sebacastillo/willow/output/news_summaries.csv')\n",
    "df.shape"
   ]
  },
  {
   "cell_type": "code",
   "execution_count": 4,
   "metadata": {},
   "outputs": [
    {
     "name": "stdout",
     "output_type": "stream",
     "text": [
      "/home/sebacastillo/willow\n"
     ]
    }
   ],
   "source": [
    "%cd /home/sebacastillo/willow"
   ]
  },
  {
   "cell_type": "code",
   "execution_count": 5,
   "metadata": {},
   "outputs": [],
   "source": [
    "from src.transform import *"
   ]
  },
  {
   "cell_type": "code",
   "execution_count": 6,
   "metadata": {},
   "outputs": [],
   "source": [
    "ner_model = \"mrm8488/bert-spanish-cased-finetuned-ner\""
   ]
  },
  {
   "cell_type": "code",
   "execution_count": 9,
   "metadata": {},
   "outputs": [],
   "source": [
    "ner_function = lambda text: ner_on_large_document(text) # Customize as needed"
   ]
  },
  {
   "cell_type": "code",
   "execution_count": null,
   "metadata": {},
   "outputs": [],
   "source": [
    "ner_news_df = calculate_ner(df, ner_function)"
   ]
  },
  {
   "cell_type": "code",
   "execution_count": 14,
   "metadata": {},
   "outputs": [],
   "source": [
    "def arrange_datasets(news_df, ner_news_df):\n",
    "    try:\n",
    "        index = list(range(1, news_df.shape[0] + 1))\n",
    "        news_df = news_df.with_columns(pl.Series(\"index\", index))\n",
    "\n",
    "        ner_news_df = ner_news_df.join(news_df[['link', 'content_hash', 'index']], on='index', how='left')\n",
    "\n",
    "        arranged_news_df = news_df.select([\n",
    "            'index', 'topic', 'date_extract', 'date_article', 'content', 'portal', 'link',\n",
    "            'link_sim_score', 'title', 'summary', 'summary_llm',\"summary_sim_score\", 'authors',\n",
    "            'state', 'city','content_hash', 'content_nchar'\n",
    "        ])\n",
    "\n",
    "        arranged_ner_df = ner_news_df.select(\n",
    "            [\n",
    "                'index', 'link', 'content_hash', 'entity_group', 'score', 'word', 'start', 'end'\n",
    "            ]\n",
    "        )\n",
    "\n",
    "        return arranged_news_df, arranged_ner_df\n",
    "    except Exception as e:\n",
    "        print(f\"An error occurred during dataset arrangement: {e}\")\n",
    "        return None, None"
   ]
  },
  {
   "cell_type": "code",
   "execution_count": 15,
   "metadata": {},
   "outputs": [],
   "source": [
    "news, newsner = arrange_datasets(df, ner_news_df)"
   ]
  },
  {
   "cell_type": "code",
   "execution_count": 16,
   "metadata": {},
   "outputs": [
    {
     "data": {
      "text/html": [
       "<div><style>\n",
       ".dataframe > thead > tr > th,\n",
       ".dataframe > tbody > tr > td {\n",
       "  text-align: right;\n",
       "}\n",
       "</style>\n",
       "<small>shape: (3, 17)</small><table border=\"1\" class=\"dataframe\"><thead><tr><th>index</th><th>topic</th><th>date_extract</th><th>date_article</th><th>content</th><th>portal</th><th>link</th><th>link_sim_score</th><th>title</th><th>summary</th><th>summary_llm</th><th>summary_sim_score</th><th>authors</th><th>state</th><th>city</th><th>content_hash</th><th>content_nchar</th></tr><tr><td>i64</td><td>str</td><td>date</td><td>date</td><td>str</td><td>str</td><td>str</td><td>f64</td><td>str</td><td>str</td><td>str</td><td>f64</td><td>str</td><td>str</td><td>str</td><td>u64</td><td>i64</td></tr></thead><tbody><tr><td>1</td><td>&quot;narcotráfico&quot;</td><td>2023-08-16</td><td>2023-08-16</td><td>&quot;Seguinos Por L…</td><td>&quot;https://www.ar…</td><td>&quot;https://www.la…</td><td>0.561929</td><td>&quot;Condenaron a s…</td><td>&quot;Brian está det…</td><td>&quot;Seis personas …</td><td>0.5241</td><td>&quot;n-a&quot;</td><td>&quot;Santa Fe&quot;</td><td>&quot;Rosario&quot;</td><td>9259959111029284149</td><td>4543</td></tr><tr><td>2</td><td>&quot;narcotráfico&quot;</td><td>2023-08-16</td><td>2023-08-16</td><td>&quot;Escuadrón 1 “R…</td><td>&quot;https://www.ar…</td><td>&quot;http://www.dia…</td><td>0.476911</td><td>&quot;Encuentran 32 …</td><td>&quot;na&quot;</td><td>&quot;La Fiscalía Fe…</td><td>0.5945</td><td>&quot;Diario El Oran…</td><td>&quot;Salta&quot;</td><td>&quot;Orán&quot;</td><td>6046667906668190206</td><td>707</td></tr><tr><td>3</td><td>&quot;narcotráfico&quot;</td><td>2023-08-16</td><td>2023-08-16</td><td>&quot;. Compartir en…</td><td>&quot;https://www.ar…</td><td>&quot;https://www.ar…</td><td>0.526558</td><td>&quot;Prefectura sec…</td><td>&quot;Efectivos de l…</td><td>&quot;La Prefectura …</td><td>0.5717</td><td>&quot;n-a&quot;</td><td>&quot;Argentina&quot;</td><td>&quot;Argentina&quot;</td><td>12244461015022324118</td><td>657</td></tr></tbody></table></div>"
      ],
      "text/plain": [
       "shape: (3, 17)\n",
       "┌───────┬────────────┬────────────┬────────────┬───┬───────────┬───────────┬───────────┬───────────┐\n",
       "│ index ┆ topic      ┆ date_extra ┆ date_artic ┆ … ┆ state     ┆ city      ┆ content_h ┆ content_n │\n",
       "│ ---   ┆ ---        ┆ ct         ┆ le         ┆   ┆ ---       ┆ ---       ┆ ash       ┆ char      │\n",
       "│ i64   ┆ str        ┆ ---        ┆ ---        ┆   ┆ str       ┆ str       ┆ ---       ┆ ---       │\n",
       "│       ┆            ┆ date       ┆ date       ┆   ┆           ┆           ┆ u64       ┆ i64       │\n",
       "╞═══════╪════════════╪════════════╪════════════╪═══╪═══════════╪═══════════╪═══════════╪═══════════╡\n",
       "│ 1     ┆ narcotráfi ┆ 2023-08-16 ┆ 2023-08-16 ┆ … ┆ Santa Fe  ┆ Rosario   ┆ 925995911 ┆ 4543      │\n",
       "│       ┆ co         ┆            ┆            ┆   ┆           ┆           ┆ 102928414 ┆           │\n",
       "│       ┆            ┆            ┆            ┆   ┆           ┆           ┆ 9         ┆           │\n",
       "│ 2     ┆ narcotráfi ┆ 2023-08-16 ┆ 2023-08-16 ┆ … ┆ Salta     ┆ Orán      ┆ 604666790 ┆ 707       │\n",
       "│       ┆ co         ┆            ┆            ┆   ┆           ┆           ┆ 666819020 ┆           │\n",
       "│       ┆            ┆            ┆            ┆   ┆           ┆           ┆ 6         ┆           │\n",
       "│ 3     ┆ narcotráfi ┆ 2023-08-16 ┆ 2023-08-16 ┆ … ┆ Argentina ┆ Argentina ┆ 122444610 ┆ 657       │\n",
       "│       ┆ co         ┆            ┆            ┆   ┆           ┆           ┆ 150223241 ┆           │\n",
       "│       ┆            ┆            ┆            ┆   ┆           ┆           ┆ 18        ┆           │\n",
       "└───────┴────────────┴────────────┴────────────┴───┴───────────┴───────────┴───────────┴───────────┘"
      ]
     },
     "execution_count": 16,
     "metadata": {},
     "output_type": "execute_result"
    }
   ],
   "source": [
    "news.head(3)"
   ]
  },
  {
   "cell_type": "code",
   "execution_count": 17,
   "metadata": {},
   "outputs": [
    {
     "data": {
      "text/html": [
       "<div><style>\n",
       ".dataframe > thead > tr > th,\n",
       ".dataframe > tbody > tr > td {\n",
       "  text-align: right;\n",
       "}\n",
       "</style>\n",
       "<small>shape: (3, 8)</small><table border=\"1\" class=\"dataframe\"><thead><tr><th>index</th><th>link</th><th>content_hash</th><th>entity_group</th><th>score</th><th>word</th><th>start</th><th>end</th></tr><tr><td>i64</td><td>str</td><td>u64</td><td>str</td><td>f64</td><td>str</td><td>i64</td><td>i64</td></tr></thead><tbody><tr><td>1</td><td>&quot;https://www.la…</td><td>9259959111029284149</td><td>&quot;PER&quot;</td><td>0.9998</td><td>&quot;Leo Graciarena…</td><td>13</td><td>27</td></tr><tr><td>1</td><td>&quot;https://www.la…</td><td>9259959111029284149</td><td>&quot;PER&quot;</td><td>0.999691</td><td>&quot;Elena Beatriz …</td><td>37</td><td>58</td></tr><tr><td>1</td><td>&quot;https://www.la…</td><td>9259959111029284149</td><td>&quot;ORG&quot;</td><td>0.984321</td><td>&quot;Tribunal Oral …</td><td>72</td><td>95</td></tr></tbody></table></div>"
      ],
      "text/plain": [
       "shape: (3, 8)\n",
       "┌───────┬────────────────┬────────────────┬──────────────┬──────────┬────────────────┬───────┬─────┐\n",
       "│ index ┆ link           ┆ content_hash   ┆ entity_group ┆ score    ┆ word           ┆ start ┆ end │\n",
       "│ ---   ┆ ---            ┆ ---            ┆ ---          ┆ ---      ┆ ---            ┆ ---   ┆ --- │\n",
       "│ i64   ┆ str            ┆ u64            ┆ str          ┆ f64      ┆ str            ┆ i64   ┆ i64 │\n",
       "╞═══════╪════════════════╪════════════════╪══════════════╪══════════╪════════════════╪═══════╪═════╡\n",
       "│ 1     ┆ https://www.la ┆ 92599591110292 ┆ PER          ┆ 0.9998   ┆ Leo Graciarena ┆ 13    ┆ 27  │\n",
       "│       ┆ capital.com.ar ┆ 84149          ┆              ┆          ┆                ┆       ┆     │\n",
       "│       ┆ /pol…          ┆                ┆              ┆          ┆                ┆       ┆     │\n",
       "│ 1     ┆ https://www.la ┆ 92599591110292 ┆ PER          ┆ 0.999691 ┆ Elena Beatriz  ┆ 37    ┆ 58  │\n",
       "│       ┆ capital.com.ar ┆ 84149          ┆              ┆          ┆ Dilario        ┆       ┆     │\n",
       "│       ┆ /pol…          ┆                ┆              ┆          ┆                ┆       ┆     │\n",
       "│ 1     ┆ https://www.la ┆ 92599591110292 ┆ ORG          ┆ 0.984321 ┆ Tribunal Oral  ┆ 72    ┆ 95  │\n",
       "│       ┆ capital.com.ar ┆ 84149          ┆              ┆          ┆ Federal 3      ┆       ┆     │\n",
       "│       ┆ /pol…          ┆                ┆              ┆          ┆                ┆       ┆     │\n",
       "└───────┴────────────────┴────────────────┴──────────────┴──────────┴────────────────┴───────┴─────┘"
      ]
     },
     "execution_count": 17,
     "metadata": {},
     "output_type": "execute_result"
    }
   ],
   "source": [
    "newsner.head(3)"
   ]
  },
  {
   "cell_type": "code",
   "execution_count": 18,
   "metadata": {},
   "outputs": [],
   "source": [
    "news.write_csv('/home/sebacastillo/willow/output/news.csv')\n",
    "newsner.write_csv('/home/sebacastillo/willow/output/newsner.csv')"
   ]
  }
 ],
 "metadata": {
  "kernelspec": {
   "display_name": ".willow",
   "language": "python",
   "name": ".willow"
  },
  "language_info": {
   "codemirror_mode": {
    "name": "ipython",
    "version": 3
   },
   "file_extension": ".py",
   "mimetype": "text/x-python",
   "name": "python",
   "nbconvert_exporter": "python",
   "pygments_lexer": "ipython3",
   "version": "3.9.13"
  },
  "orig_nbformat": 4
 },
 "nbformat": 4,
 "nbformat_minor": 2
}
