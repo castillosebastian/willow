{
 "cells": [
  {
   "cell_type": "code",
   "execution_count": 1,
   "metadata": {},
   "outputs": [
    {
     "data": {
      "text/plain": [
       "'/home/sebacastillo/willow/dev'"
      ]
     },
     "execution_count": 1,
     "metadata": {},
     "output_type": "execute_result"
    }
   ],
   "source": [
    "import os\n",
    "os.getcwd()"
   ]
  },
  {
   "cell_type": "code",
   "execution_count": 5,
   "metadata": {},
   "outputs": [
    {
     "name": "stdout",
     "output_type": "stream",
     "text": [
      "/home/sebacastillo/willow\n"
     ]
    }
   ],
   "source": [
    "%cd /home/sebacastillo/willow"
   ]
  },
  {
   "cell_type": "code",
   "execution_count": 8,
   "metadata": {},
   "outputs": [],
   "source": [
    "import glob\n",
    "from datetime import datetime\n",
    "import polars as pl\n",
    "\n",
    "def load_data():\n",
    "    # Step 1: Get the list of all files with the specific pattern\n",
    "    files = glob.glob('output/news_narcotráfico_related_*.csv')\n",
    "\n",
    "    # Step 2: Extract dates and sort them\n",
    "    files_sorted = sorted(files, key=lambda x: datetime.strptime(x.split('_')[-2] + '_' + x.split('_')[-1][:-4], '%Y-%m-%d_%H%M'))\n",
    "\n",
    "    # Step 3: Read the latest file\n",
    "    latest_file = files_sorted[0]\n",
    "    df = pl.read_csv(latest_file, dtypes={'content_hash': pl.UInt64})\n",
    "\n",
    "    return df"
   ]
  },
  {
   "cell_type": "code",
   "execution_count": 9,
   "metadata": {},
   "outputs": [
    {
     "name": "stdout",
     "output_type": "stream",
     "text": [
      "shape: (48, 14)\n",
      "┌───────────┬───────────┬───────────┬───────────┬───┬───────────┬───────────┬───────────┬──────────┐\n",
      "│ date_extr ┆ date_arti ┆ topic     ┆ content   ┆ … ┆ state     ┆ city      ┆ content_h ┆ content_ │\n",
      "│ act       ┆ cle       ┆ ---       ┆ ---       ┆   ┆ ---       ┆ ---       ┆ ash       ┆ nchar    │\n",
      "│ ---       ┆ ---       ┆ str       ┆ str       ┆   ┆ str       ┆ str       ┆ ---       ┆ ---      │\n",
      "│ str       ┆ str       ┆           ┆           ┆   ┆           ┆           ┆ u64       ┆ i64      │\n",
      "╞═══════════╪═══════════╪═══════════╪═══════════╪═══╪═══════════╪═══════════╪═══════════╪══════════╡\n",
      "│ 2023-08-1 ┆ null      ┆ narcotráf ┆ La        ┆ … ┆ Santiago  ┆ La Banda  ┆ 150828215 ┆ 1387     │\n",
      "│ 7         ┆           ┆ ico       ┆ Dirección ┆   ┆ del       ┆           ┆ 581557643 ┆          │\n",
      "│ 15:58:20  ┆           ┆           ┆ de Preven ┆   ┆ Estero    ┆           ┆ 53        ┆          │\n",
      "│           ┆           ┆           ┆ ción      ┆   ┆           ┆           ┆           ┆          │\n",
      "│           ┆           ┆           ┆ Contr…    ┆   ┆           ┆           ┆           ┆          │\n",
      "│ 2023-08-1 ┆ null      ┆ narcotráf ┆ Click     ┆ … ┆ Entre     ┆ Paraná    ┆ 762778582 ┆ 421      │\n",
      "│ 7         ┆           ┆ ico       ┆ aquí para ┆   ┆ Ríos      ┆           ┆ 824784889 ┆          │\n",
      "│ 15:58:20  ┆           ┆           ┆ activar   ┆   ┆           ┆           ┆           ┆          │\n",
      "│           ┆           ┆           ┆ las noti… ┆   ┆           ┆           ┆           ┆          │\n",
      "│ 2023-08-1 ┆ null      ┆ narcotráf ┆ Personal  ┆ … ┆ Misiones  ┆ Oberá     ┆ 904363539 ┆ 1463     │\n",
      "│ 7         ┆           ┆ ico       ┆ de la Sec ┆   ┆           ┆           ┆ 084684587 ┆          │\n",
      "│ 15:58:20  ┆           ┆           ┆ ción “Alv ┆   ┆           ┆           ┆ 9         ┆          │\n",
      "│           ┆           ┆           ┆ ear”,…    ┆   ┆           ┆           ┆           ┆          │\n",
      "│ 2023-08-1 ┆ null      ┆ narcotráf ┆ Se trata  ┆ … ┆ Salta     ┆ Orán      ┆ 172827476 ┆ 5077     │\n",
      "│ 7         ┆           ┆ ico       ┆ del mayor ┆   ┆           ┆           ┆ 718904788 ┆          │\n",
      "│ 15:58:20  ┆           ┆           ┆ cargament ┆   ┆           ┆           ┆ 32        ┆          │\n",
      "│           ┆           ┆           ┆ o se…     ┆   ┆           ┆           ┆           ┆          │\n",
      "│ …         ┆ …         ┆ …         ┆ …         ┆ … ┆ …         ┆ …         ┆ …         ┆ …        │\n",
      "│ 2023-08-1 ┆ null      ┆ narcotráf ┆ El        ┆ … ┆ Jujuy     ┆ San       ┆ 145246121 ┆ 10665    │\n",
      "│ 7         ┆           ┆ ico       ┆ usuario o ┆   ┆           ┆ Salvador  ┆ 599490176 ┆          │\n",
      "│ 15:58:20  ┆           ┆           ┆ la contra ┆   ┆           ┆ de Jujuy  ┆ 66        ┆          │\n",
      "│           ┆           ┆           ┆ seña son  ┆   ┆           ┆           ┆           ┆          │\n",
      "│           ┆           ┆           ┆ …         ┆   ┆           ┆           ┆           ┆          │\n",
      "│ 2023-08-1 ┆ null      ┆ narcotráf ┆ Una mujer ┆ … ┆ Misiones  ┆ Oberá     ┆ 567166697 ┆ 1661     │\n",
      "│ 7         ┆           ┆ ico       ┆ terminó   ┆   ┆           ┆           ┆ 020457231 ┆          │\n",
      "│ 15:58:20  ┆           ┆           ┆ detenida  ┆   ┆           ┆           ┆           ┆          │\n",
      "│           ┆           ┆           ┆ tras …    ┆   ┆           ┆           ┆           ┆          │\n",
      "│ 2023-08-1 ┆ null      ┆ narcotráf ┆ Secciones ┆ … ┆ Santa Fe  ┆ Rosario   ┆ 115672351 ┆ 3468     │\n",
      "│ 7         ┆           ┆ ico       ┆           ┆   ┆           ┆           ┆ 290086717 ┆          │\n",
      "│ 15:58:20  ┆           ┆           ┆ Regiones  ┆   ┆           ┆           ┆ 58        ┆          │\n",
      "│           ┆           ┆           ┆           ┆   ┆           ┆           ┆           ┆          │\n",
      "│           ┆           ┆           ┆ Video…    ┆   ┆           ┆           ┆           ┆          │\n",
      "│ 2023-08-1 ┆ null      ┆ narcotráf ┆ El        ┆ … ┆ Río Negro ┆ Bariloche ┆ 117908379 ┆ 2567     │\n",
      "│ 7         ┆           ┆ ico       ┆ Tribunal  ┆   ┆           ┆           ┆ 568031391 ┆          │\n",
      "│ 15:58:20  ┆           ┆           ┆ Oral en   ┆   ┆           ┆           ┆ 44        ┆          │\n",
      "│           ┆           ┆           ┆ lo        ┆   ┆           ┆           ┆           ┆          │\n",
      "│           ┆           ┆           ┆ Criminal  ┆   ┆           ┆           ┆           ┆          │\n",
      "│           ┆           ┆           ┆ …         ┆   ┆           ┆           ┆           ┆          │\n",
      "└───────────┴───────────┴───────────┴───────────┴───┴───────────┴───────────┴───────────┴──────────┘\n"
     ]
    }
   ],
   "source": [
    "# Example usage\n",
    "data = load_data()\n",
    "print(data)"
   ]
  },
  {
   "cell_type": "code",
   "execution_count": 3,
   "metadata": {},
   "outputs": [],
   "source": [
    "from src.transform import *"
   ]
  },
  {
   "cell_type": "code",
   "execution_count": 4,
   "metadata": {},
   "outputs": [],
   "source": [
    "import polars as pl"
   ]
  },
  {
   "cell_type": "code",
   "execution_count": 5,
   "metadata": {},
   "outputs": [],
   "source": [
    "df = pl.read_csv('/home/sebacastillo/willow/output/news_narcotráfico_related_2023-08-16_1355.csv',\n",
    "                 dtypes={'content_hash': pl.UInt64})"
   ]
  },
  {
   "cell_type": "code",
   "execution_count": 6,
   "metadata": {},
   "outputs": [
    {
     "data": {
      "text/html": [
       "<div><style>\n",
       ".dataframe > thead > tr > th,\n",
       ".dataframe > tbody > tr > td {\n",
       "  text-align: right;\n",
       "}\n",
       "</style>\n",
       "<small>shape: (1, 14)</small><table border=\"1\" class=\"dataframe\"><thead><tr><th>date_extract</th><th>date_article</th><th>topic</th><th>content</th><th>link</th><th>link_sim_score</th><th>title</th><th>summary</th><th>authors</th><th>portal</th><th>state</th><th>city</th><th>content_hash</th><th>content_nchar</th></tr><tr><td>str</td><td>str</td><td>str</td><td>str</td><td>str</td><td>f64</td><td>str</td><td>str</td><td>str</td><td>str</td><td>str</td><td>str</td><td>u64</td><td>i64</td></tr></thead><tbody><tr><td>&quot;2023-08-16 13:…</td><td>&quot;2023-08-16T13:…</td><td>&quot;narcotráfico&quot;</td><td>&quot;Seguinos Por L…</td><td>&quot;https://www.la…</td><td>0.561929</td><td>&quot;Condenaron a s…</td><td>&quot;Brian está det…</td><td>&quot;n-a&quot;</td><td>&quot;https://www.ar…</td><td>&quot;Santa Fe&quot;</td><td>&quot;Rosario&quot;</td><td>9259959111029284149</td><td>4543</td></tr></tbody></table></div>"
      ],
      "text/plain": [
       "shape: (1, 14)\n",
       "┌────────────┬────────────┬───────────┬───────────┬───┬──────────┬─────────┬───────────┬───────────┐\n",
       "│ date_extra ┆ date_artic ┆ topic     ┆ content   ┆ … ┆ state    ┆ city    ┆ content_h ┆ content_n │\n",
       "│ ct         ┆ le         ┆ ---       ┆ ---       ┆   ┆ ---      ┆ ---     ┆ ash       ┆ char      │\n",
       "│ ---        ┆ ---        ┆ str       ┆ str       ┆   ┆ str      ┆ str     ┆ ---       ┆ ---       │\n",
       "│ str        ┆ str        ┆           ┆           ┆   ┆          ┆         ┆ u64       ┆ i64       │\n",
       "╞════════════╪════════════╪═══════════╪═══════════╪═══╪══════════╪═════════╪═══════════╪═══════════╡\n",
       "│ 2023-08-16 ┆ 2023-08-16 ┆ narcotráf ┆ Seguinos  ┆ … ┆ Santa Fe ┆ Rosario ┆ 925995911 ┆ 4543      │\n",
       "│ 13:46:02   ┆ T13:53:58. ┆ ico       ┆ Por Leo   ┆   ┆          ┆         ┆ 102928414 ┆           │\n",
       "│            ┆ 456107     ┆           ┆ Graciaren ┆   ┆          ┆         ┆ 9         ┆           │\n",
       "│            ┆            ┆           ┆ a  La …   ┆   ┆          ┆         ┆           ┆           │\n",
       "└────────────┴────────────┴───────────┴───────────┴───┴──────────┴─────────┴───────────┴───────────┘"
      ]
     },
     "execution_count": 6,
     "metadata": {},
     "output_type": "execute_result"
    }
   ],
   "source": [
    "df.head(1)"
   ]
  },
  {
   "cell_type": "markdown",
   "metadata": {},
   "source": [
    "# Pecessing with functions"
   ]
  },
  {
   "cell_type": "code",
   "execution_count": 9,
   "metadata": {},
   "outputs": [],
   "source": [
    "data = clean_dataframe(df)"
   ]
  },
  {
   "cell_type": "code",
   "execution_count": 10,
   "metadata": {},
   "outputs": [
    {
     "data": {
      "text/html": [
       "<div><style>\n",
       ".dataframe > thead > tr > th,\n",
       ".dataframe > tbody > tr > td {\n",
       "  text-align: right;\n",
       "}\n",
       "</style>\n",
       "<small>shape: (1, 14)</small><table border=\"1\" class=\"dataframe\"><thead><tr><th>date_extract</th><th>date_article</th><th>topic</th><th>content</th><th>link</th><th>link_sim_score</th><th>title</th><th>summary</th><th>authors</th><th>portal</th><th>state</th><th>city</th><th>content_hash</th><th>content_nchar</th></tr><tr><td>date</td><td>date</td><td>str</td><td>str</td><td>str</td><td>f64</td><td>str</td><td>str</td><td>str</td><td>str</td><td>str</td><td>str</td><td>u64</td><td>i64</td></tr></thead><tbody><tr><td>2023-08-16</td><td>2023-08-16</td><td>&quot;narcotráfico&quot;</td><td>&quot;Seguinos Por L…</td><td>&quot;https://www.la…</td><td>0.561929</td><td>&quot;Condenaron a s…</td><td>&quot;Brian está det…</td><td>&quot;n-a&quot;</td><td>&quot;https://www.ar…</td><td>&quot;Santa Fe&quot;</td><td>&quot;Rosario&quot;</td><td>9259959111029284149</td><td>4543</td></tr></tbody></table></div>"
      ],
      "text/plain": [
       "shape: (1, 14)\n",
       "┌────────────┬────────────┬───────────┬───────────┬───┬──────────┬─────────┬───────────┬───────────┐\n",
       "│ date_extra ┆ date_artic ┆ topic     ┆ content   ┆ … ┆ state    ┆ city    ┆ content_h ┆ content_n │\n",
       "│ ct         ┆ le         ┆ ---       ┆ ---       ┆   ┆ ---      ┆ ---     ┆ ash       ┆ char      │\n",
       "│ ---        ┆ ---        ┆ str       ┆ str       ┆   ┆ str      ┆ str     ┆ ---       ┆ ---       │\n",
       "│ date       ┆ date       ┆           ┆           ┆   ┆          ┆         ┆ u64       ┆ i64       │\n",
       "╞════════════╪════════════╪═══════════╪═══════════╪═══╪══════════╪═════════╪═══════════╪═══════════╡\n",
       "│ 2023-08-16 ┆ 2023-08-16 ┆ narcotráf ┆ Seguinos  ┆ … ┆ Santa Fe ┆ Rosario ┆ 925995911 ┆ 4543      │\n",
       "│            ┆            ┆ ico       ┆ Por Leo   ┆   ┆          ┆         ┆ 102928414 ┆           │\n",
       "│            ┆            ┆           ┆ Graciaren ┆   ┆          ┆         ┆ 9         ┆           │\n",
       "│            ┆            ┆           ┆ a La j…   ┆   ┆          ┆         ┆           ┆           │\n",
       "└────────────┴────────────┴───────────┴───────────┴───┴──────────┴─────────┴───────────┴───────────┘"
      ]
     },
     "execution_count": 10,
     "metadata": {},
     "output_type": "execute_result"
    }
   ],
   "source": [
    "data.head(1)"
   ]
  },
  {
   "cell_type": "markdown",
   "metadata": {},
   "source": [
    "# Summarize"
   ]
  },
  {
   "cell_type": "code",
   "execution_count": 11,
   "metadata": {},
   "outputs": [],
   "source": [
    "# Define the model paths\n",
    "summary_model_str = \"IIC/mt5-spanish-mlsum\"\n",
    "#ner_model = \"mrm8488/bert-spanish-cased-finetuned-ner\"\n",
    "word_vectors = load_embeddings(path=\"models/wiki.es.vec\", limit=200000)\n",
    "keywords = load_keywords(topic='narcotráfico')\n"
   ]
  },
  {
   "cell_type": "code",
   "execution_count": 12,
   "metadata": {},
   "outputs": [],
   "source": [
    "data = summarize_articles(data, model_str=summary_model_str,keywords=keywords, word_vectors=word_vectors)"
   ]
  },
  {
   "cell_type": "markdown",
   "metadata": {},
   "source": [
    "# Breakpoint: reset enviroment"
   ]
  },
  {
   "cell_type": "code",
   "execution_count": 1,
   "metadata": {},
   "outputs": [],
   "source": [
    "import polars as pl\n",
    "df = pl.read_csv('/home/sebacastillo/willow/output/news_summaries.csv',\n",
    "                 dtypes={'content_hash': pl.UInt64})"
   ]
  },
  {
   "cell_type": "code",
   "execution_count": 2,
   "metadata": {},
   "outputs": [],
   "source": [
    "df = (\n",
    "            df.with_columns([\n",
    "                pl.col('date_extract').str.strptime(pl.Date, format='%Y-%m-%d', strict=True),  # Fixed format\n",
    "                pl.col('date_article').str.slice(0, 10).str.strptime(pl.Date, format='%Y-%m-%d'),                \n",
    "            ])\n",
    "        )"
   ]
  },
  {
   "cell_type": "code",
   "execution_count": 11,
   "metadata": {},
   "outputs": [
    {
     "data": {
      "text/plain": [
       "(44, 16)"
      ]
     },
     "execution_count": 11,
     "metadata": {},
     "output_type": "execute_result"
    }
   ],
   "source": [
    "#data.write_csv('/home/sebacastillo/willow/output/news_summaries.csv')\n",
    "df.shape"
   ]
  },
  {
   "cell_type": "code",
   "execution_count": 4,
   "metadata": {},
   "outputs": [
    {
     "name": "stdout",
     "output_type": "stream",
     "text": [
      "/home/sebacastillo/willow\n"
     ]
    }
   ],
   "source": [
    "%cd /home/sebacastillo/willow"
   ]
  },
  {
   "cell_type": "code",
   "execution_count": 5,
   "metadata": {},
   "outputs": [],
   "source": [
    "from src.transform import *"
   ]
  },
  {
   "cell_type": "code",
   "execution_count": 6,
   "metadata": {},
   "outputs": [],
   "source": [
    "ner_model = \"mrm8488/bert-spanish-cased-finetuned-ner\""
   ]
  },
  {
   "cell_type": "code",
   "execution_count": 9,
   "metadata": {},
   "outputs": [],
   "source": [
    "ner_function = lambda text: ner_on_large_document(text) # Customize as needed"
   ]
  },
  {
   "cell_type": "code",
   "execution_count": null,
   "metadata": {},
   "outputs": [],
   "source": [
    "ner_news_df = calculate_ner(df, ner_function)"
   ]
  },
  {
   "cell_type": "code",
   "execution_count": 14,
   "metadata": {},
   "outputs": [],
   "source": [
    "def arrange_datasets(news_df, ner_news_df):\n",
    "    try:\n",
    "        index = list(range(1, news_df.shape[0] + 1))\n",
    "        news_df = news_df.with_columns(pl.Series(\"index\", index))\n",
    "\n",
    "        ner_news_df = ner_news_df.join(news_df[['link', 'content_hash', 'index']], on='index', how='left')\n",
    "\n",
    "        arranged_news_df = news_df.select([\n",
    "            'index', 'topic', 'date_extract', 'date_article', 'content', 'portal', 'link',\n",
    "            'link_sim_score', 'title', 'summary', 'summary_llm',\"summary_sim_score\", 'authors',\n",
    "            'state', 'city','content_hash', 'content_nchar'\n",
    "        ])\n",
    "\n",
    "        arranged_ner_df = ner_news_df.select(\n",
    "            [\n",
    "                'index', 'link', 'content_hash', 'entity_group', 'score', 'word', 'start', 'end'\n",
    "            ]\n",
    "        )\n",
    "\n",
    "        return arranged_news_df, arranged_ner_df\n",
    "    except Exception as e:\n",
    "        print(f\"An error occurred during dataset arrangement: {e}\")\n",
    "        return None, None"
   ]
  },
  {
   "cell_type": "code",
   "execution_count": 15,
   "metadata": {},
   "outputs": [],
   "source": [
    "news, newsner = arrange_datasets(df, ner_news_df)"
   ]
  },
  {
   "cell_type": "code",
   "execution_count": 16,
   "metadata": {},
   "outputs": [
    {
     "data": {
      "text/html": [
       "<div><style>\n",
       ".dataframe > thead > tr > th,\n",
       ".dataframe > tbody > tr > td {\n",
       "  text-align: right;\n",
       "}\n",
       "</style>\n",
       "<small>shape: (3, 17)</small><table border=\"1\" class=\"dataframe\"><thead><tr><th>index</th><th>topic</th><th>date_extract</th><th>date_article</th><th>content</th><th>portal</th><th>link</th><th>link_sim_score</th><th>title</th><th>summary</th><th>summary_llm</th><th>summary_sim_score</th><th>authors</th><th>state</th><th>city</th><th>content_hash</th><th>content_nchar</th></tr><tr><td>i64</td><td>str</td><td>date</td><td>date</td><td>str</td><td>str</td><td>str</td><td>f64</td><td>str</td><td>str</td><td>str</td><td>f64</td><td>str</td><td>str</td><td>str</td><td>u64</td><td>i64</td></tr></thead><tbody><tr><td>1</td><td>&quot;narcotráfico&quot;</td><td>2023-08-16</td><td>2023-08-16</td><td>&quot;Seguinos Por L…</td><td>&quot;https://www.ar…</td><td>&quot;https://www.la…</td><td>0.561929</td><td>&quot;Condenaron a s…</td><td>&quot;Brian está det…</td><td>&quot;Seis personas …</td><td>0.5241</td><td>&quot;n-a&quot;</td><td>&quot;Santa Fe&quot;</td><td>&quot;Rosario&quot;</td><td>9259959111029284149</td><td>4543</td></tr><tr><td>2</td><td>&quot;narcotráfico&quot;</td><td>2023-08-16</td><td>2023-08-16</td><td>&quot;Escuadrón 1 “R…</td><td>&quot;https://www.ar…</td><td>&quot;http://www.dia…</td><td>0.476911</td><td>&quot;Encuentran 32 …</td><td>&quot;na&quot;</td><td>&quot;La Fiscalía Fe…</td><td>0.5945</td><td>&quot;Diario El Oran…</td><td>&quot;Salta&quot;</td><td>&quot;Orán&quot;</td><td>6046667906668190206</td><td>707</td></tr><tr><td>3</td><td>&quot;narcotráfico&quot;</td><td>2023-08-16</td><td>2023-08-16</td><td>&quot;. Compartir en…</td><td>&quot;https://www.ar…</td><td>&quot;https://www.ar…</td><td>0.526558</td><td>&quot;Prefectura sec…</td><td>&quot;Efectivos de l…</td><td>&quot;La Prefectura …</td><td>0.5717</td><td>&quot;n-a&quot;</td><td>&quot;Argentina&quot;</td><td>&quot;Argentina&quot;</td><td>12244461015022324118</td><td>657</td></tr></tbody></table></div>"
      ],
      "text/plain": [
       "shape: (3, 17)\n",
       "┌───────┬────────────┬────────────┬────────────┬───┬───────────┬───────────┬───────────┬───────────┐\n",
       "│ index ┆ topic      ┆ date_extra ┆ date_artic ┆ … ┆ state     ┆ city      ┆ content_h ┆ content_n │\n",
       "│ ---   ┆ ---        ┆ ct         ┆ le         ┆   ┆ ---       ┆ ---       ┆ ash       ┆ char      │\n",
       "│ i64   ┆ str        ┆ ---        ┆ ---        ┆   ┆ str       ┆ str       ┆ ---       ┆ ---       │\n",
       "│       ┆            ┆ date       ┆ date       ┆   ┆           ┆           ┆ u64       ┆ i64       │\n",
       "╞═══════╪════════════╪════════════╪════════════╪═══╪═══════════╪═══════════╪═══════════╪═══════════╡\n",
       "│ 1     ┆ narcotráfi ┆ 2023-08-16 ┆ 2023-08-16 ┆ … ┆ Santa Fe  ┆ Rosario   ┆ 925995911 ┆ 4543      │\n",
       "│       ┆ co         ┆            ┆            ┆   ┆           ┆           ┆ 102928414 ┆           │\n",
       "│       ┆            ┆            ┆            ┆   ┆           ┆           ┆ 9         ┆           │\n",
       "│ 2     ┆ narcotráfi ┆ 2023-08-16 ┆ 2023-08-16 ┆ … ┆ Salta     ┆ Orán      ┆ 604666790 ┆ 707       │\n",
       "│       ┆ co         ┆            ┆            ┆   ┆           ┆           ┆ 666819020 ┆           │\n",
       "│       ┆            ┆            ┆            ┆   ┆           ┆           ┆ 6         ┆           │\n",
       "│ 3     ┆ narcotráfi ┆ 2023-08-16 ┆ 2023-08-16 ┆ … ┆ Argentina ┆ Argentina ┆ 122444610 ┆ 657       │\n",
       "│       ┆ co         ┆            ┆            ┆   ┆           ┆           ┆ 150223241 ┆           │\n",
       "│       ┆            ┆            ┆            ┆   ┆           ┆           ┆ 18        ┆           │\n",
       "└───────┴────────────┴────────────┴────────────┴───┴───────────┴───────────┴───────────┴───────────┘"
      ]
     },
     "execution_count": 16,
     "metadata": {},
     "output_type": "execute_result"
    }
   ],
   "source": [
    "news.head(3)"
   ]
  },
  {
   "cell_type": "code",
   "execution_count": 17,
   "metadata": {},
   "outputs": [
    {
     "data": {
      "text/html": [
       "<div><style>\n",
       ".dataframe > thead > tr > th,\n",
       ".dataframe > tbody > tr > td {\n",
       "  text-align: right;\n",
       "}\n",
       "</style>\n",
       "<small>shape: (3, 8)</small><table border=\"1\" class=\"dataframe\"><thead><tr><th>index</th><th>link</th><th>content_hash</th><th>entity_group</th><th>score</th><th>word</th><th>start</th><th>end</th></tr><tr><td>i64</td><td>str</td><td>u64</td><td>str</td><td>f64</td><td>str</td><td>i64</td><td>i64</td></tr></thead><tbody><tr><td>1</td><td>&quot;https://www.la…</td><td>9259959111029284149</td><td>&quot;PER&quot;</td><td>0.9998</td><td>&quot;Leo Graciarena…</td><td>13</td><td>27</td></tr><tr><td>1</td><td>&quot;https://www.la…</td><td>9259959111029284149</td><td>&quot;PER&quot;</td><td>0.999691</td><td>&quot;Elena Beatriz …</td><td>37</td><td>58</td></tr><tr><td>1</td><td>&quot;https://www.la…</td><td>9259959111029284149</td><td>&quot;ORG&quot;</td><td>0.984321</td><td>&quot;Tribunal Oral …</td><td>72</td><td>95</td></tr></tbody></table></div>"
      ],
      "text/plain": [
       "shape: (3, 8)\n",
       "┌───────┬────────────────┬────────────────┬──────────────┬──────────┬────────────────┬───────┬─────┐\n",
       "│ index ┆ link           ┆ content_hash   ┆ entity_group ┆ score    ┆ word           ┆ start ┆ end │\n",
       "│ ---   ┆ ---            ┆ ---            ┆ ---          ┆ ---      ┆ ---            ┆ ---   ┆ --- │\n",
       "│ i64   ┆ str            ┆ u64            ┆ str          ┆ f64      ┆ str            ┆ i64   ┆ i64 │\n",
       "╞═══════╪════════════════╪════════════════╪══════════════╪══════════╪════════════════╪═══════╪═════╡\n",
       "│ 1     ┆ https://www.la ┆ 92599591110292 ┆ PER          ┆ 0.9998   ┆ Leo Graciarena ┆ 13    ┆ 27  │\n",
       "│       ┆ capital.com.ar ┆ 84149          ┆              ┆          ┆                ┆       ┆     │\n",
       "│       ┆ /pol…          ┆                ┆              ┆          ┆                ┆       ┆     │\n",
       "│ 1     ┆ https://www.la ┆ 92599591110292 ┆ PER          ┆ 0.999691 ┆ Elena Beatriz  ┆ 37    ┆ 58  │\n",
       "│       ┆ capital.com.ar ┆ 84149          ┆              ┆          ┆ Dilario        ┆       ┆     │\n",
       "│       ┆ /pol…          ┆                ┆              ┆          ┆                ┆       ┆     │\n",
       "│ 1     ┆ https://www.la ┆ 92599591110292 ┆ ORG          ┆ 0.984321 ┆ Tribunal Oral  ┆ 72    ┆ 95  │\n",
       "│       ┆ capital.com.ar ┆ 84149          ┆              ┆          ┆ Federal 3      ┆       ┆     │\n",
       "│       ┆ /pol…          ┆                ┆              ┆          ┆                ┆       ┆     │\n",
       "└───────┴────────────────┴────────────────┴──────────────┴──────────┴────────────────┴───────┴─────┘"
      ]
     },
     "execution_count": 17,
     "metadata": {},
     "output_type": "execute_result"
    }
   ],
   "source": [
    "newsner.head(3)"
   ]
  },
  {
   "cell_type": "code",
   "execution_count": 18,
   "metadata": {},
   "outputs": [],
   "source": [
    "news.write_csv('/home/sebacastillo/willow/output/news.csv')\n",
    "newsner.write_csv('/home/sebacastillo/willow/output/newsner.csv')"
   ]
  }
 ],
 "metadata": {
  "kernelspec": {
   "display_name": ".willow",
   "language": "python",
   "name": ".willow"
  },
  "language_info": {
   "codemirror_mode": {
    "name": "ipython",
    "version": 3
   },
   "file_extension": ".py",
   "mimetype": "text/x-python",
   "name": "python",
   "nbconvert_exporter": "python",
   "pygments_lexer": "ipython3",
   "version": "3.9.13"
  },
  "orig_nbformat": 4
 },
 "nbformat": 4,
 "nbformat_minor": 2
}
