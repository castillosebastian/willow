{
 "cells": [
  {
   "cell_type": "markdown",
   "metadata": {},
   "source": [
    "# Clean News "
   ]
  },
  {
   "cell_type": "markdown",
   "metadata": {},
   "source": [
    "# cleaning policies\n",
    "\n",
    "- pl.col('authors').str.contains('Advertis Web')  \n",
    "- "
   ]
  },
  {
   "cell_type": "code",
   "execution_count": 2,
   "metadata": {},
   "outputs": [],
   "source": [
    "import polars as pl\n",
    "import pandas as pd"
   ]
  },
  {
   "cell_type": "markdown",
   "metadata": {},
   "source": [
    "# From Raw News to Docs"
   ]
  },
  {
   "cell_type": "markdown",
   "metadata": {},
   "source": [
    "## Select column"
   ]
  },
  {
   "cell_type": "code",
   "execution_count": 2,
   "metadata": {},
   "outputs": [],
   "source": [
    "import polars as pl"
   ]
  },
  {
   "cell_type": "code",
   "execution_count": 9,
   "metadata": {},
   "outputs": [],
   "source": [
    "filepath = '/home/sebacastillo/willow/output/news_narcotráfico_related_2023-08-09_1951.csv'\n",
    "df = pl.read_csv(filepath)"
   ]
  },
  {
   "cell_type": "code",
   "execution_count": 4,
   "metadata": {},
   "outputs": [
    {
     "data": {
      "text/plain": [
       "['date_extract', 'date_article', 'content', 'link', 'authors']"
      ]
     },
     "execution_count": 4,
     "metadata": {},
     "output_type": "execute_result"
    }
   ],
   "source": [
    "df.columns"
   ]
  },
  {
   "cell_type": "markdown",
   "metadata": {},
   "source": [
    "## Filter Row with Regex"
   ]
  },
  {
   "cell_type": "code",
   "execution_count": 92,
   "metadata": {},
   "outputs": [],
   "source": [
    "# Positive\n",
    "false_advertis = (\n",
    "    pl.scan_csv(filepath)\n",
    "    .filter(\n",
    "        pl.col('authors').str.contains('Advertis Web')       \n",
    "    )\n",
    "    .select(\n",
    "        [\n",
    "            'link'\n",
    "        ]\n",
    "    )\n",
    ").collect().to_pandas()"
   ]
  },
  {
   "cell_type": "code",
   "execution_count": 93,
   "metadata": {},
   "outputs": [
    {
     "data": {
      "text/html": [
       "<div>\n",
       "<style scoped>\n",
       "    .dataframe tbody tr th:only-of-type {\n",
       "        vertical-align: middle;\n",
       "    }\n",
       "\n",
       "    .dataframe tbody tr th {\n",
       "        vertical-align: top;\n",
       "    }\n",
       "\n",
       "    .dataframe thead th {\n",
       "        text-align: right;\n",
       "    }\n",
       "</style>\n",
       "<table border=\"1\" class=\"dataframe\">\n",
       "  <thead>\n",
       "    <tr style=\"text-align: right;\">\n",
       "      <th></th>\n",
       "      <th>link</th>\n",
       "    </tr>\n",
       "  </thead>\n",
       "  <tbody>\n",
       "    <tr>\n",
       "      <th>0</th>\n",
       "      <td>https://www.elonce.com/secciones/policiales/76...</td>\n",
       "    </tr>\n",
       "    <tr>\n",
       "      <th>1</th>\n",
       "      <td>http://superdeportivo.elonce.com/secciones/pol...</td>\n",
       "    </tr>\n",
       "    <tr>\n",
       "      <th>2</th>\n",
       "      <td>https://www.diarioriouruguay.com.ar/policiales...</td>\n",
       "    </tr>\n",
       "  </tbody>\n",
       "</table>\n",
       "</div>"
      ],
      "text/plain": [
       "                                                link\n",
       "0  https://www.elonce.com/secciones/policiales/76...\n",
       "1  http://superdeportivo.elonce.com/secciones/pol...\n",
       "2  https://www.diarioriouruguay.com.ar/policiales..."
      ]
     },
     "execution_count": 93,
     "metadata": {},
     "output_type": "execute_result"
    }
   ],
   "source": [
    "false_advertis"
   ]
  },
  {
   "cell_type": "code",
   "execution_count": 75,
   "metadata": {},
   "outputs": [
    {
     "data": {
      "text/plain": [
       "'https://www.elonce.com/secciones/policiales/766331-pact-una-cita-por-tinder-lo-drogaron-desvalijaron-y-est-grave.htm'"
      ]
     },
     "execution_count": 75,
     "metadata": {},
     "output_type": "execute_result"
    }
   ],
   "source": [
    "# Positive\n",
    "false_clickaqui= (\n",
    "    pl.scan_csv(filepath)\n",
    "    .filter(\n",
    "        pl.col('content').str.contains('Click aquí')       \n",
    "    )\n",
    "    .select(\n",
    "        [\n",
    "            'link',\n",
    "            'content'\n",
    "        ]\n",
    "    )\n",
    ").collect().to_pandas()\n",
    "false_clickaqui['link'][0]"
   ]
  },
  {
   "cell_type": "code",
   "execution_count": 42,
   "metadata": {},
   "outputs": [
    {
     "data": {
      "text/html": [
       "<div><style>\n",
       ".dataframe > thead > tr > th,\n",
       ".dataframe > tbody > tr > td {\n",
       "  text-align: right;\n",
       "}\n",
       "</style>\n",
       "<small>shape: (39, 2)</small><table border=\"1\" class=\"dataframe\"><thead><tr><th>authors</th><th>counts</th></tr><tr><td>str</td><td>u32</td></tr></thead><tbody><tr><td>&quot;El Tucumano&quot;</td><td>2</td></tr><tr><td>&quot;Ezequiel Miño&quot;</td><td>1</td></tr><tr><td>&quot;Gustavo Berón-…</td><td>2</td></tr><tr><td>&quot;Daiana Larrat&quot;</td><td>3</td></tr><tr><td>&quot;Guido Berrini&quot;</td><td>3</td></tr><tr><td>&quot;Advertis Web T…</td><td>3</td></tr><tr><td>&quot;Redacción El&quot;</td><td>2</td></tr><tr><td>&quot;Diario El Dia …</td><td>10</td></tr><tr><td>&quot;Florencia Ojed…</td><td>4</td></tr><tr><td>&quot;Walter Vazquez…</td><td>1</td></tr><tr><td>&quot;Thalú Desarrol…</td><td>2</td></tr><tr><td>&quot;Penélope Canon…</td><td>2</td></tr><tr><td>&hellip;</td><td>&hellip;</td></tr><tr><td>&quot;Maria Luz Mart…</td><td>1</td></tr><tr><td>&quot;Gabriela Lorei…</td><td>1</td></tr><tr><td>&quot;Guillermo Dozo…</td><td>2</td></tr><tr><td>&quot;Eduardo Di Pol…</td><td>1</td></tr><tr><td>&quot;Jorgelina Hern…</td><td>1</td></tr><tr><td>&quot;Redacción El D…</td><td>7</td></tr><tr><td>&quot;El Sol&quot;</td><td>3</td></tr><tr><td>&quot;El Diario De L…</td><td>1</td></tr><tr><td>&quot;Walter Brown-J…</td><td>2</td></tr><tr><td>&quot;Por-Redacción …</td><td>3</td></tr><tr><td>&quot;El Liberal&quot;</td><td>3</td></tr><tr><td>&quot;La Gaceta&quot;</td><td>6</td></tr></tbody></table></div>"
      ],
      "text/plain": [
       "shape: (39, 2)\n",
       "┌───────────────────────────────────┬────────┐\n",
       "│ authors                           ┆ counts │\n",
       "│ ---                               ┆ ---    │\n",
       "│ str                               ┆ u32    │\n",
       "╞═══════════════════════════════════╪════════╡\n",
       "│ El Tucumano                       ┆ 2      │\n",
       "│ Ezequiel Miño                     ┆ 1      │\n",
       "│ Gustavo Berón-Candela Toledo-Gui… ┆ 2      │\n",
       "│ Daiana Larrat                     ┆ 3      │\n",
       "│ …                                 ┆ …      │\n",
       "│ Walter Brown-Jefe De Redacción-J… ┆ 2      │\n",
       "│ Por-Redacción Diario De Cuyo      ┆ 3      │\n",
       "│ El Liberal                        ┆ 3      │\n",
       "│ La Gaceta                         ┆ 6      │\n",
       "└───────────────────────────────────┴────────┘"
      ]
     },
     "execution_count": 42,
     "metadata": {},
     "output_type": "execute_result"
    }
   ],
   "source": [
    "# Negative\n",
    "q = (\n",
    "    pl.scan_csv(filepath)\n",
    "    .filter(\n",
    "        pl.col('authors').str.contains('n-a').is_not()        \n",
    "    )\n",
    "    .select(\n",
    "        [\n",
    "            'authors'\n",
    "        ]\n",
    "    )\n",
    ")\n",
    "q.collect().to_series().value_counts()"
   ]
  },
  {
   "cell_type": "markdown",
   "metadata": {},
   "source": [
    "## Length of string"
   ]
  },
  {
   "cell_type": "code",
   "execution_count": 62,
   "metadata": {},
   "outputs": [
    {
     "data": {
      "text/html": [
       "<div><style>\n",
       ".dataframe > thead > tr > th,\n",
       ".dataframe > tbody > tr > td {\n",
       "  text-align: right;\n",
       "}\n",
       "</style>\n",
       "<small>shape: (226, 2)</small><table border=\"1\" class=\"dataframe\"><thead><tr><th>content</th><th>content_length</th></tr><tr><td>str</td><td>u32</td></tr></thead><tbody><tr><td>&quot;Click aquí par…</td><td>342</td></tr><tr><td>&quot;Click aquí par…</td><td>342</td></tr><tr><td>&quot;Click aquí par…</td><td>342</td></tr><tr><td>&quot;📌La enfermera …</td><td>349</td></tr><tr><td>&quot;📌La enfermera …</td><td>349</td></tr><tr><td>&quot;La PFA realizó…</td><td>561</td></tr><tr><td>&quot;La PFA realizó…</td><td>561</td></tr><tr><td>&quot;Click aquí par…</td><td>587</td></tr><tr><td>&quot;Se trata del “…</td><td>865</td></tr><tr><td>&quot;También secues…</td><td>955</td></tr><tr><td>&quot;Regístrese con…</td><td>1024</td></tr><tr><td>&quot;Efectivos poli…</td><td>1028</td></tr><tr><td>&hellip;</td><td>&hellip;</td></tr><tr><td>&quot; El usuario o …</td><td>11032</td></tr><tr><td>&quot; El usuario o …</td><td>11032</td></tr><tr><td>&quot;Para continuar…</td><td>12267</td></tr><tr><td>&quot;La autopsia re…</td><td>13186</td></tr><tr><td>&quot;La autopsia re…</td><td>13186</td></tr><tr><td>&quot;Dólar blue Dón…</td><td>13961</td></tr><tr><td>&quot;Dólar blue Dón…</td><td>13961</td></tr><tr><td>&quot; El usuario o …</td><td>15410</td></tr><tr><td>&quot; El usuario o …</td><td>15410</td></tr><tr><td>&quot; El usuario o …</td><td>18144</td></tr><tr><td>&quot; El usuario o …</td><td>18284</td></tr><tr><td>&quot;Regístrese con…</td><td>19874</td></tr></tbody></table></div>"
      ],
      "text/plain": [
       "shape: (226, 2)\n",
       "┌───────────────────────────────────┬────────────────┐\n",
       "│ content                           ┆ content_length │\n",
       "│ ---                               ┆ ---            │\n",
       "│ str                               ┆ u32            │\n",
       "╞═══════════════════════════════════╪════════════════╡\n",
       "│ Click aquí para activar las noti… ┆ 342            │\n",
       "│ Click aquí para activar las noti… ┆ 342            │\n",
       "│ Click aquí para activar las noti… ┆ 342            │\n",
       "│ 📌La enfermera Evelyn Franco fue  ┆ 349            │\n",
       "│ …                                 ┆                │\n",
       "│ …                                 ┆ …              │\n",
       "│  El usuario o la contraseña son … ┆ 15410          │\n",
       "│  El usuario o la contraseña son … ┆ 18144          │\n",
       "│  El usuario o la contraseña son … ┆ 18284          │\n",
       "│ Regístrese con su cuenta de Face… ┆ 19874          │\n",
       "└───────────────────────────────────┴────────────────┘"
      ]
     },
     "execution_count": 62,
     "metadata": {},
     "output_type": "execute_result"
    }
   ],
   "source": [
    "q = (\n",
    "    pl.scan_csv(filepath)\n",
    "    .select(\n",
    "    [\n",
    "        'content',\n",
    "        pl.col('content').str.lengths().alias('content_length'),        \n",
    "    ]\n",
    "    )\n",
    ").sort('content_length')\n",
    "q.collect()"
   ]
  },
  {
   "cell_type": "markdown",
   "metadata": {},
   "source": [
    "## Split column"
   ]
  },
  {
   "cell_type": "code",
   "execution_count": 84,
   "metadata": {},
   "outputs": [],
   "source": [
    "authors = (\n",
    "    df\n",
    "    .select(\n",
    "    [\n",
    "        'authors',\n",
    "        pl.col('authors').str.split(' ').alias('splitname'),\n",
    "    ])\n",
    ")"
   ]
  },
  {
   "cell_type": "code",
   "execution_count": 86,
   "metadata": {},
   "outputs": [
    {
     "data": {
      "text/html": [
       "<div><style>\n",
       ".dataframe > thead > tr > th,\n",
       ".dataframe > tbody > tr > td {\n",
       "  text-align: right;\n",
       "}\n",
       "</style>\n",
       "<small>shape: (226, 2)</small><table border=\"1\" class=\"dataframe\"><thead><tr><th>authors</th><th>splitname</th></tr><tr><td>str</td><td>list[str]</td></tr></thead><tbody><tr><td>&quot;Diario El Dia …</td><td>[&quot;Diario&quot;, &quot;El&quot;, … &quot;Dia&quot;]</td></tr><tr><td>&quot;Diario El Dia …</td><td>[&quot;Diario&quot;, &quot;El&quot;, … &quot;Dia&quot;]</td></tr><tr><td>&quot;Diario El Dia …</td><td>[&quot;Diario&quot;, &quot;El&quot;, … &quot;Dia&quot;]</td></tr><tr><td>&quot;Diario El Dia …</td><td>[&quot;Diario&quot;, &quot;El&quot;, … &quot;Dia&quot;]</td></tr><tr><td>&quot;Diario El Dia …</td><td>[&quot;Diario&quot;, &quot;El&quot;, … &quot;Dia&quot;]</td></tr><tr><td>&quot;n-a&quot;</td><td>[&quot;n-a&quot;]</td></tr><tr><td>&quot;n-a&quot;</td><td>[&quot;n-a&quot;]</td></tr><tr><td>&quot;Gustavo Berón-…</td><td>[&quot;Gustavo&quot;, &quot;Berón-Candela&quot;, … &quot;Lynch&quot;]</td></tr><tr><td>&quot;n-a&quot;</td><td>[&quot;n-a&quot;]</td></tr><tr><td>&quot;n-a&quot;</td><td>[&quot;n-a&quot;]</td></tr><tr><td>&quot;Penélope Canon…</td><td>[&quot;Penélope&quot;, &quot;Canonico&quot;]</td></tr><tr><td>&quot;n-a&quot;</td><td>[&quot;n-a&quot;]</td></tr><tr><td>&hellip;</td><td>&hellip;</td></tr><tr><td>&quot;n-a&quot;</td><td>[&quot;n-a&quot;]</td></tr><tr><td>&quot;n-a&quot;</td><td>[&quot;n-a&quot;]</td></tr><tr><td>&quot;n-a&quot;</td><td>[&quot;n-a&quot;]</td></tr><tr><td>&quot;n-a&quot;</td><td>[&quot;n-a&quot;]</td></tr><tr><td>&quot;n-a&quot;</td><td>[&quot;n-a&quot;]</td></tr><tr><td>&quot;n-a&quot;</td><td>[&quot;n-a&quot;]</td></tr><tr><td>&quot;Jorgelina Hern…</td><td>[&quot;Jorgelina&quot;, &quot;Hernández&quot;]</td></tr><tr><td>&quot;Daniel Quilodr…</td><td>[&quot;Daniel&quot;, &quot;Quilodrán&quot;]</td></tr><tr><td>&quot;Luis Leiva Dur…</td><td>[&quot;Luis&quot;, &quot;Leiva&quot;, &quot;Duran&quot;]</td></tr><tr><td>&quot;n-a&quot;</td><td>[&quot;n-a&quot;]</td></tr><tr><td>&quot;n-a&quot;</td><td>[&quot;n-a&quot;]</td></tr><tr><td>&quot;n-a&quot;</td><td>[&quot;n-a&quot;]</td></tr></tbody></table></div>"
      ],
      "text/plain": [
       "shape: (226, 2)\n",
       "┌───────────────────────────────────┬────────────────────────────┐\n",
       "│ authors                           ┆ splitname                  │\n",
       "│ ---                               ┆ ---                        │\n",
       "│ str                               ┆ list[str]                  │\n",
       "╞═══════════════════════════════════╪════════════════════════════╡\n",
       "│ Diario El Dia De La Plata Www.El… ┆ [\"Diario\", \"El\", … \"Dia\"]  │\n",
       "│ Diario El Dia De La Plata Www.El… ┆ [\"Diario\", \"El\", … \"Dia\"]  │\n",
       "│ Diario El Dia De La Plata Www.El… ┆ [\"Diario\", \"El\", … \"Dia\"]  │\n",
       "│ Diario El Dia De La Plata Www.El… ┆ [\"Diario\", \"El\", … \"Dia\"]  │\n",
       "│ …                                 ┆ …                          │\n",
       "│ Luis Leiva Duran                  ┆ [\"Luis\", \"Leiva\", \"Duran\"] │\n",
       "│ n-a                               ┆ [\"n-a\"]                    │\n",
       "│ n-a                               ┆ [\"n-a\"]                    │\n",
       "│ n-a                               ┆ [\"n-a\"]                    │\n",
       "└───────────────────────────────────┴────────────────────────────┘"
      ]
     },
     "execution_count": 86,
     "metadata": {},
     "output_type": "execute_result"
    }
   ],
   "source": [
    "authors"
   ]
  },
  {
   "cell_type": "code",
   "execution_count": 77,
   "metadata": {},
   "outputs": [
    {
     "data": {
      "text/html": [
       "<div>\n",
       "<style scoped>\n",
       "    .dataframe tbody tr th:only-of-type {\n",
       "        vertical-align: middle;\n",
       "    }\n",
       "\n",
       "    .dataframe tbody tr th {\n",
       "        vertical-align: top;\n",
       "    }\n",
       "\n",
       "    .dataframe thead th {\n",
       "        text-align: right;\n",
       "    }\n",
       "</style>\n",
       "<table border=\"1\" class=\"dataframe\">\n",
       "  <thead>\n",
       "    <tr style=\"text-align: right;\">\n",
       "      <th></th>\n",
       "      <th>authors</th>\n",
       "    </tr>\n",
       "  </thead>\n",
       "  <tbody>\n",
       "    <tr>\n",
       "      <th>0</th>\n",
       "      <td>Diario El Dia De La Plata Www.Eldia.Com-El Dia</td>\n",
       "    </tr>\n",
       "    <tr>\n",
       "      <th>1</th>\n",
       "      <td>Diario El Dia De La Plata Www.Eldia.Com-El Dia</td>\n",
       "    </tr>\n",
       "    <tr>\n",
       "      <th>2</th>\n",
       "      <td>Diario El Dia De La Plata Www.Eldia.Com-El Dia</td>\n",
       "    </tr>\n",
       "    <tr>\n",
       "      <th>3</th>\n",
       "      <td>Diario El Dia De La Plata Www.Eldia.Com-El Dia</td>\n",
       "    </tr>\n",
       "    <tr>\n",
       "      <th>4</th>\n",
       "      <td>Diario El Dia De La Plata Www.Eldia.Com-El Dia</td>\n",
       "    </tr>\n",
       "    <tr>\n",
       "      <th>...</th>\n",
       "      <td>...</td>\n",
       "    </tr>\n",
       "    <tr>\n",
       "      <th>90</th>\n",
       "      <td>El Día</td>\n",
       "    </tr>\n",
       "    <tr>\n",
       "      <th>91</th>\n",
       "      <td>El Día</td>\n",
       "    </tr>\n",
       "    <tr>\n",
       "      <th>92</th>\n",
       "      <td>Jorgelina Hernández</td>\n",
       "    </tr>\n",
       "    <tr>\n",
       "      <th>93</th>\n",
       "      <td>Daniel Quilodrán</td>\n",
       "    </tr>\n",
       "    <tr>\n",
       "      <th>94</th>\n",
       "      <td>Luis Leiva Duran</td>\n",
       "    </tr>\n",
       "  </tbody>\n",
       "</table>\n",
       "<p>95 rows × 1 columns</p>\n",
       "</div>"
      ],
      "text/plain": [
       "                                           authors\n",
       "0   Diario El Dia De La Plata Www.Eldia.Com-El Dia\n",
       "1   Diario El Dia De La Plata Www.Eldia.Com-El Dia\n",
       "2   Diario El Dia De La Plata Www.Eldia.Com-El Dia\n",
       "3   Diario El Dia De La Plata Www.Eldia.Com-El Dia\n",
       "4   Diario El Dia De La Plata Www.Eldia.Com-El Dia\n",
       "..                                             ...\n",
       "90                                          El Día\n",
       "91                                          El Día\n",
       "92                             Jorgelina Hernández\n",
       "93                                Daniel Quilodrán\n",
       "94                                Luis Leiva Duran\n",
       "\n",
       "[95 rows x 1 columns]"
      ]
     },
     "execution_count": 77,
     "metadata": {},
     "output_type": "execute_result"
    }
   ],
   "source": [
    "# Negative\n",
    "(\n",
    "    pl.scan_csv(filepath)\n",
    "    .filter(\n",
    "        pl.col('authors').str.contains('n-a').is_not()        \n",
    "    )\n",
    "    .select(\n",
    "        [\n",
    "            'authors'\n",
    "        ]\n",
    "    )\n",
    ").collect().to_pandas()"
   ]
  },
  {
   "cell_type": "markdown",
   "metadata": {},
   "source": [
    "## Aggregate"
   ]
  },
  {
   "cell_type": "code",
   "execution_count": 13,
   "metadata": {},
   "outputs": [],
   "source": [
    "duplicados = (\n",
    "    df\n",
    "    .groupby(\"link\", 'date_article')\n",
    "    .agg(\n",
    "        [\n",
    "            pl.count().alias('count_ocurrence'),\n",
    "            pl.col(\"content\").str.n_chars().mean().alias(\"avg_content_length\")\n",
    "        ]\n",
    "    )\n",
    "    .sort(\"count_ocurrence\", descending=True)\n",
    "    .limit(10)\n",
    ")"
   ]
  },
  {
   "cell_type": "code",
   "execution_count": 14,
   "metadata": {},
   "outputs": [
    {
     "data": {
      "text/html": [
       "<div><style>\n",
       ".dataframe > thead > tr > th,\n",
       ".dataframe > tbody > tr > td {\n",
       "  text-align: right;\n",
       "}\n",
       "</style>\n",
       "<small>shape: (10, 4)</small><table border=\"1\" class=\"dataframe\"><thead><tr><th>link</th><th>date_article</th><th>count_ocurrence</th><th>avg_content_length</th></tr><tr><td>str</td><td>str</td><td>u32</td><td>f64</td></tr></thead><tbody><tr><td>&quot;https://www.lm…</td><td>&quot;2023-08-09T20:…</td><td>3</td><td>6087.666667</td></tr><tr><td>&quot;https://www.lm…</td><td>&quot;2023-08-09T22:…</td><td>3</td><td>4983.666667</td></tr><tr><td>&quot;https://www.lm…</td><td>&quot;2023-08-09T20:…</td><td>3</td><td>7583.0</td></tr><tr><td>&quot;https://www.el…</td><td>&quot;2023-08-09T00:…</td><td>2</td><td>2772.0</td></tr><tr><td>&quot;https://www.el…</td><td>&quot;2023-08-09T00:…</td><td>2</td><td>3554.0</td></tr><tr><td>&quot;https://www.el…</td><td>&quot;2023-08-09T00:…</td><td>2</td><td>10787.0</td></tr><tr><td>&quot;https://www.el…</td><td>&quot;2023-08-09T00:…</td><td>2</td><td>8065.0</td></tr><tr><td>&quot;https://www.el…</td><td>&quot;2023-08-09T00:…</td><td>2</td><td>7480.0</td></tr><tr><td>&quot;https://www.el…</td><td>&quot;2023-08-08T00:…</td><td>2</td><td>4370.0</td></tr><tr><td>&quot;https://www.el…</td><td>&quot;2023-08-09T00:…</td><td>2</td><td>15017.0</td></tr></tbody></table></div>"
      ],
      "text/plain": [
       "shape: (10, 4)\n",
       "┌──────────────────────────────┬────────────────────────────┬─────────────────┬────────────────────┐\n",
       "│ link                         ┆ date_article               ┆ count_ocurrence ┆ avg_content_length │\n",
       "│ ---                          ┆ ---                        ┆ ---             ┆ ---                │\n",
       "│ str                          ┆ str                        ┆ u32             ┆ f64                │\n",
       "╞══════════════════════════════╪════════════════════════════╪═════════════════╪════════════════════╡\n",
       "│ https://www.lmneuquen.com/pa ┆ 2023-08-09T20:55:00.000000 ┆ 3               ┆ 6087.666667        │\n",
       "│ is/q…                        ┆                            ┆                 ┆                    │\n",
       "│ https://www.lmneuquen.com/po ┆ 2023-08-09T22:08:33.000000 ┆ 3               ┆ 4983.666667        │\n",
       "│ lici…                        ┆                            ┆                 ┆                    │\n",
       "│ https://www.lmneuquen.com/pa ┆ 2023-08-09T20:17:00.000000 ┆ 3               ┆ 7583.0             │\n",
       "│ is/l…                        ┆                            ┆                 ┆                    │\n",
       "│ https://www.eldia.com/nota/2 ┆ 2023-08-09T00:00:00.000000 ┆ 2               ┆ 2772.0             │\n",
       "│ 023-…                        ┆                            ┆                 ┆                    │\n",
       "│ …                            ┆ …                          ┆ …               ┆ …                  │\n",
       "│ https://www.eldia.com/nota/2 ┆ 2023-08-09T00:00:00.000000 ┆ 2               ┆ 8065.0             │\n",
       "│ 023-…                        ┆                            ┆                 ┆                    │\n",
       "│ https://www.eldia.com/nota/2 ┆ 2023-08-09T00:00:00.000000 ┆ 2               ┆ 7480.0             │\n",
       "│ 023-…                        ┆                            ┆                 ┆                    │\n",
       "│ https://www.eldia.com/nota/2 ┆ 2023-08-08T00:00:00.000000 ┆ 2               ┆ 4370.0             │\n",
       "│ 023-…                        ┆                            ┆                 ┆                    │\n",
       "│ https://www.eltribuno.com/ju ┆ 2023-08-09T00:00:00.000000 ┆ 2               ┆ 15017.0            │\n",
       "│ juy/…                        ┆                            ┆                 ┆                    │\n",
       "└──────────────────────────────┴────────────────────────────┴─────────────────┴────────────────────┘"
      ]
     },
     "execution_count": 14,
     "metadata": {},
     "output_type": "execute_result"
    }
   ],
   "source": [
    "duplicados"
   ]
  },
  {
   "cell_type": "markdown",
   "metadata": {},
   "source": [
    "### Transformation"
   ]
  },
  {
   "cell_type": "code",
   "execution_count": 105,
   "metadata": {},
   "outputs": [
    {
     "data": {
      "text/plain": [
       "['date_extract', 'date_article', 'content', 'link', 'authors']"
      ]
     },
     "execution_count": 105,
     "metadata": {},
     "output_type": "execute_result"
    }
   ],
   "source": [
    "df.columns"
   ]
  },
  {
   "cell_type": "code",
   "execution_count": 18,
   "metadata": {},
   "outputs": [
    {
     "data": {
      "text/html": [
       "<div><style>\n",
       ".dataframe > thead > tr > th,\n",
       ".dataframe > tbody > tr > td {\n",
       "  text-align: right;\n",
       "}\n",
       "</style>\n",
       "<small>shape: (1, 6)</small><table border=\"1\" class=\"dataframe\"><thead><tr><th>date_extract</th><th>date_article</th><th>content</th><th>link</th><th>authors</th><th>new</th></tr><tr><td>date</td><td>str</td><td>str</td><td>str</td><td>str</td><td>str</td></tr></thead><tbody><tr><td>2023-08-09</td><td>&quot;2023-08-09T00:…</td><td>&quot;Estimado lecto…</td><td>&quot;https://www.el…</td><td>&quot;Diario El Dia …</td><td>&quot;eldia.com/nota…</td></tr></tbody></table></div>"
      ],
      "text/plain": [
       "shape: (1, 6)\n",
       "┌──────────────┬─────────────────┬───────────┬─────────────────┬─────────────────┬─────────────────┐\n",
       "│ date_extract ┆ date_article    ┆ content   ┆ link            ┆ authors         ┆ new             │\n",
       "│ ---          ┆ ---             ┆ ---       ┆ ---             ┆ ---             ┆ ---             │\n",
       "│ date         ┆ str             ┆ str       ┆ str             ┆ str             ┆ str             │\n",
       "╞══════════════╪═════════════════╪═══════════╪═════════════════╪═════════════════╪═════════════════╡\n",
       "│ 2023-08-09   ┆ 2023-08-09T00:0 ┆ Estimado  ┆ https://www.eld ┆ Diario El Dia   ┆ eldia.com/nota/ │\n",
       "│              ┆ 0:00.000000     ┆ lector,   ┆ ia.com/nota/202 ┆ De La Plata     ┆ 2023-8-9-12-18- │\n",
       "│              ┆                 ┆ muchas    ┆ 3-…             ┆ Www.El…         ┆ 0-…             │\n",
       "│              ┆                 ┆ gracias … ┆                 ┆                 ┆                 │\n",
       "└──────────────┴─────────────────┴───────────┴─────────────────┴─────────────────┴─────────────────┘"
      ]
     },
     "execution_count": 18,
     "metadata": {},
     "output_type": "execute_result"
    }
   ],
   "source": [
    "df = pl.read_csv('/home/sebacastillo/willow/output/news_narcotráfico_related_2023-08-09_1951.csv')\n",
    "df = (\n",
    "    df.with_columns([\n",
    "        pl.col('date_extract').str.strptime(\n",
    "            pl.Date,\n",
    "            format='%Y-%m-%d %H:%M:%s', strict=True\n",
    "        ),        \n",
    "\n",
    "        pl.col('link').str.replace(r\"https://www.\", \"\").alias('new'),\n",
    "        #pl.col('reference').str.replace_all(r\"id-\", \"\"),\n",
    "        # ----------------\n",
    "        #pl.col('reference').str.split(by=\";\")\n",
    "        ##.struct.rename_fields([\"first_part\", \"second_part\"])\n",
    "        ##.alias(\"fields\"),\n",
    "    ])\n",
    ")\n",
    "df[0]"
   ]
  },
  {
   "cell_type": "code",
   "execution_count": 19,
   "metadata": {},
   "outputs": [
    {
     "data": {
      "text/plain": [
       "True"
      ]
     },
     "execution_count": 19,
     "metadata": {},
     "output_type": "execute_result"
    }
   ],
   "source": [
    "isinstance(df, pl.DataFrame)"
   ]
  },
  {
   "cell_type": "code",
   "execution_count": 30,
   "metadata": {},
   "outputs": [],
   "source": [
    "text = df['content'][0]"
   ]
  },
  {
   "cell_type": "code",
   "execution_count": 31,
   "metadata": {},
   "outputs": [
    {
     "data": {
      "text/plain": [
       "['Estimado lector, muchas gracias por su interés en nuestras notas. Hemos incorporado el registro con ',\n",
       " 'el objetivo de mejorar la información que le brindamos de acuerdo a sus intereses. Para más informac',\n",
       " 'ión haga clic aquí Suplementos > Avisos > Servicios > Entretenimientos > Otros sitios > \\n15 °C La Pl',\n",
       " 'ata\\t\\t\\t\\t\\t\\n\\t\\t\\t\\t\\t\\t\\t\\t\\t\\t\\t\\n\\t\\t\\t\\t\\t\\t\\t\\t\\t\\t\\tMiércoles 9 de Agosto, 2023\\n\\t\\t\\t\\t\\t\\t\\t\\t\\t\\t \\n La muerte de una niña en La',\n",
       " 'nús tras ser víctima de un ataque de motochorros atravesó la agenda electoral y llevó a los precandi',\n",
       " 'datos bonaerenses de las principales fuerzas que competirán en las PASO del domingo próximo, Unión p',\n",
       " 'or la Patria (UxP) y Juntos por el Cambio (JxC), a suspender sus actos de cierre de campaña previsto',\n",
       " 's para hoy y mañana. Morena Domínguez, de 11 años, murió hoy luego de ser asaltada por motochorros, ',\n",
       " 'que la atacaron para robarle sus pertenencias cuando caminaba hacia su colegio en la localidad de Vi',\n",
       " 'lla Diamante, partido bonaerense de Lanús. El hecho movilizó en la zona a vecinos y a allegados a la',\n",
       " ' víctima, mientras la cúpula policial y el ministro de Seguridad bonaerense, Sergio Berni, se reunie',\n",
       " 'ron en la comisaría 5ta. de Lanús, donde además fueron alojados dos jóvenes, ambos mayores de edad,,',\n",
       " ' detenidos como sospechosos de haber participado del asalto. Los vecinos, amigos y familiares de Mor',\n",
       " 'ena Domínguez se concentraban también en la Plaza Giardino, ubicada en la calle San Vladimiro 5540 d',\n",
       " 'e Lanús, para pedir justicia y más seguridad en la zona. En este marco, el gobernador de la provinci',\n",
       " 'a de Buenos Aires y precandidato a la reelección, Axel Kicillof, suspendió el acto de cierre de camp',\n",
       " 'aña que iba a realizarse en el municipio de Merlo, adonde asistiría también el precandidato presiden',\n",
       " 'cial de UxP, Sergio Massa. \"En virtud del doloroso y trágico crimen de Morena Domínguez, ocurrido es',\n",
       " 'ta mañana en Lanús, se decidió suspender el acto de campaña previsto para esta tarde en Merlo\", expr',\n",
       " 'esó un comunicado oficial, en el que además se remarcó que, \"frente a esta tragedia, el Gobierno Pro',\n",
       " 'vincial está coordinando tareas y esfuerzos con el Gobierno de Lanús\". LE PUEDE INTERESAR Morzone: \"',\n",
       " 'Hay que fortalcecer la Convivencia Ciudadana\" LE PUEDE INTERESAR El dólar blue siguió subiendo y se ',\n",
       " 'mantuvo por encima de los 600 pesos Expresó el comunicado que \"nada devolverá la vida de Morena pero',\n",
       " ' este crimen tan espantoso, que conmueve a toda la comunidad, no quedará impune\". \"Por indicación de',\n",
       " 'l Gobernador, se abocaron de inmediato al tema la Dirección General de Cultura y Educación, el Minis',\n",
       " 'terio de Salud y el área de asistencia a las víctimas del Ministerio de Justicia. Por su parte, el M',\n",
       " 'inistro de Seguridad lidera la búsqueda de los criminales que afortunadamente arrojó sus primeros re',\n",
       " 'sultados\", apuntó el texto oficial. Se remarcó además desde la administración bonaerense que \"los es',\n",
       " 'fuerzos en estas horas están orientados a la coordinación con el gobierno local, a la contención de ',\n",
       " 'la familia y de la comunidad escolar y a la persecución de los criminales\". El acto de cierre estaba',\n",
       " ' previsto a partir de las 15 en el gimnasio del Club Deportivo Merlo, adonde se esperaba la asistenc',\n",
       " \"ia del ministro de Interior y precandidato a senador nacional Eduardo 'Wado' de Pedro; los postulant\",\n",
       " 'es a diputados nacionales; la vicegobernadora, Verónica Magario; el jefe comunal de ese distrito -en',\n",
       " ' uso de licencia-, Gustavo Menéndez, intendentes bonaerenses y todos los miembros del gabinete. Tamb',\n",
       " 'ién, en declaraciones a Radio Continental, el jefe de Gabinete y precandidato a vicepresidente, Agus',\n",
       " 'tín Rossi, lamentó el \"hecho trágico\" y sostuvo que hay que \"redoblar los esfuerzos para generar may',\n",
       " 'or seguridad para los argentinos\". De igual manera, la precandidata presidencial de JxC Patricia Bul',\n",
       " 'lrich y el aspirante a gobernador bonaerense por ese espacio, Néstor Grindetti, suspendieron la acti',\n",
       " 'vidad que ponía fin a la campaña electoral, agendada para mañana en el microestadio de Lanús. \"Debid',\n",
       " 'o a los tristes hechos de público conocimiento enviamos nuestras condolencias y solidaridad a la fam',\n",
       " 'ilia y amigos de Morena. Hemos decidido suspender el acto de cierre en la Provincia de Buenos Aires ',\n",
       " 'previsto para mañana\", aseguró por Twitter Juan Pablo Arenaza, uno de los coordinadores de la campañ',\n",
       " 'a. Previamente, tanto Grindetti, intendente de Lanús, como Diego Kravetz, jefe de gabinete municipal',\n",
       " ' y postulante a la intendencia en ese municipio, habían anunciado que suspendían sus respectivas cam',\n",
       " 'pañas para establecer un comité de crisis municipal por la muerte de Morena Domínguez. Con todo, Pat',\n",
       " 'ricia Bullrich tiene previsto realizar una actividad en la Plaza de la Música de la ciudad de Córdob',\n",
       " 'a, a partir de las 18.30. También suspendió su acto central -de mañana- el otro precandidato preside',\n",
       " 'ncial de JxC, Horacio Rodríguez Larreta, quien tenía planeado reunir a sus seguidores en el club Ate',\n",
       " 'nas, en la ciudad bonaerense de La Plata, junto a su candidato a gobernador bonaerense, Diego Santil',\n",
       " 'li, y al intendente de La Plata, Julio Garro. Los precandidatos a intendente de Lanús por Unión por ',\n",
       " 'la Patria (UxP), Julián Álvarez, Nicolás Russo y Agustín Balladares declinaron sus actividades de ca',\n",
       " 'mpaña de hoy y expresaron en las redes sociales pedidos de justicia, solidaridad con la familia de l',\n",
       " 'a niña y repudio al ataque criminal. Se sumó a esta decisión, pero en la Ciudad de Buenos Aires, el ',\n",
       " 'senador nacional y precandidato a jefe de Gobierno porteño de JxC Martín Lousteau, quien suspendió e',\n",
       " 'l mensaje final y toda la actividad de campaña prevista para hoy en Parque Centenario. También, los ',\n",
       " 'precandidatos de la izquierda de la lista presidencial encabezada por Gabriel Solano y Vilma Ripoll ',\n",
       " 'suspendieron también el \"Cabildo Abierto\", que estaba previsto para esta tarde en Plaza de Mayo. En ',\n",
       " 'otro orden, en cuanto a las circunstancias que rodearon a la muerte de Morena Domínguez, el director',\n",
       " ' del Hospital Evita afirmó que la niña llegó al centro de salud \"inconsciente, con muchas heridas y ',\n",
       " 'en condiciones críticas\" y aseguró que falleció como consecuencia de un \"traumatismo craneoencefálic',\n",
       " 'o grave\".  Las noticias locales nunca fueron tan importantes SUSCRIBITE Para comentar suscribite hac',\n",
       " 'iendo click aquí ESTA NOTA ES EXCLUSIVA PARA SUSCRIPTORES\\n        \\n HA ALCANZADO EL LIMITE DE NOTAS ',\n",
       " 'GRATUITAS\\n        \\n \\n        Para disfrutar este artículo, análisis y más, por favor, suscríbase a u',\n",
       " 'no de nuestros planes digitales\\n       \\n        ¿Ya tiene suscripción? Ingresar\\n Básico Promocional ',\n",
       " '$60/mes *LOS PRIMEROS 3 MESES, LUEGO $750 Acceso ilimitado a www.eldia.com Full Promocional $90/mes ',\n",
       " '*LOS PRIMEROS 3 MESES, LUEGO $950 Acceso ilimitado a www.eldia.com Acceso a la versión PDF Beneficio',\n",
       " 's Club El Día POR MES* Diario El Día de La Plata, fundado el 2 de Marzo de 1884. © 2023  El Día  SA ',\n",
       " '- Todos los derechos reservados.  Registro D.N.D.A Nº RL-2019-04027819-APN-DNDA#MJ Propietario El Dí',\n",
       " 'a SAICYF. Edición Nro. 6986 Director: Raúl Kraiselburd. Diag. 80 Nro. 815 - La Plata - Pcia. de Bs. ',\n",
       " 'As. Bienvenido Estimado lector, muchas gracias por su interés en nuestras notas. Hemos incorporado e',\n",
       " 'l registro con el objetivo de mejorar la información que le brindamos de acuerdo a sus intereses. Pa',\n",
       " 'ra más información haga clic aquí Si ya tiene cuenta en www.eldia.com, ingrese sus datos Si aún no t',\n",
       " 'iene cuenta en El Día, haga click en el siguiente botón:   Ante cualquier inconveniente durante el i',\n",
       " 'nicio de sesión, por favor escribanos a sistemas@eldia.com Bienvenido \\n\\t\\t\\t\\t\\tEstimado lector, con sól',\n",
       " 'o registrarse tendrá acceso a 80 artículos por mes en forma gratuita. Para más información haga clic',\n",
       " ' aquí\\n DATOS PERSONALES NOMRE DE USUARIO Y CLAVE (Entre 6 y 12 caracteres. No se aceptan  ñ-Ñ, tilde',\n",
       " 's, diéresis, símbolos y espacios) Si ya tiene cuenta en El Día, haga click en el siguiente botón: An',\n",
       " 'te cualquier inconveniente durante el inicio de sesión, por favor escribanos a sistemas@eldia.com \\nS',\n",
       " 'e enviará un correo electrónico a la casilla de email que coloque, la cual deberá estar asociada a s',\n",
       " 'u cuenta. Luego, siga las instrucciones de dicho correo para continuar con el proceso de restablecim',\n",
       " 'iento de la cuenta.\\n ¿Querés recibir notificaciones de alertas?  ']"
      ]
     },
     "execution_count": 31,
     "metadata": {},
     "output_type": "execute_result"
    }
   ],
   "source": [
    "view_string(text)"
   ]
  }
 ],
 "metadata": {
  "kernelspec": {
   "display_name": ".willow",
   "language": "python",
   "name": ".willow"
  },
  "language_info": {
   "codemirror_mode": {
    "name": "ipython",
    "version": 3
   },
   "file_extension": ".py",
   "mimetype": "text/x-python",
   "name": "python",
   "nbconvert_exporter": "python",
   "pygments_lexer": "ipython3",
   "version": "3.9.13"
  },
  "orig_nbformat": 4
 },
 "nbformat": 4,
 "nbformat_minor": 2
}
