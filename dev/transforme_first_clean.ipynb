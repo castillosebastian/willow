{
 "cells": [
  {
   "cell_type": "code",
   "execution_count": 7,
   "metadata": {},
   "outputs": [],
   "source": [
    "import polars as pl\n",
    "import pandas as pd"
   ]
  },
  {
   "cell_type": "code",
   "execution_count": 8,
   "metadata": {},
   "outputs": [],
   "source": [
    "df = pd.read_csv('/home/sebacastillo/willow/output/news_narcotráfico_related_2023-08-09_1816.csv')"
   ]
  },
  {
   "cell_type": "code",
   "execution_count": 9,
   "metadata": {},
   "outputs": [
    {
     "data": {
      "text/html": [
       "<div>\n",
       "<style scoped>\n",
       "    .dataframe tbody tr th:only-of-type {\n",
       "        vertical-align: middle;\n",
       "    }\n",
       "\n",
       "    .dataframe tbody tr th {\n",
       "        vertical-align: top;\n",
       "    }\n",
       "\n",
       "    .dataframe thead th {\n",
       "        text-align: right;\n",
       "    }\n",
       "</style>\n",
       "<table border=\"1\" class=\"dataframe\">\n",
       "  <thead>\n",
       "    <tr style=\"text-align: right;\">\n",
       "      <th></th>\n",
       "      <th>date_extract</th>\n",
       "      <th>date_article</th>\n",
       "      <th>content</th>\n",
       "      <th>link</th>\n",
       "      <th>authors</th>\n",
       "    </tr>\n",
       "  </thead>\n",
       "  <tbody>\n",
       "    <tr>\n",
       "      <th>0</th>\n",
       "      <td>2023-08-09 18:15:38</td>\n",
       "      <td>2023-08-09T00:00:00.000000</td>\n",
       "      <td>9 Ago, 2023 Por  María Laura Balonga Fuentes j...</td>\n",
       "      <td>https://www.infobae.com/sociedad/policiales/20...</td>\n",
       "      <td>María Laura Balonga</td>\n",
       "    </tr>\n",
       "    <tr>\n",
       "      <th>1</th>\n",
       "      <td>2023-08-09 18:15:38</td>\n",
       "      <td>2023-08-09T00:00:00.000000</td>\n",
       "      <td>9 Ago, 2023 Los dos hermanos que fueron deteni...</td>\n",
       "      <td>https://www.infobae.com/sociedad/policiales/20...</td>\n",
       "      <td>n-a</td>\n",
       "    </tr>\n",
       "    <tr>\n",
       "      <th>2</th>\n",
       "      <td>2023-08-09 18:15:38</td>\n",
       "      <td>2023-08-09T00:00:00.000000</td>\n",
       "      <td>9 Ago, 2023 La mamá de Morena Domínguez —la ne...</td>\n",
       "      <td>https://www.infobae.com/sociedad/policiales/20...</td>\n",
       "      <td>n-a</td>\n",
       "    </tr>\n",
       "    <tr>\n",
       "      <th>3</th>\n",
       "      <td>2023-08-09 18:15:38</td>\n",
       "      <td>2023-08-09T00:00:00.000000</td>\n",
       "      <td>9 Ago, 2023 Por  Walter Vazquez Vecinos de Lan...</td>\n",
       "      <td>https://www.infobae.com/sociedad/policiales/20...</td>\n",
       "      <td>Walter Vazquez</td>\n",
       "    </tr>\n",
       "    <tr>\n",
       "      <th>4</th>\n",
       "      <td>2023-08-09 18:15:38</td>\n",
       "      <td>2023-08-09T00:00:00.000000</td>\n",
       "      <td>9 Ago, 2023 Por  Eduardo Menegazzi  En un hote...</td>\n",
       "      <td>https://www.infobae.com/politica/2023/08/09/sc...</td>\n",
       "      <td>Eduardo Menegazzi</td>\n",
       "    </tr>\n",
       "  </tbody>\n",
       "</table>\n",
       "</div>"
      ],
      "text/plain": [
       "          date_extract                date_article  \\\n",
       "0  2023-08-09 18:15:38  2023-08-09T00:00:00.000000   \n",
       "1  2023-08-09 18:15:38  2023-08-09T00:00:00.000000   \n",
       "2  2023-08-09 18:15:38  2023-08-09T00:00:00.000000   \n",
       "3  2023-08-09 18:15:38  2023-08-09T00:00:00.000000   \n",
       "4  2023-08-09 18:15:38  2023-08-09T00:00:00.000000   \n",
       "\n",
       "                                             content  \\\n",
       "0  9 Ago, 2023 Por  María Laura Balonga Fuentes j...   \n",
       "1  9 Ago, 2023 Los dos hermanos que fueron deteni...   \n",
       "2  9 Ago, 2023 La mamá de Morena Domínguez —la ne...   \n",
       "3  9 Ago, 2023 Por  Walter Vazquez Vecinos de Lan...   \n",
       "4  9 Ago, 2023 Por  Eduardo Menegazzi  En un hote...   \n",
       "\n",
       "                                                link              authors  \n",
       "0  https://www.infobae.com/sociedad/policiales/20...  María Laura Balonga  \n",
       "1  https://www.infobae.com/sociedad/policiales/20...                  n-a  \n",
       "2  https://www.infobae.com/sociedad/policiales/20...                  n-a  \n",
       "3  https://www.infobae.com/sociedad/policiales/20...       Walter Vazquez  \n",
       "4  https://www.infobae.com/politica/2023/08/09/sc...    Eduardo Menegazzi  "
      ]
     },
     "execution_count": 9,
     "metadata": {},
     "output_type": "execute_result"
    }
   ],
   "source": [
    "df.head()"
   ]
  },
  {
   "cell_type": "code",
   "execution_count": 12,
   "metadata": {},
   "outputs": [
    {
     "name": "stdout",
     "output_type": "stream",
     "text": [
      "         date_extract date_article  \\\n",
      "0 2023-08-09 18:15:38   2023-08-09   \n",
      "\n",
      "                                             content  \\\n",
      "0  9 Ago, 2023 Por  María Laura Balonga Fuentes j...   \n",
      "\n",
      "                                                link              authors  \n",
      "0  https://www.infobae.com/sociedad/policiales/20...  María Laura Balonga  \n"
     ]
    }
   ],
   "source": [
    "df['date_extract'] = pd.to_datetime(df['date_extract'])\n",
    "df['date_article'] = pd.to_datetime(df['date_article'])\n",
    "print(df.head(1))"
   ]
  }
 ],
 "metadata": {
  "kernelspec": {
   "display_name": ".willow",
   "language": "python",
   "name": ".willow"
  },
  "language_info": {
   "codemirror_mode": {
    "name": "ipython",
    "version": 3
   },
   "file_extension": ".py",
   "mimetype": "text/x-python",
   "name": "python",
   "nbconvert_exporter": "python",
   "pygments_lexer": "ipython3",
   "version": "3.9.13"
  },
  "orig_nbformat": 4
 },
 "nbformat": 4,
 "nbformat_minor": 2
}
