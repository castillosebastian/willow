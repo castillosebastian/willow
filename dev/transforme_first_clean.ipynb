{
 "cells": [
  {
   "cell_type": "code",
   "execution_count": 2,
   "metadata": {},
   "outputs": [],
   "source": [
    "import polars as pl\n",
    "import pandas as pd"
   ]
  },
  {
   "cell_type": "code",
   "execution_count": 8,
   "metadata": {},
   "outputs": [],
   "source": [
    "df = pd.read_csv('/home/sebacastillo/willow/output/news_narcotráfico_related_2023-08-09_1816.csv')"
   ]
  },
  {
   "cell_type": "code",
   "execution_count": 9,
   "metadata": {},
   "outputs": [
    {
     "data": {
      "text/html": [
       "<div>\n",
       "<style scoped>\n",
       "    .dataframe tbody tr th:only-of-type {\n",
       "        vertical-align: middle;\n",
       "    }\n",
       "\n",
       "    .dataframe tbody tr th {\n",
       "        vertical-align: top;\n",
       "    }\n",
       "\n",
       "    .dataframe thead th {\n",
       "        text-align: right;\n",
       "    }\n",
       "</style>\n",
       "<table border=\"1\" class=\"dataframe\">\n",
       "  <thead>\n",
       "    <tr style=\"text-align: right;\">\n",
       "      <th></th>\n",
       "      <th>date_extract</th>\n",
       "      <th>date_article</th>\n",
       "      <th>content</th>\n",
       "      <th>link</th>\n",
       "      <th>authors</th>\n",
       "    </tr>\n",
       "  </thead>\n",
       "  <tbody>\n",
       "    <tr>\n",
       "      <th>0</th>\n",
       "      <td>2023-08-09 18:15:38</td>\n",
       "      <td>2023-08-09T00:00:00.000000</td>\n",
       "      <td>9 Ago, 2023 Por  María Laura Balonga Fuentes j...</td>\n",
       "      <td>https://www.infobae.com/sociedad/policiales/20...</td>\n",
       "      <td>María Laura Balonga</td>\n",
       "    </tr>\n",
       "    <tr>\n",
       "      <th>1</th>\n",
       "      <td>2023-08-09 18:15:38</td>\n",
       "      <td>2023-08-09T00:00:00.000000</td>\n",
       "      <td>9 Ago, 2023 Los dos hermanos que fueron deteni...</td>\n",
       "      <td>https://www.infobae.com/sociedad/policiales/20...</td>\n",
       "      <td>n-a</td>\n",
       "    </tr>\n",
       "    <tr>\n",
       "      <th>2</th>\n",
       "      <td>2023-08-09 18:15:38</td>\n",
       "      <td>2023-08-09T00:00:00.000000</td>\n",
       "      <td>9 Ago, 2023 La mamá de Morena Domínguez —la ne...</td>\n",
       "      <td>https://www.infobae.com/sociedad/policiales/20...</td>\n",
       "      <td>n-a</td>\n",
       "    </tr>\n",
       "    <tr>\n",
       "      <th>3</th>\n",
       "      <td>2023-08-09 18:15:38</td>\n",
       "      <td>2023-08-09T00:00:00.000000</td>\n",
       "      <td>9 Ago, 2023 Por  Walter Vazquez Vecinos de Lan...</td>\n",
       "      <td>https://www.infobae.com/sociedad/policiales/20...</td>\n",
       "      <td>Walter Vazquez</td>\n",
       "    </tr>\n",
       "    <tr>\n",
       "      <th>4</th>\n",
       "      <td>2023-08-09 18:15:38</td>\n",
       "      <td>2023-08-09T00:00:00.000000</td>\n",
       "      <td>9 Ago, 2023 Por  Eduardo Menegazzi  En un hote...</td>\n",
       "      <td>https://www.infobae.com/politica/2023/08/09/sc...</td>\n",
       "      <td>Eduardo Menegazzi</td>\n",
       "    </tr>\n",
       "  </tbody>\n",
       "</table>\n",
       "</div>"
      ],
      "text/plain": [
       "          date_extract                date_article  \\\n",
       "0  2023-08-09 18:15:38  2023-08-09T00:00:00.000000   \n",
       "1  2023-08-09 18:15:38  2023-08-09T00:00:00.000000   \n",
       "2  2023-08-09 18:15:38  2023-08-09T00:00:00.000000   \n",
       "3  2023-08-09 18:15:38  2023-08-09T00:00:00.000000   \n",
       "4  2023-08-09 18:15:38  2023-08-09T00:00:00.000000   \n",
       "\n",
       "                                             content  \\\n",
       "0  9 Ago, 2023 Por  María Laura Balonga Fuentes j...   \n",
       "1  9 Ago, 2023 Los dos hermanos que fueron deteni...   \n",
       "2  9 Ago, 2023 La mamá de Morena Domínguez —la ne...   \n",
       "3  9 Ago, 2023 Por  Walter Vazquez Vecinos de Lan...   \n",
       "4  9 Ago, 2023 Por  Eduardo Menegazzi  En un hote...   \n",
       "\n",
       "                                                link              authors  \n",
       "0  https://www.infobae.com/sociedad/policiales/20...  María Laura Balonga  \n",
       "1  https://www.infobae.com/sociedad/policiales/20...                  n-a  \n",
       "2  https://www.infobae.com/sociedad/policiales/20...                  n-a  \n",
       "3  https://www.infobae.com/sociedad/policiales/20...       Walter Vazquez  \n",
       "4  https://www.infobae.com/politica/2023/08/09/sc...    Eduardo Menegazzi  "
      ]
     },
     "execution_count": 9,
     "metadata": {},
     "output_type": "execute_result"
    }
   ],
   "source": [
    "df.head()"
   ]
  },
  {
   "cell_type": "code",
   "execution_count": 12,
   "metadata": {},
   "outputs": [
    {
     "name": "stdout",
     "output_type": "stream",
     "text": [
      "         date_extract date_article  \\\n",
      "0 2023-08-09 18:15:38   2023-08-09   \n",
      "\n",
      "                                             content  \\\n",
      "0  9 Ago, 2023 Por  María Laura Balonga Fuentes j...   \n",
      "\n",
      "                                                link              authors  \n",
      "0  https://www.infobae.com/sociedad/policiales/20...  María Laura Balonga  \n"
     ]
    }
   ],
   "source": [
    "df['date_extract'] = pd.to_datetime(df['date_extract'])\n",
    "df['date_article'] = pd.to_datetime(df['date_article'])\n",
    "print(df.head(1))"
   ]
  },
  {
   "cell_type": "code",
   "execution_count": 14,
   "metadata": {},
   "outputs": [
    {
     "name": "stdout",
     "output_type": "stream",
     "text": [
      "9 Ago, 2023 Por  María Laura Balonga Fuentes judiciales confirmaron a Infobae que son mayores los dos sospechosos del crimen de Morena Domínguez, la nena de 11 años que murió tras haber sido atacada por motochorros a metros de la escuela de Lanús a la que iba a esta mañana. Ambos están detenidos y son hermanos. “Tienen 25 y 28 años”, indicaron las fuentes consultadas por este medio sobre los responsables del asesinato de la nena que iba a la escuela Almafuerte N°60, ubicada en la calle Molinedo al 3.200, en Villa Giardino, en la zona Oeste del partido de Lanús. Te puede interesar: Tras el crimen de Morena, habló la mamá desde Salta: “Es un momento muy duro, pido justicia” De apellido Madariaga y oriundos de Villa Caraza, los dos sospechosos tienen antecedentes penales. El menor tiene una causa por tentativa de robo de 2019; mientras que el mayor, al menos, tres: una por encubrimiento agravado (2019) por la que accedió a la libertad un año después; otra por encubrimiento (2021); y la última de febrero de este año por amenazas, violación de domicilio y resistencia a la autoridad. “Los dos pertenecen a una banda de siete integrantes con problemas de adicciones y en la que hay menores, y que es bien conocida por las autoridades”, explicaron otros investigadores que conocen el ambiente delictivo de Villa Caraza. Mientras que las fuentes judiciales indicaron que “no hay más aprehendidos por el caso, ni siquiera por el delito de encubrimiento”, y mucho menos menores de edad. Te puede interesar: Motochorros mataron a una nena de 11 años en Lanús Oeste cuando entraba a la escuela Es que, en un principio, fuentes policiales habían apuntado contra un adolescente de 14 años porque en su casa habrían hallado la moto usada para el ataque contra la nena. El adolescente confesó haber participado del hecho y, luego, en la comisaría se desdijo. Lo cierto es que M.A. es el mismo que había sido defendido por la diputada Natalia Zaracho a principios de año y tiene un extenso prontuario. Los investigadores del caso, que encabeza la fiscal Silvia Bussano, de la UFI N°7 del departamento judicial de Lanús y que estuvo este miércoles en el lugar de los hechos, consideraron que el “caso está esclarecido”. Te puede interesar: Video: así fue el momento del ataque motochorro a Morena, la nena de 11 años que murió en Lanús La noticia del arresto de los responsables del crimen de Morena ocurrió este miércoles por la tarde mientras los vecinos se manifestaban frente a la comisaría 5° de Lanús en reclamo de Justicia. En ese lugar también estaba el papá de Morena, quien fue asesinada por motochorros cuando iba hacia un kiosco a esperar que la escuela abriera sus puertas. Fue en ese contexto que los dos delincuentes a bordo de una moto la abordaron para robarle su mochila. Durante el ataque, la víctima sufrió un golpe en la cabeza y quedó tendida en el piso, mientras los ladrones escapaban por la vereda y un vecino en auto intentaba detenerlos. Te puede interesar: El asesinato de una nena de 11 años en Lanús paralizó la campaña electoral Morena, que fue ayudada primero por un vecino, se descompensó y se pidió una ambulancia al 911 que, según el reporte policial, llegó con demora. El personal del SAME la trasladó al Hospital Evita, donde llegó a las 8.30. Falleció a la 9.20 a causa de un paro cardiorrespiratorio. El director médico Javier Maroni detalló que la niña llegó inconsciente: “Luego de realizar maniobras de reanimación, se logró estabilizarla, se la trasladó a terapia intensiva pediátrica, donde finalmente falleció. Para nosotros, producto de un trauma craneoencefálico grave, algo que deberá ser confirmado por la autopsia”. Seguir leyendo:\n"
     ]
    }
   ],
   "source": [
    "print(df['content'][0])"
   ]
  },
  {
   "cell_type": "code",
   "execution_count": 22,
   "metadata": {},
   "outputs": [],
   "source": [
    "def view_string(long_string, chunk_size=100):     \n",
    "    return [long_string[i:i+chunk_size] for i in range(0, len(long_string), chunk_size)]"
   ]
  },
  {
   "cell_type": "code",
   "execution_count": 21,
   "metadata": {},
   "outputs": [],
   "source": [
    "df2 = view_string(df['content'][0])"
   ]
  },
  {
   "cell_type": "markdown",
   "metadata": {},
   "source": [
    "# Polars"
   ]
  },
  {
   "cell_type": "code",
   "execution_count": 143,
   "metadata": {},
   "outputs": [],
   "source": [
    "df = pl.read_csv('/home/sebacastillo/willow/data/portals.csv')"
   ]
  },
  {
   "cell_type": "code",
   "execution_count": 144,
   "metadata": {},
   "outputs": [],
   "source": [
    "topic = 'narcotráfico'"
   ]
  },
  {
   "cell_type": "code",
   "execution_count": null,
   "metadata": {},
   "outputs": [],
   "source": [
    "df.filter(pl.col('topic') == topic).select('newsportalurl').to_series().to_list()"
   ]
  },
  {
   "cell_type": "code",
   "execution_count": 146,
   "metadata": {},
   "outputs": [
    {
     "data": {
      "text/html": [
       "<div><style>\n",
       ".dataframe > thead > tr > th,\n",
       ".dataframe > tbody > tr > td {\n",
       "  text-align: right;\n",
       "}\n",
       "</style>\n",
       "<small>shape: (71, 5)</small><table border=\"1\" class=\"dataframe\"><thead><tr><th>state</th><th>city</th><th>newsportalname</th><th>newsportalurl</th><th>topic</th></tr><tr><td>str</td><td>str</td><td>str</td><td>str</td><td>str</td></tr></thead><tbody><tr><td>&quot;Buenos Aires&quot;</td><td>&quot;La Plata&quot;</td><td>&quot;El Día&quot;</td><td>&quot;https://www.el…</td><td>&quot;narcotráfico&quot;</td></tr><tr><td>&quot;Buenos Aires&quot;</td><td>&quot;Mar del Plata&quot;</td><td>&quot;La Capital&quot;</td><td>&quot;https://www.la…</td><td>&quot;narcotráfico&quot;</td></tr><tr><td>&quot;CABA&quot;</td><td>&quot;Buenos Aires&quot;</td><td>&quot;Clarín&quot;</td><td>&quot;https://www.cl…</td><td>&quot;narcotráfico&quot;</td></tr><tr><td>&quot;Chaco&quot;</td><td>&quot;Resistencia&quot;</td><td>&quot;Diario Norte&quot;</td><td>&quot;https://www.di…</td><td>&quot;narcotráfico&quot;</td></tr><tr><td>&quot;Chaco&quot;</td><td>&quot;Sáenz Peña&quot;</td><td>&quot;Diario Chaco&quot;</td><td>&quot;https://www.di…</td><td>&quot;narcotráfico&quot;</td></tr><tr><td>&quot;Chubut&quot;</td><td>&quot;Rawson&quot;</td><td>&quot;El Chubut&quot;</td><td>&quot;https://www.el…</td><td>&quot;narcotráfico&quot;</td></tr><tr><td>&quot;Chubut&quot;</td><td>&quot;Comodoro Rivad…</td><td>&quot;Crónica&quot;</td><td>&quot;https://www.cr…</td><td>&quot;narcotráfico&quot;</td></tr><tr><td>&quot;Córdoba&quot;</td><td>&quot;Córdoba&quot;</td><td>&quot;La Voz&quot;</td><td>&quot;https://www.la…</td><td>&quot;narcotráfico&quot;</td></tr><tr><td>&quot;Córdoba&quot;</td><td>&quot;Río Cuarto&quot;</td><td>&quot;Puntal&quot;</td><td>&quot;https://www.pu…</td><td>&quot;narcotráfico&quot;</td></tr><tr><td>&quot;Corrientes&quot;</td><td>&quot;Corrientes&quot;</td><td>&quot;Época&quot;</td><td>&quot;https://www.el…</td><td>&quot;narcotráfico&quot;</td></tr><tr><td>&quot;Corrientes&quot;</td><td>&quot;Goya&quot;</td><td>&quot;Goya en Notici…</td><td>&quot;https://www.go…</td><td>&quot;narcotráfico&quot;</td></tr><tr><td>&quot;Formosa&quot;</td><td>&quot;Formosa&quot;</td><td>&quot;El Comercial&quot;</td><td>&quot;https://www.el…</td><td>&quot;narcotráfico&quot;</td></tr><tr><td>&hellip;</td><td>&hellip;</td><td>&hellip;</td><td>&hellip;</td><td>&hellip;</td></tr><tr><td>&quot;Tucumán&quot;</td><td>&quot;San Miguel de …</td><td>&quot;La Gaceta&quot;</td><td>&quot;https://www.la…</td><td>&quot;narcotráfico&quot;</td></tr><tr><td>&quot;Tucumán&quot;</td><td>&quot;San Miguel de …</td><td>&quot;El Tucumano&quot;</td><td>&quot;https://www.el…</td><td>&quot;narcotráfico&quot;</td></tr><tr><td>&quot;Entre Ríos&quot;</td><td>&quot;Paraná&quot;</td><td>&quot;El Día&quot;</td><td>&quot;https://www.el…</td><td>&quot;narcotráfico&quot;</td></tr><tr><td>&quot;Entre Ríos&quot;</td><td>&quot;Paraná&quot;</td><td>&quot;El Entre Ríos&quot;</td><td>&quot;https://www.el…</td><td>&quot;narcotráfico&quot;</td></tr><tr><td>&quot;Entre Ríos&quot;</td><td>&quot;Paraná&quot;</td><td>&quot;Análisis Digit…</td><td>&quot;https://www.an…</td><td>&quot;narcotráfico&quot;</td></tr><tr><td>&quot;Chaco&quot;</td><td>&quot;Resistencia&quot;</td><td>&quot;Diario Norte&quot;</td><td>&quot;https://www.di…</td><td>&quot;narcotráfico&quot;</td></tr><tr><td>&quot;Chaco&quot;</td><td>&quot;Resistencia&quot;</td><td>&quot;Chaco Día por …</td><td>&quot;https://www.ch…</td><td>&quot;narcotráfico&quot;</td></tr><tr><td>&quot;Corrientes&quot;</td><td>&quot;Corrientes&quot;</td><td>&quot;El Litoral&quot;</td><td>&quot;https://www.el…</td><td>&quot;narcotráfico&quot;</td></tr><tr><td>&quot;Corrientes&quot;</td><td>&quot;Corrientes&quot;</td><td>&quot;Época&quot;</td><td>&quot;https://www.di…</td><td>&quot;narcotráfico&quot;</td></tr><tr><td>&quot;Neuquén&quot;</td><td>&quot;Neuquén&quot;</td><td>&quot;LM Neuquén&quot;</td><td>&quot;https://www.lm…</td><td>&quot;narcotráfico&quot;</td></tr><tr><td>&quot;Río Negro&quot;</td><td>&quot;Viedma&quot;</td><td>&quot;Río Negro&quot;</td><td>&quot;https://www.ri…</td><td>&quot;narcotráfico&quot;</td></tr><tr><td>&quot;Río Negro&quot;</td><td>&quot;Neuquén&quot;</td><td>&quot;La Mañana de N…</td><td>&quot;https://www.lm…</td><td>&quot;narcotráfico&quot;</td></tr></tbody></table></div>"
      ],
      "text/plain": [
       "shape: (71, 5)\n",
       "┌──────────────┬───────────────┬──────────────────────┬─────────────────────────────┬──────────────┐\n",
       "│ state        ┆ city          ┆ newsportalname       ┆ newsportalurl               ┆ topic        │\n",
       "│ ---          ┆ ---           ┆ ---                  ┆ ---                         ┆ ---          │\n",
       "│ str          ┆ str           ┆ str                  ┆ str                         ┆ str          │\n",
       "╞══════════════╪═══════════════╪══════════════════════╪═════════════════════════════╪══════════════╡\n",
       "│ Buenos Aires ┆ La Plata      ┆ El Día               ┆ https://www.eldia.com/      ┆ narcotráfico │\n",
       "│ Buenos Aires ┆ Mar del Plata ┆ La Capital           ┆ https://www.lacapitalmdp.co ┆ narcotráfico │\n",
       "│              ┆               ┆                      ┆ m/                          ┆              │\n",
       "│ CABA         ┆ Buenos Aires  ┆ Clarín               ┆ https://www.clarin.com/     ┆ narcotráfico │\n",
       "│ Chaco        ┆ Resistencia   ┆ Diario Norte         ┆ https://www.diarionorte.com ┆ narcotráfico │\n",
       "│              ┆               ┆                      ┆ /                           ┆              │\n",
       "│ …            ┆ …             ┆ …                    ┆ …                           ┆ …            │\n",
       "│ Corrientes   ┆ Corrientes    ┆ Época                ┆ https://www.diarioepoca.com ┆ narcotráfico │\n",
       "│              ┆               ┆                      ┆ /                           ┆              │\n",
       "│ Neuquén      ┆ Neuquén       ┆ LM Neuquén           ┆ https://www.lmneuquen.com/  ┆ narcotráfico │\n",
       "│ Río Negro    ┆ Viedma        ┆ Río Negro            ┆ https://www.rionegro.com.ar ┆ narcotráfico │\n",
       "│              ┆               ┆                      ┆ /                           ┆              │\n",
       "│ Río Negro    ┆ Neuquén       ┆ La Mañana de Neuquén ┆ https://www.lmneuquen.com/  ┆ narcotráfico │\n",
       "└──────────────┴───────────────┴──────────────────────┴─────────────────────────────┴──────────────┘"
      ]
     },
     "execution_count": 146,
     "metadata": {},
     "output_type": "execute_result"
    }
   ],
   "source": [
    "df = df.filter(\n",
    "    pl.col('topic') == topic\n",
    "    )\n",
    "df\n"
   ]
  },
  {
   "cell_type": "code",
   "execution_count": 147,
   "metadata": {},
   "outputs": [
    {
     "data": {
      "text/plain": [
       "'Buenos Aires'"
      ]
     },
     "execution_count": 147,
     "metadata": {},
     "output_type": "execute_result"
    }
   ],
   "source": [
    "df['state'][0]"
   ]
  },
  {
   "cell_type": "markdown",
   "metadata": {},
   "source": [
    "# From Raw News to Docs"
   ]
  },
  {
   "cell_type": "markdown",
   "metadata": {},
   "source": [
    "## Select column"
   ]
  },
  {
   "cell_type": "code",
   "execution_count": 32,
   "metadata": {},
   "outputs": [
    {
     "data": {
      "text/html": [
       "<div><style>\n",
       ".dataframe > thead > tr > th,\n",
       ".dataframe > tbody > tr > td {\n",
       "  text-align: right;\n",
       "}\n",
       "</style>\n",
       "<small>shape: (226, 2)</small><table border=\"1\" class=\"dataframe\"><thead><tr><th>content</th><th>authors</th></tr><tr><td>str</td><td>str</td></tr></thead><tbody><tr><td>&quot;Estimado lecto…</td><td>&quot;Diario El Dia …</td></tr><tr><td>&quot;Estimado lecto…</td><td>&quot;Diario El Dia …</td></tr><tr><td>&quot;Estimado lecto…</td><td>&quot;Diario El Dia …</td></tr><tr><td>&quot;Estimado lecto…</td><td>&quot;Diario El Dia …</td></tr><tr><td>&quot;Estimado lecto…</td><td>&quot;Diario El Dia …</td></tr><tr><td>&quot;Miércoles,09 d…</td><td>&quot;n-a&quot;</td></tr><tr><td>&quot;Miércoles,09 d…</td><td>&quot;n-a&quot;</td></tr><tr><td>&quot;Dólar blue Dón…</td><td>&quot;Gustavo Berón-…</td></tr><tr><td>&quot;Dólar blue Dón…</td><td>&quot;n-a&quot;</td></tr><tr><td>&quot;Dólar blue Dón…</td><td>&quot;n-a&quot;</td></tr><tr><td>&quot;Dólar blue Dón…</td><td>&quot;Penélope Canon…</td></tr><tr><td>&quot;Dólar blue Dón…</td><td>&quot;n-a&quot;</td></tr><tr><td>&hellip;</td><td>&hellip;</td></tr><tr><td>&quot;se trata de un…</td><td>&quot;n-a&quot;</td></tr><tr><td>&quot;Al respecto, e…</td><td>&quot;n-a&quot;</td></tr><tr><td>&quot;M.A, un menor …</td><td>&quot;n-a&quot;</td></tr><tr><td>&quot;El clima en Ne…</td><td>&quot;n-a&quot;</td></tr><tr><td>&quot;El clima en Ne…</td><td>&quot;n-a&quot;</td></tr><tr><td>&quot;El clima en Ne…</td><td>&quot;n-a&quot;</td></tr><tr><td>&quot;ESCUCHÁ RN RAD…</td><td>&quot;Jorgelina Hern…</td></tr><tr><td>&quot;ESCUCHÁ RN RAD…</td><td>&quot;Daniel Quilodr…</td></tr><tr><td>&quot;ESCUCHÁ RN RAD…</td><td>&quot;Luis Leiva Dur…</td></tr><tr><td>&quot;El clima en Ne…</td><td>&quot;n-a&quot;</td></tr><tr><td>&quot;El clima en Ne…</td><td>&quot;n-a&quot;</td></tr><tr><td>&quot;El clima en Ne…</td><td>&quot;n-a&quot;</td></tr></tbody></table></div>"
      ],
      "text/plain": [
       "shape: (226, 2)\n",
       "┌───────────────────────────────────┬───────────────────────────────────┐\n",
       "│ content                           ┆ authors                           │\n",
       "│ ---                               ┆ ---                               │\n",
       "│ str                               ┆ str                               │\n",
       "╞═══════════════════════════════════╪═══════════════════════════════════╡\n",
       "│ Estimado lector, muchas gracias … ┆ Diario El Dia De La Plata Www.El… │\n",
       "│ Estimado lector, muchas gracias … ┆ Diario El Dia De La Plata Www.El… │\n",
       "│ Estimado lector, muchas gracias … ┆ Diario El Dia De La Plata Www.El… │\n",
       "│ Estimado lector, muchas gracias … ┆ Diario El Dia De La Plata Www.El… │\n",
       "│ …                                 ┆ …                                 │\n",
       "│ ESCUCHÁ RN RADIO                  ┆ Luis Leiva Duran                  │\n",
       "│ \t\t\tEn la audie…                      ┆                                   │\n",
       "│ El clima en Neuquén  miércoles  … ┆ n-a                               │\n",
       "│ El clima en Neuquén  miércoles  … ┆ n-a                               │\n",
       "│ El clima en Neuquén  miércoles  … ┆ n-a                               │\n",
       "└───────────────────────────────────┴───────────────────────────────────┘"
      ]
     },
     "execution_count": 32,
     "metadata": {},
     "output_type": "execute_result"
    }
   ],
   "source": [
    "q = (\n",
    "    pl.scan_csv(filepath)\n",
    "    .select(\n",
    "        ['content','authors']\n",
    "    )\n",
    ")\n",
    "q.collect()"
   ]
  },
  {
   "cell_type": "markdown",
   "metadata": {},
   "source": [
    "## Filter Row with Regex"
   ]
  },
  {
   "cell_type": "code",
   "execution_count": 92,
   "metadata": {},
   "outputs": [],
   "source": [
    "# Positive\n",
    "false_advertis = (\n",
    "    pl.scan_csv(filepath)\n",
    "    .filter(\n",
    "        pl.col('authors').str.contains('Advertis Web')       \n",
    "    )\n",
    "    .select(\n",
    "        [\n",
    "            'link'\n",
    "        ]\n",
    "    )\n",
    ").collect().to_pandas()"
   ]
  },
  {
   "cell_type": "code",
   "execution_count": 93,
   "metadata": {},
   "outputs": [
    {
     "data": {
      "text/html": [
       "<div>\n",
       "<style scoped>\n",
       "    .dataframe tbody tr th:only-of-type {\n",
       "        vertical-align: middle;\n",
       "    }\n",
       "\n",
       "    .dataframe tbody tr th {\n",
       "        vertical-align: top;\n",
       "    }\n",
       "\n",
       "    .dataframe thead th {\n",
       "        text-align: right;\n",
       "    }\n",
       "</style>\n",
       "<table border=\"1\" class=\"dataframe\">\n",
       "  <thead>\n",
       "    <tr style=\"text-align: right;\">\n",
       "      <th></th>\n",
       "      <th>link</th>\n",
       "    </tr>\n",
       "  </thead>\n",
       "  <tbody>\n",
       "    <tr>\n",
       "      <th>0</th>\n",
       "      <td>https://www.elonce.com/secciones/policiales/76...</td>\n",
       "    </tr>\n",
       "    <tr>\n",
       "      <th>1</th>\n",
       "      <td>http://superdeportivo.elonce.com/secciones/pol...</td>\n",
       "    </tr>\n",
       "    <tr>\n",
       "      <th>2</th>\n",
       "      <td>https://www.diarioriouruguay.com.ar/policiales...</td>\n",
       "    </tr>\n",
       "  </tbody>\n",
       "</table>\n",
       "</div>"
      ],
      "text/plain": [
       "                                                link\n",
       "0  https://www.elonce.com/secciones/policiales/76...\n",
       "1  http://superdeportivo.elonce.com/secciones/pol...\n",
       "2  https://www.diarioriouruguay.com.ar/policiales..."
      ]
     },
     "execution_count": 93,
     "metadata": {},
     "output_type": "execute_result"
    }
   ],
   "source": [
    "false_advertis"
   ]
  },
  {
   "cell_type": "code",
   "execution_count": 75,
   "metadata": {},
   "outputs": [
    {
     "data": {
      "text/plain": [
       "'https://www.elonce.com/secciones/policiales/766331-pact-una-cita-por-tinder-lo-drogaron-desvalijaron-y-est-grave.htm'"
      ]
     },
     "execution_count": 75,
     "metadata": {},
     "output_type": "execute_result"
    }
   ],
   "source": [
    "# Positive\n",
    "false_clickaqui= (\n",
    "    pl.scan_csv(filepath)\n",
    "    .filter(\n",
    "        pl.col('content').str.contains('Click aquí')       \n",
    "    )\n",
    "    .select(\n",
    "        [\n",
    "            'link',\n",
    "            'content'\n",
    "        ]\n",
    "    )\n",
    ").collect().to_pandas()\n",
    "false_clickaqui['link'][0]"
   ]
  },
  {
   "cell_type": "code",
   "execution_count": 42,
   "metadata": {},
   "outputs": [
    {
     "data": {
      "text/html": [
       "<div><style>\n",
       ".dataframe > thead > tr > th,\n",
       ".dataframe > tbody > tr > td {\n",
       "  text-align: right;\n",
       "}\n",
       "</style>\n",
       "<small>shape: (39, 2)</small><table border=\"1\" class=\"dataframe\"><thead><tr><th>authors</th><th>counts</th></tr><tr><td>str</td><td>u32</td></tr></thead><tbody><tr><td>&quot;El Tucumano&quot;</td><td>2</td></tr><tr><td>&quot;Ezequiel Miño&quot;</td><td>1</td></tr><tr><td>&quot;Gustavo Berón-…</td><td>2</td></tr><tr><td>&quot;Daiana Larrat&quot;</td><td>3</td></tr><tr><td>&quot;Guido Berrini&quot;</td><td>3</td></tr><tr><td>&quot;Advertis Web T…</td><td>3</td></tr><tr><td>&quot;Redacción El&quot;</td><td>2</td></tr><tr><td>&quot;Diario El Dia …</td><td>10</td></tr><tr><td>&quot;Florencia Ojed…</td><td>4</td></tr><tr><td>&quot;Walter Vazquez…</td><td>1</td></tr><tr><td>&quot;Thalú Desarrol…</td><td>2</td></tr><tr><td>&quot;Penélope Canon…</td><td>2</td></tr><tr><td>&hellip;</td><td>&hellip;</td></tr><tr><td>&quot;Maria Luz Mart…</td><td>1</td></tr><tr><td>&quot;Gabriela Lorei…</td><td>1</td></tr><tr><td>&quot;Guillermo Dozo…</td><td>2</td></tr><tr><td>&quot;Eduardo Di Pol…</td><td>1</td></tr><tr><td>&quot;Jorgelina Hern…</td><td>1</td></tr><tr><td>&quot;Redacción El D…</td><td>7</td></tr><tr><td>&quot;El Sol&quot;</td><td>3</td></tr><tr><td>&quot;El Diario De L…</td><td>1</td></tr><tr><td>&quot;Walter Brown-J…</td><td>2</td></tr><tr><td>&quot;Por-Redacción …</td><td>3</td></tr><tr><td>&quot;El Liberal&quot;</td><td>3</td></tr><tr><td>&quot;La Gaceta&quot;</td><td>6</td></tr></tbody></table></div>"
      ],
      "text/plain": [
       "shape: (39, 2)\n",
       "┌───────────────────────────────────┬────────┐\n",
       "│ authors                           ┆ counts │\n",
       "│ ---                               ┆ ---    │\n",
       "│ str                               ┆ u32    │\n",
       "╞═══════════════════════════════════╪════════╡\n",
       "│ El Tucumano                       ┆ 2      │\n",
       "│ Ezequiel Miño                     ┆ 1      │\n",
       "│ Gustavo Berón-Candela Toledo-Gui… ┆ 2      │\n",
       "│ Daiana Larrat                     ┆ 3      │\n",
       "│ …                                 ┆ …      │\n",
       "│ Walter Brown-Jefe De Redacción-J… ┆ 2      │\n",
       "│ Por-Redacción Diario De Cuyo      ┆ 3      │\n",
       "│ El Liberal                        ┆ 3      │\n",
       "│ La Gaceta                         ┆ 6      │\n",
       "└───────────────────────────────────┴────────┘"
      ]
     },
     "execution_count": 42,
     "metadata": {},
     "output_type": "execute_result"
    }
   ],
   "source": [
    "# Negative\n",
    "q = (\n",
    "    pl.scan_csv(filepath)\n",
    "    .filter(\n",
    "        pl.col('authors').str.contains('n-a').is_not()        \n",
    "    )\n",
    "    .select(\n",
    "        [\n",
    "            'authors'\n",
    "        ]\n",
    "    )\n",
    ")\n",
    "q.collect().to_series().value_counts()"
   ]
  },
  {
   "cell_type": "markdown",
   "metadata": {},
   "source": [
    "## Length of string"
   ]
  },
  {
   "cell_type": "code",
   "execution_count": 62,
   "metadata": {},
   "outputs": [
    {
     "data": {
      "text/html": [
       "<div><style>\n",
       ".dataframe > thead > tr > th,\n",
       ".dataframe > tbody > tr > td {\n",
       "  text-align: right;\n",
       "}\n",
       "</style>\n",
       "<small>shape: (226, 2)</small><table border=\"1\" class=\"dataframe\"><thead><tr><th>content</th><th>content_length</th></tr><tr><td>str</td><td>u32</td></tr></thead><tbody><tr><td>&quot;Click aquí par…</td><td>342</td></tr><tr><td>&quot;Click aquí par…</td><td>342</td></tr><tr><td>&quot;Click aquí par…</td><td>342</td></tr><tr><td>&quot;📌La enfermera …</td><td>349</td></tr><tr><td>&quot;📌La enfermera …</td><td>349</td></tr><tr><td>&quot;La PFA realizó…</td><td>561</td></tr><tr><td>&quot;La PFA realizó…</td><td>561</td></tr><tr><td>&quot;Click aquí par…</td><td>587</td></tr><tr><td>&quot;Se trata del “…</td><td>865</td></tr><tr><td>&quot;También secues…</td><td>955</td></tr><tr><td>&quot;Regístrese con…</td><td>1024</td></tr><tr><td>&quot;Efectivos poli…</td><td>1028</td></tr><tr><td>&hellip;</td><td>&hellip;</td></tr><tr><td>&quot; El usuario o …</td><td>11032</td></tr><tr><td>&quot; El usuario o …</td><td>11032</td></tr><tr><td>&quot;Para continuar…</td><td>12267</td></tr><tr><td>&quot;La autopsia re…</td><td>13186</td></tr><tr><td>&quot;La autopsia re…</td><td>13186</td></tr><tr><td>&quot;Dólar blue Dón…</td><td>13961</td></tr><tr><td>&quot;Dólar blue Dón…</td><td>13961</td></tr><tr><td>&quot; El usuario o …</td><td>15410</td></tr><tr><td>&quot; El usuario o …</td><td>15410</td></tr><tr><td>&quot; El usuario o …</td><td>18144</td></tr><tr><td>&quot; El usuario o …</td><td>18284</td></tr><tr><td>&quot;Regístrese con…</td><td>19874</td></tr></tbody></table></div>"
      ],
      "text/plain": [
       "shape: (226, 2)\n",
       "┌───────────────────────────────────┬────────────────┐\n",
       "│ content                           ┆ content_length │\n",
       "│ ---                               ┆ ---            │\n",
       "│ str                               ┆ u32            │\n",
       "╞═══════════════════════════════════╪════════════════╡\n",
       "│ Click aquí para activar las noti… ┆ 342            │\n",
       "│ Click aquí para activar las noti… ┆ 342            │\n",
       "│ Click aquí para activar las noti… ┆ 342            │\n",
       "│ 📌La enfermera Evelyn Franco fue  ┆ 349            │\n",
       "│ …                                 ┆                │\n",
       "│ …                                 ┆ …              │\n",
       "│  El usuario o la contraseña son … ┆ 15410          │\n",
       "│  El usuario o la contraseña son … ┆ 18144          │\n",
       "│  El usuario o la contraseña son … ┆ 18284          │\n",
       "│ Regístrese con su cuenta de Face… ┆ 19874          │\n",
       "└───────────────────────────────────┴────────────────┘"
      ]
     },
     "execution_count": 62,
     "metadata": {},
     "output_type": "execute_result"
    }
   ],
   "source": [
    "q = (\n",
    "    pl.scan_csv(filepath)\n",
    "    .select(\n",
    "    [\n",
    "        'content',\n",
    "        pl.col('content').str.lengths().alias('content_length'),        \n",
    "    ]\n",
    "    )\n",
    ").sort('content_length')\n",
    "q.collect()"
   ]
  },
  {
   "cell_type": "markdown",
   "metadata": {},
   "source": [
    "## Split column"
   ]
  },
  {
   "cell_type": "code",
   "execution_count": 84,
   "metadata": {},
   "outputs": [],
   "source": [
    "authors = (\n",
    "    df\n",
    "    .select(\n",
    "    [\n",
    "        'authors',\n",
    "        pl.col('authors').str.split(' ').alias('splitname'),\n",
    "    ])\n",
    ")"
   ]
  },
  {
   "cell_type": "code",
   "execution_count": 86,
   "metadata": {},
   "outputs": [
    {
     "data": {
      "text/html": [
       "<div><style>\n",
       ".dataframe > thead > tr > th,\n",
       ".dataframe > tbody > tr > td {\n",
       "  text-align: right;\n",
       "}\n",
       "</style>\n",
       "<small>shape: (226, 2)</small><table border=\"1\" class=\"dataframe\"><thead><tr><th>authors</th><th>splitname</th></tr><tr><td>str</td><td>list[str]</td></tr></thead><tbody><tr><td>&quot;Diario El Dia …</td><td>[&quot;Diario&quot;, &quot;El&quot;, … &quot;Dia&quot;]</td></tr><tr><td>&quot;Diario El Dia …</td><td>[&quot;Diario&quot;, &quot;El&quot;, … &quot;Dia&quot;]</td></tr><tr><td>&quot;Diario El Dia …</td><td>[&quot;Diario&quot;, &quot;El&quot;, … &quot;Dia&quot;]</td></tr><tr><td>&quot;Diario El Dia …</td><td>[&quot;Diario&quot;, &quot;El&quot;, … &quot;Dia&quot;]</td></tr><tr><td>&quot;Diario El Dia …</td><td>[&quot;Diario&quot;, &quot;El&quot;, … &quot;Dia&quot;]</td></tr><tr><td>&quot;n-a&quot;</td><td>[&quot;n-a&quot;]</td></tr><tr><td>&quot;n-a&quot;</td><td>[&quot;n-a&quot;]</td></tr><tr><td>&quot;Gustavo Berón-…</td><td>[&quot;Gustavo&quot;, &quot;Berón-Candela&quot;, … &quot;Lynch&quot;]</td></tr><tr><td>&quot;n-a&quot;</td><td>[&quot;n-a&quot;]</td></tr><tr><td>&quot;n-a&quot;</td><td>[&quot;n-a&quot;]</td></tr><tr><td>&quot;Penélope Canon…</td><td>[&quot;Penélope&quot;, &quot;Canonico&quot;]</td></tr><tr><td>&quot;n-a&quot;</td><td>[&quot;n-a&quot;]</td></tr><tr><td>&hellip;</td><td>&hellip;</td></tr><tr><td>&quot;n-a&quot;</td><td>[&quot;n-a&quot;]</td></tr><tr><td>&quot;n-a&quot;</td><td>[&quot;n-a&quot;]</td></tr><tr><td>&quot;n-a&quot;</td><td>[&quot;n-a&quot;]</td></tr><tr><td>&quot;n-a&quot;</td><td>[&quot;n-a&quot;]</td></tr><tr><td>&quot;n-a&quot;</td><td>[&quot;n-a&quot;]</td></tr><tr><td>&quot;n-a&quot;</td><td>[&quot;n-a&quot;]</td></tr><tr><td>&quot;Jorgelina Hern…</td><td>[&quot;Jorgelina&quot;, &quot;Hernández&quot;]</td></tr><tr><td>&quot;Daniel Quilodr…</td><td>[&quot;Daniel&quot;, &quot;Quilodrán&quot;]</td></tr><tr><td>&quot;Luis Leiva Dur…</td><td>[&quot;Luis&quot;, &quot;Leiva&quot;, &quot;Duran&quot;]</td></tr><tr><td>&quot;n-a&quot;</td><td>[&quot;n-a&quot;]</td></tr><tr><td>&quot;n-a&quot;</td><td>[&quot;n-a&quot;]</td></tr><tr><td>&quot;n-a&quot;</td><td>[&quot;n-a&quot;]</td></tr></tbody></table></div>"
      ],
      "text/plain": [
       "shape: (226, 2)\n",
       "┌───────────────────────────────────┬────────────────────────────┐\n",
       "│ authors                           ┆ splitname                  │\n",
       "│ ---                               ┆ ---                        │\n",
       "│ str                               ┆ list[str]                  │\n",
       "╞═══════════════════════════════════╪════════════════════════════╡\n",
       "│ Diario El Dia De La Plata Www.El… ┆ [\"Diario\", \"El\", … \"Dia\"]  │\n",
       "│ Diario El Dia De La Plata Www.El… ┆ [\"Diario\", \"El\", … \"Dia\"]  │\n",
       "│ Diario El Dia De La Plata Www.El… ┆ [\"Diario\", \"El\", … \"Dia\"]  │\n",
       "│ Diario El Dia De La Plata Www.El… ┆ [\"Diario\", \"El\", … \"Dia\"]  │\n",
       "│ …                                 ┆ …                          │\n",
       "│ Luis Leiva Duran                  ┆ [\"Luis\", \"Leiva\", \"Duran\"] │\n",
       "│ n-a                               ┆ [\"n-a\"]                    │\n",
       "│ n-a                               ┆ [\"n-a\"]                    │\n",
       "│ n-a                               ┆ [\"n-a\"]                    │\n",
       "└───────────────────────────────────┴────────────────────────────┘"
      ]
     },
     "execution_count": 86,
     "metadata": {},
     "output_type": "execute_result"
    }
   ],
   "source": [
    "authors"
   ]
  },
  {
   "cell_type": "code",
   "execution_count": 77,
   "metadata": {},
   "outputs": [
    {
     "data": {
      "text/html": [
       "<div>\n",
       "<style scoped>\n",
       "    .dataframe tbody tr th:only-of-type {\n",
       "        vertical-align: middle;\n",
       "    }\n",
       "\n",
       "    .dataframe tbody tr th {\n",
       "        vertical-align: top;\n",
       "    }\n",
       "\n",
       "    .dataframe thead th {\n",
       "        text-align: right;\n",
       "    }\n",
       "</style>\n",
       "<table border=\"1\" class=\"dataframe\">\n",
       "  <thead>\n",
       "    <tr style=\"text-align: right;\">\n",
       "      <th></th>\n",
       "      <th>authors</th>\n",
       "    </tr>\n",
       "  </thead>\n",
       "  <tbody>\n",
       "    <tr>\n",
       "      <th>0</th>\n",
       "      <td>Diario El Dia De La Plata Www.Eldia.Com-El Dia</td>\n",
       "    </tr>\n",
       "    <tr>\n",
       "      <th>1</th>\n",
       "      <td>Diario El Dia De La Plata Www.Eldia.Com-El Dia</td>\n",
       "    </tr>\n",
       "    <tr>\n",
       "      <th>2</th>\n",
       "      <td>Diario El Dia De La Plata Www.Eldia.Com-El Dia</td>\n",
       "    </tr>\n",
       "    <tr>\n",
       "      <th>3</th>\n",
       "      <td>Diario El Dia De La Plata Www.Eldia.Com-El Dia</td>\n",
       "    </tr>\n",
       "    <tr>\n",
       "      <th>4</th>\n",
       "      <td>Diario El Dia De La Plata Www.Eldia.Com-El Dia</td>\n",
       "    </tr>\n",
       "    <tr>\n",
       "      <th>...</th>\n",
       "      <td>...</td>\n",
       "    </tr>\n",
       "    <tr>\n",
       "      <th>90</th>\n",
       "      <td>El Día</td>\n",
       "    </tr>\n",
       "    <tr>\n",
       "      <th>91</th>\n",
       "      <td>El Día</td>\n",
       "    </tr>\n",
       "    <tr>\n",
       "      <th>92</th>\n",
       "      <td>Jorgelina Hernández</td>\n",
       "    </tr>\n",
       "    <tr>\n",
       "      <th>93</th>\n",
       "      <td>Daniel Quilodrán</td>\n",
       "    </tr>\n",
       "    <tr>\n",
       "      <th>94</th>\n",
       "      <td>Luis Leiva Duran</td>\n",
       "    </tr>\n",
       "  </tbody>\n",
       "</table>\n",
       "<p>95 rows × 1 columns</p>\n",
       "</div>"
      ],
      "text/plain": [
       "                                           authors\n",
       "0   Diario El Dia De La Plata Www.Eldia.Com-El Dia\n",
       "1   Diario El Dia De La Plata Www.Eldia.Com-El Dia\n",
       "2   Diario El Dia De La Plata Www.Eldia.Com-El Dia\n",
       "3   Diario El Dia De La Plata Www.Eldia.Com-El Dia\n",
       "4   Diario El Dia De La Plata Www.Eldia.Com-El Dia\n",
       "..                                             ...\n",
       "90                                          El Día\n",
       "91                                          El Día\n",
       "92                             Jorgelina Hernández\n",
       "93                                Daniel Quilodrán\n",
       "94                                Luis Leiva Duran\n",
       "\n",
       "[95 rows x 1 columns]"
      ]
     },
     "execution_count": 77,
     "metadata": {},
     "output_type": "execute_result"
    }
   ],
   "source": [
    "# Negative\n",
    "(\n",
    "    pl.scan_csv(filepath)\n",
    "    .filter(\n",
    "        pl.col('authors').str.contains('n-a').is_not()        \n",
    "    )\n",
    "    .select(\n",
    "        [\n",
    "            'authors'\n",
    "        ]\n",
    "    )\n",
    ").collect().to_pandas()"
   ]
  },
  {
   "cell_type": "markdown",
   "metadata": {},
   "source": [
    "### Transformation"
   ]
  },
  {
   "cell_type": "code",
   "execution_count": 105,
   "metadata": {},
   "outputs": [
    {
     "data": {
      "text/plain": [
       "['date_extract', 'date_article', 'content', 'link', 'authors']"
      ]
     },
     "execution_count": 105,
     "metadata": {},
     "output_type": "execute_result"
    }
   ],
   "source": [
    "df.columns"
   ]
  },
  {
   "cell_type": "code",
   "execution_count": 122,
   "metadata": {},
   "outputs": [
    {
     "data": {
      "text/html": [
       "<div><style>\n",
       ".dataframe > thead > tr > th,\n",
       ".dataframe > tbody > tr > td {\n",
       "  text-align: right;\n",
       "}\n",
       "</style>\n",
       "<small>shape: (1, 5)</small><table border=\"1\" class=\"dataframe\"><thead><tr><th>date_extract</th><th>date_article</th><th>content</th><th>link</th><th>authors</th></tr><tr><td>date</td><td>str</td><td>str</td><td>str</td><td>str</td></tr></thead><tbody><tr><td>2023-08-09</td><td>&quot;2023-08-09T00:…</td><td>&quot;Estimado lecto…</td><td>&quot;eldia.com/nota…</td><td>&quot;Diario El Dia …</td></tr></tbody></table></div>"
      ],
      "text/plain": [
       "shape: (1, 5)\n",
       "┌──────────────┬────────────────────┬────────────────────┬────────────────────┬────────────────────┐\n",
       "│ date_extract ┆ date_article       ┆ content            ┆ link               ┆ authors            │\n",
       "│ ---          ┆ ---                ┆ ---                ┆ ---                ┆ ---                │\n",
       "│ date         ┆ str                ┆ str                ┆ str                ┆ str                │\n",
       "╞══════════════╪════════════════════╪════════════════════╪════════════════════╪════════════════════╡\n",
       "│ 2023-08-09   ┆ 2023-08-09T00:00:0 ┆ Estimado lector,   ┆ eldia.com/nota/202 ┆ Diario El Dia De   │\n",
       "│              ┆ 0.000000           ┆ muchas gracias …   ┆ 3-8-9-12-18-0-…    ┆ La Plata Www.El…   │\n",
       "└──────────────┴────────────────────┴────────────────────┴────────────────────┴────────────────────┘"
      ]
     },
     "execution_count": 122,
     "metadata": {},
     "output_type": "execute_result"
    }
   ],
   "source": [
    "df = pl.read_csv('/home/sebacastillo/willow/output/news_narcotráfico_related_2023-08-09_1951.csv')\n",
    "df = (\n",
    "    df.with_columns([\n",
    "        pl.col('date_extract').str.strptime(\n",
    "            pl.Date,\n",
    "            format='%Y-%m-%d %H:%M:%s', strict=True\n",
    "        ),        \n",
    "\n",
    "        pl.col('link').str.replace(r\"https://www.\", \"\").alias('new'),\n",
    "        #pl.col('reference').str.replace_all(r\"id-\", \"\"),\n",
    "        # ----------------\n",
    "        #pl.col('reference').str.split(by=\";\")\n",
    "        ##.struct.rename_fields([\"first_part\", \"second_part\"])\n",
    "        ##.alias(\"fields\"),\n",
    "    ])\n",
    ")\n",
    "df[0]"
   ]
  },
  {
   "cell_type": "code",
   "execution_count": 123,
   "metadata": {},
   "outputs": [
    {
     "data": {
      "text/plain": [
       "True"
      ]
     },
     "execution_count": 123,
     "metadata": {},
     "output_type": "execute_result"
    }
   ],
   "source": [
    "isinstance(df, pl.DataFrame)"
   ]
  },
  {
   "cell_type": "markdown",
   "metadata": {},
   "source": [
    "### Replacing"
   ]
  },
  {
   "cell_type": "code",
   "execution_count": 91,
   "metadata": {},
   "outputs": [
    {
     "data": {
      "text/html": [
       "<div><style>\n",
       ".dataframe > thead > tr > th,\n",
       ".dataframe > tbody > tr > td {\n",
       "  text-align: right;\n",
       "}\n",
       "</style>\n",
       "<small>shape: (226, 1)</small><table border=\"1\" class=\"dataframe\"><thead><tr><th>link</th></tr><tr><td>str</td></tr></thead><tbody><tr><td>&quot;---s://www.eld…</td></tr><tr><td>&quot;---s://www.eld…</td></tr><tr><td>&quot;---s://www.eld…</td></tr><tr><td>&quot;---s://www.eld…</td></tr><tr><td>&quot;---s://www.eld…</td></tr><tr><td>&quot;---s://www.lac…</td></tr><tr><td>&quot;---s://www.lac…</td></tr><tr><td>&quot;---s://www.cla…</td></tr><tr><td>&quot;---s://www.cla…</td></tr><tr><td>&quot;---s://www.cla…</td></tr><tr><td>&quot;---s://www.cla…</td></tr><tr><td>&quot;---s://www.cla…</td></tr><tr><td>&hellip;</td></tr><tr><td>&quot;---s://www.dia…</td></tr><tr><td>&quot;---s://www.dia…</td></tr><tr><td>&quot;---s://www.dia…</td></tr><tr><td>&quot;---s://www.lmn…</td></tr><tr><td>&quot;---s://www.lmn…</td></tr><tr><td>&quot;---s://www.lmn…</td></tr><tr><td>&quot;---s://www.rio…</td></tr><tr><td>&quot;---s://www.rio…</td></tr><tr><td>&quot;---s://www.rio…</td></tr><tr><td>&quot;---s://www.lmn…</td></tr><tr><td>&quot;---s://www.lmn…</td></tr><tr><td>&quot;---s://www.lmn…</td></tr></tbody></table></div>"
      ],
      "text/plain": [
       "shape: (226, 1)\n",
       "┌───────────────────────────────────┐\n",
       "│ link                              │\n",
       "│ ---                               │\n",
       "│ str                               │\n",
       "╞═══════════════════════════════════╡\n",
       "│ ---s://www.eldia.com/nota/2023-8… │\n",
       "│ ---s://www.eldia.com/nota/2023-8… │\n",
       "│ ---s://www.eldia.com/nota/2023-8… │\n",
       "│ ---s://www.eldia.com/nota/2023-8… │\n",
       "│ …                                 │\n",
       "│ ---s://www.rionegro.com.ar/justi… │\n",
       "│ ---s://www.lmneuquen.com/pais/qu… │\n",
       "│ ---s://www.lmneuquen.com/policia… │\n",
       "│ ---s://www.lmneuquen.com/pais/la… │\n",
       "└───────────────────────────────────┘"
      ]
     },
     "execution_count": 91,
     "metadata": {},
     "output_type": "execute_result"
    }
   ],
   "source": [
    "q = (\n",
    "    pl.scan_csv(filepath)        \n",
    "    .select(\n",
    "    [\n",
    "        pl.col('link').str.replace('http','---'),\n",
    "    ])\n",
    ")\n",
    "q.collect()"
   ]
  },
  {
   "cell_type": "markdown",
   "metadata": {},
   "source": [
    "# cleaning policies\n",
    "\n",
    "- pl.col('authors').str.contains('Advertis Web')  \n",
    "- "
   ]
  }
 ],
 "metadata": {
  "kernelspec": {
   "display_name": ".willow",
   "language": "python",
   "name": ".willow"
  },
  "language_info": {
   "codemirror_mode": {
    "name": "ipython",
    "version": 3
   },
   "file_extension": ".py",
   "mimetype": "text/x-python",
   "name": "python",
   "nbconvert_exporter": "python",
   "pygments_lexer": "ipython3",
   "version": "3.9.13"
  },
  "orig_nbformat": 4
 },
 "nbformat": 4,
 "nbformat_minor": 2
}
