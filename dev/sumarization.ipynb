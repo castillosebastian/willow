{
 "cells": [
  {
   "cell_type": "markdown",
   "metadata": {},
   "source": [
    "# Sumarization"
   ]
  },
  {
   "cell_type": "code",
   "execution_count": 2,
   "metadata": {},
   "outputs": [],
   "source": [
    "import polars as pl\n",
    "\n",
    "def view_string(long_string, chunk_size=100):     \n",
    "    return [long_string[i:i+chunk_size] for i in range(0, len(long_string), chunk_size)]"
   ]
  },
  {
   "cell_type": "code",
   "execution_count": 3,
   "metadata": {},
   "outputs": [],
   "source": [
    "df = pl.read_csv('/home/sebacastillo/willow/output/sample.csv')"
   ]
  },
  {
   "cell_type": "code",
   "execution_count": 4,
   "metadata": {},
   "outputs": [
    {
     "data": {
      "text/plain": [
       "['date_extract', 'date_article', 'content', 'link', 'authors']"
      ]
     },
     "execution_count": 4,
     "metadata": {},
     "output_type": "execute_result"
    }
   ],
   "source": [
    "df.columns"
   ]
  },
  {
   "cell_type": "code",
   "execution_count": 5,
   "metadata": {},
   "outputs": [
    {
     "data": {
      "text/html": [
       "<div><style>\n",
       ".dataframe > thead > tr > th,\n",
       ".dataframe > tbody > tr > td {\n",
       "  text-align: right;\n",
       "}\n",
       "</style>\n",
       "<small>shape: (3, 5)</small><table border=\"1\" class=\"dataframe\"><thead><tr><th>date_extract</th><th>date_article</th><th>content</th><th>link</th><th>authors</th></tr><tr><td>str</td><td>str</td><td>str</td><td>str</td><td>str</td></tr></thead><tbody><tr><td>&quot;2023-08-09 19:…</td><td>&quot;2023-08-09T00:…</td><td>&quot;9 Ago, 2023 La…</td><td>&quot;https://www.in…</td><td>&quot;n-a&quot;</td></tr><tr><td>&quot;2023-08-09 19:…</td><td>&quot;2023-08-09T10:…</td><td>&quot;LOS POTRILLOS.…</td><td>&quot;https://www.pr…</td><td>&quot;Gabriela Lorei…</td></tr><tr><td>&quot;2023-08-09 19:…</td><td>&quot;2023-07-31T00:…</td><td>&quot;Para lograr un…</td><td>&quot;https://www.el…</td><td>&quot;n-a&quot;</td></tr></tbody></table></div>"
      ],
      "text/plain": [
       "shape: (3, 5)\n",
       "┌──────────────┬─────────────────────┬─────────────────────┬────────────────────┬──────────────────┐\n",
       "│ date_extract ┆ date_article        ┆ content             ┆ link               ┆ authors          │\n",
       "│ ---          ┆ ---                 ┆ ---                 ┆ ---                ┆ ---              │\n",
       "│ str          ┆ str                 ┆ str                 ┆ str                ┆ str              │\n",
       "╞══════════════╪═════════════════════╪═════════════════════╪════════════════════╪══════════════════╡\n",
       "│ 2023-08-09   ┆ 2023-08-09T00:00:00 ┆ 9 Ago, 2023 La      ┆ https://www.infoba ┆ n-a              │\n",
       "│ 19:34:50     ┆ .000000             ┆ fiscal Silvia Bus…  ┆ e.com/sociedad…    ┆                  │\n",
       "│ 2023-08-09   ┆ 2023-08-09T10:13:47 ┆ LOS POTRILLOS. La   ┆ https://www.primer ┆ Gabriela Loreiro │\n",
       "│ 19:34:50     ┆ .000000             ┆ docente fue ar…     ┆ aedicion.com.a…    ┆                  │\n",
       "│ 2023-08-09   ┆ 2023-07-31T00:00:00 ┆ Para lograr un uso  ┆ https://www.elcord ┆ n-a              │\n",
       "│ 19:34:50     ┆ .000000             ┆ más eficiente…      ┆ illerano.com.a…    ┆                  │\n",
       "└──────────────┴─────────────────────┴─────────────────────┴────────────────────┴──────────────────┘"
      ]
     },
     "execution_count": 5,
     "metadata": {},
     "output_type": "execute_result"
    }
   ],
   "source": [
    "df"
   ]
  },
  {
   "cell_type": "code",
   "execution_count": 6,
   "metadata": {},
   "outputs": [],
   "source": [
    "text = df['content'][0]"
   ]
  },
  {
   "cell_type": "code",
   "execution_count": 7,
   "metadata": {},
   "outputs": [
    {
     "data": {
      "text/plain": [
       "['9 Ago, 2023 La fiscal Silvia Bussano, de la UFI N°7 de Lanús, no tiene aún en sus manos el informe p',\n",
       " 'reliminar de la autopsia, pero sí los forenses que analizaron el cuerpo de Morena Domínguez le adela',\n",
       " 'ntaron sus conclusiones: la nena de 11 murió a causa de una hemorragia interna producto de una grave',\n",
       " ' lesión en el hígado. Así se lo confirmaron a Infobae fuentes de la investigación. “La autopsia reve',\n",
       " 'ló que la nena falleció por un desgarro en el hígado producto del golpe profundo que recibió”, expli',\n",
       " 'caron sobre los resultados de la pericia que se realizó en la Morgue Judicial de Lomas de Zamora. O ',\n",
       " 'sea, los asesinos la piña en la panza que le dieron a la nena fue mortal. Por el crimen de Morena ha',\n",
       " 'y dos detenidos: se trata de los hermanos Darío Humberto Madariaga, alias Lolo y de 25 años; y Migue',\n",
       " 'l Ángel Madariaga, de 28.  Ambos están acusados del delito de “homicidio en ocasión de robo en concu',\n",
       " 'rso real con encubrimiento”. Es que, fuentes del caso adelantaron que la moto utilizada para atacar ',\n",
       " 'a Morena tenía pedido de secuestro por un hecho ocurrido este martes. Noticia en desarrollo']"
      ]
     },
     "execution_count": 7,
     "metadata": {},
     "output_type": "execute_result"
    }
   ],
   "source": [
    "view_string(text)"
   ]
  },
  {
   "cell_type": "markdown",
   "metadata": {},
   "source": [
    "# Text Sumarization"
   ]
  },
  {
   "cell_type": "code",
   "execution_count": 8,
   "metadata": {},
   "outputs": [],
   "source": [
    "from transformers import AutoModelForSeq2SeqLM, AutoTokenizer\n",
    "model_str = \"IIC/mt5-spanish-mlsum\"\n",
    "tokenizer = AutoTokenizer.from_pretrained(model_str)\n",
    "model = AutoModelForSeq2SeqLM.from_pretrained(model_str)"
   ]
  },
  {
   "cell_type": "code",
   "execution_count": 9,
   "metadata": {},
   "outputs": [
    {
     "name": "stdout",
     "output_type": "stream",
     "text": [
      "La autopsia revela que la nena de 11 murió a causa de una hemorragia interna. Los forenses adelantan que la investigación revela que la nena falleció a causa de una hemorragia interna producto de una grave lesión en el hígado\n"
     ]
    }
   ],
   "source": [
    "input_ids = tokenizer(text, return_tensors=\"pt\").input_ids\n",
    "output_ids = model.generate(input_ids, max_new_tokens=200, penalty_alpha=0.6, top_k=4,)[0]\n",
    "print(tokenizer.decode(output_ids, skip_special_tokens=True))"
   ]
  },
  {
   "cell_type": "code",
   "execution_count": 10,
   "metadata": {},
   "outputs": [],
   "source": [
    "articles = df['content'].to_list()"
   ]
  },
  {
   "cell_type": "code",
   "execution_count": 24,
   "metadata": {},
   "outputs": [],
   "source": [
    "articles_tokenized = []\n",
    "articles_summaries = []\n",
    "for article in articles:\n",
    "    input_ids = tokenizer(article, return_tensors=\"pt\").input_ids\n",
    "    articles_tokenized.append(input_ids)\n",
    "    output_ids = model.generate(input_ids, max_new_tokens=200, penalty_alpha=0.6, top_k=4,)[0]\n",
    "    summary = tokenizer.decode(output_ids, skip_special_tokens=True)\n",
    "    articles_summaries.append(summary)"
   ]
  },
  {
   "cell_type": "code",
   "execution_count": 25,
   "metadata": {},
   "outputs": [
    {
     "data": {
      "text/plain": [
       "['La autopsia revela que la nena de 11 murió a causa de una hemorragia interna. Los forenses adelantan que la investigación revela que la nena falleció a causa de una hemorragia interna producto de una grave lesión en el hígado',\n",
       " 'Los policías de Posadas se juzgan por la muerte de Mirta Carmen Rosa. El Tribunal Penal 2 de Posadas juzga a dos policías por varias acusaciones vinculadas a la muerte violenta de una docente',\n",
       " 'El consejo para ahorrar energía y agua al utilizar el lavarropa. La Federación Argentina de Cooperativas de Electricidad y Otros Servicios Públicos (FACE) debe dejar una serie de consejos para alcanzar la eficiencia energética']"
      ]
     },
     "execution_count": 25,
     "metadata": {},
     "output_type": "execute_result"
    }
   ],
   "source": [
    "articles_summaries"
   ]
  },
  {
   "cell_type": "code",
   "execution_count": 26,
   "metadata": {},
   "outputs": [
    {
     "data": {
      "text/plain": [
       "[tensor([[   774,  60850,    261, 107731,    501,  17182,    259,  93388,  94214,\n",
       "            2031,    261,    269,    283,    581,  17350,    441,    755,    487,\n",
       "             269,  13960,  19630,    261,    375,   2812,    259,    262,   4658,\n",
       "             289,   1996,    674,    337,    362,  39995,    259,  92096,    269,\n",
       "             283,   1864,  41871,    262,    261,   2757,   5910,    595,    332,\n",
       "           47938,    319,  17360,   9694,    362,    317,  30420,    269,   3398,\n",
       "             377,   5438,   4979, 117929,    340,    259, 101763,   9694,   1996,\n",
       "             259,  49666,    299,    267,    283,  46145,    269,    730,  13878,\n",
       "             553,    259,    262,   9034,    269,    573,  95359, 106690,    262,\n",
       "           20855,  29139,    269,    573,  18582,    340,   9678,    289,    362,\n",
       "             259,   7550,  27365,    260,   1477,    420,    303,    707,  56513,\n",
       "            2756,    259,    262,  10402,    835,    265,    259,  51468,    263,\n",
       "             269,    283,    259,    266,  27028,    260,    359,   2470,   1864,\n",
       "           41871,    262,  92934,    553,    319,    283,  46145, 127663,   2711,\n",
       "             519,    335,    498,   2263,    938,    289,    362,    259,   7550,\n",
       "           27365,  29139,    426,    259,  87244,    265,  29206,    268,    319,\n",
       "           26054,    553,   1206,  18418,   2756,   1615,    595,    259,  23642,\n",
       "             269,    283,  28710,   1729,    319,    303,   6359,    553,    289,\n",
       "             283,   8737,   7285,    664, 166501,    269, 122561,    263,    269,\n",
       "            1515,  53889,    260,    443,    303,    262,    261,    595,    259,\n",
       "           93345,    337,    283,    421,  48948,    289,    283,    421,   6952,\n",
       "             319,    340,    398,   2756,    259,    262,    283,  46145,   5558,\n",
       "           81315,    260,   2236,    362,  28564,    272,    269,   3398,    377,\n",
       "            2318,   1298,    269,  31321,    263,    267,    303,  12485,    269,\n",
       "             595,  48355,    337,   1289,  43793,   4691, 150023,  14551,   4868,\n",
       "             743,    261,    259,  45564,  64672,    268,    259,    276,    269,\n",
       "             877,   5547,    296,    259,    276,  27249,   3550,  39323,  14551,\n",
       "            4868,    743,    261,    269,  10572, 124345,    263,   1957,    272,\n",
       "           58073,   2131,    426,    426,   1880,    269,    359,  16735, 118380,\n",
       "             289,  25424,   1790,    269,  69326,    289,    259,  61508,   2784,\n",
       "             450,    289, 207315,  72280,   1476,   1659,    319,    261,    259,\n",
       "           51468,    263,    426,   2117,    259, 101763,   9694,    319,    283,\n",
       "           18813,   8566,    407,    435, 102387,    286,    259,    262,   3398,\n",
       "             377,   3034,   1703,  10826,    537,    269,  15601,  79946,    519,\n",
       "             335,    259,  15423,    259,  66355,   2642,    980,    259,  67675,\n",
       "             260,    259, 136439,    289,    259,  28077,      1]]),\n",
       " tensor([[   259,  23129, 128011,  ...,   4333,  60352,      1]]),\n",
       " tensor([[  1927,    259,  58280,    286,    335,   7847,   1280,    259,  65280,\n",
       "             269,    595,  28992, 121478,    263,    259,    276,  22944,    602,\n",
       "             362,    259, 101906,    289,    595,  45927,    337,    269,  20079,\n",
       "             261,    655,    259, 106312,    259,  22468,    651,   4642,    655,\n",
       "             362,   5136,   6630,    435,    259,  42755,    362,    283,   1018,\n",
       "           42262,    260,    501,  37293,    931,  20784,    269,    259, 184568,\n",
       "             358,    269,  23521,   2613,    259,    276,    259,  66742,    263,\n",
       "             259,  59094,    259,  26765,    337,    274, 151401,    271,    560,\n",
       "            8362,  51282,    573,   8807,    269,    259,  67466,    263,    435,\n",
       "           25290,   4509,    283,  85219,   1729,  22922,  21460,    259,    276,\n",
       "           40110,    372,    595,    259,  20236,    259,   4166,    269,  17575,\n",
       "             958,    269,  22922,   1703,    260,  11127,    259,   5781,    267,\n",
       "           55546,   5414,  61884,    458, 139930,    259,    276,    259,  82961,\n",
       "             268,  74236,    299,  32985,    444,    731,  82441,    435,  27779,\n",
       "             372,    800,  22922,  16831,  46400,   8924,  49494,    269,    595,\n",
       "            3525,    337,   8218,    263,    259,    262,    259,   6387,    289,\n",
       "           10160,    655,    362,   5525,    269,    283,   1018,  22461,    319,\n",
       "             303,   8566,    260, 123737,  13363,  66273,   1513,    958,    269,\n",
       "             259,  44075,    298,    259,   3320,    272,    259,  31429,    259,\n",
       "             262, 120538,   3371,   4955,    335,   8984,    289,  39959,    931,\n",
       "             450,    595,    269,    259,  44075,    489,    260,   2236,    707,\n",
       "             259,   4166,    261,    573,    585,    931,    259, 102954,    655,\n",
       "             585,   1868,    519,    283,   1018,  42262,    269,   7857,  85219,\n",
       "            1729,  22922,  21460,    260,  66742,    259,  67466,   5291,    655,\n",
       "           49339,    286,    362,    259,  15905,    269,    259, 132625,  14189,\n",
       "             269,    283,    259,  22461,    259,   2712,    269,    283,   1018,\n",
       "             492,    260, 152932,    286,    283,    259,  22461,    303,   9229,\n",
       "             517,   6921,    269,    259, 132625,  14189,  37001,   1657,  23186,\n",
       "             286,   5541,    595,  49872,    263,    269,    283,  85724,    259,\n",
       "             276,    259,  69719,    372,    440,   1382,  36024,    595,  49872,\n",
       "             263,    259,  65175,    263,    260,   1124,   2318,  31071,    358,\n",
       "             584,  11550,    517,  57492,    259,    268,    450,    674,  24650,\n",
       "             301,  18818,   1838,    261,    303,  90902,  48452,   5599,    335,\n",
       "             786,  40298,    537,    435,    999,   6387,    259,  16679,    259,\n",
       "           23642,    260,   2470,   1018,    283,    259,  22461,    289,    283,\n",
       "             259,  20848,   1382,  44009,    426,    283,   1018,  22461,    259,\n",
       "             276,    259,  42755,  49872,    263,    259,  65175,    263,    269,\n",
       "             283,  85724,    259,   5781,  23781,   1347,    440,    259,    262,\n",
       "           88551,    269,  22922,   1703,    260,    298,   9017,    261,    655,\n",
       "           86684,   1059,    259,  42755,    259,  12396,  17575,  73001,    262,\n",
       "             261,    528,    319,   8263,    375,   3607,  21743,    259,    262,\n",
       "          120538,   3371,  22922,   1703,    261,  16373,    319,    259,   5781,\n",
       "           35381,    265,    595,   3147,   1837,    269,    283,    259,  22461,\n",
       "             259,    276,  50358,    319,    303,    289,    771,    462,    260,\n",
       "             642,   2117,    269,    919,    259,  23551,    268,    259, 147924,\n",
       "             372,    362,  17575,    261,    283,  25497,    375,   8196,   2227,\n",
       "             372,    595,   1617,   3135,    755,    424,    435,  22944,    602,\n",
       "             362,    259, 101906,    259,    262,    283,    259, 103747,    289,\n",
       "           39959,    931,    450,    362,    283,  85724,    259,    262,   2398,\n",
       "            3135,    755,    424,    260,  87955,   3955,  62082,    870,    362,\n",
       "             283,  85724,    261, 188193,    372,    283,    259,  22461,    289,\n",
       "             362,    283,   1018,  22461,    655,   1280,    259,  65280,    319,\n",
       "             259,  42755,    335,    259, 166066,  42262,    260,    501,    585,\n",
       "             931,   6630,    655,    259, 166066,   5575,  76828,    283,    259,\n",
       "           22461,    440,   3208,    259,    268,    440,    259,   2975,  13984,\n",
       "             260,    459,   2041,    674,   1194,    261,    303,    259,    262,\n",
       "          212234,    259,    262,   4658,   1280,  22922,   1703,    259,    276,\n",
       "             303,    259,  69719,    262,   5541,    362,    259,  88059,   4926,\n",
       "             319,    655,    283,  22922,   1703,  26826,    260,   4818,   7847,\n",
       "            1341,  85280,    269,    551, 127428,    265,    259,   5781,   1218,\n",
       "            2018,    335,  20513,   5291,    289,    362,    259,    262,  88551,\n",
       "             269,  22922,   1703,    260,    259, 130369,    286,    283,    259,\n",
       "           29434,    317,  40045,  41563,    407,    289,    362,    289,   6749,\n",
       "             265,    426,  29139,  21743,    259,    262,    319,    362,    283,\n",
       "            1018,  22461,    375,  53234,    319,  16181,    286,    289,    259,\n",
       "           83578,    268,    435,    259,  81122,    595,  23851,    263,    269,\n",
       "             432,  91425,    260,   4818,  11827,    268,    269,  22922,   1703,\n",
       "             426,    283,   1018,  22461,    642,    731,  59886,    261,   3731,\n",
       "            7847,    426,    283,   1018,  22461, 161072,   1694,  10728,    259,\n",
       "             276,   2023,    259,  90278,    337,    269,  21234,   2613,    260,\n",
       "            1124,    303,   8386,    440,   7979,   1298,    259,  34690,    263,\n",
       "             269,    259,  22461,    259,    262,    283,   8433,    261,   8263,\n",
       "             303,  31400,    265,    289,    335,  11827,    268,    259,  54165,\n",
       "             269,   1694,  44028,   5954,    259,    276,    430,  37938,    259,\n",
       "           90278,    337,    260,   1927,    573,  10642,    269,    317,  28626,\n",
       "            8154,    319,   8386,    440,   7979,  18029,    268,    259,  34690,\n",
       "             263,   8433,   1838,    261,    362,  11827,    268,    259,  54165,\n",
       "             259,   3320,    259,  31429,   4955,    595,    333,  58098,    259,\n",
       "           90278,    337,    259,    268,   1280,    260,    789,    259,    262,\n",
       "           88551,    289,  17575,    642,   5686,    931,    440,  11827,    268,\n",
       "             269,  17575,    261,    303,    269,   1274,    259,   6387,    289,\n",
       "           10160,  10551,    263,  11879,    299,    260,   2713,    283,   1018,\n",
       "           42262,   1280,    259,  53684,    337,    259,   3320,    272,  11827,\n",
       "             602,   4955,  19945,  36300,    337,    269,  17575,    519,    259,\n",
       "           34690,    261,    658,  18010,    319,    595,  13734,    263,   1280,\n",
       "            8886,    263,    259,   3320,    272,  11827,    602,   4955,  12079,\n",
       "           36300,    337,    519,    259,  34690,    260,  19898,  16633,    319,\n",
       "             261,    395,    303,   8386,    272,  18029,    268,    259,  34690,\n",
       "             263,    269,    259,  22461,    259,    262,    283,   8433,    261,\n",
       "             362,    283,   1018,  22461,   1280,    259,  53684,    268,   1012,\n",
       "            4358,    259,  31429,    259,    262,  11827,    602,   4955,   1251,\n",
       "          173035,  36300,    337,    269,  17575,    519,   9640,    261,    658,\n",
       "           18010,    319,    362,  13734,   1280,   8886, 131844,   4358,  27632,\n",
       "           22274,   1024, 164912,  36300,    337,    519,   9640,    260,   6187,\n",
       "           70418,    278,    261,    435,  22944,    602,    362,  11827,    268,\n",
       "             269,  22922,   1703,    259,    276,  17575,    440,    259,  42755,\n",
       "             362,    283,   1018,  42262,    261,    655,   5291,    259,    265,\n",
       "           74786,    335,  13734,    269,   7857,  85219,   1729,  22922,  21460,\n",
       "             261,  23186,    286,  12382,   1664,    595,  49872,    263,    269,\n",
       "             283,  85724,    261,    259,  42755,  17575,  73001,    262,    259,\n",
       "           12396,    319,    303,    262,    259,  12259,    261,  31328,    420,\n",
       "           75802,    286,    289,    362,    283,   1018,  22461,    289,   5967,\n",
       "             269,    259,  18812,    335,    259, 166066,  42262,    261,    259,\n",
       "           42755,    283,    259,  29434,    317,  40045,    269,    551, 127428,\n",
       "             265,    259,  23551,    262,    259,    276,    259,  69719,    372,\n",
       "             440,   1382,  36024,    283,  20079,  26826,    435,    259, 166066,\n",
       "             283,    259,  22461,    260,    459,   2041,    674,   1194,    261,\n",
       "             375,   3607,    259,  58280,   9230,    335,  10832,    268,    259,\n",
       "           63248,    289,    719,   5544,  77864,    261,  16373,    259,   5781,\n",
       "             289,    362,   9458,  20696,    260,      1]])]"
      ]
     },
     "execution_count": 26,
     "metadata": {},
     "output_type": "execute_result"
    }
   ],
   "source": [
    "articles_tokenized"
   ]
  }
 ],
 "metadata": {
  "kernelspec": {
   "display_name": ".willow",
   "language": "python",
   "name": ".willow"
  },
  "language_info": {
   "codemirror_mode": {
    "name": "ipython",
    "version": 3
   },
   "file_extension": ".py",
   "mimetype": "text/x-python",
   "name": "python",
   "nbconvert_exporter": "python",
   "pygments_lexer": "ipython3",
   "version": "3.9.13"
  },
  "orig_nbformat": 4
 },
 "nbformat": 4,
 "nbformat_minor": 2
}
