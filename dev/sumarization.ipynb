{
 "cells": [
  {
   "cell_type": "markdown",
   "metadata": {},
   "source": [
    "# Sumarization"
   ]
  },
  {
   "cell_type": "code",
   "execution_count": 105,
   "metadata": {},
   "outputs": [
    {
     "data": {
      "text/plain": [
       "['date_extract', 'date_article', 'content', 'link', 'authors']"
      ]
     },
     "execution_count": 105,
     "metadata": {},
     "output_type": "execute_result"
    }
   ],
   "source": [
    "df.columns"
   ]
  },
  {
   "cell_type": "code",
   "execution_count": 18,
   "metadata": {},
   "outputs": [
    {
     "data": {
      "text/html": [
       "<div><style>\n",
       ".dataframe > thead > tr > th,\n",
       ".dataframe > tbody > tr > td {\n",
       "  text-align: right;\n",
       "}\n",
       "</style>\n",
       "<small>shape: (1, 6)</small><table border=\"1\" class=\"dataframe\"><thead><tr><th>date_extract</th><th>date_article</th><th>content</th><th>link</th><th>authors</th><th>new</th></tr><tr><td>date</td><td>str</td><td>str</td><td>str</td><td>str</td><td>str</td></tr></thead><tbody><tr><td>2023-08-09</td><td>&quot;2023-08-09T00:…</td><td>&quot;Estimado lecto…</td><td>&quot;https://www.el…</td><td>&quot;Diario El Dia …</td><td>&quot;eldia.com/nota…</td></tr></tbody></table></div>"
      ],
      "text/plain": [
       "shape: (1, 6)\n",
       "┌──────────────┬─────────────────┬───────────┬─────────────────┬─────────────────┬─────────────────┐\n",
       "│ date_extract ┆ date_article    ┆ content   ┆ link            ┆ authors         ┆ new             │\n",
       "│ ---          ┆ ---             ┆ ---       ┆ ---             ┆ ---             ┆ ---             │\n",
       "│ date         ┆ str             ┆ str       ┆ str             ┆ str             ┆ str             │\n",
       "╞══════════════╪═════════════════╪═══════════╪═════════════════╪═════════════════╪═════════════════╡\n",
       "│ 2023-08-09   ┆ 2023-08-09T00:0 ┆ Estimado  ┆ https://www.eld ┆ Diario El Dia   ┆ eldia.com/nota/ │\n",
       "│              ┆ 0:00.000000     ┆ lector,   ┆ ia.com/nota/202 ┆ De La Plata     ┆ 2023-8-9-12-18- │\n",
       "│              ┆                 ┆ muchas    ┆ 3-…             ┆ Www.El…         ┆ 0-…             │\n",
       "│              ┆                 ┆ gracias … ┆                 ┆                 ┆                 │\n",
       "└──────────────┴─────────────────┴───────────┴─────────────────┴─────────────────┴─────────────────┘"
      ]
     },
     "execution_count": 18,
     "metadata": {},
     "output_type": "execute_result"
    }
   ],
   "source": [
    "df = pl.read_csv('/home/sebacastillo/willow/output/news_narcotráfico_related_2023-08-09_1951.csv')\n",
    "df = (\n",
    "    df.with_columns([\n",
    "        pl.col('date_extract').str.strptime(\n",
    "            pl.Date,\n",
    "            format='%Y-%m-%d %H:%M:%s', strict=True\n",
    "        ),        \n",
    "\n",
    "        pl.col('link').str.replace(r\"https://www.\", \"\").alias('new'),\n",
    "        #pl.col('reference').str.replace_all(r\"id-\", \"\"),\n",
    "        # ----------------\n",
    "        #pl.col('reference').str.split(by=\";\")\n",
    "        ##.struct.rename_fields([\"first_part\", \"second_part\"])\n",
    "        ##.alias(\"fields\"),\n",
    "    ])\n",
    ")\n",
    "df[0]"
   ]
  },
  {
   "cell_type": "code",
   "execution_count": 19,
   "metadata": {},
   "outputs": [
    {
     "data": {
      "text/plain": [
       "True"
      ]
     },
     "execution_count": 19,
     "metadata": {},
     "output_type": "execute_result"
    }
   ],
   "source": [
    "isinstance(df, pl.DataFrame)"
   ]
  },
  {
   "cell_type": "code",
   "execution_count": 30,
   "metadata": {},
   "outputs": [],
   "source": [
    "text = df['content'][0]"
   ]
  },
  {
   "cell_type": "code",
   "execution_count": 31,
   "metadata": {},
   "outputs": [
    {
     "data": {
      "text/plain": [
       "['Estimado lector, muchas gracias por su interés en nuestras notas. Hemos incorporado el registro con ',\n",
       " 'el objetivo de mejorar la información que le brindamos de acuerdo a sus intereses. Para más informac',\n",
       " 'ión haga clic aquí Suplementos > Avisos > Servicios > Entretenimientos > Otros sitios > \\n15 °C La Pl',\n",
       " 'ata\\t\\t\\t\\t\\t\\n\\t\\t\\t\\t\\t\\t\\t\\t\\t\\t\\t\\n\\t\\t\\t\\t\\t\\t\\t\\t\\t\\t\\tMiércoles 9 de Agosto, 2023\\n\\t\\t\\t\\t\\t\\t\\t\\t\\t\\t \\n La muerte de una niña en La',\n",
       " 'nús tras ser víctima de un ataque de motochorros atravesó la agenda electoral y llevó a los precandi',\n",
       " 'datos bonaerenses de las principales fuerzas que competirán en las PASO del domingo próximo, Unión p',\n",
       " 'or la Patria (UxP) y Juntos por el Cambio (JxC), a suspender sus actos de cierre de campaña previsto',\n",
       " 's para hoy y mañana. Morena Domínguez, de 11 años, murió hoy luego de ser asaltada por motochorros, ',\n",
       " 'que la atacaron para robarle sus pertenencias cuando caminaba hacia su colegio en la localidad de Vi',\n",
       " 'lla Diamante, partido bonaerense de Lanús. El hecho movilizó en la zona a vecinos y a allegados a la',\n",
       " ' víctima, mientras la cúpula policial y el ministro de Seguridad bonaerense, Sergio Berni, se reunie',\n",
       " 'ron en la comisaría 5ta. de Lanús, donde además fueron alojados dos jóvenes, ambos mayores de edad,,',\n",
       " ' detenidos como sospechosos de haber participado del asalto. Los vecinos, amigos y familiares de Mor',\n",
       " 'ena Domínguez se concentraban también en la Plaza Giardino, ubicada en la calle San Vladimiro 5540 d',\n",
       " 'e Lanús, para pedir justicia y más seguridad en la zona. En este marco, el gobernador de la provinci',\n",
       " 'a de Buenos Aires y precandidato a la reelección, Axel Kicillof, suspendió el acto de cierre de camp',\n",
       " 'aña que iba a realizarse en el municipio de Merlo, adonde asistiría también el precandidato presiden',\n",
       " 'cial de UxP, Sergio Massa. \"En virtud del doloroso y trágico crimen de Morena Domínguez, ocurrido es',\n",
       " 'ta mañana en Lanús, se decidió suspender el acto de campaña previsto para esta tarde en Merlo\", expr',\n",
       " 'esó un comunicado oficial, en el que además se remarcó que, \"frente a esta tragedia, el Gobierno Pro',\n",
       " 'vincial está coordinando tareas y esfuerzos con el Gobierno de Lanús\". LE PUEDE INTERESAR Morzone: \"',\n",
       " 'Hay que fortalcecer la Convivencia Ciudadana\" LE PUEDE INTERESAR El dólar blue siguió subiendo y se ',\n",
       " 'mantuvo por encima de los 600 pesos Expresó el comunicado que \"nada devolverá la vida de Morena pero',\n",
       " ' este crimen tan espantoso, que conmueve a toda la comunidad, no quedará impune\". \"Por indicación de',\n",
       " 'l Gobernador, se abocaron de inmediato al tema la Dirección General de Cultura y Educación, el Minis',\n",
       " 'terio de Salud y el área de asistencia a las víctimas del Ministerio de Justicia. Por su parte, el M',\n",
       " 'inistro de Seguridad lidera la búsqueda de los criminales que afortunadamente arrojó sus primeros re',\n",
       " 'sultados\", apuntó el texto oficial. Se remarcó además desde la administración bonaerense que \"los es',\n",
       " 'fuerzos en estas horas están orientados a la coordinación con el gobierno local, a la contención de ',\n",
       " 'la familia y de la comunidad escolar y a la persecución de los criminales\". El acto de cierre estaba',\n",
       " ' previsto a partir de las 15 en el gimnasio del Club Deportivo Merlo, adonde se esperaba la asistenc',\n",
       " \"ia del ministro de Interior y precandidato a senador nacional Eduardo 'Wado' de Pedro; los postulant\",\n",
       " 'es a diputados nacionales; la vicegobernadora, Verónica Magario; el jefe comunal de ese distrito -en',\n",
       " ' uso de licencia-, Gustavo Menéndez, intendentes bonaerenses y todos los miembros del gabinete. Tamb',\n",
       " 'ién, en declaraciones a Radio Continental, el jefe de Gabinete y precandidato a vicepresidente, Agus',\n",
       " 'tín Rossi, lamentó el \"hecho trágico\" y sostuvo que hay que \"redoblar los esfuerzos para generar may',\n",
       " 'or seguridad para los argentinos\". De igual manera, la precandidata presidencial de JxC Patricia Bul',\n",
       " 'lrich y el aspirante a gobernador bonaerense por ese espacio, Néstor Grindetti, suspendieron la acti',\n",
       " 'vidad que ponía fin a la campaña electoral, agendada para mañana en el microestadio de Lanús. \"Debid',\n",
       " 'o a los tristes hechos de público conocimiento enviamos nuestras condolencias y solidaridad a la fam',\n",
       " 'ilia y amigos de Morena. Hemos decidido suspender el acto de cierre en la Provincia de Buenos Aires ',\n",
       " 'previsto para mañana\", aseguró por Twitter Juan Pablo Arenaza, uno de los coordinadores de la campañ',\n",
       " 'a. Previamente, tanto Grindetti, intendente de Lanús, como Diego Kravetz, jefe de gabinete municipal',\n",
       " ' y postulante a la intendencia en ese municipio, habían anunciado que suspendían sus respectivas cam',\n",
       " 'pañas para establecer un comité de crisis municipal por la muerte de Morena Domínguez. Con todo, Pat',\n",
       " 'ricia Bullrich tiene previsto realizar una actividad en la Plaza de la Música de la ciudad de Córdob',\n",
       " 'a, a partir de las 18.30. También suspendió su acto central -de mañana- el otro precandidato preside',\n",
       " 'ncial de JxC, Horacio Rodríguez Larreta, quien tenía planeado reunir a sus seguidores en el club Ate',\n",
       " 'nas, en la ciudad bonaerense de La Plata, junto a su candidato a gobernador bonaerense, Diego Santil',\n",
       " 'li, y al intendente de La Plata, Julio Garro. Los precandidatos a intendente de Lanús por Unión por ',\n",
       " 'la Patria (UxP), Julián Álvarez, Nicolás Russo y Agustín Balladares declinaron sus actividades de ca',\n",
       " 'mpaña de hoy y expresaron en las redes sociales pedidos de justicia, solidaridad con la familia de l',\n",
       " 'a niña y repudio al ataque criminal. Se sumó a esta decisión, pero en la Ciudad de Buenos Aires, el ',\n",
       " 'senador nacional y precandidato a jefe de Gobierno porteño de JxC Martín Lousteau, quien suspendió e',\n",
       " 'l mensaje final y toda la actividad de campaña prevista para hoy en Parque Centenario. También, los ',\n",
       " 'precandidatos de la izquierda de la lista presidencial encabezada por Gabriel Solano y Vilma Ripoll ',\n",
       " 'suspendieron también el \"Cabildo Abierto\", que estaba previsto para esta tarde en Plaza de Mayo. En ',\n",
       " 'otro orden, en cuanto a las circunstancias que rodearon a la muerte de Morena Domínguez, el director',\n",
       " ' del Hospital Evita afirmó que la niña llegó al centro de salud \"inconsciente, con muchas heridas y ',\n",
       " 'en condiciones críticas\" y aseguró que falleció como consecuencia de un \"traumatismo craneoencefálic',\n",
       " 'o grave\".  Las noticias locales nunca fueron tan importantes SUSCRIBITE Para comentar suscribite hac',\n",
       " 'iendo click aquí ESTA NOTA ES EXCLUSIVA PARA SUSCRIPTORES\\n        \\n HA ALCANZADO EL LIMITE DE NOTAS ',\n",
       " 'GRATUITAS\\n        \\n \\n        Para disfrutar este artículo, análisis y más, por favor, suscríbase a u',\n",
       " 'no de nuestros planes digitales\\n       \\n        ¿Ya tiene suscripción? Ingresar\\n Básico Promocional ',\n",
       " '$60/mes *LOS PRIMEROS 3 MESES, LUEGO $750 Acceso ilimitado a www.eldia.com Full Promocional $90/mes ',\n",
       " '*LOS PRIMEROS 3 MESES, LUEGO $950 Acceso ilimitado a www.eldia.com Acceso a la versión PDF Beneficio',\n",
       " 's Club El Día POR MES* Diario El Día de La Plata, fundado el 2 de Marzo de 1884. © 2023  El Día  SA ',\n",
       " '- Todos los derechos reservados.  Registro D.N.D.A Nº RL-2019-04027819-APN-DNDA#MJ Propietario El Dí',\n",
       " 'a SAICYF. Edición Nro. 6986 Director: Raúl Kraiselburd. Diag. 80 Nro. 815 - La Plata - Pcia. de Bs. ',\n",
       " 'As. Bienvenido Estimado lector, muchas gracias por su interés en nuestras notas. Hemos incorporado e',\n",
       " 'l registro con el objetivo de mejorar la información que le brindamos de acuerdo a sus intereses. Pa',\n",
       " 'ra más información haga clic aquí Si ya tiene cuenta en www.eldia.com, ingrese sus datos Si aún no t',\n",
       " 'iene cuenta en El Día, haga click en el siguiente botón:   Ante cualquier inconveniente durante el i',\n",
       " 'nicio de sesión, por favor escribanos a sistemas@eldia.com Bienvenido \\n\\t\\t\\t\\t\\tEstimado lector, con sól',\n",
       " 'o registrarse tendrá acceso a 80 artículos por mes en forma gratuita. Para más información haga clic',\n",
       " ' aquí\\n DATOS PERSONALES NOMRE DE USUARIO Y CLAVE (Entre 6 y 12 caracteres. No se aceptan  ñ-Ñ, tilde',\n",
       " 's, diéresis, símbolos y espacios) Si ya tiene cuenta en El Día, haga click en el siguiente botón: An',\n",
       " 'te cualquier inconveniente durante el inicio de sesión, por favor escribanos a sistemas@eldia.com \\nS',\n",
       " 'e enviará un correo electrónico a la casilla de email que coloque, la cual deberá estar asociada a s',\n",
       " 'u cuenta. Luego, siga las instrucciones de dicho correo para continuar con el proceso de restablecim',\n",
       " 'iento de la cuenta.\\n ¿Querés recibir notificaciones de alertas?  ']"
      ]
     },
     "execution_count": 31,
     "metadata": {},
     "output_type": "execute_result"
    }
   ],
   "source": [
    "view_string(text)"
   ]
  },
  {
   "cell_type": "markdown",
   "metadata": {},
   "source": [
    "# Text Sumarization"
   ]
  },
  {
   "cell_type": "code",
   "execution_count": null,
   "metadata": {},
   "outputs": [],
   "source": [
    "from transformers import AutoModelForSeq2SeqLM, AutoTokenizer\n",
    "model_str = \"IIC/mt5-spanish-mlsum\"\n",
    "tokenizer = AutoTokenizer.from_pretrained(model_str)\n",
    "model = AutoModelForSeq2SeqLM.from_pretrained(model_str)"
   ]
  },
  {
   "cell_type": "code",
   "execution_count": 33,
   "metadata": {},
   "outputs": [
    {
     "name": "stdout",
     "output_type": "stream",
     "text": [
      "La muerte de una niña en Lanús moviliza a precandidatos a las PASO. El ataque de motochorros moviliza a vecinos y familiares de la víctima\n"
     ]
    }
   ],
   "source": [
    "input_ids = tokenizer(text, return_tensors=\"pt\").input_ids\n",
    "output_ids = model.generate(input_ids, max_new_tokens=200, penalty_alpha=0.6, top_k=4,)[0]\n",
    "print(tokenizer.decode(output_ids, skip_special_tokens=True))"
   ]
  },
  {
   "cell_type": "code",
   "execution_count": 34,
   "metadata": {},
   "outputs": [
    {
     "data": {
      "text/plain": [
       "['Estimado lector, muchas gracias por su interés en nuestras notas. Hemos incorporado el registro con ',\n",
       " 'el objetivo de mejorar la información que le brindamos de acuerdo a sus intereses. Para más informac',\n",
       " 'ión haga clic aquí Suplementos > Avisos > Servicios > Entretenimientos > Otros sitios > \\n15 °C La Pl',\n",
       " 'ata\\t\\t\\t\\t\\t\\n\\t\\t\\t\\t\\t\\t\\t\\t\\t\\t\\t\\n\\t\\t\\t\\t\\t\\t\\t\\t\\t\\t\\tMiércoles 9 de Agosto, 2023\\n\\t\\t\\t\\t\\t\\t\\t\\t\\t\\t         \\n          El colombi',\n",
       " 'ano fue condenado a 45 años de prisión en EE UU. Con un frondoso prontuario que incluye múltiples as',\n",
       " 'esinatos, se lo ha comparado con Pablo Escobar\\n       El narcotraficante Otoniel, detenido en bogotá',\n",
       " ' / AP Juan Sebastian SERRANO    BOGOTÁ AFP Dairo Antonio Úsuga, “Otoniel”, cuya condena a 45 años de',\n",
       " ' cárcel por narcotráfico fue anunciada ayer en un tribunal de EE UU, escaló las filas de varios grup',\n",
       " 'os armados en Colombia hasta convertirse en el mayor barón de la cocaína de este siglo. Probablement',\n",
       " 'e pase el resto de su vida tras las rejas dado que tiene 51 años. LE PUEDE INTERESAR El último capo ',\n",
       " 'de la Cosa Nostra, en grave estado LE PUEDE INTERESAR Francisco da otro paso en la reforma del Opus ',\n",
       " 'Dei A finales de 2021, cuando fue capturado en las selvas del noroeste de Colombia en un operativo e',\n",
       " 'n el que participaron 500 militares y policías respaldados por agencias de Estados Unidos y el Reino',\n",
       " ' Unido, el entonces presidente de Colombia, Iván Duque, lo comparó con Pablo Escobar, el exlíder del',\n",
       " ' Cartel de Medellín. En una corte de Nueva York, adonde llegó extraditado en mayo de 2022, reconoció',\n",
       " ' haber enviado a EE UU 96.800 kilos de cocaína. En enero aceptó los cargos de empresa criminal conti',\n",
       " 'nuada, conspirar para manufacturar y distribuir cocaína, así como de conspiración marítima para tráf',\n",
       " 'ico de drogas. Su condena ocurre en momentos en que el negocio de la cocaína atraviesa una inédita c',\n",
       " 'risis en Colombia por la sobreproducción y el cambio en los hábitos de consumo en Estados Unidos. El',\n",
       " ' que fuera líder del grupo paramilitar Autodefensas Gaitanistas de Colombia (AGC), también conocido ',\n",
       " 'como Clan del Golfo, esperaba que su admisión de culpabilidad le evitara un largo y costoso juicio. ',\n",
       " 'Y tal vez, un fallo más clemente de la jueza Dora Irizarry. De origen campesino y señalado de abusar',\n",
       " ' sexualmente de niñas, pasó de guerrillero de izquierda a paramilitar de extrema derecha, antes de c',\n",
       " 'onsolidarse como capo de la cocaína. Durante su reclusión, el robusto narcotraficante se quejó por l',\n",
       " 'as duras condiciones de aislamiento que le impedían hablar con su familia o recibir correspondencia.',\n",
       " ' En vísperas de su extradición, aseguró ante un tribunal que altos mandos militares estuvieron impli',\n",
       " 'cados en el tráfico de droga y salpicó a políticos que se favorecieron del control territorial que t',\n",
       " 'enía. En represalia por su entrega, sus hombres desataron una ola de ataques en la que murió una tre',\n",
       " 'intena de policías. Nacido el 15 de septiembre de 1971 en el municipio de Necoclí (noroeste), pasó a',\n",
       " ' encabezar el Clan del Golfo tras la muerte de su hermano Juan de Dios, caído en enfrentamientos con',\n",
       " ' la policía en 2012. Junto a él había montado un aparato criminal con presencia en casi 300 de los 1',\n",
       " '.102 municipios del país, principalmente en su región natal, cercana a la frontera con Panamá, pero ',\n",
       " 'también al Pacífico y al Caribe, un lugar estratégico para la salida de cargamentos de droga, según ',\n",
       " 'el centro de estudios Indepaz. En el “trabajo militar, se cometieron homicidios”, reconoció ante una',\n",
       " ' corte de Brooklyn. Su grupo, también conocido como Los Urabeños y Clan Úsuga, “dio seguridad a labo',\n",
       " 'ratorios y narcotraficantes y cobraba impuestos” por la cocaína. “La AGC cobraba tarifa fija por cad',\n",
       " 'a kilo que se manufacturaba o transportaba por las áreas que controlaba el grupo”, detalló. Su herma',\n",
       " 'na, Nini Johana Úsuga, alias “La Negra”, fue extraditada en julio de 2022 a Florida (EE UU) para res',\n",
       " 'ponder también por narcotráfico. Otoniel, séptimo de los nueve hijos de Ana Celsa David y Juan de Di',\n",
       " 'os Úsuga, una pareja que dice ganarse la vida con la venta de cerdos, gallinas y ganado en el depart',\n",
       " 'amento de Antioquia (noroeste), se unió a los 18 años al Ejército de Liberación Popular (EPL), una g',\n",
       " 'uerrilla de izquierda desmovilizada en 1991. “No era revolucionario, era lo que había y se fue con e',\n",
       " 'llos”, aseguró su madre en una entrevista al diario El Tiempo en 2015. Tras la disolución del EPL se',\n",
       " ' unió a las a las Autodefensas Campesinas de Córdoba y Urabá (ACCU), una organización paramilitar de',\n",
       " ' extrema derecha creada para combatir a las guerrillas y con nexos con el narcotráfico que se someti',\n",
       " 'ó a la justicia en 2006. Una vez más Otoniel siguió en la ilegalidad. En Colombia sus víctimas solic',\n",
       " 'itaron la “suspensión” de la extradición, alegando su derecho a conocer la verdad. Antes de salir de',\n",
       " 'l país dijo al tribunal que investiga los peores crímenes del conflicto que los excomandantes del ej',\n",
       " 'ército Mario Montoya (2006-2008) y Leonardo Barrero (2013-2014) fueron sus cómplices. También compar',\n",
       " 'eció ante una entidad no judicial llamada Comisión de la Verdad, que denunció el robo de estas graba',\n",
       " 'ciones en febrero del año pasado. Sin haber designado aún a un sucesor, sus herederos de las AGC bus',\n",
       " 'can acogerse a la política de “Paz Total”, con la que el presidente Gustavo Petro plantea un sometim',\n",
       " 'iento a cambio de beneficios penales para las bandas narco. Pero las conversaciones se estancaron y ',\n",
       " 'en marzo el grupo fue excluido de una tregua bilateral planteada por el gobierno a las principales o',\n",
       " 'rganizaciones armadas. \\xa0  Las noticias locales nunca fueron tan importantes SUSCRIBITE Para comentar',\n",
       " ' suscribite haciendo click aquí ESTA NOTA ES EXCLUSIVA PARA SUSCRIPTORES\\n        \\n HA ALCANZADO EL L',\n",
       " 'IMITE DE NOTAS GRATUITAS\\n        \\n \\n        Para disfrutar este artículo, análisis y más, por favor,',\n",
       " ' suscríbase a uno de nuestros planes digitales\\n       \\n        ¿Ya tiene suscripción? Ingresar\\n Bási',\n",
       " 'co Promocional $60/mes *LOS PRIMEROS 3 MESES, LUEGO $750 Acceso ilimitado a www.eldia.com Full Promo',\n",
       " 'cional $90/mes *LOS PRIMEROS 3 MESES, LUEGO $950 Acceso ilimitado a www.eldia.com Acceso a la versió',\n",
       " 'n PDF Beneficios Club El Día POR MES* Diario El Día de La Plata, fundado el 2 de Marzo de 1884. © 20',\n",
       " '23  El Día  SA - Todos los derechos reservados.  Registro D.N.D.A Nº RL-2019-04027819-APN-DNDA#MJ Pr',\n",
       " 'opietario El Día SAICYF. Edición Nro. 6986 Director: Raúl Kraiselburd. Diag. 80 Nro. 815 - La Plata ',\n",
       " '- Pcia. de Bs. As. Bienvenido Estimado lector, muchas gracias por su interés en nuestras notas. Hemo',\n",
       " 's incorporado el registro con el objetivo de mejorar la información que le brindamos de acuerdo a su',\n",
       " 's intereses. Para más información haga clic aquí Si ya tiene cuenta en www.eldia.com, ingrese sus da',\n",
       " 'tos Si aún no tiene cuenta en El Día, haga click en el siguiente botón:   Ante cualquier inconvenien',\n",
       " 'te durante el inicio de sesión, por favor escribanos a sistemas@eldia.com Bienvenido \\n\\t\\t\\t\\t\\tEstimado ',\n",
       " 'lector, con sólo registrarse tendrá acceso a 80 artículos por mes en forma gratuita. Para más inform',\n",
       " 'ación haga clic aquí\\n DATOS PERSONALES NOMRE DE USUARIO Y CLAVE (Entre 6 y 12 caracteres. No se acep',\n",
       " 'tan  ñ-Ñ, tildes, diéresis, símbolos y espacios) Si ya tiene cuenta en El Día, haga click en el sigu',\n",
       " 'iente botón: Ante cualquier inconveniente durante el inicio de sesión, por favor escribanos a sistem',\n",
       " 'as@eldia.com \\nSe enviará un correo electrónico a la casilla de email que coloque, la cual deberá est',\n",
       " 'ar asociada a su cuenta. Luego, siga las instrucciones de dicho correo para continuar con el proceso',\n",
       " ' de restablecimiento de la cuenta.\\n ¿Querés recibir notificaciones de alertas?  ']"
      ]
     },
     "execution_count": 34,
     "metadata": {},
     "output_type": "execute_result"
    }
   ],
   "source": [
    "text = df['content'][1]\n",
    "view_string(text)"
   ]
  },
  {
   "cell_type": "code",
   "execution_count": 28,
   "metadata": {},
   "outputs": [
    {
     "name": "stdout",
     "output_type": "stream",
     "text": [
      "El colombiano Otoniel, el mayor barón de la cocaína de este siglo. El colombiano, condenado a 45 años de cárcel por narcotráfico, se ha comparado con Pablo Escobar\n"
     ]
    }
   ],
   "source": [
    "input_ids = tokenizer(text, return_tensors=\"pt\").input_ids\n",
    "output_ids = model.generate(input_ids, max_new_tokens=100)[0]\n",
    "print(tokenizer.decode(output_ids, skip_special_tokens=True,   ))"
   ]
  },
  {
   "cell_type": "code",
   "execution_count": null,
   "metadata": {},
   "outputs": [],
   "source": [
    "input_ids = tokenizer(text, return_tensors=\"pt\").input_ids\n",
    "output_ids = model.generate(input_ids, max_new_tokens=300, penalty_alpha=0.6, top_k=4,)[0]\n",
    "print(tokenizer.decode(output_ids, skip_special_tokens=True))"
   ]
  }
 ],
 "metadata": {
  "kernelspec": {
   "display_name": ".willow",
   "language": "python",
   "name": ".willow"
  },
  "language_info": {
   "codemirror_mode": {
    "name": "ipython",
    "version": 3
   },
   "file_extension": ".py",
   "mimetype": "text/x-python",
   "name": "python",
   "nbconvert_exporter": "python",
   "pygments_lexer": "ipython3",
   "version": "3.9.13"
  },
  "orig_nbformat": 4
 },
 "nbformat": 4,
 "nbformat_minor": 2
}
