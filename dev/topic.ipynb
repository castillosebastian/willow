{
 "cells": [
  {
   "cell_type": "markdown",
   "metadata": {},
   "source": [
    "# Topic"
   ]
  },
  {
   "cell_type": "code",
   "execution_count": 3,
   "metadata": {},
   "outputs": [],
   "source": [
    "import polars as pl\n",
    "\n",
    "def view_string(long_string, chunk_size=100):     \n",
    "    return [long_string[i:i+chunk_size] for i in range(0, len(long_string), chunk_size)]\n",
    "df = pl.read_csv('/home/sebacastillo/willow/output/sample.csv')"
   ]
  },
  {
   "cell_type": "code",
   "execution_count": 4,
   "metadata": {},
   "outputs": [
    {
     "data": {
      "text/plain": [
       "['LOS POTRILLOS. La docente fue arrojada sin vida con la cabeza rota y las marcas de las esposas en es',\n",
       " 'te sector de Garupá. Los efectivos policiales Aníbal Aldo Gabriel Villalba, hoy de 36 años, y el Lui',\n",
       " 's Albino Rotela de 44, serán juzgados a partir de mañana por el Tribunal Penal 2 de Posadas por vari',\n",
       " 'as acusaciones vinculadas a la muerte violenta de la docente Mirta Carmen Rosa (47) hallada sin vida',\n",
       " ' en el barrio Los Potrillos de Garupá, el 14 de febrero de 2013. El oficial Villalba se encuentra im',\n",
       " 'putado por “incumplimiento de los deberes de funcionario público, abandono de persona agravado por e',\n",
       " 'l resultado de muerte en concurso ideal y falsificación ideológica de instrumento público en concurs',\n",
       " 'o real”. La acusación para el suboficial Rotela se diferencia únicamente en que no está sospechado d',\n",
       " 'e “falsificación ideológica”. El crimen de Mirta Rosa sacudió la opinión pública y se enmarcaría en ',\n",
       " 'uno de los casos más graves de violencia institucional. Ocurrió el jueves 14 de febrero de 2013 y la',\n",
       " ' víctima fue una docente jubilada que padecía esquizofrenia. Su cadáver apareció en un descampado de',\n",
       " 'l barrio Los Potrillos de Garupá. Tenía lesiones gravísimas en el cráneo y otras partes del cuerpo, ',\n",
       " 'entre ellas rotura del tabique nasal y estallido de vejiga. Pero también sus muñecas tenían marcas d',\n",
       " 'e la sujeción de esposas. Entre las circunstancias de su muerte e intento por ocultarla fue el recla',\n",
       " 'mo de la propia familia de la víctima que aportó el testimonio revelador de un matrimonio que asegur',\n",
       " 'ó haberla asistido ese día, poco después del mediodía, porque se acercó a pedir agua para beber y es',\n",
       " 'taba claramente desorientada. Llamaron a la Policía y una patrulla de la comisaría Quinta (de la Uni',\n",
       " 'dad Regional X) fue a buscarla. En esa camioneta viajaban el oficial Aníbal Villalba y el sargento L',\n",
       " 'uis Rotela la habría ubicado y presuntamente trasladado a la seccional para que la asistieran. De ac',\n",
       " 'uerdo al expediente la llevaron y por algún motivo su cuerpo apareció sin vida en Los Potrillos y ni',\n",
       " 'nguno de los dos uniformados reconoció que, horas antes, se la habían llevado del domicilio de los v',\n",
       " 'ecinos que pidieron la ayuda a quienes, por función y carga pública, debían cuidarla y no haberla ar',\n",
       " 'rojado golpeada y sin vida en un descampado. La situación procesal de ambos acusados se inició con l',\n",
       " 'as actuaciones del juez de Instrucción 6, Ricardo Walter Balor, quien los imputó por “homicidio agra',\n",
       " 'vado”. Con posterioridad, el Tribunal Penal 1, que hace diez años cumplía también las veces de Cámar',\n",
       " 'a de Apelaciones, revocó la calificación. Entendió, en coincidencia con los planteos de la defensa, ',\n",
       " 'que no se probaría el dolo, la intención de matar, y de esta manera no había fundamentos para sosten',\n",
       " 'er la hipótesis del homicidio. El juez Balor se apartó de la causa y recayó en el Juzgado de Instruc',\n",
       " 'ción 7, en ese momento a cargo de José Alberto López. Este juez los excarceló posteriormente en medi',\n",
       " 'o de un polémico episodio en el que el padre de uno de los detenidos se trepó a una antena de comuni',\n",
       " 'caciones de Casa de Gobierno. Meses después, los planteos de las defensas pasaron a la flamante Cáma',\n",
       " 'ra de Apelaciones en lo Penal y de Menores de la provincia. El juez José López fue designado preside',\n",
       " 'nte de la cámara y no pudo intervenir, en virtud de que lo había hecho en la etapa de instrucción. D',\n",
       " 'e todas maneras, el expediente continuó en manos de Carlos Jorge Giménez, sucesor al frente del Juzg',\n",
       " 'ado 7. Dio por terminada la investigación y giró el expediente a la Fiscalía, que posteriormente con',\n",
       " 'cretó el requerimiento de elevación a juicio con la imputación modificada. La fiscal María Laura Álv',\n",
       " 'arez, por subrogación, solicitó en agosto de 2015 que los dos policías vayan a juicio oral y público',\n",
       " '. El Tribunal Penal 2 estará conformado por los jueces Gregorio Augusto Busse, César Antonio Yaya y ',\n",
       " 'Fernando Luis Verón. Este último, en función de segundo vocal subrogante ya que Carlos Jorge Giménez',\n",
       " ' es camarista actualmente de este TP pero debe inhibirse por haber participado el expediente en su e',\n",
       " 'tapa de instrucción. La acusación corresponderá al fiscal Vladimir Glinka. Diario Primera EdiciónCor',\n",
       " 'rientes 2434, Posadas, MisionesTodos los derechos reservados © 2022']"
      ]
     },
     "execution_count": 4,
     "metadata": {},
     "output_type": "execute_result"
    }
   ],
   "source": [
    "text = df['content'][1]\n",
    "view_string(text)"
   ]
  },
  {
   "cell_type": "code",
   "execution_count": 6,
   "metadata": {},
   "outputs": [],
   "source": [
    "text = df['content'].to_list()"
   ]
  },
  {
   "cell_type": "code",
   "execution_count": null,
   "metadata": {},
   "outputs": [],
   "source": [
    "from bertopic import BERTopic\n",
    "\n",
    "topic_model = BERTopic(language=\"english\", calculate_probabilities=True, verbose=True)\n",
    "topics, probs = topic_model.fit_transform(text)"
   ]
  },
  {
   "cell_type": "markdown",
   "metadata": {},
   "source": [
    "ERROR: necesito trabajar con corpus más grande"
   ]
  },
  {
   "cell_type": "markdown",
   "metadata": {},
   "source": [
    "# Traditional model"
   ]
  },
  {
   "cell_type": "code",
   "execution_count": 1,
   "metadata": {},
   "outputs": [
    {
     "name": "stderr",
     "output_type": "stream",
     "text": [
      "/home/sebacastillo/.willow/lib/python3.9/site-packages/scipy/__init__.py:132: UserWarning: A NumPy version >=1.21.6 and <1.28.0 is required for this version of SciPy (detected version 1.21.4)\n",
      "  warnings.warn(f\"A NumPy version >={np_minversion} and <{np_maxversion}\"\n"
     ]
    }
   ],
   "source": [
    "from sklearn.feature_extraction.text import TfidfVectorizer"
   ]
  },
  {
   "cell_type": "code",
   "execution_count": 6,
   "metadata": {},
   "outputs": [
    {
     "name": "stdout",
     "output_type": "stream",
     "text": [
      "{'próximos', 'saben', 'hablan', 'tuya', 'dan', 'excepto', 'unas', 'usan', 'pasado', 'mias', 'bueno', 'alguno', 'aproximadamente', 'mi', 'nuevos', 'todas', 'ver', 'grande', 'realizar', 'aquel', 'e', 'antes', 'pues', 'tus', 'ésos', 'cuantas', 'conocer', 'añadió', 'consigo', 'mia', 'aquella', 'atras', 'ni', 'tampoco', 'qeu', 'era', 'la', 'posible', 'esto', 'dicen', 'ése', 'nuestras', 'doce', 'pronto', 'modo', 'tuyo', 'esos', 'quienes', 'ademas', 'sobre', 'despacio', 'ultimo', 'mas', 'señaló', 'unos', 'sera', 'mencionó', 'delante', 'estará', 'menudo', 'uso', 'al', 'demasiado', 'ésa', 'fuera', 'cuantos', 'usar', 'consideró', 'varios', 'hacer', 'nosotras', 'éstas', 'contigo', 'tenido', 'le', 'suyos', 'cuales', 'aquélla', 'dentro', 'primera', 'mismos', 'suya', 'primero', 'gran', 'estos', 'nuestro', 'cinco', 'esta', 'solos', 'cuántos', 'diez', 'enfrente', 'aún', 'cuáles', 'ningunos', 'verdadero', 'vais', 'con', 'fui', 'os', 'propias', 'voy', 'hubo', 'usamos', 'tan', 'he', 'ser', 'ciertos', 'nada', 'hecho', 'fin', 'largo', 'muy', 'todavia', 'llevar', 'ellos', 'solo', 'haciendo', 'son', 'cuánto', 'debajo', 'estas', 'breve', 'ya', 'mismas', 'trata', 'siguiente', 'ustedes', 'indicó', 'para', 'verdad', 'poca', 'pocas', 'queremos', 'casi', 'temprano', 'tengo', 'entonces', 'lleva', 'tienen', 'un', 'sería', 'soy', 'cuando', 'esas', 'tres', 'ésta', 'haces', 'respecto', 'cierta', 'propio', 'eras', 'cuanta', 'ambos', 'lado', 'hoy', 'quizas', 'vosotras', 'está', 'estuvo', 'las', 'últimas', 'asi', 'dicho', 'buenos', 'hago', 'siete', 'nueva', 'podrían', 'serán', 'diferentes', 'igual', 'mayor', 'míos', 'pocos', 'menos', 'tuvo', 'repente', 'eso', 'y', 'mis', 'solamente', 'nosotros', 'nuevas', 'sin', 'vuestra', 'mí', 'ir', 'están', 'tal', 'solas', 'través', 'salvo', 'dieron', 'sabe', 'después', 'estais', 'buen', 'se', 'uno', 'última', 'teneis', 'arriba', 'habla', 'considera', 'éste', 'hicieron', 'veces', 'pudo', 'dia', 'afirmó', 'mucho', 'día', 'ningunas', 'embargo', 'propios', 'puedo', 'vuestros', 'deprisa', 'tercero', 'estaba', 'siendo', 'aquí', 'sabeis', 'allí', 'de', 'estamos', 'podría', 'hay', 'informo', 'dado', 'dice', 'tras', 'algún', 'estaban', 'ha', 'hacemos', 'como', 'mediante', 'su', 'pueda', 'todavía', 'podrán', 'nuestra', 'aunque', 'poco', 'encuentra', 'ellas', 'segunda', 'buena', 'quedó', 'despues', 'paìs', 'bajo', 'hemos', 'habían', 'que', 'conseguimos', 'eres', 'pasada', 'supuesto', 'nuestros', 'ahora', 'van', 'debe', 'hacia', 'explicó', 'tener', 'estar', 'días', 'ahí', 'eran', 'aquellos', 'hizo', 'según', 'todo', 'consiguen', 'habia', 'dejó', 'cada', 'tercera', 'desde', 'debido', 'ante', 'fue', 'había', 'claro', 'dijeron', 'otros', 'tú', 'quiere', 'quién', 'proximo', 'adelante', 'será', 'aseguró', 'último', 'cuándo', 'es', 'sois', 'aquéllas', 'podrias', 'hacen', 'además', 'segundo', 'propia', 'u', 'algunas', 'dio', 'junto', 'luego', 'conseguir', 'existen', 'tuyas', 'tuyos', 'informó', 'vuestras', 'usted', 'agregó', 'va', 'los', 'parte', 'podria', 'este', 'tenía', 'medio', 'bien', 'quizás', 'once', 'éstos', 'durante', 'sola', 'ese', 'cualquier', 'ningún', 'final', 'entre', 'comentó', 'siempre', 'realizado', 'nuevo', 'saber', 'el', 'anterior', 'podrian', 'llegó', 'demás', 'por', 'primer', 'eramos', 'ninguna', 'quizá', 'bastante', 'tenemos', 'ocho', 'alguna', 'pero', 'nunca', 'mientras', 'podriamos', 'otro', 'algo', 'cuál', 'o', 'han', 'mío', 'mio', 'primeros', 'ello', 'aquellas', 'en', 'ésas', 'cuatro', 'cuanto', 'cómo', 'vamos', 'fuimos', 'podrá', 'cierto', 'suyo', 'peor', 'nos', 'sino', 'mios', 'dar', 'expresó', 'tambien', 'mejor', 'estoy', 'consigue', 'alli', 'mucha', 'haceis', 'del', 'últimos', 'qué', 'tanto', 'a', 'tendrá', 'yo', 'algunos', 'total', 'decir', 'manera', 'habrá', 'cual', 'mía', 'seis', 'consigues', 'apenas', 'aun', 'grandes', 'cuántas', 'así', 'alrededor', 'fueron', 'más', 'vez', 'vuestro', 'muchos', 'nueve', 'somos', 'poder', 'detrás', 'poner', 'aquéllos', 'si', 'estados', 'da', 'detras', 'toda', 'sé', 'cuenta', 'todos', 'dijo', 'ahi', 'esa', 'puede', 'cuánta', 'contra', 'porque', 'tarde', 'segun', 'usa', 'manifestó', 'incluso', 'tenga', 'estan', 'deben', 'también', 'tu', 'vaya', 'usas', 'sólo', 'pesar', 'ciertas', 'te', 'hasta', 'ti', 'suyas', 'otra', 'dias', 'mías', 'hace', 'partir', 'les', 'mismo', 'haber', 'él', 'mal', 'sabemos', 'buenas', 'sus', 'varias', 'tiene', 'vosotros', 'hacerlo', 'enseguida', 'pueden', 'existe', 'quiénes', 'lo', 'tendrán', 'sí', 'sido', 'nadie', 'realizó', 'conmigo', 'haya', 'diferente', 'no', 'usais', 'otras', 'muchas', 'creo', 'acuerdo', 'donde', 'quiza', 'sea', 'ella', 'verdadera', 'me', 'parece', 'dónde', 'encima', 'podemos', 'podriais', 'podeis', 'aqui', 'misma', 'aquello', 'una', 'quien', 'sigue', 'estado', 'aquél', 'sabes', 'sean', 'dos', 'próximo', 'ninguno'}\n"
     ]
    }
   ],
   "source": [
    "import spacy\n",
    "from spacy.lang.en.examples import sentences\n",
    "es = spacy.load(\"es_core_news_sm\")\n",
    "stopwords = spacy.lang.es.stop_words.STOP_WORDS\n",
    "print(stopwords)"
   ]
  },
  {
   "cell_type": "code",
   "execution_count": 5,
   "metadata": {},
   "outputs": [
    {
     "ename": "NameError",
     "evalue": "name 'text' is not defined",
     "output_type": "error",
     "traceback": [
      "\u001b[0;31m---------------------------------------------------------------------------\u001b[0m",
      "\u001b[0;31mNameError\u001b[0m                                 Traceback (most recent call last)",
      "Cell \u001b[0;32mIn[5], line 2\u001b[0m\n\u001b[1;32m      1\u001b[0m tfidf_text_vectorizer \u001b[39m=\u001b[39m TfidfVectorizer(stop_words\u001b[39m=\u001b[39m\u001b[39mlist\u001b[39m(stopwords), min_df\u001b[39m=\u001b[39m\u001b[39m5\u001b[39m, max_df\u001b[39m=\u001b[39m\u001b[39m0.7\u001b[39m)\n\u001b[0;32m----> 2\u001b[0m tfidf_text_vectors \u001b[39m=\u001b[39m tfidf_text_vectorizer\u001b[39m.\u001b[39mfit_transform(text)\n\u001b[1;32m      3\u001b[0m tfidf_text_vectors\u001b[39m.\u001b[39mshape\n",
      "\u001b[0;31mNameError\u001b[0m: name 'text' is not defined"
     ]
    }
   ],
   "source": [
    "tfidf_text_vectorizer = TfidfVectorizer(stop_words=list(stopwords), min_df=5, max_df=0.7)\n",
    "tfidf_text_vectors = tfidf_text_vectorizer.fit_transform(text)\n",
    "tfidf_text_vectors.shape"
   ]
  },
  {
   "cell_type": "code",
   "execution_count": null,
   "metadata": {},
   "outputs": [],
   "source": [
    "/html/body"
   ]
  }
 ],
 "metadata": {
  "kernelspec": {
   "display_name": ".willow",
   "language": "python",
   "name": ".willow"
  },
  "language_info": {
   "codemirror_mode": {
    "name": "ipython",
    "version": 3
   },
   "file_extension": ".py",
   "mimetype": "text/x-python",
   "name": "python",
   "nbconvert_exporter": "python",
   "pygments_lexer": "ipython3",
   "version": "3.9.13"
  },
  "orig_nbformat": 4
 },
 "nbformat": 4,
 "nbformat_minor": 2
}
