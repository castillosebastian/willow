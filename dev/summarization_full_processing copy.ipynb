{
 "cells": [
  {
   "cell_type": "markdown",
   "metadata": {},
   "source": [
    "# NER full processing"
   ]
  },
  {
   "cell_type": "code",
   "execution_count": 1,
   "metadata": {},
   "outputs": [],
   "source": [
    "import polars as pl\n",
    "import re \n",
    "import time\n",
    "def view_string(long_string, chunk_size=100):     \n",
    "    return [long_string[i:i+chunk_size] for i in range(0, len(long_string), chunk_size)]"
   ]
  },
  {
   "cell_type": "code",
   "execution_count": 2,
   "metadata": {},
   "outputs": [],
   "source": [
    "df = pl.read_csv('/home/sebacastillo/willow/output/news_narcotráfico_related_2023-08-12_1735.csv')"
   ]
  },
  {
   "cell_type": "code",
   "execution_count": 3,
   "metadata": {},
   "outputs": [
    {
     "name": "stdout",
     "output_type": "stream",
     "text": [
      "{'date_extract': 0, 'date_article': 0, 'topic': 0, 'content': 0, 'link': 0, 'authors': 0, 'portal': 0, 'state': 0, 'city': 0}\n"
     ]
    }
   ],
   "source": [
    "null_counts = {col: df.filter(df[col].is_null()).shape[0] for col in df.columns}\n",
    "print(null_counts)"
   ]
  },
  {
   "cell_type": "code",
   "execution_count": 4,
   "metadata": {},
   "outputs": [],
   "source": [
    "# Process the dataframe and create the content_hash column\n",
    "df_processed = (\n",
    "    df.with_columns([\n",
    "        pl.col('date_extract').str.strptime(pl.Date, format='%Y-%m-%d %H:%M:%s', strict=True),\n",
    "        pl.col('date_article').str.slice(0, 10).str.strptime(pl.Date, format='%Y-%m-%d'),\n",
    "        pl.col(\"content\").str.n_chars().alias(\"content_nchar\"),\n",
    "        pl.col(\"content\").hash().alias(\"content_hash\"),\n",
    "        # Add other columns/transformations as required\n",
    "          # Replace new lines and tabs with a single space, then replace multiple spaces with a single space\n",
    "        pl.col(\"content\").str.replace_all(r\"[\\n\\t]+\", \" \")\n",
    "        .str.replace_all(r\"\\s{2,}\", \" \")\n",
    "        .str.strip().str.strip().alias(\"content_cleaned\"),  # Adjusted\n",
    "    ])\n",
    ")\n",
    "\n",
    "# Group by the content_hash to find duplicates\n",
    "df_duplicated = df_processed.groupby(\"content_hash\").agg(pl.col(\"content_hash\").count().alias(\"count\"))\n",
    "\n",
    "# Join this information back to the original dataframe and add the duplicated_content column\n",
    "df_final = (\n",
    "    df_processed\n",
    "    .join(df_duplicated, on=\"content_hash\")\n",
    "    .with_columns([\n",
    "        (pl.col('count') > 1).alias('duplicated_content')\n",
    "    ])\n",
    ")"
   ]
  },
  {
   "cell_type": "code",
   "execution_count": 5,
   "metadata": {},
   "outputs": [],
   "source": [
    "df_final = df_final.filter(pl.col(\"duplicated_content\") == False)"
   ]
  },
  {
   "cell_type": "code",
   "execution_count": 7,
   "metadata": {},
   "outputs": [
    {
     "data": {
      "text/plain": [
       "(123, 14)"
      ]
     },
     "execution_count": 7,
     "metadata": {},
     "output_type": "execute_result"
    }
   ],
   "source": [
    "df_final.shape"
   ]
  },
  {
   "cell_type": "code",
   "execution_count": 11,
   "metadata": {},
   "outputs": [],
   "source": [
    "articles = df_final['content_cleaned'].to_list()"
   ]
  },
  {
   "cell_type": "code",
   "execution_count": 8,
   "metadata": {},
   "outputs": [],
   "source": [
    "from transformers import AutoModelForSeq2SeqLM, AutoTokenizer\n",
    "model_str = \"IIC/mt5-spanish-mlsum\"\n",
    "tokenizer = AutoTokenizer.from_pretrained(model_str)\n",
    "model = AutoModelForSeq2SeqLM.from_pretrained(model_str)"
   ]
  },
  {
   "cell_type": "code",
   "execution_count": null,
   "metadata": {},
   "outputs": [],
   "source": [
    "articles_summaries = []\n",
    "for article in articles:\n",
    "    input_ids = tokenizer(article, return_tensors=\"pt\").input_ids\n",
    "    articles_tokenized.append(input_ids)\n",
    "    output_ids = model.generate(input_ids, max_new_tokens=200, penalty_alpha=0.6, top_k=4,)[0]\n",
    "    summary = tokenizer.decode(output_ids, skip_special_tokens=True)\n",
    "    articles_summaries.append(summary)"
   ]
  },
  {
   "cell_type": "code",
   "execution_count": null,
   "metadata": {},
   "outputs": [],
   "source": []
  },
  {
   "cell_type": "code",
   "execution_count": null,
   "metadata": {},
   "outputs": [],
   "source": [
    "df_combined.write_csv('summaries.csv')"
   ]
  }
 ],
 "metadata": {
  "kernelspec": {
   "display_name": ".willow",
   "language": "python",
   "name": ".willow"
  },
  "language_info": {
   "codemirror_mode": {
    "name": "ipython",
    "version": 3
   },
   "file_extension": ".py",
   "mimetype": "text/x-python",
   "name": "python",
   "nbconvert_exporter": "python",
   "pygments_lexer": "ipython3",
   "version": "3.9.13"
  },
  "orig_nbformat": 4
 },
 "nbformat": 4,
 "nbformat_minor": 2
}
