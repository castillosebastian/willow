{
 "cells": [
  {
   "cell_type": "markdown",
   "metadata": {},
   "source": [
    "# NER"
   ]
  },
  {
   "cell_type": "code",
   "execution_count": 1,
   "metadata": {},
   "outputs": [],
   "source": [
    "import polars as pl\n",
    "\n",
    "def view_string(long_string, chunk_size=100):     \n",
    "    return [long_string[i:i+chunk_size] for i in range(0, len(long_string), chunk_size)]"
   ]
  },
  {
   "cell_type": "code",
   "execution_count": 2,
   "metadata": {},
   "outputs": [],
   "source": [
    "df = pl.read_csv('/home/sebacastillo/willow/output/sample.csv')"
   ]
  },
  {
   "cell_type": "code",
   "execution_count": 3,
   "metadata": {},
   "outputs": [
    {
     "data": {
      "text/plain": [
       "['date_extract', 'date_article', 'content', 'link', 'authors']"
      ]
     },
     "execution_count": 3,
     "metadata": {},
     "output_type": "execute_result"
    }
   ],
   "source": [
    "df.columns"
   ]
  },
  {
   "cell_type": "code",
   "execution_count": 4,
   "metadata": {},
   "outputs": [],
   "source": [
    "text = df['content'][0]"
   ]
  },
  {
   "cell_type": "code",
   "execution_count": 5,
   "metadata": {},
   "outputs": [
    {
     "data": {
      "text/plain": [
       "['9 Ago, 2023 La fiscal Silvia Bussano, de la UFI N°7 de Lanús, no tiene aún en sus manos el informe p',\n",
       " 'reliminar de la autopsia, pero sí los forenses que analizaron el cuerpo de Morena Domínguez le adela',\n",
       " 'ntaron sus conclusiones: la nena de 11 murió a causa de una hemorragia interna producto de una grave',\n",
       " ' lesión en el hígado. Así se lo confirmaron a Infobae fuentes de la investigación. “La autopsia reve',\n",
       " 'ló que la nena falleció por un desgarro en el hígado producto del golpe profundo que recibió”, expli',\n",
       " 'caron sobre los resultados de la pericia que se realizó en la Morgue Judicial de Lomas de Zamora. O ',\n",
       " 'sea, los asesinos la piña en la panza que le dieron a la nena fue mortal. Por el crimen de Morena ha',\n",
       " 'y dos detenidos: se trata de los hermanos Darío Humberto Madariaga, alias Lolo y de 25 años; y Migue',\n",
       " 'l Ángel Madariaga, de 28.  Ambos están acusados del delito de “homicidio en ocasión de robo en concu',\n",
       " 'rso real con encubrimiento”. Es que, fuentes del caso adelantaron que la moto utilizada para atacar ',\n",
       " 'a Morena tenía pedido de secuestro por un hecho ocurrido este martes. Noticia en desarrollo']"
      ]
     },
     "execution_count": 5,
     "metadata": {},
     "output_type": "execute_result"
    }
   ],
   "source": [
    "view_string(text)"
   ]
  },
  {
   "cell_type": "code",
   "execution_count": 6,
   "metadata": {},
   "outputs": [
    {
     "data": {
      "text/plain": [
       "1091"
      ]
     },
     "execution_count": 6,
     "metadata": {},
     "output_type": "execute_result"
    }
   ],
   "source": [
    "len(text)"
   ]
  },
  {
   "cell_type": "markdown",
   "metadata": {},
   "source": [
    "# NER"
   ]
  },
  {
   "cell_type": "code",
   "execution_count": 18,
   "metadata": {},
   "outputs": [
    {
     "name": "stderr",
     "output_type": "stream",
     "text": [
      "Some weights of the model checkpoint at mrm8488/bert-spanish-cased-finetuned-ner were not used when initializing BertForTokenClassification: ['bert.pooler.dense.bias', 'bert.pooler.dense.weight']\n",
      "- This IS expected if you are initializing BertForTokenClassification from the checkpoint of a model trained on another task or with another architecture (e.g. initializing a BertForSequenceClassification model from a BertForPreTraining model).\n",
      "- This IS NOT expected if you are initializing BertForTokenClassification from the checkpoint of a model that you expect to be exactly identical (initializing a BertForSequenceClassification model from a BertForSequenceClassification model).\n",
      "Asking to truncate to max_length but no maximum length is provided and the model has no predefined maximum length. Default to no truncation.\n"
     ]
    },
    {
     "data": {
      "text/plain": [
       "[{'entity_group': 'LOC',\n",
       "  'score': 0.99986696,\n",
       "  'word': 'Londres',\n",
       "  'start': None,\n",
       "  'end': None}]"
      ]
     },
     "execution_count": 18,
     "metadata": {},
     "output_type": "execute_result"
    }
   ],
   "source": [
    "from transformers import pipeline\n",
    "\n",
    "nlp_ner = pipeline(\n",
    "    \"ner\",\n",
    "    model=\"mrm8488/bert-spanish-cased-finetuned-ner\",\n",
    "    tokenizer=(\n",
    "        'mrm8488/bert-spanish-cased-finetuned-ner',  \n",
    "        {\"use_fast\": False}),\n",
    "        aggregation_strategy=\"simple\"\n",
    "    )\n",
    "\n",
    "t = 'Mis amigos están pensando viajar a Londres este verano'\n",
    "\n",
    "nlp_ner(t)"
   ]
  },
  {
   "cell_type": "code",
   "execution_count": 19,
   "metadata": {},
   "outputs": [],
   "source": [
    "text_ner = nlp_ner(text)"
   ]
  },
  {
   "cell_type": "code",
   "execution_count": 20,
   "metadata": {},
   "outputs": [
    {
     "data": {
      "text/plain": [
       "list"
      ]
     },
     "execution_count": 20,
     "metadata": {},
     "output_type": "execute_result"
    }
   ],
   "source": [
    "type(text_ner)"
   ]
  },
  {
   "cell_type": "code",
   "execution_count": 21,
   "metadata": {},
   "outputs": [
    {
     "data": {
      "text/plain": [
       "15"
      ]
     },
     "execution_count": 21,
     "metadata": {},
     "output_type": "execute_result"
    }
   ],
   "source": [
    "len(text_ner)"
   ]
  },
  {
   "cell_type": "code",
   "execution_count": 22,
   "metadata": {},
   "outputs": [
    {
     "data": {
      "text/plain": [
       "[{'entity_group': 'PER',\n",
       "  'score': 0.94463617,\n",
       "  'word': 'Silvia Bussano',\n",
       "  'start': None,\n",
       "  'end': None},\n",
       " {'entity_group': 'ORG',\n",
       "  'score': 0.94045573,\n",
       "  'word': 'UFI',\n",
       "  'start': None,\n",
       "  'end': None},\n",
       " {'entity_group': 'LOC',\n",
       "  'score': 0.8206464,\n",
       "  'word': 'Lanús',\n",
       "  'start': None,\n",
       "  'end': None}]"
      ]
     },
     "execution_count": 22,
     "metadata": {},
     "output_type": "execute_result"
    }
   ],
   "source": [
    "text_ner[0:3]"
   ]
  },
  {
   "cell_type": "code",
   "execution_count": 27,
   "metadata": {},
   "outputs": [],
   "source": [
    "from langchain.text_splitter import RecursiveCharacterTextSplitter\n",
    "custom_text_splitter = RecursiveCharacterTextSplitter(\n",
    "    # Set custom chunk size\n",
    "    chunk_size = 400,\n",
    "    chunk_overlap  = 50,\n",
    "    # Use length of the text as the size measure\n",
    "    length_function = len,\n",
    "\n",
    ")\n",
    "\n"
   ]
  },
  {
   "cell_type": "code",
   "execution_count": 28,
   "metadata": {},
   "outputs": [],
   "source": [
    "# Create the chunks\n",
    "texts = custom_text_splitter.create_documents([text])"
   ]
  },
  {
   "cell_type": "code",
   "execution_count": 29,
   "metadata": {},
   "outputs": [
    {
     "data": {
      "text/plain": [
       "[Document(page_content='9 Ago, 2023 La fiscal Silvia Bussano, de la UFI N°7 de Lanús, no tiene aún en sus manos el informe preliminar de la autopsia, pero sí los forenses que analizaron el cuerpo de Morena Domínguez le adelantaron sus conclusiones: la nena de 11 murió a causa de una hemorragia interna producto de una grave lesión en el hígado. Así se lo confirmaron a Infobae fuentes de la investigación. “La autopsia', metadata={}),\n",
       " Document(page_content='Infobae fuentes de la investigación. “La autopsia reveló que la nena falleció por un desgarro en el hígado producto del golpe profundo que recibió”, explicaron sobre los resultados de la pericia que se realizó en la Morgue Judicial de Lomas de Zamora. O sea, los asesinos la piña en la panza que le dieron a la nena fue mortal. Por el crimen de Morena hay dos detenidos: se trata de los hermanos', metadata={}),\n",
       " Document(page_content='hay dos detenidos: se trata de los hermanos Darío Humberto Madariaga, alias Lolo y de 25 años; y Miguel Ángel Madariaga, de 28.  Ambos están acusados del delito de “homicidio en ocasión de robo en concurso real con encubrimiento”. Es que, fuentes del caso adelantaron que la moto utilizada para atacar a Morena tenía pedido de secuestro por un hecho ocurrido este martes. Noticia en desarrollo', metadata={})]"
      ]
     },
     "execution_count": 29,
     "metadata": {},
     "output_type": "execute_result"
    }
   ],
   "source": [
    "texts"
   ]
  },
  {
   "cell_type": "code",
   "execution_count": 30,
   "metadata": {},
   "outputs": [
    {
     "data": {
      "text/plain": [
       "list"
      ]
     },
     "execution_count": 30,
     "metadata": {},
     "output_type": "execute_result"
    }
   ],
   "source": [
    "type(texts)"
   ]
  },
  {
   "cell_type": "markdown",
   "metadata": {},
   "source": [
    "# NER LONG DOCUMENTS"
   ]
  },
  {
   "cell_type": "code",
   "execution_count": 7,
   "metadata": {},
   "outputs": [
    {
     "name": "stderr",
     "output_type": "stream",
     "text": [
      "/home/sebacastillo/.willow/lib/python3.9/site-packages/scipy/__init__.py:132: UserWarning: A NumPy version >=1.21.6 and <1.28.0 is required for this version of SciPy (detected version 1.21.4)\n",
      "  warnings.warn(f\"A NumPy version >={np_minversion} and <{np_maxversion}\"\n"
     ]
    }
   ],
   "source": [
    "from transformers import pipeline"
   ]
  },
  {
   "cell_type": "code",
   "execution_count": 58,
   "metadata": {},
   "outputs": [],
   "source": [
    "import spacy\n",
    "from langchain.text_splitter import RecursiveCharacterTextSplitter\n",
    "\n",
    "# Load Spanish stopwords from spacy\n",
    "nlp = spacy.load(\"es_core_news_sm\")\n",
    "spanish_stopwords_spacy = spacy.lang.es.stop_words.STOP_WORDS\n",
    "\n",
    "def remove_stopwords(text):\n",
    "    \"\"\"Remove Spanish stopwords from the text.\"\"\"\n",
    "    return \" \".join([word for word in text.split() if word not in spanish_stopwords_spacy])\n",
    "\n",
    "def langchain_chunk_text(text):\n",
    "    \n",
    "    # Remove stopwords\n",
    "    # text = remove_stopwords(text)\n",
    "    \n",
    "    # Define a basic whitespace tokenizer\n",
    "    def whitespace_tokenizer(text):\n",
    "        return text.split()\n",
    "\n",
    "    custom_text_splitter = RecursiveCharacterTextSplitter(\n",
    "        chunk_size=400,\n",
    "        chunk_overlap=60,\n",
    "        length_function = len,\n",
    "        #length_function=lambda x: len(whitespace_tokenizer(x))\n",
    "    )\n",
    "    \n",
    "    # Create the chunks using langchain\n",
    "    documents = custom_text_splitter.create_documents([text])\n",
    "    \n",
    "    # Extract the text content from the resulting Document objects\n",
    "    chunks = [doc.page_content for doc in documents]\n",
    "    \n",
    "    return chunks\n",
    "\n",
    "\n",
    "def ner_on_large_document(text):\n",
    "    nlp_ner = pipeline(\n",
    "        \"ner\",\n",
    "        model=\"mrm8488/bert-spanish-cased-finetuned-ner\",\n",
    "        #model=\"PlanTL-GOB-ES/roberta-base-bne-capitel-ner\",\n",
    "        #tokenizer=('mrm8488/bert-spanish-cased-finetuned-ner', {\"use_fast\": False}),\n",
    "        #aggregation_strategy=\"simple\"\n",
    "        aggregation_strategy=\"max\" # more precision!\n",
    "        #aggregation_strategy=\"average\"\n",
    "    )\n",
    "\n",
    "    chunks = langchain_chunk_text(text)\n",
    "    all_ner_results = []\n",
    "\n",
    "    for chunk in chunks:\n",
    "        ner_results = nlp_ner(chunk)\n",
    "        all_ner_results.extend(ner_results)\n",
    "\n",
    "    return all_ner_results\n",
    "\n",
    "\n"
   ]
  },
  {
   "cell_type": "code",
   "execution_count": 41,
   "metadata": {},
   "outputs": [
    {
     "data": {
      "text/plain": [
       "'9 Ago, 2023 La fiscal Silvia Bussano, de la UFI N°7 de Lanús, no tiene aún en sus manos el informe preliminar de la autopsia, pero sí los forenses que analizaron el cuerpo de Morena Domínguez le adelantaron sus conclusiones: la nena de 11 murió a causa de una hemorragia interna producto de una grave lesión en el hígado. Así se lo confirmaron a Infobae fuentes de la investigación. “La autopsia reveló que la nena falleció por un desgarro en el hígado producto del golpe profundo que recibió”, explicaron sobre los resultados de la pericia que se realizó en la Morgue Judicial de Lomas de Zamora. O sea, los asesinos la piña en la panza que le dieron a la nena fue mortal. Por el crimen de Morena hay dos detenidos: se trata de los hermanos Darío Humberto Madariaga, alias Lolo y de 25 años; y Miguel Ángel Madariaga, de 28.  Ambos están acusados del delito de “homicidio en ocasión de robo en concurso real con encubrimiento”. Es que, fuentes del caso adelantaron que la moto utilizada para atacar a Morena tenía pedido de secuestro por un hecho ocurrido este martes. Noticia en desarrollo'"
      ]
     },
     "execution_count": 41,
     "metadata": {},
     "output_type": "execute_result"
    }
   ],
   "source": [
    "text"
   ]
  },
  {
   "cell_type": "code",
   "execution_count": 59,
   "metadata": {},
   "outputs": [
    {
     "name": "stderr",
     "output_type": "stream",
     "text": [
      "Some weights of the model checkpoint at mrm8488/bert-spanish-cased-finetuned-ner were not used when initializing BertForTokenClassification: ['bert.pooler.dense.weight', 'bert.pooler.dense.bias']\n",
      "- This IS expected if you are initializing BertForTokenClassification from the checkpoint of a model trained on another task or with another architecture (e.g. initializing a BertForSequenceClassification model from a BertForPreTraining model).\n",
      "- This IS NOT expected if you are initializing BertForTokenClassification from the checkpoint of a model that you expect to be exactly identical (initializing a BertForSequenceClassification model from a BertForSequenceClassification model).\n",
      "Asking to truncate to max_length but no maximum length is provided and the model has no predefined maximum length. Default to no truncation.\n"
     ]
    },
    {
     "name": "stdout",
     "output_type": "stream",
     "text": [
      "[{'entity_group': 'PER', 'score': 0.9996953, 'word': 'Silvia Bussano', 'start': 22, 'end': 36}, {'entity_group': 'ORG', 'score': 0.99941254, 'word': 'UFI', 'start': 44, 'end': 47}, {'entity_group': 'LOC', 'score': 0.9905323, 'word': 'Lanús', 'start': 55, 'end': 60}, {'entity_group': 'PER', 'score': 0.99846494, 'word': 'Morena Domínguez', 'start': 175, 'end': 191}, {'entity_group': 'ORG', 'score': 0.99982435, 'word': 'Infobae', 'start': 346, 'end': 353}, {'entity_group': 'ORG', 'score': 0.9993494, 'word': 'Infobae', 'start': 2, 'end': 9}, {'entity_group': 'LOC', 'score': 0.9903119, 'word': 'Morgue Judicial', 'start': 218, 'end': 233}, {'entity_group': 'LOC', 'score': 0.9991207, 'word': 'Lomas de Zamora', 'start': 237, 'end': 252}, {'entity_group': 'PER', 'score': 0.9555124, 'word': 'Morena', 'start': 347, 'end': 353}, {'entity_group': 'PER', 'score': 0.6737906, 'word': 'Morena', 'start': 3, 'end': 9}, {'entity_group': 'PER', 'score': 0.9993232, 'word': 'Darío Humberto Madariaga', 'start': 54, 'end': 78}, {'entity_group': 'PER', 'score': 0.9684815, 'word': 'Lolo', 'start': 86, 'end': 90}, {'entity_group': 'PER', 'score': 0.9997814, 'word': 'Miguel Ángel Madariaga', 'start': 107, 'end': 129}, {'entity_group': 'PER', 'score': 0.97716504, 'word': 'Morena', 'start': 314, 'end': 320}]\n"
     ]
    }
   ],
   "source": [
    "# Test\n",
    "results = ner_on_large_document(text)\n",
    "print(results)"
   ]
  },
  {
   "cell_type": "code",
   "execution_count": 60,
   "metadata": {},
   "outputs": [],
   "source": [
    "import pprint"
   ]
  },
  {
   "cell_type": "code",
   "execution_count": 61,
   "metadata": {},
   "outputs": [
    {
     "data": {
      "text/plain": [
       "14"
      ]
     },
     "execution_count": 61,
     "metadata": {},
     "output_type": "execute_result"
    }
   ],
   "source": [
    "len(results)"
   ]
  },
  {
   "cell_type": "code",
   "execution_count": 62,
   "metadata": {},
   "outputs": [
    {
     "name": "stdout",
     "output_type": "stream",
     "text": [
      "[{'end': 36,\n",
      "  'entity_group': 'PER',\n",
      "  'score': 0.9996953,\n",
      "  'start': 22,\n",
      "  'word': 'Silvia Bussano'},\n",
      " {'end': 47,\n",
      "  'entity_group': 'ORG',\n",
      "  'score': 0.99941254,\n",
      "  'start': 44,\n",
      "  'word': 'UFI'},\n",
      " {'end': 60,\n",
      "  'entity_group': 'LOC',\n",
      "  'score': 0.9905323,\n",
      "  'start': 55,\n",
      "  'word': 'Lanús'},\n",
      " {'end': 191,\n",
      "  'entity_group': 'PER',\n",
      "  'score': 0.99846494,\n",
      "  'start': 175,\n",
      "  'word': 'Morena Domínguez'},\n",
      " {'end': 353,\n",
      "  'entity_group': 'ORG',\n",
      "  'score': 0.99982435,\n",
      "  'start': 346,\n",
      "  'word': 'Infobae'},\n",
      " {'end': 9,\n",
      "  'entity_group': 'ORG',\n",
      "  'score': 0.9993494,\n",
      "  'start': 2,\n",
      "  'word': 'Infobae'},\n",
      " {'end': 233,\n",
      "  'entity_group': 'LOC',\n",
      "  'score': 0.9903119,\n",
      "  'start': 218,\n",
      "  'word': 'Morgue Judicial'},\n",
      " {'end': 252,\n",
      "  'entity_group': 'LOC',\n",
      "  'score': 0.9991207,\n",
      "  'start': 237,\n",
      "  'word': 'Lomas de Zamora'},\n",
      " {'end': 353,\n",
      "  'entity_group': 'PER',\n",
      "  'score': 0.9555124,\n",
      "  'start': 347,\n",
      "  'word': 'Morena'},\n",
      " {'end': 9,\n",
      "  'entity_group': 'PER',\n",
      "  'score': 0.6737906,\n",
      "  'start': 3,\n",
      "  'word': 'Morena'},\n",
      " {'end': 78,\n",
      "  'entity_group': 'PER',\n",
      "  'score': 0.9993232,\n",
      "  'start': 54,\n",
      "  'word': 'Darío Humberto Madariaga'},\n",
      " {'end': 90,\n",
      "  'entity_group': 'PER',\n",
      "  'score': 0.9684815,\n",
      "  'start': 86,\n",
      "  'word': 'Lolo'},\n",
      " {'end': 129,\n",
      "  'entity_group': 'PER',\n",
      "  'score': 0.9997814,\n",
      "  'start': 107,\n",
      "  'word': 'Miguel Ángel Madariaga'},\n",
      " {'end': 320,\n",
      "  'entity_group': 'PER',\n",
      "  'score': 0.97716504,\n",
      "  'start': 314,\n",
      "  'word': 'Morena'}]\n"
     ]
    }
   ],
   "source": [
    "pprint.pprint(results)"
   ]
  },
  {
   "cell_type": "markdown",
   "metadata": {},
   "source": [
    "# Traditional NER"
   ]
  },
  {
   "cell_type": "code",
   "execution_count": null,
   "metadata": {},
   "outputs": [],
   "source": [
    "import spacy\n",
    "from spacy.lang.es.examples import sentences \n",
    "doc = text\n",
    "nlp = spacy.load(\"es_core_news_sm\")\n",
    "doc = nlp(doc)\n",
    "print(doc.text)\n",
    "for token in doc:\n",
    "    print(token.text, token.pos_, token.dep_)"
   ]
  },
  {
   "cell_type": "code",
   "execution_count": 67,
   "metadata": {},
   "outputs": [
    {
     "name": "stdout",
     "output_type": "stream",
     "text": [
      "Morena Domínguez\n",
      "Así\n",
      "Infobae\n",
      "Darío Humberto Madariaga\n",
      "Lolo\n",
      "Miguel Ángel Madariaga\n",
      "Morena\n"
     ]
    }
   ],
   "source": [
    "for named_entity in doc.ents:\n",
    "    if named_entity.label_ == \"PER\":\n",
    "        print(named_entity)"
   ]
  },
  {
   "cell_type": "code",
   "execution_count": 68,
   "metadata": {},
   "outputs": [
    {
     "name": "stdout",
     "output_type": "stream",
     "text": [
      "Lanús\n",
      "“\n",
      "Morgue Judicial de Lomas de Zamora\n",
      "O\n",
      "“\n",
      "Noticia\n"
     ]
    }
   ],
   "source": [
    "for named_entity in doc.ents:\n",
    "    if named_entity.label_ == \"LOC\":\n",
    "        print(named_entity)"
   ]
  },
  {
   "cell_type": "markdown",
   "metadata": {},
   "source": [
    "CONCLUSION: EL MODELO DE LENGUAJE TIENE MEJORES RESULTADO"
   ]
  },
  {
   "cell_type": "code",
   "execution_count": null,
   "metadata": {},
   "outputs": [],
   "source": []
  },
  {
   "cell_type": "code",
   "execution_count": 69,
   "metadata": {},
   "outputs": [],
   "source": [
    "ner_doc = pl.DataFrame(results)"
   ]
  },
  {
   "cell_type": "code",
   "execution_count": 70,
   "metadata": {},
   "outputs": [
    {
     "data": {
      "text/html": [
       "<div><style>\n",
       ".dataframe > thead > tr > th,\n",
       ".dataframe > tbody > tr > td {\n",
       "  text-align: right;\n",
       "}\n",
       "</style>\n",
       "<small>shape: (14, 5)</small><table border=\"1\" class=\"dataframe\"><thead><tr><th>entity_group</th><th>score</th><th>word</th><th>start</th><th>end</th></tr><tr><td>str</td><td>f64</td><td>str</td><td>i64</td><td>i64</td></tr></thead><tbody><tr><td>&quot;PER&quot;</td><td>0.999695</td><td>&quot;Silvia Bussano…</td><td>22</td><td>36</td></tr><tr><td>&quot;ORG&quot;</td><td>0.999413</td><td>&quot;UFI&quot;</td><td>44</td><td>47</td></tr><tr><td>&quot;LOC&quot;</td><td>0.990532</td><td>&quot;Lanús&quot;</td><td>55</td><td>60</td></tr><tr><td>&quot;PER&quot;</td><td>0.998465</td><td>&quot;Morena Domíngu…</td><td>175</td><td>191</td></tr><tr><td>&quot;ORG&quot;</td><td>0.999824</td><td>&quot;Infobae&quot;</td><td>346</td><td>353</td></tr><tr><td>&quot;ORG&quot;</td><td>0.999349</td><td>&quot;Infobae&quot;</td><td>2</td><td>9</td></tr><tr><td>&quot;LOC&quot;</td><td>0.990312</td><td>&quot;Morgue Judicia…</td><td>218</td><td>233</td></tr><tr><td>&quot;LOC&quot;</td><td>0.999121</td><td>&quot;Lomas de Zamor…</td><td>237</td><td>252</td></tr><tr><td>&quot;PER&quot;</td><td>0.955512</td><td>&quot;Morena&quot;</td><td>347</td><td>353</td></tr><tr><td>&quot;PER&quot;</td><td>0.673791</td><td>&quot;Morena&quot;</td><td>3</td><td>9</td></tr><tr><td>&quot;PER&quot;</td><td>0.999323</td><td>&quot;Darío Humberto…</td><td>54</td><td>78</td></tr><tr><td>&quot;PER&quot;</td><td>0.968481</td><td>&quot;Lolo&quot;</td><td>86</td><td>90</td></tr><tr><td>&quot;PER&quot;</td><td>0.999781</td><td>&quot;Miguel Ángel M…</td><td>107</td><td>129</td></tr><tr><td>&quot;PER&quot;</td><td>0.977165</td><td>&quot;Morena&quot;</td><td>314</td><td>320</td></tr></tbody></table></div>"
      ],
      "text/plain": [
       "shape: (14, 5)\n",
       "┌──────────────┬──────────┬──────────────────────────┬───────┬─────┐\n",
       "│ entity_group ┆ score    ┆ word                     ┆ start ┆ end │\n",
       "│ ---          ┆ ---      ┆ ---                      ┆ ---   ┆ --- │\n",
       "│ str          ┆ f64      ┆ str                      ┆ i64   ┆ i64 │\n",
       "╞══════════════╪══════════╪══════════════════════════╪═══════╪═════╡\n",
       "│ PER          ┆ 0.999695 ┆ Silvia Bussano           ┆ 22    ┆ 36  │\n",
       "│ ORG          ┆ 0.999413 ┆ UFI                      ┆ 44    ┆ 47  │\n",
       "│ LOC          ┆ 0.990532 ┆ Lanús                    ┆ 55    ┆ 60  │\n",
       "│ PER          ┆ 0.998465 ┆ Morena Domínguez         ┆ 175   ┆ 191 │\n",
       "│ …            ┆ …        ┆ …                        ┆ …     ┆ …   │\n",
       "│ PER          ┆ 0.999323 ┆ Darío Humberto Madariaga ┆ 54    ┆ 78  │\n",
       "│ PER          ┆ 0.968481 ┆ Lolo                     ┆ 86    ┆ 90  │\n",
       "│ PER          ┆ 0.999781 ┆ Miguel Ángel Madariaga   ┆ 107   ┆ 129 │\n",
       "│ PER          ┆ 0.977165 ┆ Morena                   ┆ 314   ┆ 320 │\n",
       "└──────────────┴──────────┴──────────────────────────┴───────┴─────┘"
      ]
     },
     "execution_count": 70,
     "metadata": {},
     "output_type": "execute_result"
    }
   ],
   "source": [
    "ner_doc"
   ]
  }
 ],
 "metadata": {
  "kernelspec": {
   "display_name": ".willow",
   "language": "python",
   "name": ".willow"
  },
  "language_info": {
   "codemirror_mode": {
    "name": "ipython",
    "version": 3
   },
   "file_extension": ".py",
   "mimetype": "text/x-python",
   "name": "python",
   "nbconvert_exporter": "python",
   "pygments_lexer": "ipython3",
   "version": "3.9.13"
  },
  "orig_nbformat": 4
 },
 "nbformat": 4,
 "nbformat_minor": 2
}
