{
 "cells": [
  {
   "cell_type": "markdown",
   "metadata": {},
   "source": [
    "# New filter on summary"
   ]
  },
  {
   "cell_type": "code",
   "execution_count": 2,
   "metadata": {},
   "outputs": [
    {
     "data": {
      "text/html": [
       "<div><style>\n",
       ".dataframe > thead > tr > th,\n",
       ".dataframe > tbody > tr > td {\n",
       "  text-align: right;\n",
       "}\n",
       "</style>\n",
       "<small>shape: (5, 2)</small><table border=\"1\" class=\"dataframe\"><thead><tr><th>sumary</th><th>content_cleaned</th></tr><tr><td>str</td><td>str</td></tr></thead><tbody><tr><td>&quot;El consejo par…</td><td>&quot;Para lograr un…</td></tr><tr><td>&quot;Cómo gastar el…</td><td>&quot;Dólar blue hoy…</td></tr><tr><td>&quot;Bienvenido a E…</td><td>&quot;Estimado lecto…</td></tr><tr><td>&quot;La violencia v…</td><td>&quot;La violencia e…</td></tr><tr><td>&quot;Tres detenidos…</td><td>&quot;27°SAN LUIS - …</td></tr></tbody></table></div>"
      ],
      "text/plain": [
       "shape: (5, 2)\n",
       "┌───────────────────────────────────┬───────────────────────────────────┐\n",
       "│ sumary                            ┆ content_cleaned                   │\n",
       "│ ---                               ┆ ---                               │\n",
       "│ str                               ┆ str                               │\n",
       "╞═══════════════════════════════════╪═══════════════════════════════════╡\n",
       "│ El consejo para ahorrar energía … ┆ Para lograr un uso más eficiente… │\n",
       "│ Cómo gastar el crédito de Previa… ┆ Dólar blue hoy Resultados PASO 2… │\n",
       "│ Bienvenido a El Día de La Plata.… ┆ Estimado lector, muchas gracias … │\n",
       "│ La violencia vuelve a poner en p… ┆ La violencia está a la orden del… │\n",
       "│ Tres detenidos por el homicidio … ┆ 27°SAN LUIS - Lunes 14 de Agosto… │\n",
       "└───────────────────────────────────┴───────────────────────────────────┘"
      ]
     },
     "execution_count": 2,
     "metadata": {},
     "output_type": "execute_result"
    }
   ],
   "source": [
    "import polars as pl\n",
    "df = pl.read_csv('df_clean_contsum.csv')\n",
    "df.head()"
   ]
  },
  {
   "cell_type": "code",
   "execution_count": 3,
   "metadata": {},
   "outputs": [
    {
     "data": {
      "text/plain": [
       "'El consejo para ahorrar energía y agua al utilizar el lavarropa. La Federación Argentina de Cooperativas de Electricidad y Otros Servicios Públicos (FACE) debe dejar una serie de consejos para alcanzar la eficiencia energética'"
      ]
     },
     "execution_count": 3,
     "metadata": {},
     "output_type": "execute_result"
    }
   ],
   "source": [
    "summaries = df['sumary'].to_list()\n",
    "summaries[0]\n"
   ]
  },
  {
   "cell_type": "code",
   "execution_count": 4,
   "metadata": {},
   "outputs": [
    {
     "data": {
      "text/plain": [
       "['narcotráfico',\n",
       " 'drogas',\n",
       " 'cocaína',\n",
       " 'marihuana',\n",
       " 'heroína',\n",
       " 'anfetaminas',\n",
       " 'éxtasis',\n",
       " 'traficante',\n",
       " 'narcos',\n",
       " 'narco',\n",
       " 'estupefacientes',\n",
       " 'incautación',\n",
       " 'dealer',\n",
       " 'mula',\n",
       " 'clandestino',\n",
       " 'cargamento']"
      ]
     },
     "execution_count": 4,
     "metadata": {},
     "output_type": "execute_result"
    }
   ],
   "source": [
    "keywords = pl.read_csv('/home/sebacastillo/willow/data/topics.csv')\n",
    "keywords = keywords['keywords'].to_list()\n",
    "keywords"
   ]
  },
  {
   "cell_type": "code",
   "execution_count": 5,
   "metadata": {},
   "outputs": [],
   "source": [
    "import re\n",
    "from nltk.stem.snowball import SnowballStemmer\n",
    "from gensim.models.keyedvectors import KeyedVectors\n",
    "from bs4 import BeautifulSoup\n",
    "import string\n",
    "import spacy\n",
    "import numpy as np\n",
    "\n",
    "# Stopword and stemer\n",
    "stemmer = SnowballStemmer(\"spanish\")\n",
    "nlp = spacy.load(\"es_core_news_sm\")\n",
    "spanish_stopwords_spacy = spacy.lang.es.stop_words.STOP_WORDS"
   ]
  },
  {
   "cell_type": "code",
   "execution_count": 6,
   "metadata": {},
   "outputs": [],
   "source": [
    "def compute_similarity(string, keywords, wordvec):\n",
    "    \"\"\"\n",
    "    Compute the average similarity score between a list of topic words and all words in a string.\n",
    "    Returns:\n",
    "    - float: The average similarity score.\n",
    "    \"\"\"\n",
    "    text = string.lower()\n",
    "    text = re.sub(r\"https?://\", \"\", text)  # remove http/https\n",
    "    text = re.sub(r\"[\\W_]+\", \" \", text)  # replace non-alphanumeric characters with space\n",
    "    text = re.sub(r\"[0-9]\", \" \", text)  # replace numeric characters with space\n",
    "    string_words = [word for word in text.split() if word not in spanish_stopwords_spacy]\n",
    "\n",
    "    total_scores = []\n",
    "    for keyword in keywords:\n",
    "        # Compute cosine similarity scores\n",
    "        scores = []\n",
    "        for word in string_words:\n",
    "            if word in wordvec:\n",
    "                similarity = wordvec.similarity(word, keyword)\n",
    "                scores.append(similarity)\n",
    "\n",
    "        max_scores = np.max(scores) if scores else 0.0\n",
    "        total_scores.append(max_scores)\n",
    "\n",
    "    # Return average score\n",
    "    return sum(total_scores) / len(total_scores) if total_scores else 0.0\n"
   ]
  },
  {
   "cell_type": "code",
   "execution_count": 7,
   "metadata": {},
   "outputs": [],
   "source": [
    "def load_embeddings(path=\"models/wiki.es.vec\", limit=200000):\n",
    "    \"\"\"\n",
    "    Load the word embeddings from the specified path.\n",
    "    Args:\n",
    "    - path (str): Path to the embeddings model.\n",
    "    - limit (int): Limit the number of word vectors loaded.\n",
    "\n",
    "    Returns:\n",
    "    - KeyedVectors: Loaded word vectors.\n",
    "    \"\"\"\n",
    "    return KeyedVectors.load_word2vec_format(path, limit=limit)"
   ]
  },
  {
   "cell_type": "code",
   "execution_count": 8,
   "metadata": {},
   "outputs": [],
   "source": [
    "def filter_articles_with_similarity(\n",
    "    strings, keywords, wordvectors, similarity_treshold\n",
    "):\n",
    "    \n",
    "    s_second_match = []\n",
    "    s_second_match_score = []\n",
    "\n",
    "    for string in strings:\n",
    "\n",
    "        similarity_score = compute_similarity(string, keywords, wordvectors)\n",
    "        \n",
    "        if similarity_score > similarity_treshold:\n",
    "            s_second_match.append(string)\n",
    "            s_second_match_score.append(similarity_score)\n",
    "\n",
    "    return s_second_match, s_second_match_score"
   ]
  },
  {
   "cell_type": "code",
   "execution_count": 9,
   "metadata": {},
   "outputs": [],
   "source": [
    "from gensim.models.keyedvectors import KeyedVectors\n",
    "word_vectors = load_embeddings(path=\"/home/sebacastillo/willow/models/wiki.es.vec\", limit=200000)"
   ]
  },
  {
   "cell_type": "code",
   "execution_count": null,
   "metadata": {},
   "outputs": [],
   "source": [
    "\n",
    "sumary_match, summary_match_score = filter_articles_with_similarity(\n",
    "                summaries, keywords, word_vectors, 0.2\n",
    "            )\n"
   ]
  },
  {
   "cell_type": "markdown",
   "metadata": {},
   "source": [
    "## Los sumarios Detectados"
   ]
  },
  {
   "cell_type": "code",
   "execution_count": 14,
   "metadata": {},
   "outputs": [
    {
     "name": "stdout",
     "output_type": "stream",
     "text": [
      "SCORE: 0.5583932464942336 - sumary: Un 'punto de venta' de drogas en Posadas. La pareja, dueña del inmueble, terminó detenida por disposición de la Justicia Federal\n",
      "SCORE: 0.6349147893488407 - sumary: Puerto Libertad incauta una tonelada de marihuana y un kilo de cocaína. La cadena del narcotráfico opera en Misiones\n",
      "SCORE: 0.5019646557047963 - sumary: Puerto Iguazú incauta 1.000 termos. La policía argentina desplega un operativo estratégico con el objetivo de combatirel contrabando\n",
      "SCORE: 0.6165540311485529 - sumary: La cocaína de Buenos Aires vuelve a poner en peligro el tráfico de 'capsuleros'. Los narcos han replanteado sus rutas y sus rutas\n",
      "SCORE: 0.5900405887514353 - sumary: La fiscalía acusa a cinco hombres de secuestrar 423 kilos de cocaína en Salta. El conductor y el acompañante de la banda transportaban la droga desde una avioneta\n",
      "SCORE: 0.5588353015482426 - sumary: El nieto de Robert De Niro murió debido a una sobredosis. El joven actor, que tenía en su cuerpo restos de fentanilo, cocaína, ketamina y bromazolam, sospechan que estaban mezcladas con fentanilo\n",
      "SCORE: 0.5480588972568512 - sumary: La adicción a las drogas golpea a distintos sectores. El tratamiento de niños y adolescentes está en riesgo de \"contención\"\n",
      "SCORE: 0.5536569692194462 - sumary: El Tribunal Oral Federal condena a Braian Barraza a cumplir seis años de prisión por transportar estupefacientes. El policía y su cómplice fueron detenidos en un puesto de control de la Gendarmería Nacional Argentina\n",
      "SCORE: 0.5570578090846539 - sumary: El gobierno secuestró 3.800 kilogramos de marihuana en San Vicente. El Ejército y la Guardia Civil secuestaron un cargamento de más de 3.800 kilogramos de marihuana\n",
      "SCORE: 0.5304639525711536 - sumary: Fuerza Naval Argentina acata marihuana y armas blancas en Villa La Angostura. La Fuerza Naval Argentina incautó a tres personas, dos mujeres y un hombre\n",
      "SCORE: 0.5664265910163522 - sumary: La ONU exige a los Estados que actúen para reducir el cultivo de drogas. El Día Internacional contra el Tráfico Ilícito y Abuso de Drogas reúne a todos los Estados\n",
      "SCORE: 0.5741363801062107 - sumary: Tres detenidos con cocaína y un arma. La Policía de la Provincia intercepta un rodado en el que se desplazaban tres hombres\n",
      "SCORE: 0.5701882569119334 - sumary: Arrestados dos mujeres en Resistencia por robar droga. La policía ordenó la detención de dos mujeres de 42 y 46 años\n",
      "SCORE: 0.5808572359383106 - sumary: Un hombre secuestra drogas y armas de fuego en Centenario. La policía logra la detención de una persona y el secuestro de drogas\n",
      "SCORE: 0.5561918867751956 - sumary: Arrestado un distribuidor de droga en Misiones. La Policía de Misiones desbarató un aguantadero de elementos robados y atrapó a un distribuidor de droga\n",
      "SCORE: 0.5770485904067755 - sumary: Vídeo: Secuestrado un paquete sospechoso que contenía droga en una rotisería de Villa La Angostura. El paquete contenía marihuana, LSD y hongos alucinógenos, todo valuado en 2 millones de pesos\n",
      "SCORE: 0.5607579611241817 - sumary: El juez Bavio acusa a tres personas de transportar estupefacientes. La fiscal subrogante Paula Gallo ordenó la detención de los dos hombres y de la mujer\n",
      "SCORE: 0.5273656137287617 - sumary: Dos concejales de Tornquist fueron detenidos cuando retiraban plantas de marihuana. Los detenidos son Labhathe y Raising, ambos de Cambiemos\n",
      "SCORE: 0.5707126948982477 - sumary: Un ex efectivo de la Policía de Misiones incauta dosis de cocaína para la venta al menudeo. El detenido a disposición del Juzgado Federal de Posadas, a cargo de la jueza Verónica Skanata\n"
     ]
    }
   ],
   "source": [
    "for sum, score in zip(sumary_match, summary_match_score):\n",
    "    if score > 0.5:\n",
    "        print(f'SCORE: {score} - sumary: {sum}')"
   ]
  },
  {
   "cell_type": "markdown",
   "metadata": {},
   "source": []
  },
  {
   "cell_type": "markdown",
   "metadata": {},
   "source": [
    "# los sumarios de mayor puntaje que quedaron afuera "
   ]
  },
  {
   "cell_type": "code",
   "execution_count": 16,
   "metadata": {},
   "outputs": [
    {
     "name": "stdout",
     "output_type": "stream",
     "text": [
      "SCORE: 0.4431304782629013 - sumary: “La voluntad no es suficiente para poder mejorar la calidad de vida”. La responsable de la Agencia para la Prevención y Asistencia del Abuso de Sustancias y de las Adicciones, Mabel Dell Orfano, asegura que los problemas de violencia, muchísimos, están atravesados por el consumo\n",
      "SCORE: 0.4772912571206689 - sumary: Un viejo narco de General Roca encuentra sin vida a un hombre de 60 años. El hombre de 60 años se encontraba cumpliendo prisión domiciliaria cuando fue encontrado sin vida\n",
      "SCORE: 0.44798512011766434 - sumary: Un adolescente detenido por el crimen de Juan Carlos Cruz, el médico cirujano asesinado por tres delincuentes. El acusado será indagado en las próximas horas\n",
      "SCORE: 0.453640878200531 - sumary: Detenidos dos mujeres en una vivienda allanada. La actividad delictiva dejó como saldo la detención de siete mujeres\n",
      "SCORE: 0.46183264441788197 - sumary: La Policía de Goya esclareció la sustracción de tres millones de pesos. El ilícito se produjo en una mochila y a la Fiscalía le dieron con una motocicleta Gilera\n"
     ]
    }
   ],
   "source": [
    "for sum, score in zip(sumary_match, summary_match_score):\n",
    "    if score > 0.44 and score <= 0.5:\n",
    "        print(f'SCORE: {score} - sumary: {sum}')"
   ]
  },
  {
   "cell_type": "markdown",
   "metadata": {},
   "source": [
    "Conclusión: se podría fijar como criterio de inclución el promedio de los dos scrores: link y sumario. El caso del taxista que denuncia banda narco, y que aparece con un score grande en el link, y uno no muy grande en el sumario es un buen testigo de que se deben balancear ambos documentos."
   ]
  }
 ],
 "metadata": {
  "kernelspec": {
   "display_name": ".willow",
   "language": "python",
   "name": ".willow"
  },
  "language_info": {
   "codemirror_mode": {
    "name": "ipython",
    "version": 3
   },
   "file_extension": ".py",
   "mimetype": "text/x-python",
   "name": "python",
   "nbconvert_exporter": "python",
   "pygments_lexer": "ipython3",
   "version": "3.9.13"
  },
  "orig_nbformat": 4
 },
 "nbformat": 4,
 "nbformat_minor": 2
}
