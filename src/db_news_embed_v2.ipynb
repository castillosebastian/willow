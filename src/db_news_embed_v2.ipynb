{
 "cells": [
  {
   "cell_type": "markdown",
   "metadata": {},
   "source": [
    "# First write to DB"
   ]
  },
  {
   "cell_type": "code",
   "execution_count": 1,
   "metadata": {},
   "outputs": [],
   "source": [
    "import polars as pl\n",
    "import pandas as pd\n",
    "from pymongo import MongoClient\n",
    "import re \n",
    "import time\n",
    "def view_string(long_string, chunk_size=100):     \n",
    "    return [long_string[i:i+chunk_size] for i in range(0, len(long_string), chunk_size)]\n"
   ]
  },
  {
   "cell_type": "code",
   "execution_count": 2,
   "metadata": {},
   "outputs": [
    {
     "name": "stdout",
     "output_type": "stream",
     "text": [
      "/home/sebacastillo/willow\n"
     ]
    }
   ],
   "source": [
    "%cd /home/sebacastillo/willow"
   ]
  },
  {
   "cell_type": "code",
   "execution_count": 3,
   "metadata": {},
   "outputs": [],
   "source": [
    "news = pl.read_csv(   \n",
    "    'output/news.csv',\n",
    "    dtypes={\"content_hash\": pl.UInt64},     \n",
    ")\n",
    "newsner = pl.read_csv(   \n",
    "    'output/newsner.csv',\n",
    "    dtypes={\"content_hash\": pl.UInt64},     \n",
    ")"
   ]
  },
  {
   "cell_type": "code",
   "execution_count": 4,
   "metadata": {},
   "outputs": [
    {
     "data": {
      "text/html": [
       "<div><style>\n",
       ".dataframe > thead > tr > th,\n",
       ".dataframe > tbody > tr > td {\n",
       "  text-align: right;\n",
       "}\n",
       "</style>\n",
       "<small>shape: (1, 17)</small><table border=\"1\" class=\"dataframe\"><thead><tr><th>index</th><th>topic</th><th>date_extract</th><th>date_article</th><th>content</th><th>portal</th><th>link</th><th>link_sim_score</th><th>title</th><th>summary</th><th>summary_llm</th><th>summary_sim_score</th><th>authors</th><th>state</th><th>city</th><th>content_hash</th><th>content_nchar</th></tr><tr><td>i64</td><td>str</td><td>str</td><td>str</td><td>str</td><td>str</td><td>str</td><td>f64</td><td>str</td><td>str</td><td>str</td><td>f64</td><td>str</td><td>str</td><td>str</td><td>u64</td><td>i64</td></tr></thead><tbody><tr><td>1</td><td>&quot;narcotráfico&quot;</td><td>&quot;2023-08-16&quot;</td><td>&quot;2023-08-16&quot;</td><td>&quot;Seguinos Por L…</td><td>&quot;https://www.ar…</td><td>&quot;https://www.la…</td><td>0.561929</td><td>&quot;Condenaron a s…</td><td>&quot;Brian está det…</td><td>&quot;Seis personas …</td><td>0.5241</td><td>&quot;n-a&quot;</td><td>&quot;Santa Fe&quot;</td><td>&quot;Rosario&quot;</td><td>9259959111029284149</td><td>4543</td></tr></tbody></table></div>"
      ],
      "text/plain": [
       "shape: (1, 17)\n",
       "┌───────┬─────────────┬────────────┬────────────┬───┬──────────┬─────────┬────────────┬────────────┐\n",
       "│ index ┆ topic       ┆ date_extra ┆ date_artic ┆ … ┆ state    ┆ city    ┆ content_ha ┆ content_nc │\n",
       "│ ---   ┆ ---         ┆ ct         ┆ le         ┆   ┆ ---      ┆ ---     ┆ sh         ┆ har        │\n",
       "│ i64   ┆ str         ┆ ---        ┆ ---        ┆   ┆ str      ┆ str     ┆ ---        ┆ ---        │\n",
       "│       ┆             ┆ str        ┆ str        ┆   ┆          ┆         ┆ u64        ┆ i64        │\n",
       "╞═══════╪═════════════╪════════════╪════════════╪═══╪══════════╪═════════╪════════════╪════════════╡\n",
       "│ 1     ┆ narcotráfic ┆ 2023-08-16 ┆ 2023-08-16 ┆ … ┆ Santa Fe ┆ Rosario ┆ 9259959111 ┆ 4543       │\n",
       "│       ┆ o           ┆            ┆            ┆   ┆          ┆         ┆ 029284149  ┆            │\n",
       "└───────┴─────────────┴────────────┴────────────┴───┴──────────┴─────────┴────────────┴────────────┘"
      ]
     },
     "execution_count": 4,
     "metadata": {},
     "output_type": "execute_result"
    }
   ],
   "source": [
    "news.head(1)"
   ]
  },
  {
   "cell_type": "code",
   "execution_count": 5,
   "metadata": {},
   "outputs": [],
   "source": [
    "news = news.with_columns(\n",
    "    pl.concat_str(\n",
    "        [\n",
    "            pl.col('state'),\n",
    "            pl.col('city'),\n",
    "            pl.col(\"title\"),\n",
    "            pl.col(\"summary_llm\"),\n",
    "        ],\n",
    "        separator=\" \",\n",
    "    ).alias(\"tit_summary\"),\n",
    ")"
   ]
  },
  {
   "cell_type": "code",
   "execution_count": 6,
   "metadata": {},
   "outputs": [
    {
     "data": {
      "text/html": [
       "<div><style>\n",
       ".dataframe > thead > tr > th,\n",
       ".dataframe > tbody > tr > td {\n",
       "  text-align: right;\n",
       "}\n",
       "</style>\n",
       "<small>shape: (3, 18)</small><table border=\"1\" class=\"dataframe\"><thead><tr><th>index</th><th>topic</th><th>date_extract</th><th>date_article</th><th>content</th><th>portal</th><th>link</th><th>link_sim_score</th><th>title</th><th>summary</th><th>summary_llm</th><th>summary_sim_score</th><th>authors</th><th>state</th><th>city</th><th>content_hash</th><th>content_nchar</th><th>tit_summary</th></tr><tr><td>i64</td><td>str</td><td>str</td><td>str</td><td>str</td><td>str</td><td>str</td><td>f64</td><td>str</td><td>str</td><td>str</td><td>f64</td><td>str</td><td>str</td><td>str</td><td>u64</td><td>i64</td><td>str</td></tr></thead><tbody><tr><td>1</td><td>&quot;narcotráfico&quot;</td><td>&quot;2023-08-16&quot;</td><td>&quot;2023-08-16&quot;</td><td>&quot;Seguinos Por L…</td><td>&quot;https://www.ar…</td><td>&quot;https://www.la…</td><td>0.561929</td><td>&quot;Condenaron a s…</td><td>&quot;Brian está det…</td><td>&quot;Seis personas …</td><td>0.5241</td><td>&quot;n-a&quot;</td><td>&quot;Santa Fe&quot;</td><td>&quot;Rosario&quot;</td><td>9259959111029284149</td><td>4543</td><td>&quot;Santa Fe Rosar…</td></tr><tr><td>2</td><td>&quot;narcotráfico&quot;</td><td>&quot;2023-08-16&quot;</td><td>&quot;2023-08-16&quot;</td><td>&quot;Escuadrón 1 “R…</td><td>&quot;https://www.ar…</td><td>&quot;http://www.dia…</td><td>0.476911</td><td>&quot;Encuentran 32 …</td><td>&quot;na&quot;</td><td>&quot;La Fiscalía Fe…</td><td>0.5945</td><td>&quot;Diario El Oran…</td><td>&quot;Salta&quot;</td><td>&quot;Orán&quot;</td><td>6046667906668190206</td><td>707</td><td>&quot;Salta Orán Enc…</td></tr><tr><td>3</td><td>&quot;narcotráfico&quot;</td><td>&quot;2023-08-16&quot;</td><td>&quot;2023-08-16&quot;</td><td>&quot;. Compartir en…</td><td>&quot;https://www.ar…</td><td>&quot;https://www.ar…</td><td>0.526558</td><td>&quot;Prefectura sec…</td><td>&quot;Efectivos de l…</td><td>&quot;La Prefectura …</td><td>0.5717</td><td>&quot;n-a&quot;</td><td>&quot;Argentina&quot;</td><td>&quot;Argentina&quot;</td><td>12244461015022324118</td><td>657</td><td>&quot;Argentina Arge…</td></tr></tbody></table></div>"
      ],
      "text/plain": [
       "shape: (3, 18)\n",
       "┌───────┬────────────┬────────────┬────────────┬───┬───────────┬───────────┬───────────┬───────────┐\n",
       "│ index ┆ topic      ┆ date_extra ┆ date_artic ┆ … ┆ city      ┆ content_h ┆ content_n ┆ tit_summa │\n",
       "│ ---   ┆ ---        ┆ ct         ┆ le         ┆   ┆ ---       ┆ ash       ┆ char      ┆ ry        │\n",
       "│ i64   ┆ str        ┆ ---        ┆ ---        ┆   ┆ str       ┆ ---       ┆ ---       ┆ ---       │\n",
       "│       ┆            ┆ str        ┆ str        ┆   ┆           ┆ u64       ┆ i64       ┆ str       │\n",
       "╞═══════╪════════════╪════════════╪════════════╪═══╪═══════════╪═══════════╪═══════════╪═══════════╡\n",
       "│ 1     ┆ narcotráfi ┆ 2023-08-16 ┆ 2023-08-16 ┆ … ┆ Rosario   ┆ 925995911 ┆ 4543      ┆ Santa Fe  │\n",
       "│       ┆ co         ┆            ┆            ┆   ┆           ┆ 102928414 ┆           ┆ Rosario   │\n",
       "│       ┆            ┆            ┆            ┆   ┆           ┆ 9         ┆           ┆ Condenaro │\n",
       "│       ┆            ┆            ┆            ┆   ┆           ┆           ┆           ┆ n a se…   │\n",
       "│ 2     ┆ narcotráfi ┆ 2023-08-16 ┆ 2023-08-16 ┆ … ┆ Orán      ┆ 604666790 ┆ 707       ┆ Salta     │\n",
       "│       ┆ co         ┆            ┆            ┆   ┆           ┆ 666819020 ┆           ┆ Orán Encu │\n",
       "│       ┆            ┆            ┆            ┆   ┆           ┆ 6         ┆           ┆ entran 32 │\n",
       "│       ┆            ┆            ┆            ┆   ┆           ┆           ┆           ┆ kilos d…  │\n",
       "│ 3     ┆ narcotráfi ┆ 2023-08-16 ┆ 2023-08-16 ┆ … ┆ Argentina ┆ 122444610 ┆ 657       ┆ Argentina │\n",
       "│       ┆ co         ┆            ┆            ┆   ┆           ┆ 150223241 ┆           ┆ Argentina │\n",
       "│       ┆            ┆            ┆            ┆   ┆           ┆ 18        ┆           ┆ Prefectur │\n",
       "│       ┆            ┆            ┆            ┆   ┆           ┆           ┆           ┆ a s…      │\n",
       "└───────┴────────────┴────────────┴────────────┴───┴───────────┴───────────┴───────────┴───────────┘"
      ]
     },
     "execution_count": 6,
     "metadata": {},
     "output_type": "execute_result"
    }
   ],
   "source": [
    "news.head(3)"
   ]
  },
  {
   "cell_type": "code",
   "execution_count": 7,
   "metadata": {},
   "outputs": [
    {
     "data": {
      "text/plain": [
       "'Santa Fe Rosario Condenaron a seis personas por venta de drogas, entre ellos un sobrino del \"Rengo\" Insaurralde Seis personas condenadas por el ‘Clan Insaurralde’ por tráfico y tenencia de estupefacientes. La jueza Elena Beatriz Dilario, miembro del Tribunal Oral Federal 3, homologó el acuerdo al que llegaron las partes'"
      ]
     },
     "execution_count": 7,
     "metadata": {},
     "output_type": "execute_result"
    }
   ],
   "source": [
    "news['tit_summary'].to_list()[0]"
   ]
  },
  {
   "cell_type": "code",
   "execution_count": 8,
   "metadata": {},
   "outputs": [
    {
     "data": {
      "text/plain": [
       "['index',\n",
       " 'topic',\n",
       " 'date_extract',\n",
       " 'date_article',\n",
       " 'content',\n",
       " 'portal',\n",
       " 'link',\n",
       " 'link_sim_score',\n",
       " 'title',\n",
       " 'summary',\n",
       " 'summary_llm',\n",
       " 'summary_sim_score',\n",
       " 'authors',\n",
       " 'state',\n",
       " 'city',\n",
       " 'content_hash',\n",
       " 'content_nchar',\n",
       " 'tit_summary']"
      ]
     },
     "execution_count": 8,
     "metadata": {},
     "output_type": "execute_result"
    }
   ],
   "source": [
    "news.columns"
   ]
  },
  {
   "cell_type": "code",
   "execution_count": 9,
   "metadata": {},
   "outputs": [],
   "source": [
    "news = (\n",
    "    news.with_columns([\n",
    "        pl.col(\"content_hash\").cast(pl.Utf8)\n",
    "    ])    \n",
    ")"
   ]
  },
  {
   "cell_type": "code",
   "execution_count": 10,
   "metadata": {},
   "outputs": [],
   "source": [
    "news = news.to_pandas()"
   ]
  },
  {
   "cell_type": "markdown",
   "metadata": {},
   "source": [
    "# Write to Mongo"
   ]
  },
  {
   "cell_type": "code",
   "execution_count": 11,
   "metadata": {},
   "outputs": [],
   "source": [
    "client = MongoClient('mongodb://localhost:27017/')\n",
    "db = client['wdocuments']\n",
    "collection = db['news'] # export to mongo collection news"
   ]
  },
  {
   "cell_type": "code",
   "execution_count": 12,
   "metadata": {},
   "outputs": [],
   "source": [
    "news.reset_index(inplace=True)\n",
    "news = news.to_dict(\"records\") # Change to dict"
   ]
  },
  {
   "cell_type": "code",
   "execution_count": 13,
   "metadata": {},
   "outputs": [
    {
     "data": {
      "text/plain": [
       "<pymongo.results.InsertManyResult at 0x7fc6bc265bb0>"
      ]
     },
     "execution_count": 13,
     "metadata": {},
     "output_type": "execute_result"
    }
   ],
   "source": [
    "collection.insert_many(news)"
   ]
  },
  {
   "cell_type": "markdown",
   "metadata": {},
   "source": [
    "# embedings"
   ]
  },
  {
   "cell_type": "code",
   "execution_count": 20,
   "metadata": {},
   "outputs": [],
   "source": [
    "n_docs = len(news)"
   ]
  },
  {
   "cell_type": "code",
   "execution_count": 18,
   "metadata": {},
   "outputs": [],
   "source": [
    "from sentence_transformers import SentenceTransformer\n",
    "model = SentenceTransformer('sentence-transformers/all-MiniLM-L6-v2')"
   ]
  },
  {
   "cell_type": "code",
   "execution_count": 21,
   "metadata": {},
   "outputs": [],
   "source": [
    "for doc in collection.find({'tit_summary':{\"$exists\": True}}).limit(n_docs):\n",
    "\tdoc['article_embed'] = model.encode(doc['tit_summary']).tolist()\n",
    "\tcollection.replace_one({'_id': doc['_id']}, doc)"
   ]
  },
  {
   "cell_type": "markdown",
   "metadata": {},
   "source": [
    "# Compute index partially"
   ]
  },
  {
   "cell_type": "code",
   "execution_count": 14,
   "metadata": {},
   "outputs": [],
   "source": [
    "from pymongo import MongoClient\n",
    "from sentence_transformers import SentenceTransformer\n",
    "\n",
    "\n",
    "def compute_embeddings(text):\n",
    "    \n",
    "    model = SentenceTransformer('sentence-transformers/all-MiniLM-L6-v2')\n",
    "\n",
    "    return model.encode(text)\n",
    "\n",
    "def process_documents(collection, start_index, end_index):\n",
    "    \n",
    "    # 'index' field name that represents the index in documents\n",
    "    query = {'index': {'$gte': start_index, '$lte': end_index}}\n",
    "\n",
    "    # Find the documents within the specified range\n",
    "    documents = collection.find(query)\n",
    "\n",
    "    for document in documents:\n",
    "        # Extract the text you want to embed\n",
    "        text = document['tit_summary']\n",
    "        \n",
    "        # Compute the embeddings\n",
    "        embeddings = compute_embeddings(text)\n",
    "        \n",
    "        # Update the document with the embeddings\n",
    "        update_query = {'_id': document['_id']}\n",
    "        new_values = {'$set': {'embeddings': embeddings.tolist()}}\n",
    "        collection.update_one(update_query, new_values)\n",
    "\n",
    "\n",
    "    \n"
   ]
  },
  {
   "cell_type": "code",
   "execution_count": 15,
   "metadata": {},
   "outputs": [],
   "source": [
    "process_documents(collection, 1,5)"
   ]
  },
  {
   "cell_type": "markdown",
   "metadata": {},
   "source": [
    "### Funcionó"
   ]
  },
  {
   "cell_type": "code",
   "execution_count": 16,
   "metadata": {},
   "outputs": [],
   "source": [
    "process_documents(collection, 1,5)"
   ]
  },
  {
   "cell_type": "markdown",
   "metadata": {},
   "source": [
    "### Funcionó, si ya tiene embedding los vuelve a calcular pero no falla"
   ]
  },
  {
   "cell_type": "code",
   "execution_count": 18,
   "metadata": {},
   "outputs": [],
   "source": [
    "process_documents(collection, 1,44) "
   ]
  },
  {
   "cell_type": "markdown",
   "metadata": {},
   "source": [
    "# Refactoreo de código para producción"
   ]
  },
  {
   "cell_type": "code",
   "execution_count": null,
   "metadata": {},
   "outputs": [],
   "source": [
    "from pymongo import MongoClient\n",
    "from sentence_transformers import SentenceTransformer\n",
    "\n",
    "def compute_embeddings(text, model):\n",
    "    try:\n",
    "        return model.encode(text)\n",
    "    except Exception as e:\n",
    "        print(f\"An error occurred while computing embeddings: {e}\")\n",
    "        return None\n",
    "\n",
    "def process_documents(collection, start_index, end_index, model):\n",
    "    try:\n",
    "        # 'index' field name that represents the index in documents\n",
    "        query = {'index': {'$gte': start_index, '$lte': end_index}}\n",
    "\n",
    "        # Find the documents within the specified range\n",
    "        documents = collection.find(query)\n",
    "\n",
    "        for document in documents:\n",
    "            # Extract the text you want to embed\n",
    "            text = document['tit_summary']\n",
    "\n",
    "            # Compute the embeddings\n",
    "            embeddings = compute_embeddings(text, model)\n",
    "\n",
    "            if embeddings is not None:\n",
    "                # Update the document with the embeddings\n",
    "                update_query = {'_id': document['_id']}\n",
    "                new_values = {'$set': {'embeddings': embeddings.tolist()}}\n",
    "                collection.update_one(update_query, new_values)\n",
    "    except Exception as e:\n",
    "        print(f\"An error occurred while processing documents: {e}\")\n",
    "\n",
    "\n"
   ]
  },
  {
   "cell_type": "code",
   "execution_count": null,
   "metadata": {},
   "outputs": [],
   "source": [
    "# Usage example\n",
    "model = SentenceTransformer('sentence-transformers/all-MiniLM-L6-v2')\n",
    "client = MongoClient('mongodb://localhost:27017/')\n",
    "db = client['your_database']\n",
    "collection = db['your_collection']\n",
    "process_documents(collection, start_index=23, end_index=30, model=model)"
   ]
  }
 ],
 "metadata": {
  "kernelspec": {
   "display_name": ".willow",
   "language": "python",
   "name": ".willow"
  },
  "language_info": {
   "codemirror_mode": {
    "name": "ipython",
    "version": 3
   },
   "file_extension": ".py",
   "mimetype": "text/x-python",
   "name": "python",
   "nbconvert_exporter": "python",
   "pygments_lexer": "ipython3",
   "version": "3.9.13"
  },
  "orig_nbformat": 4
 },
 "nbformat": 4,
 "nbformat_minor": 2
}
